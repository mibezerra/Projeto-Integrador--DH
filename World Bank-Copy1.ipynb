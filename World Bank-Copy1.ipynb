{
 "cells": [
  {
   "cell_type": "markdown",
   "metadata": {},
   "source": [
    "### Pegar dados Projeto Integrador"
   ]
  },
  {
   "cell_type": "markdown",
   "metadata": {},
   "source": [
    "Fonte: https://pandas-datareader.readthedocs.io/en/latest/"
   ]
  },
  {
   "cell_type": "markdown",
   "metadata": {},
   "source": [
    "### Importar Wordl Bank diretamente do PANDA"
   ]
  },
  {
   "cell_type": "code",
   "execution_count": 1,
   "metadata": {},
   "outputs": [],
   "source": [
    "# instalar pandas-datareader\n",
    "#conda install -c anaconda pandas-datareader"
   ]
  },
  {
   "cell_type": "code",
   "execution_count": 2,
   "metadata": {
    "scrolled": true
   },
   "outputs": [
    {
     "name": "stderr",
     "output_type": "stream",
     "text": [
      "C:\\Users\\camil\\anaconda3\\lib\\site-packages\\pandas_datareader\\compat\\__init__.py:7: FutureWarning: pandas.util.testing is deprecated. Use the functions in the public API at pandas.testing instead.\n",
      "  from pandas.util.testing import assert_frame_equal\n"
     ]
    }
   ],
   "source": [
    "#importar pacotes\n",
    "import matplotlib.pyplot as plt\n",
    "%matplotlib inline\n",
    "import numpy as np\n",
    "import pandas as pd\n",
    "from scipy import stats\n",
    "import seaborn as sns\n",
    "import pandas_datareader as pdr"
   ]
  },
  {
   "cell_type": "code",
   "execution_count": 3,
   "metadata": {},
   "outputs": [],
   "source": [
    "#abrir pacote\n",
    "from pandas_datareader import wb"
   ]
  },
  {
   "cell_type": "markdown",
   "metadata": {},
   "source": [
    "Fonte : https://pandas-datareader.readthedocs.io/en/latest/remote_data.html#world-bank\n",
    "\n",
    "https://pypi.org/project/world-bank-data/"
   ]
  },
  {
   "cell_type": "code",
   "execution_count": 4,
   "metadata": {},
   "outputs": [
    {
     "data": {
      "text/html": [
       "<div>\n",
       "<style scoped>\n",
       "    .dataframe tbody tr th:only-of-type {\n",
       "        vertical-align: middle;\n",
       "    }\n",
       "\n",
       "    .dataframe tbody tr th {\n",
       "        vertical-align: top;\n",
       "    }\n",
       "\n",
       "    .dataframe thead th {\n",
       "        text-align: right;\n",
       "    }\n",
       "</style>\n",
       "<table border=\"1\" class=\"dataframe\">\n",
       "  <thead>\n",
       "    <tr style=\"text-align: right;\">\n",
       "      <th></th>\n",
       "      <th>id</th>\n",
       "      <th>name</th>\n",
       "      <th>unit</th>\n",
       "      <th>source</th>\n",
       "      <th>sourceNote</th>\n",
       "      <th>sourceOrganization</th>\n",
       "      <th>topics</th>\n",
       "    </tr>\n",
       "  </thead>\n",
       "  <tbody>\n",
       "    <tr>\n",
       "      <th>5942</th>\n",
       "      <td>FX.OWN.TOTL.40.ZS</td>\n",
       "      <td>Account ownership at a financial institution o...</td>\n",
       "      <td></td>\n",
       "      <td>World Development Indicators</td>\n",
       "      <td>Account denotes the percentage of respondents ...</td>\n",
       "      <td>b'Demirguc-Kunt et al., 2018, Global Financial...</td>\n",
       "      <td></td>\n",
       "    </tr>\n",
       "    <tr>\n",
       "      <th>5943</th>\n",
       "      <td>FX.OWN.TOTL.60.ZS</td>\n",
       "      <td>Account ownership at a financial institution o...</td>\n",
       "      <td></td>\n",
       "      <td>World Development Indicators</td>\n",
       "      <td>Account denotes the percentage of respondents ...</td>\n",
       "      <td>b'Demirguc-Kunt et al., 2018, Global Financial...</td>\n",
       "      <td></td>\n",
       "    </tr>\n",
       "    <tr>\n",
       "      <th>5944</th>\n",
       "      <td>FX.OWN.TOTL.FE.ZS</td>\n",
       "      <td>Account ownership at a financial institution o...</td>\n",
       "      <td></td>\n",
       "      <td>World Development Indicators</td>\n",
       "      <td>Account denotes the percentage of respondents ...</td>\n",
       "      <td>b'Demirguc-Kunt et al., 2018, Global Financial...</td>\n",
       "      <td></td>\n",
       "    </tr>\n",
       "    <tr>\n",
       "      <th>5945</th>\n",
       "      <td>FX.OWN.TOTL.MA.ZS</td>\n",
       "      <td>Account ownership at a financial institution o...</td>\n",
       "      <td></td>\n",
       "      <td>World Development Indicators</td>\n",
       "      <td>Account denotes the percentage of respondents ...</td>\n",
       "      <td>b'Demirguc-Kunt et al., 2018, Global Financial...</td>\n",
       "      <td></td>\n",
       "    </tr>\n",
       "    <tr>\n",
       "      <th>5946</th>\n",
       "      <td>FX.OWN.TOTL.OL.ZS</td>\n",
       "      <td>Account ownership at a financial institution o...</td>\n",
       "      <td></td>\n",
       "      <td>World Development Indicators</td>\n",
       "      <td>Account denotes the percentage of respondents ...</td>\n",
       "      <td>b'Demirguc-Kunt et al., 2018, Global Financial...</td>\n",
       "      <td></td>\n",
       "    </tr>\n",
       "    <tr>\n",
       "      <th>...</th>\n",
       "      <td>...</td>\n",
       "      <td>...</td>\n",
       "      <td>...</td>\n",
       "      <td>...</td>\n",
       "      <td>...</td>\n",
       "      <td>...</td>\n",
       "      <td>...</td>\n",
       "    </tr>\n",
       "    <tr>\n",
       "      <th>11986</th>\n",
       "      <td>SP.POP.7074.MA.5Y</td>\n",
       "      <td>Population ages 70-74, male (% of male populat...</td>\n",
       "      <td></td>\n",
       "      <td>World Development Indicators</td>\n",
       "      <td>Male population between the ages 70 to 74 as a...</td>\n",
       "      <td>b\"World Bank staff estimates based on age/sex ...</td>\n",
       "      <td>Health</td>\n",
       "    </tr>\n",
       "    <tr>\n",
       "      <th>11988</th>\n",
       "      <td>SP.POP.7579.FE.5Y</td>\n",
       "      <td>Population ages 75-79, female (% of female pop...</td>\n",
       "      <td></td>\n",
       "      <td>World Development Indicators</td>\n",
       "      <td>Female population between the ages 75 to 79 as...</td>\n",
       "      <td>b\"World Bank staff estimates based on age/sex ...</td>\n",
       "      <td>Health</td>\n",
       "    </tr>\n",
       "    <tr>\n",
       "      <th>11990</th>\n",
       "      <td>SP.POP.7579.MA.5Y</td>\n",
       "      <td>Population ages 75-79, male (% of male populat...</td>\n",
       "      <td></td>\n",
       "      <td>World Development Indicators</td>\n",
       "      <td>Male population between the ages 75 to 79 as a...</td>\n",
       "      <td>b\"World Bank staff estimates based on age/sex ...</td>\n",
       "      <td>Health</td>\n",
       "    </tr>\n",
       "    <tr>\n",
       "      <th>11992</th>\n",
       "      <td>SP.POP.80UP.FE.5Y</td>\n",
       "      <td>Population ages 80 and above, female (% of fem...</td>\n",
       "      <td></td>\n",
       "      <td>World Development Indicators</td>\n",
       "      <td>Female population between the ages 80 and abov...</td>\n",
       "      <td>b\"World Bank staff estimates based on age/sex ...</td>\n",
       "      <td>Health</td>\n",
       "    </tr>\n",
       "    <tr>\n",
       "      <th>11994</th>\n",
       "      <td>SP.POP.80UP.MA.5Y</td>\n",
       "      <td>Population ages 80 and above, male (% of male ...</td>\n",
       "      <td></td>\n",
       "      <td>World Development Indicators</td>\n",
       "      <td>Male population between the ages 80 and above ...</td>\n",
       "      <td>b\"World Bank staff estimates based on age/sex ...</td>\n",
       "      <td>Health</td>\n",
       "    </tr>\n",
       "  </tbody>\n",
       "</table>\n",
       "<p>112 rows × 7 columns</p>\n",
       "</div>"
      ],
      "text/plain": [
       "                      id                                               name  \\\n",
       "5942   FX.OWN.TOTL.40.ZS  Account ownership at a financial institution o...   \n",
       "5943   FX.OWN.TOTL.60.ZS  Account ownership at a financial institution o...   \n",
       "5944   FX.OWN.TOTL.FE.ZS  Account ownership at a financial institution o...   \n",
       "5945   FX.OWN.TOTL.MA.ZS  Account ownership at a financial institution o...   \n",
       "5946   FX.OWN.TOTL.OL.ZS  Account ownership at a financial institution o...   \n",
       "...                  ...                                                ...   \n",
       "11986  SP.POP.7074.MA.5Y  Population ages 70-74, male (% of male populat...   \n",
       "11988  SP.POP.7579.FE.5Y  Population ages 75-79, female (% of female pop...   \n",
       "11990  SP.POP.7579.MA.5Y  Population ages 75-79, male (% of male populat...   \n",
       "11992  SP.POP.80UP.FE.5Y  Population ages 80 and above, female (% of fem...   \n",
       "11994  SP.POP.80UP.MA.5Y  Population ages 80 and above, male (% of male ...   \n",
       "\n",
       "      unit                        source  \\\n",
       "5942        World Development Indicators   \n",
       "5943        World Development Indicators   \n",
       "5944        World Development Indicators   \n",
       "5945        World Development Indicators   \n",
       "5946        World Development Indicators   \n",
       "...    ...                           ...   \n",
       "11986       World Development Indicators   \n",
       "11988       World Development Indicators   \n",
       "11990       World Development Indicators   \n",
       "11992       World Development Indicators   \n",
       "11994       World Development Indicators   \n",
       "\n",
       "                                              sourceNote  \\\n",
       "5942   Account denotes the percentage of respondents ...   \n",
       "5943   Account denotes the percentage of respondents ...   \n",
       "5944   Account denotes the percentage of respondents ...   \n",
       "5945   Account denotes the percentage of respondents ...   \n",
       "5946   Account denotes the percentage of respondents ...   \n",
       "...                                                  ...   \n",
       "11986  Male population between the ages 70 to 74 as a...   \n",
       "11988  Female population between the ages 75 to 79 as...   \n",
       "11990  Male population between the ages 75 to 79 as a...   \n",
       "11992  Female population between the ages 80 and abov...   \n",
       "11994  Male population between the ages 80 and above ...   \n",
       "\n",
       "                                      sourceOrganization   topics  \n",
       "5942   b'Demirguc-Kunt et al., 2018, Global Financial...           \n",
       "5943   b'Demirguc-Kunt et al., 2018, Global Financial...           \n",
       "5944   b'Demirguc-Kunt et al., 2018, Global Financial...           \n",
       "5945   b'Demirguc-Kunt et al., 2018, Global Financial...           \n",
       "5946   b'Demirguc-Kunt et al., 2018, Global Financial...           \n",
       "...                                                  ...      ...  \n",
       "11986  b\"World Bank staff estimates based on age/sex ...  Health   \n",
       "11988  b\"World Bank staff estimates based on age/sex ...  Health   \n",
       "11990  b\"World Bank staff estimates based on age/sex ...  Health   \n",
       "11992  b\"World Bank staff estimates based on age/sex ...  Health   \n",
       "11994  b\"World Bank staff estimates based on age/sex ...  Health   \n",
       "\n",
       "[112 rows x 7 columns]"
      ]
     },
     "execution_count": 4,
     "metadata": {},
     "output_type": "execute_result"
    }
   ],
   "source": [
    "# if you wanted to compare the Gross Domestic Products per capita in constant dollars in North America,\n",
    "##you would use the search function:\n",
    "\n",
    "wb.search('population.ages')"
   ]
  },
  {
   "cell_type": "code",
   "execution_count": 7,
   "metadata": {},
   "outputs": [
    {
     "name": "stderr",
     "output_type": "stream",
     "text": [
      "C:\\Users\\camil\\anaconda3\\lib\\site-packages\\pandas_datareader\\wb.py:593: UserWarning: Non-standard ISO country codes: UK\n",
      "  \"Non-standard ISO \" \"country codes: %s\" % tmp, UserWarning\n",
      "C:\\Users\\camil\\anaconda3\\lib\\site-packages\\pandas_datareader\\wb.py:659: UserWarning: Problem with a World Bank Query \n",
      " Invalid value \n",
      "  The provided parameter value is not valid. Indicator: SP.POP.TOTL.FE.ZS\n",
      "  warnings.warn(msg)\n",
      "C:\\Users\\camil\\anaconda3\\lib\\site-packages\\pandas_datareader\\wb.py:659: UserWarning: Problem with a World Bank Query \n",
      " Invalid value \n",
      "  The provided parameter value is not valid. Indicator: SP.POP.TOTL.MA.ZS\n",
      "  warnings.warn(msg)\n",
      "C:\\Users\\camil\\anaconda3\\lib\\site-packages\\pandas_datareader\\wb.py:659: UserWarning: Problem with a World Bank Query \n",
      " Invalid value \n",
      "  The provided parameter value is not valid. Indicator: SP.POP.2024.FE.5Y\n",
      "  warnings.warn(msg)\n"
     ]
    },
    {
     "ename": "ValueError",
     "evalue": "No indicators returned data.",
     "output_type": "error",
     "traceback": [
      "\u001b[1;31m---------------------------------------------------------------------------\u001b[0m",
      "\u001b[1;31mValueError\u001b[0m                                Traceback (most recent call last)",
      "\u001b[1;32m<ipython-input-7-a8d138ce864f>\u001b[0m in \u001b[0;36m<module>\u001b[1;34m\u001b[0m\n\u001b[0;32m      4\u001b[0m \u001b[1;31m# pop male:\u001b[0m\u001b[1;33m\u001b[0m\u001b[1;33m\u001b[0m\u001b[1;33m\u001b[0m\u001b[0m\n\u001b[0;32m      5\u001b[0m \u001b[1;31m## SP.POP.TOTL.MA.ZS\u001b[0m\u001b[1;33m\u001b[0m\u001b[1;33m\u001b[0m\u001b[1;33m\u001b[0m\u001b[0m\n\u001b[1;32m----> 6\u001b[1;33m \u001b[0mdat\u001b[0m \u001b[1;33m=\u001b[0m \u001b[0mwb\u001b[0m\u001b[1;33m.\u001b[0m\u001b[0mdownload\u001b[0m\u001b[1;33m(\u001b[0m\u001b[0mindicator\u001b[0m\u001b[1;33m=\u001b[0m\u001b[1;33m[\u001b[0m\u001b[1;34m'SP.POP.TOTL.FE.ZS'\u001b[0m\u001b[1;33m,\u001b[0m\u001b[1;34m'SP.POP.TOTL.MA.ZS'\u001b[0m\u001b[1;33m,\u001b[0m \u001b[1;34m'SP.POP.2024.FE.5Y'\u001b[0m\u001b[1;33m]\u001b[0m\u001b[1;33m,\u001b[0m \u001b[0mcountry\u001b[0m\u001b[1;33m=\u001b[0m\u001b[1;33m[\u001b[0m\u001b[1;34m'US'\u001b[0m\u001b[1;33m,\u001b[0m \u001b[1;34m'BR'\u001b[0m\u001b[1;33m,\u001b[0m \u001b[1;34m'UK'\u001b[0m\u001b[1;33m,\u001b[0m \u001b[1;34m'FR'\u001b[0m\u001b[1;33m]\u001b[0m\u001b[1;33m,\u001b[0m \u001b[0mstart\u001b[0m\u001b[1;33m=\u001b[0m\u001b[1;36m2010\u001b[0m\u001b[1;33m,\u001b[0m \u001b[0mend\u001b[0m\u001b[1;33m=\u001b[0m\u001b[1;36m2018\u001b[0m\u001b[1;33m)\u001b[0m\u001b[1;33m\u001b[0m\u001b[1;33m\u001b[0m\u001b[0m\n\u001b[0m",
      "\u001b[1;32m~\\anaconda3\\lib\\site-packages\\pandas_datareader\\wb.py\u001b[0m in \u001b[0;36mdownload\u001b[1;34m(country, indicator, start, end, freq, errors, **kwargs)\u001b[0m\n\u001b[0;32m    866\u001b[0m         \u001b[0mfreq\u001b[0m\u001b[1;33m=\u001b[0m\u001b[0mfreq\u001b[0m\u001b[1;33m,\u001b[0m\u001b[1;33m\u001b[0m\u001b[1;33m\u001b[0m\u001b[0m\n\u001b[0;32m    867\u001b[0m         \u001b[0merrors\u001b[0m\u001b[1;33m=\u001b[0m\u001b[0merrors\u001b[0m\u001b[1;33m,\u001b[0m\u001b[1;33m\u001b[0m\u001b[1;33m\u001b[0m\u001b[0m\n\u001b[1;32m--> 868\u001b[1;33m         \u001b[1;33m**\u001b[0m\u001b[0mkwargs\u001b[0m\u001b[1;33m\u001b[0m\u001b[1;33m\u001b[0m\u001b[0m\n\u001b[0m\u001b[0;32m    869\u001b[0m     ).read()\n\u001b[0;32m    870\u001b[0m \u001b[1;33m\u001b[0m\u001b[0m\n",
      "\u001b[1;32m~\\anaconda3\\lib\\site-packages\\pandas_datareader\\wb.py\u001b[0m in \u001b[0;36mread\u001b[1;34m(self)\u001b[0m\n\u001b[0;32m    639\u001b[0m         \u001b[1;34m\"\"\"Read data\"\"\"\u001b[0m\u001b[1;33m\u001b[0m\u001b[1;33m\u001b[0m\u001b[0m\n\u001b[0;32m    640\u001b[0m         \u001b[1;32mtry\u001b[0m\u001b[1;33m:\u001b[0m\u001b[1;33m\u001b[0m\u001b[1;33m\u001b[0m\u001b[0m\n\u001b[1;32m--> 641\u001b[1;33m             \u001b[1;32mreturn\u001b[0m \u001b[0mself\u001b[0m\u001b[1;33m.\u001b[0m\u001b[0m_read\u001b[0m\u001b[1;33m(\u001b[0m\u001b[1;33m)\u001b[0m\u001b[1;33m\u001b[0m\u001b[1;33m\u001b[0m\u001b[0m\n\u001b[0m\u001b[0;32m    642\u001b[0m         \u001b[1;32mfinally\u001b[0m\u001b[1;33m:\u001b[0m\u001b[1;33m\u001b[0m\u001b[1;33m\u001b[0m\u001b[0m\n\u001b[0;32m    643\u001b[0m             \u001b[0mself\u001b[0m\u001b[1;33m.\u001b[0m\u001b[0mclose\u001b[0m\u001b[1;33m(\u001b[0m\u001b[1;33m)\u001b[0m\u001b[1;33m\u001b[0m\u001b[1;33m\u001b[0m\u001b[0m\n",
      "\u001b[1;32m~\\anaconda3\\lib\\site-packages\\pandas_datareader\\wb.py\u001b[0m in \u001b[0;36m_read\u001b[1;34m(self)\u001b[0m\n\u001b[0;32m    669\u001b[0m         \u001b[1;32melse\u001b[0m\u001b[1;33m:\u001b[0m\u001b[1;33m\u001b[0m\u001b[1;33m\u001b[0m\u001b[0m\n\u001b[0;32m    670\u001b[0m             \u001b[0mmsg\u001b[0m \u001b[1;33m=\u001b[0m \u001b[1;34m\"No indicators returned data.\"\u001b[0m\u001b[1;33m\u001b[0m\u001b[1;33m\u001b[0m\u001b[0m\n\u001b[1;32m--> 671\u001b[1;33m             \u001b[1;32mraise\u001b[0m \u001b[0mValueError\u001b[0m\u001b[1;33m(\u001b[0m\u001b[0mmsg\u001b[0m\u001b[1;33m)\u001b[0m\u001b[1;33m\u001b[0m\u001b[1;33m\u001b[0m\u001b[0m\n\u001b[0m\u001b[0;32m    672\u001b[0m \u001b[1;33m\u001b[0m\u001b[0m\n\u001b[0;32m    673\u001b[0m     \u001b[1;32mdef\u001b[0m \u001b[0m_read_lines\u001b[0m\u001b[1;33m(\u001b[0m\u001b[0mself\u001b[0m\u001b[1;33m,\u001b[0m \u001b[0mout\u001b[0m\u001b[1;33m)\u001b[0m\u001b[1;33m:\u001b[0m\u001b[1;33m\u001b[0m\u001b[1;33m\u001b[0m\u001b[0m\n",
      "\u001b[1;31mValueError\u001b[0m: No indicators returned data."
     ]
    }
   ],
   "source": [
    "# pop female:\n",
    "## SP.POP.TOTL.FE.ZS\n",
    "\n",
    "# pop male:\n",
    "## SP.POP.TOTL.MA.ZS\n",
    "dat = wb.download(indicator=['SP.POP.TOTL.FE.ZS','SP.POP.TOTL.MA.ZS', 'SP.POP.2024.FE.5Y'], country=['US', 'BR', 'UK', 'FR'], start=2010, end=2018)"
   ]
  },
  {
   "cell_type": "code",
   "execution_count": 8,
   "metadata": {
    "scrolled": true
   },
   "outputs": [
    {
     "ename": "NameError",
     "evalue": "name 'dat' is not defined",
     "output_type": "error",
     "traceback": [
      "\u001b[1;31m---------------------------------------------------------------------------\u001b[0m",
      "\u001b[1;31mNameError\u001b[0m                                 Traceback (most recent call last)",
      "\u001b[1;32m<ipython-input-8-8023be1e7d95>\u001b[0m in \u001b[0;36m<module>\u001b[1;34m\u001b[0m\n\u001b[1;32m----> 1\u001b[1;33m \u001b[0mprint\u001b[0m\u001b[1;33m(\u001b[0m\u001b[0mdat\u001b[0m\u001b[1;33m)\u001b[0m\u001b[1;33m\u001b[0m\u001b[1;33m\u001b[0m\u001b[0m\n\u001b[0m",
      "\u001b[1;31mNameError\u001b[0m: name 'dat' is not defined"
     ]
    }
   ],
   "source": [
    "print(dat)"
   ]
  },
  {
   "cell_type": "code",
   "execution_count": 9,
   "metadata": {},
   "outputs": [],
   "source": [
    "##https://irows.ucr.edu/research/tsmstudy/wbcountrycodes.htm\n",
    "\n",
    "df = wb.get_countries()\n",
    "#df.head(n = 100)"
   ]
  },
  {
   "cell_type": "code",
   "execution_count": 10,
   "metadata": {
    "scrolled": false
   },
   "outputs": [
    {
     "data": {
      "text/html": [
       "<div>\n",
       "<style scoped>\n",
       "    .dataframe tbody tr th:only-of-type {\n",
       "        vertical-align: middle;\n",
       "    }\n",
       "\n",
       "    .dataframe tbody tr th {\n",
       "        vertical-align: top;\n",
       "    }\n",
       "\n",
       "    .dataframe thead th {\n",
       "        text-align: right;\n",
       "    }\n",
       "</style>\n",
       "<table border=\"1\" class=\"dataframe\">\n",
       "  <thead>\n",
       "    <tr style=\"text-align: right;\">\n",
       "      <th></th>\n",
       "      <th>id</th>\n",
       "      <th>name</th>\n",
       "      <th>unit</th>\n",
       "      <th>source</th>\n",
       "      <th>sourceNote</th>\n",
       "      <th>sourceOrganization</th>\n",
       "      <th>topics</th>\n",
       "    </tr>\n",
       "  </thead>\n",
       "  <tbody>\n",
       "    <tr>\n",
       "      <th>0</th>\n",
       "      <td>1.0.HCount.1.90usd</td>\n",
       "      <td>Poverty Headcount ($1.90 a day)</td>\n",
       "      <td></td>\n",
       "      <td>LAC Equity Lab</td>\n",
       "      <td>The poverty headcount index measures the propo...</td>\n",
       "      <td>b'LAC Equity Lab tabulations of SEDLAC (CEDLAS...</td>\n",
       "      <td>Poverty</td>\n",
       "    </tr>\n",
       "    <tr>\n",
       "      <th>1</th>\n",
       "      <td>1.0.HCount.2.5usd</td>\n",
       "      <td>Poverty Headcount ($2.50 a day)</td>\n",
       "      <td></td>\n",
       "      <td>LAC Equity Lab</td>\n",
       "      <td>The poverty headcount index measures the propo...</td>\n",
       "      <td>b'LAC Equity Lab tabulations of SEDLAC (CEDLAS...</td>\n",
       "      <td>Poverty</td>\n",
       "    </tr>\n",
       "    <tr>\n",
       "      <th>2</th>\n",
       "      <td>1.0.HCount.Mid10to50</td>\n",
       "      <td>Middle Class ($10-50 a day) Headcount</td>\n",
       "      <td></td>\n",
       "      <td>LAC Equity Lab</td>\n",
       "      <td>The poverty headcount index measures the propo...</td>\n",
       "      <td>b'LAC Equity Lab tabulations of SEDLAC (CEDLAS...</td>\n",
       "      <td>Poverty</td>\n",
       "    </tr>\n",
       "    <tr>\n",
       "      <th>3</th>\n",
       "      <td>1.0.HCount.Ofcl</td>\n",
       "      <td>Official Moderate Poverty Rate-National</td>\n",
       "      <td></td>\n",
       "      <td>LAC Equity Lab</td>\n",
       "      <td>The poverty headcount index measures the propo...</td>\n",
       "      <td>b'LAC Equity Lab tabulations of data from Nati...</td>\n",
       "      <td>Poverty</td>\n",
       "    </tr>\n",
       "    <tr>\n",
       "      <th>4</th>\n",
       "      <td>1.0.HCount.Poor4uds</td>\n",
       "      <td>Poverty Headcount ($4 a day)</td>\n",
       "      <td></td>\n",
       "      <td>LAC Equity Lab</td>\n",
       "      <td>The poverty headcount index measures the propo...</td>\n",
       "      <td>b'LAC Equity Lab tabulations of SEDLAC (CEDLAS...</td>\n",
       "      <td>Poverty</td>\n",
       "    </tr>\n",
       "    <tr>\n",
       "      <th>...</th>\n",
       "      <td>...</td>\n",
       "      <td>...</td>\n",
       "      <td>...</td>\n",
       "      <td>...</td>\n",
       "      <td>...</td>\n",
       "      <td>...</td>\n",
       "      <td>...</td>\n",
       "    </tr>\n",
       "    <tr>\n",
       "      <th>17333</th>\n",
       "      <td>per_sionl.overlap_q1_tot</td>\n",
       "      <td>Population in the 1st quintile (poorest) only ...</td>\n",
       "      <td></td>\n",
       "      <td>The Atlas of Social Protection: Indicators of ...</td>\n",
       "      <td>NULL</td>\n",
       "      <td>b'The Atlas of Social Protection: Indicators o...</td>\n",
       "      <td>Social Protection &amp; Labor</td>\n",
       "    </tr>\n",
       "    <tr>\n",
       "      <th>17334</th>\n",
       "      <td>per_sionl.overlap_q1_urb</td>\n",
       "      <td>Population in the 1st quintile (poorest) only ...</td>\n",
       "      <td></td>\n",
       "      <td>The Atlas of Social Protection: Indicators of ...</td>\n",
       "      <td>NULL</td>\n",
       "      <td>b'The Atlas of Social Protection: Indicators o...</td>\n",
       "      <td>Social Protection &amp; Labor</td>\n",
       "    </tr>\n",
       "    <tr>\n",
       "      <th>17335</th>\n",
       "      <td>s_loans_A1</td>\n",
       "      <td>Outstanding loans per 1,000 adults</td>\n",
       "      <td></td>\n",
       "      <td>G20 Financial Inclusion Indicators</td>\n",
       "      <td></td>\n",
       "      <td>b''</td>\n",
       "      <td></td>\n",
       "    </tr>\n",
       "    <tr>\n",
       "      <th>17336</th>\n",
       "      <td>s_policyholders_B2_life</td>\n",
       "      <td>Insurance policy holders per 1,000 adults (life)</td>\n",
       "      <td></td>\n",
       "      <td>G20 Financial Inclusion Indicators</td>\n",
       "      <td>Denotes the total number of life insurance pol...</td>\n",
       "      <td>b'International Monetary Fund, Financial Acces...</td>\n",
       "      <td></td>\n",
       "    </tr>\n",
       "    <tr>\n",
       "      <th>17337</th>\n",
       "      <td>s_policyholders_B2_nonlife</td>\n",
       "      <td>Insurance policy holders per 1,000 adults (non...</td>\n",
       "      <td></td>\n",
       "      <td>G20 Financial Inclusion Indicators</td>\n",
       "      <td>Denotes the total number of non-life insurance...</td>\n",
       "      <td>b'International Monetary Fund, Financial Acces...</td>\n",
       "      <td></td>\n",
       "    </tr>\n",
       "  </tbody>\n",
       "</table>\n",
       "<p>17338 rows × 7 columns</p>\n",
       "</div>"
      ],
      "text/plain": [
       "                               id  \\\n",
       "0              1.0.HCount.1.90usd   \n",
       "1               1.0.HCount.2.5usd   \n",
       "2            1.0.HCount.Mid10to50   \n",
       "3                 1.0.HCount.Ofcl   \n",
       "4             1.0.HCount.Poor4uds   \n",
       "...                           ...   \n",
       "17333    per_sionl.overlap_q1_tot   \n",
       "17334    per_sionl.overlap_q1_urb   \n",
       "17335                  s_loans_A1   \n",
       "17336     s_policyholders_B2_life   \n",
       "17337  s_policyholders_B2_nonlife   \n",
       "\n",
       "                                                    name unit  \\\n",
       "0                        Poverty Headcount ($1.90 a day)        \n",
       "1                        Poverty Headcount ($2.50 a day)        \n",
       "2                  Middle Class ($10-50 a day) Headcount        \n",
       "3                Official Moderate Poverty Rate-National        \n",
       "4                           Poverty Headcount ($4 a day)        \n",
       "...                                                  ...  ...   \n",
       "17333  Population in the 1st quintile (poorest) only ...        \n",
       "17334  Population in the 1st quintile (poorest) only ...        \n",
       "17335                 Outstanding loans per 1,000 adults        \n",
       "17336   Insurance policy holders per 1,000 adults (life)        \n",
       "17337  Insurance policy holders per 1,000 adults (non...        \n",
       "\n",
       "                                                  source  \\\n",
       "0                                         LAC Equity Lab   \n",
       "1                                         LAC Equity Lab   \n",
       "2                                         LAC Equity Lab   \n",
       "3                                         LAC Equity Lab   \n",
       "4                                         LAC Equity Lab   \n",
       "...                                                  ...   \n",
       "17333  The Atlas of Social Protection: Indicators of ...   \n",
       "17334  The Atlas of Social Protection: Indicators of ...   \n",
       "17335                 G20 Financial Inclusion Indicators   \n",
       "17336                 G20 Financial Inclusion Indicators   \n",
       "17337                 G20 Financial Inclusion Indicators   \n",
       "\n",
       "                                              sourceNote  \\\n",
       "0      The poverty headcount index measures the propo...   \n",
       "1      The poverty headcount index measures the propo...   \n",
       "2      The poverty headcount index measures the propo...   \n",
       "3      The poverty headcount index measures the propo...   \n",
       "4      The poverty headcount index measures the propo...   \n",
       "...                                                  ...   \n",
       "17333                                               NULL   \n",
       "17334                                               NULL   \n",
       "17335                                                      \n",
       "17336  Denotes the total number of life insurance pol...   \n",
       "17337  Denotes the total number of non-life insurance...   \n",
       "\n",
       "                                      sourceOrganization  \\\n",
       "0      b'LAC Equity Lab tabulations of SEDLAC (CEDLAS...   \n",
       "1      b'LAC Equity Lab tabulations of SEDLAC (CEDLAS...   \n",
       "2      b'LAC Equity Lab tabulations of SEDLAC (CEDLAS...   \n",
       "3      b'LAC Equity Lab tabulations of data from Nati...   \n",
       "4      b'LAC Equity Lab tabulations of SEDLAC (CEDLAS...   \n",
       "...                                                  ...   \n",
       "17333  b'The Atlas of Social Protection: Indicators o...   \n",
       "17334  b'The Atlas of Social Protection: Indicators o...   \n",
       "17335                                                b''   \n",
       "17336  b'International Monetary Fund, Financial Acces...   \n",
       "17337  b'International Monetary Fund, Financial Acces...   \n",
       "\n",
       "                          topics  \n",
       "0                       Poverty   \n",
       "1                       Poverty   \n",
       "2                       Poverty   \n",
       "3                       Poverty   \n",
       "4                       Poverty   \n",
       "...                          ...  \n",
       "17333  Social Protection & Labor  \n",
       "17334  Social Protection & Labor  \n",
       "17335                             \n",
       "17336                             \n",
       "17337                             \n",
       "\n",
       "[17338 rows x 7 columns]"
      ]
     },
     "execution_count": 10,
     "metadata": {},
     "output_type": "execute_result"
    }
   ],
   "source": [
    "wb.get_indicators()"
   ]
  },
  {
   "cell_type": "code",
   "execution_count": 11,
   "metadata": {},
   "outputs": [],
   "source": [
    "matches = wb.search('gdp.*capita.*const')"
   ]
  },
  {
   "cell_type": "code",
   "execution_count": 12,
   "metadata": {
    "scrolled": true
   },
   "outputs": [
    {
     "ename": "AttributeError",
     "evalue": "module 'pandas_datareader.wb' has no attribute 'get_regions'",
     "output_type": "error",
     "traceback": [
      "\u001b[1;31m---------------------------------------------------------------------------\u001b[0m",
      "\u001b[1;31mAttributeError\u001b[0m                            Traceback (most recent call last)",
      "\u001b[1;32m<ipython-input-12-a070df4f5159>\u001b[0m in \u001b[0;36m<module>\u001b[1;34m\u001b[0m\n\u001b[1;32m----> 1\u001b[1;33m \u001b[0mwb\u001b[0m\u001b[1;33m.\u001b[0m\u001b[0mget_regions\u001b[0m\u001b[1;33m(\u001b[0m\u001b[1;33m)\u001b[0m\u001b[1;33m\u001b[0m\u001b[1;33m\u001b[0m\u001b[0m\n\u001b[0m",
      "\u001b[1;31mAttributeError\u001b[0m: module 'pandas_datareader.wb' has no attribute 'get_regions'"
     ]
    }
   ],
   "source": [
    "wb.get_regions()"
   ]
  },
  {
   "cell_type": "markdown",
   "metadata": {},
   "source": [
    "### World Bank\n",
    "\n",
    "Fonte Indicadores: https://data.worldbank.org/indicator"
   ]
  },
  {
   "cell_type": "code",
   "execution_count": 44,
   "metadata": {},
   "outputs": [],
   "source": [
    "#import world_bank_data as wb1"
   ]
  },
  {
   "cell_type": "code",
   "execution_count": 54,
   "metadata": {
    "scrolled": true
   },
   "outputs": [],
   "source": [
    "## Acessar os topicos\n",
    "#wb1.get_topics('Health')"
   ]
  },
  {
   "cell_type": "code",
   "execution_count": 53,
   "metadata": {
    "scrolled": true
   },
   "outputs": [],
   "source": [
    "#wb1.get_sources()"
   ]
  },
  {
   "cell_type": "code",
   "execution_count": 52,
   "metadata": {},
   "outputs": [],
   "source": [
    "#wb1.get_indicators(topic=19, source=2)  # topic and source id are from get_topics/get_sources"
   ]
  },
  {
   "cell_type": "markdown",
   "metadata": {},
   "source": [
    "### População"
   ]
  },
  {
   "cell_type": "code",
   "execution_count": 50,
   "metadata": {
    "scrolled": true
   },
   "outputs": [],
   "source": [
    "#pop_m_014 = wb.get_series('SP.POP', date='2018', id_or_value='id', simplify_index=True)\n",
    "#pop_m_014 = pop.to_frame()"
   ]
  },
  {
   "cell_type": "code",
   "execution_count": 51,
   "metadata": {},
   "outputs": [],
   "source": [
    "#type(pop)\n",
    "#pop"
   ]
  },
  {
   "cell_type": "code",
   "execution_count": 49,
   "metadata": {},
   "outputs": [],
   "source": [
    "#pop_per = wb.get_series('SP.URB.GROW', date = '2018', id_or_value = 'id', simplify_index=True)\n",
    "#pop_per = pop_per.to_frame()"
   ]
  },
  {
   "cell_type": "code",
   "execution_count": 48,
   "metadata": {
    "scrolled": true
   },
   "outputs": [],
   "source": [
    "#pop.join(pop_per.set_index('Country'), on='Country')\n",
    "#pop.set_index('Country').join(pop_per.set_index('Country'))\n",
    "#pop_df = pop.join(pop_per, lsuffix='_caller', rsuffix='_other')\n",
    "#pop_df.describe()"
   ]
  },
  {
   "cell_type": "markdown",
   "metadata": {},
   "source": [
    "### Gênero "
   ]
  },
  {
   "cell_type": "code",
   "execution_count": 13,
   "metadata": {},
   "outputs": [],
   "source": [
    "# Pop total\n",
    "## SP.POP.TOTL\n",
    "\n",
    "# pop growth (%)\n",
    "## SP.POP.GROW\n",
    "\n",
    "# pop female:\n",
    "##SP.POP.TOTL.FE.IN\n",
    "\n",
    "# pop female %:\n",
    "## SP.POP.TOTL.FE.ZS\n",
    "\n",
    "# pop male:\n",
    "## SP.POP.TOTL.MA.IN\n",
    "\n",
    "# pop male%:\n",
    "## SP.POP.TOTL.MA.ZS\n",
    "dat = wb.download(indicator=['SP.POP.TOTL','SP.POP.GROW','SP.POP.TOTL.FE.IN','SP.POP.TOTL.FE.ZS','SP.POP.TOTL.MA.IN','SP.POP.TOTL.MA.ZS'], country=['USA', 'BRA', 'GBR', 'FRA', 'CHN'], start=2010, end=2018)"
   ]
  },
  {
   "cell_type": "code",
   "execution_count": 14,
   "metadata": {
    "scrolled": true
   },
   "outputs": [
    {
     "data": {
      "text/html": [
       "<div>\n",
       "<style scoped>\n",
       "    .dataframe tbody tr th:only-of-type {\n",
       "        vertical-align: middle;\n",
       "    }\n",
       "\n",
       "    .dataframe tbody tr th {\n",
       "        vertical-align: top;\n",
       "    }\n",
       "\n",
       "    .dataframe thead th {\n",
       "        text-align: right;\n",
       "    }\n",
       "</style>\n",
       "<table border=\"1\" class=\"dataframe\">\n",
       "  <thead>\n",
       "    <tr style=\"text-align: right;\">\n",
       "      <th></th>\n",
       "      <th></th>\n",
       "      <th>pop_total</th>\n",
       "      <th>pop_grow</th>\n",
       "      <th>pop_female</th>\n",
       "      <th>pop_female_per</th>\n",
       "      <th>pop_male</th>\n",
       "      <th>pop_male_per</th>\n",
       "    </tr>\n",
       "    <tr>\n",
       "      <th>country</th>\n",
       "      <th>year</th>\n",
       "      <th></th>\n",
       "      <th></th>\n",
       "      <th></th>\n",
       "      <th></th>\n",
       "      <th></th>\n",
       "      <th></th>\n",
       "    </tr>\n",
       "  </thead>\n",
       "  <tbody>\n",
       "    <tr>\n",
       "      <th rowspan=\"5\" valign=\"top\">Brazil</th>\n",
       "      <th>2018</th>\n",
       "      <td>209469333</td>\n",
       "      <td>0.783848</td>\n",
       "      <td>106473088</td>\n",
       "      <td>50.829917</td>\n",
       "      <td>102996245</td>\n",
       "      <td>49.170083</td>\n",
       "    </tr>\n",
       "    <tr>\n",
       "      <th>2017</th>\n",
       "      <td>207833831</td>\n",
       "      <td>0.807147</td>\n",
       "      <td>105601740</td>\n",
       "      <td>50.810659</td>\n",
       "      <td>102232091</td>\n",
       "      <td>49.189341</td>\n",
       "    </tr>\n",
       "    <tr>\n",
       "      <th>2016</th>\n",
       "      <td>206163058</td>\n",
       "      <td>0.823748</td>\n",
       "      <td>104712865</td>\n",
       "      <td>50.791284</td>\n",
       "      <td>101450193</td>\n",
       "      <td>49.208716</td>\n",
       "    </tr>\n",
       "    <tr>\n",
       "      <th>2015</th>\n",
       "      <td>204471769</td>\n",
       "      <td>0.838848</td>\n",
       "      <td>103814248</td>\n",
       "      <td>50.771922</td>\n",
       "      <td>100657521</td>\n",
       "      <td>49.228078</td>\n",
       "    </tr>\n",
       "    <tr>\n",
       "      <th>2014</th>\n",
       "      <td>202763735</td>\n",
       "      <td>0.855792</td>\n",
       "      <td>102907987</td>\n",
       "      <td>50.752659</td>\n",
       "      <td>99855748</td>\n",
       "      <td>49.247341</td>\n",
       "    </tr>\n",
       "  </tbody>\n",
       "</table>\n",
       "</div>"
      ],
      "text/plain": [
       "              pop_total  pop_grow  pop_female  pop_female_per   pop_male  \\\n",
       "country year                                                               \n",
       "Brazil  2018  209469333  0.783848   106473088       50.829917  102996245   \n",
       "        2017  207833831  0.807147   105601740       50.810659  102232091   \n",
       "        2016  206163058  0.823748   104712865       50.791284  101450193   \n",
       "        2015  204471769  0.838848   103814248       50.771922  100657521   \n",
       "        2014  202763735  0.855792   102907987       50.752659   99855748   \n",
       "\n",
       "              pop_male_per  \n",
       "country year                \n",
       "Brazil  2018     49.170083  \n",
       "        2017     49.189341  \n",
       "        2016     49.208716  \n",
       "        2015     49.228078  \n",
       "        2014     49.247341  "
      ]
     },
     "execution_count": 14,
     "metadata": {},
     "output_type": "execute_result"
    }
   ],
   "source": [
    "dat.columns = ['pop_total', 'pop_grow','pop_female', 'pop_female_per', 'pop_male', 'pop_male_per']\n",
    "dat.head()"
   ]
  },
  {
   "cell_type": "code",
   "execution_count": 15,
   "metadata": {
    "scrolled": true
   },
   "outputs": [
    {
     "name": "stdout",
     "output_type": "stream",
     "text": [
      "<class 'pandas.core.frame.DataFrame'>\n",
      "MultiIndex: 45 entries, ('Brazil', '2018') to ('United States', '2010')\n",
      "Data columns (total 6 columns):\n",
      " #   Column          Non-Null Count  Dtype  \n",
      "---  ------          --------------  -----  \n",
      " 0   pop_total       45 non-null     int64  \n",
      " 1   pop_grow        45 non-null     float64\n",
      " 2   pop_female      45 non-null     int64  \n",
      " 3   pop_female_per  45 non-null     float64\n",
      " 4   pop_male        45 non-null     int64  \n",
      " 5   pop_male_per    45 non-null     float64\n",
      "dtypes: float64(3), int64(3)\n",
      "memory usage: 2.4+ KB\n"
     ]
    }
   ],
   "source": [
    "dat.info()"
   ]
  },
  {
   "cell_type": "code",
   "execution_count": 16,
   "metadata": {},
   "outputs": [
    {
     "data": {
      "text/html": [
       "<div>\n",
       "<style scoped>\n",
       "    .dataframe tbody tr th:only-of-type {\n",
       "        vertical-align: middle;\n",
       "    }\n",
       "\n",
       "    .dataframe tbody tr th {\n",
       "        vertical-align: top;\n",
       "    }\n",
       "\n",
       "    .dataframe thead th {\n",
       "        text-align: right;\n",
       "    }\n",
       "</style>\n",
       "<table border=\"1\" class=\"dataframe\">\n",
       "  <thead>\n",
       "    <tr style=\"text-align: right;\">\n",
       "      <th></th>\n",
       "      <th>count</th>\n",
       "      <th>mean</th>\n",
       "      <th>std</th>\n",
       "      <th>min</th>\n",
       "      <th>25%</th>\n",
       "      <th>50%</th>\n",
       "      <th>75%</th>\n",
       "      <th>max</th>\n",
       "    </tr>\n",
       "  </thead>\n",
       "  <tbody>\n",
       "    <tr>\n",
       "      <th>pop_total</th>\n",
       "      <td>45.0</td>\n",
       "      <td>4.033078e+08</td>\n",
       "      <td>4.955760e+08</td>\n",
       "      <td>6.276636e+07</td>\n",
       "      <td>6.605886e+07</td>\n",
       "      <td>2.027637e+08</td>\n",
       "      <td>3.229413e+08</td>\n",
       "      <td>1.392730e+09</td>\n",
       "    </tr>\n",
       "    <tr>\n",
       "      <th>pop_grow</th>\n",
       "      <td>45.0</td>\n",
       "      <td>6.330022e-01</td>\n",
       "      <td>1.879588e-01</td>\n",
       "      <td>1.673060e-01</td>\n",
       "      <td>4.937096e-01</td>\n",
       "      <td>6.793745e-01</td>\n",
       "      <td>7.838476e-01</td>\n",
       "      <td>9.379567e-01</td>\n",
       "    </tr>\n",
       "    <tr>\n",
       "      <th>pop_female</th>\n",
       "      <td>45.0</td>\n",
       "      <td>1.989004e+08</td>\n",
       "      <td>2.400232e+08</td>\n",
       "      <td>3.193174e+07</td>\n",
       "      <td>3.384537e+07</td>\n",
       "      <td>1.029080e+08</td>\n",
       "      <td>1.631800e+08</td>\n",
       "      <td>6.779722e+08</td>\n",
       "    </tr>\n",
       "    <tr>\n",
       "      <th>pop_female_per</th>\n",
       "      <td>45.0</td>\n",
       "      <td>5.045033e+01</td>\n",
       "      <td>9.811013e-01</td>\n",
       "      <td>4.861130e+01</td>\n",
       "      <td>5.052931e+01</td>\n",
       "      <td>5.069468e+01</td>\n",
       "      <td>5.082992e+01</td>\n",
       "      <td>5.158424e+01</td>\n",
       "    </tr>\n",
       "    <tr>\n",
       "      <th>pop_male</th>\n",
       "      <td>45.0</td>\n",
       "      <td>2.044075e+08</td>\n",
       "      <td>2.555683e+08</td>\n",
       "      <td>3.083462e+07</td>\n",
       "      <td>3.224593e+07</td>\n",
       "      <td>9.985575e+07</td>\n",
       "      <td>1.597613e+08</td>\n",
       "      <td>7.147578e+08</td>\n",
       "    </tr>\n",
       "    <tr>\n",
       "      <th>pop_male_per</th>\n",
       "      <td>45.0</td>\n",
       "      <td>4.954967e+01</td>\n",
       "      <td>9.811013e-01</td>\n",
       "      <td>4.841576e+01</td>\n",
       "      <td>4.917008e+01</td>\n",
       "      <td>4.930532e+01</td>\n",
       "      <td>4.947069e+01</td>\n",
       "      <td>5.138870e+01</td>\n",
       "    </tr>\n",
       "  </tbody>\n",
       "</table>\n",
       "</div>"
      ],
      "text/plain": [
       "                count          mean           std           min           25%  \\\n",
       "pop_total        45.0  4.033078e+08  4.955760e+08  6.276636e+07  6.605886e+07   \n",
       "pop_grow         45.0  6.330022e-01  1.879588e-01  1.673060e-01  4.937096e-01   \n",
       "pop_female       45.0  1.989004e+08  2.400232e+08  3.193174e+07  3.384537e+07   \n",
       "pop_female_per   45.0  5.045033e+01  9.811013e-01  4.861130e+01  5.052931e+01   \n",
       "pop_male         45.0  2.044075e+08  2.555683e+08  3.083462e+07  3.224593e+07   \n",
       "pop_male_per     45.0  4.954967e+01  9.811013e-01  4.841576e+01  4.917008e+01   \n",
       "\n",
       "                         50%           75%           max  \n",
       "pop_total       2.027637e+08  3.229413e+08  1.392730e+09  \n",
       "pop_grow        6.793745e-01  7.838476e-01  9.379567e-01  \n",
       "pop_female      1.029080e+08  1.631800e+08  6.779722e+08  \n",
       "pop_female_per  5.069468e+01  5.082992e+01  5.158424e+01  \n",
       "pop_male        9.985575e+07  1.597613e+08  7.147578e+08  \n",
       "pop_male_per    4.930532e+01  4.947069e+01  5.138870e+01  "
      ]
     },
     "execution_count": 16,
     "metadata": {},
     "output_type": "execute_result"
    }
   ],
   "source": [
    "dat.describe().T"
   ]
  },
  {
   "cell_type": "code",
   "execution_count": 17,
   "metadata": {},
   "outputs": [
    {
     "data": {
      "text/plain": [
       "Index(['pop_total', 'pop_grow', 'pop_female', 'pop_female_per', 'pop_male',\n",
       "       'pop_male_per'],\n",
       "      dtype='object')"
      ]
     },
     "execution_count": 17,
     "metadata": {},
     "output_type": "execute_result"
    }
   ],
   "source": [
    "dat.columns"
   ]
  },
  {
   "cell_type": "code",
   "execution_count": 18,
   "metadata": {
    "scrolled": true
   },
   "outputs": [],
   "source": [
    "# Drop columns\n",
    "df_gender = dat.drop(['pop_total',  'pop_grow', 'pop_female', 'pop_male'], axis = 1)\n",
    "\n",
    "# Transpor o df\n",
    "df_gender = df_gender.stack() \n",
    "\n",
    "# Transformar em DataFrame\n",
    "df_gender = pd.DataFrame(df_gender)"
   ]
  },
  {
   "cell_type": "code",
   "execution_count": 19,
   "metadata": {},
   "outputs": [
    {
     "data": {
      "text/html": [
       "<div>\n",
       "<style scoped>\n",
       "    .dataframe tbody tr th:only-of-type {\n",
       "        vertical-align: middle;\n",
       "    }\n",
       "\n",
       "    .dataframe tbody tr th {\n",
       "        vertical-align: top;\n",
       "    }\n",
       "\n",
       "    .dataframe thead th {\n",
       "        text-align: right;\n",
       "    }\n",
       "</style>\n",
       "<table border=\"1\" class=\"dataframe\">\n",
       "  <thead>\n",
       "    <tr style=\"text-align: right;\">\n",
       "      <th></th>\n",
       "      <th></th>\n",
       "      <th></th>\n",
       "      <th>0</th>\n",
       "    </tr>\n",
       "    <tr>\n",
       "      <th>country</th>\n",
       "      <th>year</th>\n",
       "      <th></th>\n",
       "      <th></th>\n",
       "    </tr>\n",
       "  </thead>\n",
       "  <tbody>\n",
       "    <tr>\n",
       "      <th rowspan=\"5\" valign=\"top\">Brazil</th>\n",
       "      <th rowspan=\"2\" valign=\"top\">2018</th>\n",
       "      <th>pop_female_per</th>\n",
       "      <td>50.829917</td>\n",
       "    </tr>\n",
       "    <tr>\n",
       "      <th>pop_male_per</th>\n",
       "      <td>49.170083</td>\n",
       "    </tr>\n",
       "    <tr>\n",
       "      <th rowspan=\"2\" valign=\"top\">2017</th>\n",
       "      <th>pop_female_per</th>\n",
       "      <td>50.810659</td>\n",
       "    </tr>\n",
       "    <tr>\n",
       "      <th>pop_male_per</th>\n",
       "      <td>49.189341</td>\n",
       "    </tr>\n",
       "    <tr>\n",
       "      <th>2016</th>\n",
       "      <th>pop_female_per</th>\n",
       "      <td>50.791284</td>\n",
       "    </tr>\n",
       "  </tbody>\n",
       "</table>\n",
       "</div>"
      ],
      "text/plain": [
       "                                     0\n",
       "country year                          \n",
       "Brazil  2018 pop_female_per  50.829917\n",
       "             pop_male_per    49.170083\n",
       "        2017 pop_female_per  50.810659\n",
       "             pop_male_per    49.189341\n",
       "        2016 pop_female_per  50.791284"
      ]
     },
     "execution_count": 19,
     "metadata": {},
     "output_type": "execute_result"
    }
   ],
   "source": [
    "df_gender.head()"
   ]
  },
  {
   "cell_type": "code",
   "execution_count": 20,
   "metadata": {},
   "outputs": [
    {
     "data": {
      "text/plain": [
       "Index(['country', 'year', 'level_2', 0], dtype='object')"
      ]
     },
     "execution_count": 20,
     "metadata": {},
     "output_type": "execute_result"
    }
   ],
   "source": [
    "# Redefinir index\n",
    "df_gender = df_gender.reset_index()\n",
    "\n",
    "# colunas\n",
    "df_gender.columns"
   ]
  },
  {
   "cell_type": "code",
   "execution_count": 21,
   "metadata": {},
   "outputs": [],
   "source": [
    "#renomear colunas\n",
    "df_gender.columns = ['pais', 'ano','sexo', 'percentual']"
   ]
  },
  {
   "cell_type": "code",
   "execution_count": 22,
   "metadata": {},
   "outputs": [
    {
     "data": {
      "text/plain": [
       "<matplotlib.axes._subplots.AxesSubplot at 0x2dac26afe08>"
      ]
     },
     "execution_count": 22,
     "metadata": {},
     "output_type": "execute_result"
    },
    {
     "data": {
      "image/png": "[encoded data removed]",
      "text/plain": [
       "<Figure size 432x288 with 1 Axes>"
      ]
     },
     "metadata": {
      "needs_background": "light"
     },
     "output_type": "display_data"
    }
   ],
   "source": [
    "# Anos = 2010:2018\n",
    "sns.barplot(data = df_gender, y = 'percentual', x = 'sexo', hue = 'pais', palette = \"Set3\")"
   ]
  },
  {
   "cell_type": "markdown",
   "metadata": {},
   "source": [
    "### Idade"
   ]
  },
  {
   "cell_type": "code",
   "execution_count": 23,
   "metadata": {},
   "outputs": [],
   "source": [
    "# 0-14:\n",
    "##SP.POP.0014.TO\n",
    "#%\n",
    "#SP.POP.0014.TO.ZS\n",
    "\n",
    "# 15-64:\n",
    "##SP.POP.1564.TO\n",
    "#%\n",
    "##SP.POP.1564.TO.ZS\n",
    "\n",
    "#65+\n",
    "## SP.POP.65UP.TO\n",
    "#%\n",
    "## SP.POP.65UP.TO.ZS\n",
    "\n",
    "dat_id = wb.download(indicator=['SP.POP.0014.TO', 'SP.POP.0014.TO.ZS','SP.POP.1564.TO', 'SP.POP.1564.TO.ZS', 'SP.POP.65UP.TO', 'SP.POP.65UP.TO.ZS'], country=['USA', 'BRA', 'GBR', 'FRA', 'CHN'], start=2010, end=2018)"
   ]
  },
  {
   "cell_type": "code",
   "execution_count": 24,
   "metadata": {},
   "outputs": [
    {
     "data": {
      "text/html": [
       "<div>\n",
       "<style scoped>\n",
       "    .dataframe tbody tr th:only-of-type {\n",
       "        vertical-align: middle;\n",
       "    }\n",
       "\n",
       "    .dataframe tbody tr th {\n",
       "        vertical-align: top;\n",
       "    }\n",
       "\n",
       "    .dataframe thead th {\n",
       "        text-align: right;\n",
       "    }\n",
       "</style>\n",
       "<table border=\"1\" class=\"dataframe\">\n",
       "  <thead>\n",
       "    <tr style=\"text-align: right;\">\n",
       "      <th></th>\n",
       "      <th></th>\n",
       "      <th>0-14</th>\n",
       "      <th>0-14_per</th>\n",
       "      <th>15-64</th>\n",
       "      <th>15-64_per</th>\n",
       "      <th>65_mais</th>\n",
       "      <th>65_mais_per</th>\n",
       "    </tr>\n",
       "    <tr>\n",
       "      <th>country</th>\n",
       "      <th>year</th>\n",
       "      <th></th>\n",
       "      <th></th>\n",
       "      <th></th>\n",
       "      <th></th>\n",
       "      <th></th>\n",
       "      <th></th>\n",
       "    </tr>\n",
       "  </thead>\n",
       "  <tbody>\n",
       "    <tr>\n",
       "      <th rowspan=\"5\" valign=\"top\">Brazil</th>\n",
       "      <th>2018</th>\n",
       "      <td>44688338</td>\n",
       "      <td>21.334072</td>\n",
       "      <td>146090386</td>\n",
       "      <td>69.743090</td>\n",
       "      <td>18690609</td>\n",
       "      <td>8.922838</td>\n",
       "    </tr>\n",
       "    <tr>\n",
       "      <th>2017</th>\n",
       "      <td>45066349</td>\n",
       "      <td>21.683837</td>\n",
       "      <td>144882359</td>\n",
       "      <td>69.710671</td>\n",
       "      <td>17885124</td>\n",
       "      <td>8.605492</td>\n",
       "    </tr>\n",
       "    <tr>\n",
       "      <th>2016</th>\n",
       "      <td>45457971</td>\n",
       "      <td>22.049523</td>\n",
       "      <td>143590074</td>\n",
       "      <td>69.648790</td>\n",
       "      <td>17115012</td>\n",
       "      <td>8.301687</td>\n",
       "    </tr>\n",
       "    <tr>\n",
       "      <th>2015</th>\n",
       "      <td>45844252</td>\n",
       "      <td>22.420822</td>\n",
       "      <td>142243105</td>\n",
       "      <td>69.566134</td>\n",
       "      <td>16384412</td>\n",
       "      <td>8.013044</td>\n",
       "    </tr>\n",
       "    <tr>\n",
       "      <th>2014</th>\n",
       "      <td>46366979</td>\n",
       "      <td>22.867491</td>\n",
       "      <td>140699012</td>\n",
       "      <td>69.390620</td>\n",
       "      <td>15697744</td>\n",
       "      <td>7.741889</td>\n",
       "    </tr>\n",
       "  </tbody>\n",
       "</table>\n",
       "</div>"
      ],
      "text/plain": [
       "                  0-14   0-14_per      15-64  15-64_per   65_mais  65_mais_per\n",
       "country year                                                                  \n",
       "Brazil  2018  44688338  21.334072  146090386  69.743090  18690609     8.922838\n",
       "        2017  45066349  21.683837  144882359  69.710671  17885124     8.605492\n",
       "        2016  45457971  22.049523  143590074  69.648790  17115012     8.301687\n",
       "        2015  45844252  22.420822  142243105  69.566134  16384412     8.013044\n",
       "        2014  46366979  22.867491  140699012  69.390620  15697744     7.741889"
      ]
     },
     "execution_count": 24,
     "metadata": {},
     "output_type": "execute_result"
    }
   ],
   "source": [
    "dat_id.columns = ['0-14', '0-14_per', '15-64', '15-64_per', '65_mais', '65_mais_per']\n",
    "dat_id.head()"
   ]
  },
  {
   "cell_type": "code",
   "execution_count": 25,
   "metadata": {},
   "outputs": [
    {
     "name": "stdout",
     "output_type": "stream",
     "text": [
      "<class 'pandas.core.frame.DataFrame'>\n",
      "MultiIndex: 45 entries, ('Brazil', '2018') to ('United States', '2010')\n",
      "Data columns (total 6 columns):\n",
      " #   Column       Non-Null Count  Dtype  \n",
      "---  ------       --------------  -----  \n",
      " 0   0-14         45 non-null     int64  \n",
      " 1   0-14_per     45 non-null     float64\n",
      " 2   15-64        45 non-null     int64  \n",
      " 3   15-64_per    45 non-null     float64\n",
      " 4   65_mais      45 non-null     int64  \n",
      " 5   65_mais_per  45 non-null     float64\n",
      "dtypes: float64(3), int64(3)\n",
      "memory usage: 2.4+ KB\n"
     ]
    }
   ],
   "source": [
    "dat_id.info()"
   ]
  },
  {
   "cell_type": "code",
   "execution_count": 26,
   "metadata": {
    "scrolled": true
   },
   "outputs": [
    {
     "data": {
      "text/plain": [
       "MultiIndex([(        'Brazil', '2018'),\n",
       "            (        'Brazil', '2017'),\n",
       "            (        'Brazil', '2016'),\n",
       "            (        'Brazil', '2015'),\n",
       "            (        'Brazil', '2014'),\n",
       "            (        'Brazil', '2013'),\n",
       "            (        'Brazil', '2012'),\n",
       "            (        'Brazil', '2011'),\n",
       "            (        'Brazil', '2010'),\n",
       "            (         'China', '2018'),\n",
       "            (         'China', '2017'),\n",
       "            (         'China', '2016'),\n",
       "            (         'China', '2015'),\n",
       "            (         'China', '2014'),\n",
       "            (         'China', '2013'),\n",
       "            (         'China', '2012'),\n",
       "            (         'China', '2011'),\n",
       "            (         'China', '2010'),\n",
       "            (        'France', '2018'),\n",
       "            (        'France', '2017'),\n",
       "            (        'France', '2016'),\n",
       "            (        'France', '2015'),\n",
       "            (        'France', '2014'),\n",
       "            (        'France', '2013'),\n",
       "            (        'France', '2012'),\n",
       "            (        'France', '2011'),\n",
       "            (        'France', '2010'),\n",
       "            ('United Kingdom', '2018'),\n",
       "            ('United Kingdom', '2017'),\n",
       "            ('United Kingdom', '2016'),\n",
       "            ('United Kingdom', '2015'),\n",
       "            ('United Kingdom', '2014'),\n",
       "            ('United Kingdom', '2013'),\n",
       "            ('United Kingdom', '2012'),\n",
       "            ('United Kingdom', '2011'),\n",
       "            ('United Kingdom', '2010'),\n",
       "            ( 'United States', '2018'),\n",
       "            ( 'United States', '2017'),\n",
       "            ( 'United States', '2016'),\n",
       "            ( 'United States', '2015'),\n",
       "            ( 'United States', '2014'),\n",
       "            ( 'United States', '2013'),\n",
       "            ( 'United States', '2012'),\n",
       "            ( 'United States', '2011'),\n",
       "            ( 'United States', '2010')],\n",
       "           names=['country', 'year'])"
      ]
     },
     "execution_count": 26,
     "metadata": {},
     "output_type": "execute_result"
    }
   ],
   "source": [
    "dat_id.index"
   ]
  },
  {
   "cell_type": "code",
   "execution_count": 27,
   "metadata": {
    "scrolled": true
   },
   "outputs": [],
   "source": [
    "#df_id = dat_id.pivot_table(index =['country', 'year'], values = ['0-14'])\n",
    "df_id = dat_id.drop(['0-14',  '15-64', '65_mais'], axis = 1)\n",
    "df_id = df_id.stack() "
   ]
  },
  {
   "cell_type": "code",
   "execution_count": 28,
   "metadata": {},
   "outputs": [
    {
     "data": {
      "text/plain": [
       "RangeIndex(start=0, stop=1, step=1)"
      ]
     },
     "execution_count": 28,
     "metadata": {},
     "output_type": "execute_result"
    }
   ],
   "source": [
    "df_id = pd.DataFrame(df_id)\n",
    "df_id.columns"
   ]
  },
  {
   "cell_type": "code",
   "execution_count": 29,
   "metadata": {},
   "outputs": [],
   "source": [
    "df_id = df_id.reset_index()"
   ]
  },
  {
   "cell_type": "code",
   "execution_count": 30,
   "metadata": {},
   "outputs": [
    {
     "data": {
      "text/plain": [
       "<bound method NDFrame.head of            country  year      level_2          0\n",
       "0           Brazil  2018     0-14_per  21.334072\n",
       "1           Brazil  2018    15-64_per  69.743090\n",
       "2           Brazil  2018  65_mais_per   8.922838\n",
       "3           Brazil  2017     0-14_per  21.683837\n",
       "4           Brazil  2017    15-64_per  69.710671\n",
       "..             ...   ...          ...        ...\n",
       "130  United States  2011    15-64_per  66.724605\n",
       "131  United States  2011  65_mais_per  13.250262\n",
       "132  United States  2010     0-14_per  20.204801\n",
       "133  United States  2010    15-64_per  66.813427\n",
       "134  United States  2010  65_mais_per  12.981773\n",
       "\n",
       "[135 rows x 4 columns]>"
      ]
     },
     "execution_count": 30,
     "metadata": {},
     "output_type": "execute_result"
    }
   ],
   "source": [
    "df_id.head"
   ]
  },
  {
   "cell_type": "code",
   "execution_count": 31,
   "metadata": {},
   "outputs": [],
   "source": [
    "df_id.columns = ['pais', 'ano','faixa_etaria', 'percentual']"
   ]
  },
  {
   "cell_type": "code",
   "execution_count": 32,
   "metadata": {
    "scrolled": true
   },
   "outputs": [
    {
     "data": {
      "text/html": [
       "<div>\n",
       "<style scoped>\n",
       "    .dataframe tbody tr th:only-of-type {\n",
       "        vertical-align: middle;\n",
       "    }\n",
       "\n",
       "    .dataframe tbody tr th {\n",
       "        vertical-align: top;\n",
       "    }\n",
       "\n",
       "    .dataframe thead th {\n",
       "        text-align: right;\n",
       "    }\n",
       "</style>\n",
       "<table border=\"1\" class=\"dataframe\">\n",
       "  <thead>\n",
       "    <tr style=\"text-align: right;\">\n",
       "      <th></th>\n",
       "      <th>pais</th>\n",
       "      <th>ano</th>\n",
       "      <th>faixa_etaria</th>\n",
       "      <th>percentual</th>\n",
       "    </tr>\n",
       "  </thead>\n",
       "  <tbody>\n",
       "    <tr>\n",
       "      <th>0</th>\n",
       "      <td>Brazil</td>\n",
       "      <td>2018</td>\n",
       "      <td>0-14_per</td>\n",
       "      <td>21.334072</td>\n",
       "    </tr>\n",
       "    <tr>\n",
       "      <th>1</th>\n",
       "      <td>Brazil</td>\n",
       "      <td>2018</td>\n",
       "      <td>15-64_per</td>\n",
       "      <td>69.743090</td>\n",
       "    </tr>\n",
       "    <tr>\n",
       "      <th>2</th>\n",
       "      <td>Brazil</td>\n",
       "      <td>2018</td>\n",
       "      <td>65_mais_per</td>\n",
       "      <td>8.922838</td>\n",
       "    </tr>\n",
       "    <tr>\n",
       "      <th>3</th>\n",
       "      <td>Brazil</td>\n",
       "      <td>2017</td>\n",
       "      <td>0-14_per</td>\n",
       "      <td>21.683837</td>\n",
       "    </tr>\n",
       "    <tr>\n",
       "      <th>4</th>\n",
       "      <td>Brazil</td>\n",
       "      <td>2017</td>\n",
       "      <td>15-64_per</td>\n",
       "      <td>69.710671</td>\n",
       "    </tr>\n",
       "  </tbody>\n",
       "</table>\n",
       "</div>"
      ],
      "text/plain": [
       "     pais   ano faixa_etaria  percentual\n",
       "0  Brazil  2018     0-14_per   21.334072\n",
       "1  Brazil  2018    15-64_per   69.743090\n",
       "2  Brazil  2018  65_mais_per    8.922838\n",
       "3  Brazil  2017     0-14_per   21.683837\n",
       "4  Brazil  2017    15-64_per   69.710671"
      ]
     },
     "execution_count": 32,
     "metadata": {},
     "output_type": "execute_result"
    }
   ],
   "source": [
    "df_id.head()"
   ]
  },
  {
   "cell_type": "code",
   "execution_count": 33,
   "metadata": {
    "scrolled": true
   },
   "outputs": [
    {
     "data": {
      "text/html": [
       "<div>\n",
       "<style scoped>\n",
       "    .dataframe tbody tr th:only-of-type {\n",
       "        vertical-align: middle;\n",
       "    }\n",
       "\n",
       "    .dataframe tbody tr th {\n",
       "        vertical-align: top;\n",
       "    }\n",
       "\n",
       "    .dataframe thead th {\n",
       "        text-align: right;\n",
       "    }\n",
       "</style>\n",
       "<table border=\"1\" class=\"dataframe\">\n",
       "  <thead>\n",
       "    <tr style=\"text-align: right;\">\n",
       "      <th></th>\n",
       "      <th>percentual</th>\n",
       "    </tr>\n",
       "  </thead>\n",
       "  <tbody>\n",
       "    <tr>\n",
       "      <th>count</th>\n",
       "      <td>135.000000</td>\n",
       "    </tr>\n",
       "    <tr>\n",
       "      <th>mean</th>\n",
       "      <td>33.333333</td>\n",
       "    </tr>\n",
       "    <tr>\n",
       "      <th>std</th>\n",
       "      <td>24.418109</td>\n",
       "    </tr>\n",
       "    <tr>\n",
       "      <th>min</th>\n",
       "      <td>6.820809</td>\n",
       "    </tr>\n",
       "    <tr>\n",
       "      <th>25%</th>\n",
       "      <td>17.506213</td>\n",
       "    </tr>\n",
       "    <tr>\n",
       "      <th>50%</th>\n",
       "      <td>18.659957</td>\n",
       "    </tr>\n",
       "    <tr>\n",
       "      <th>75%</th>\n",
       "      <td>64.423419</td>\n",
       "    </tr>\n",
       "    <tr>\n",
       "      <th>max</th>\n",
       "      <td>73.265589</td>\n",
       "    </tr>\n",
       "  </tbody>\n",
       "</table>\n",
       "</div>"
      ],
      "text/plain": [
       "       percentual\n",
       "count  135.000000\n",
       "mean    33.333333\n",
       "std     24.418109\n",
       "min      6.820809\n",
       "25%     17.506213\n",
       "50%     18.659957\n",
       "75%     64.423419\n",
       "max     73.265589"
      ]
     },
     "execution_count": 33,
     "metadata": {},
     "output_type": "execute_result"
    }
   ],
   "source": [
    "df_id.describe()"
   ]
  },
  {
   "cell_type": "code",
   "execution_count": 34,
   "metadata": {
    "scrolled": false
   },
   "outputs": [
    {
     "data": {
      "text/plain": [
       "<matplotlib.axes._subplots.AxesSubplot at 0x2dac11ea488>"
      ]
     },
     "execution_count": 34,
     "metadata": {},
     "output_type": "execute_result"
    },
    {
     "data": {
      "image/png": "[encoded data removed]",
      "text/plain": [
       "<Figure size 432x288 with 1 Axes>"
      ]
     },
     "metadata": {
      "needs_background": "light"
     },
     "output_type": "display_data"
    }
   ],
   "source": [
    "# Anos = 2010:2018\n",
    "sns.barplot(data = df_id, y = 'percentual', x = 'faixa_etaria', hue = 'pais', palette = \"Set3\")"
   ]
  },
  {
   "cell_type": "code",
   "execution_count": 35,
   "metadata": {},
   "outputs": [],
   "source": [
    "# Ano = 2018\n",
    "#df_18 = df_id.loc[df_id['ano'] == '2018']\n",
    "#df_18"
   ]
  },
  {
   "cell_type": "code",
   "execution_count": 12,
   "metadata": {},
   "outputs": [],
   "source": [
    "#pop_df = dat.join(dat_id, lsuffix='_caller', rsuffix='_other')"
   ]
  },
  {
   "cell_type": "code",
   "execution_count": 13,
   "metadata": {
    "scrolled": true
   },
   "outputs": [],
   "source": [
    "# head df\n",
    "#pop_df"
   ]
  },
  {
   "cell_type": "code",
   "execution_count": 68,
   "metadata": {},
   "outputs": [],
   "source": [
    "#type(pop_df)"
   ]
  },
  {
   "cell_type": "markdown",
   "metadata": {},
   "source": [
    "### Educação\n",
    "\n",
    "Indcador:\n",
    "\n",
    "*SE.ADT.LITR.ZS : Literacy rate, adult total (% of people ages 15 and above)"
   ]
  },
  {
   "cell_type": "code",
   "execution_count": 36,
   "metadata": {},
   "outputs": [],
   "source": [
    "dat_ed = wb.download(indicator=['SE.ADT.LITR.ZS'], country=['USA', 'BRA', 'GBR', 'FRA', 'CHN'], start=2010, end=2018)"
   ]
  },
  {
   "cell_type": "code",
   "execution_count": 37,
   "metadata": {
    "scrolled": true
   },
   "outputs": [
    {
     "name": "stdout",
     "output_type": "stream",
     "text": [
      "<class 'pandas.core.frame.DataFrame'>\n",
      "MultiIndex: 45 entries, ('Brazil', '2018') to ('United States', '2010')\n",
      "Data columns (total 1 columns):\n",
      " #   Column          Non-Null Count  Dtype  \n",
      "---  ------          --------------  -----  \n",
      " 0   SE.ADT.LITR.ZS  11 non-null     float64\n",
      "dtypes: float64(1)\n",
      "memory usage: 671.0+ bytes\n"
     ]
    }
   ],
   "source": [
    "dat_ed.info()"
   ]
  },
  {
   "cell_type": "code",
   "execution_count": 38,
   "metadata": {},
   "outputs": [],
   "source": [
    "dat_ed = dat_ed.reset_index()\n",
    "dat_ed.columns = ['pais', 'ano', 'taxa_alfabet']"
   ]
  },
  {
   "cell_type": "code",
   "execution_count": 39,
   "metadata": {},
   "outputs": [
    {
     "data": {
      "text/html": [
       "<div>\n",
       "<style scoped>\n",
       "    .dataframe tbody tr th:only-of-type {\n",
       "        vertical-align: middle;\n",
       "    }\n",
       "\n",
       "    .dataframe tbody tr th {\n",
       "        vertical-align: top;\n",
       "    }\n",
       "\n",
       "    .dataframe thead th {\n",
       "        text-align: right;\n",
       "    }\n",
       "</style>\n",
       "<table border=\"1\" class=\"dataframe\">\n",
       "  <thead>\n",
       "    <tr style=\"text-align: right;\">\n",
       "      <th></th>\n",
       "      <th>pais</th>\n",
       "      <th>ano</th>\n",
       "      <th>taxa_alfabet</th>\n",
       "    </tr>\n",
       "  </thead>\n",
       "  <tbody>\n",
       "    <tr>\n",
       "      <th>0</th>\n",
       "      <td>Brazil</td>\n",
       "      <td>2018</td>\n",
       "      <td>93.22750</td>\n",
       "    </tr>\n",
       "    <tr>\n",
       "      <th>1</th>\n",
       "      <td>Brazil</td>\n",
       "      <td>2017</td>\n",
       "      <td>93.07582</td>\n",
       "    </tr>\n",
       "    <tr>\n",
       "      <th>2</th>\n",
       "      <td>Brazil</td>\n",
       "      <td>2016</td>\n",
       "      <td>92.80844</td>\n",
       "    </tr>\n",
       "    <tr>\n",
       "      <th>3</th>\n",
       "      <td>Brazil</td>\n",
       "      <td>2015</td>\n",
       "      <td>92.04790</td>\n",
       "    </tr>\n",
       "    <tr>\n",
       "      <th>4</th>\n",
       "      <td>Brazil</td>\n",
       "      <td>2014</td>\n",
       "      <td>91.72943</td>\n",
       "    </tr>\n",
       "    <tr>\n",
       "      <th>5</th>\n",
       "      <td>Brazil</td>\n",
       "      <td>2013</td>\n",
       "      <td>91.48424</td>\n",
       "    </tr>\n",
       "    <tr>\n",
       "      <th>6</th>\n",
       "      <td>Brazil</td>\n",
       "      <td>2012</td>\n",
       "      <td>91.33785</td>\n",
       "    </tr>\n",
       "    <tr>\n",
       "      <th>7</th>\n",
       "      <td>Brazil</td>\n",
       "      <td>2011</td>\n",
       "      <td>91.41124</td>\n",
       "    </tr>\n",
       "    <tr>\n",
       "      <th>8</th>\n",
       "      <td>Brazil</td>\n",
       "      <td>2010</td>\n",
       "      <td>90.37918</td>\n",
       "    </tr>\n",
       "    <tr>\n",
       "      <th>9</th>\n",
       "      <td>China</td>\n",
       "      <td>2018</td>\n",
       "      <td>96.84089</td>\n",
       "    </tr>\n",
       "    <tr>\n",
       "      <th>10</th>\n",
       "      <td>China</td>\n",
       "      <td>2017</td>\n",
       "      <td>NaN</td>\n",
       "    </tr>\n",
       "    <tr>\n",
       "      <th>11</th>\n",
       "      <td>China</td>\n",
       "      <td>2016</td>\n",
       "      <td>NaN</td>\n",
       "    </tr>\n",
       "    <tr>\n",
       "      <th>12</th>\n",
       "      <td>China</td>\n",
       "      <td>2015</td>\n",
       "      <td>NaN</td>\n",
       "    </tr>\n",
       "    <tr>\n",
       "      <th>13</th>\n",
       "      <td>China</td>\n",
       "      <td>2014</td>\n",
       "      <td>NaN</td>\n",
       "    </tr>\n",
       "    <tr>\n",
       "      <th>14</th>\n",
       "      <td>China</td>\n",
       "      <td>2013</td>\n",
       "      <td>NaN</td>\n",
       "    </tr>\n",
       "    <tr>\n",
       "      <th>15</th>\n",
       "      <td>China</td>\n",
       "      <td>2012</td>\n",
       "      <td>NaN</td>\n",
       "    </tr>\n",
       "    <tr>\n",
       "      <th>16</th>\n",
       "      <td>China</td>\n",
       "      <td>2011</td>\n",
       "      <td>NaN</td>\n",
       "    </tr>\n",
       "    <tr>\n",
       "      <th>17</th>\n",
       "      <td>China</td>\n",
       "      <td>2010</td>\n",
       "      <td>95.12448</td>\n",
       "    </tr>\n",
       "    <tr>\n",
       "      <th>18</th>\n",
       "      <td>France</td>\n",
       "      <td>2018</td>\n",
       "      <td>NaN</td>\n",
       "    </tr>\n",
       "    <tr>\n",
       "      <th>19</th>\n",
       "      <td>France</td>\n",
       "      <td>2017</td>\n",
       "      <td>NaN</td>\n",
       "    </tr>\n",
       "    <tr>\n",
       "      <th>20</th>\n",
       "      <td>France</td>\n",
       "      <td>2016</td>\n",
       "      <td>NaN</td>\n",
       "    </tr>\n",
       "    <tr>\n",
       "      <th>21</th>\n",
       "      <td>France</td>\n",
       "      <td>2015</td>\n",
       "      <td>NaN</td>\n",
       "    </tr>\n",
       "    <tr>\n",
       "      <th>22</th>\n",
       "      <td>France</td>\n",
       "      <td>2014</td>\n",
       "      <td>NaN</td>\n",
       "    </tr>\n",
       "    <tr>\n",
       "      <th>23</th>\n",
       "      <td>France</td>\n",
       "      <td>2013</td>\n",
       "      <td>NaN</td>\n",
       "    </tr>\n",
       "    <tr>\n",
       "      <th>24</th>\n",
       "      <td>France</td>\n",
       "      <td>2012</td>\n",
       "      <td>NaN</td>\n",
       "    </tr>\n",
       "    <tr>\n",
       "      <th>25</th>\n",
       "      <td>France</td>\n",
       "      <td>2011</td>\n",
       "      <td>NaN</td>\n",
       "    </tr>\n",
       "    <tr>\n",
       "      <th>26</th>\n",
       "      <td>France</td>\n",
       "      <td>2010</td>\n",
       "      <td>NaN</td>\n",
       "    </tr>\n",
       "    <tr>\n",
       "      <th>27</th>\n",
       "      <td>United Kingdom</td>\n",
       "      <td>2018</td>\n",
       "      <td>NaN</td>\n",
       "    </tr>\n",
       "    <tr>\n",
       "      <th>28</th>\n",
       "      <td>United Kingdom</td>\n",
       "      <td>2017</td>\n",
       "      <td>NaN</td>\n",
       "    </tr>\n",
       "    <tr>\n",
       "      <th>29</th>\n",
       "      <td>United Kingdom</td>\n",
       "      <td>2016</td>\n",
       "      <td>NaN</td>\n",
       "    </tr>\n",
       "    <tr>\n",
       "      <th>30</th>\n",
       "      <td>United Kingdom</td>\n",
       "      <td>2015</td>\n",
       "      <td>NaN</td>\n",
       "    </tr>\n",
       "    <tr>\n",
       "      <th>31</th>\n",
       "      <td>United Kingdom</td>\n",
       "      <td>2014</td>\n",
       "      <td>NaN</td>\n",
       "    </tr>\n",
       "    <tr>\n",
       "      <th>32</th>\n",
       "      <td>United Kingdom</td>\n",
       "      <td>2013</td>\n",
       "      <td>NaN</td>\n",
       "    </tr>\n",
       "    <tr>\n",
       "      <th>33</th>\n",
       "      <td>United Kingdom</td>\n",
       "      <td>2012</td>\n",
       "      <td>NaN</td>\n",
       "    </tr>\n",
       "    <tr>\n",
       "      <th>34</th>\n",
       "      <td>United Kingdom</td>\n",
       "      <td>2011</td>\n",
       "      <td>NaN</td>\n",
       "    </tr>\n",
       "    <tr>\n",
       "      <th>35</th>\n",
       "      <td>United Kingdom</td>\n",
       "      <td>2010</td>\n",
       "      <td>NaN</td>\n",
       "    </tr>\n",
       "    <tr>\n",
       "      <th>36</th>\n",
       "      <td>United States</td>\n",
       "      <td>2018</td>\n",
       "      <td>NaN</td>\n",
       "    </tr>\n",
       "    <tr>\n",
       "      <th>37</th>\n",
       "      <td>United States</td>\n",
       "      <td>2017</td>\n",
       "      <td>NaN</td>\n",
       "    </tr>\n",
       "    <tr>\n",
       "      <th>38</th>\n",
       "      <td>United States</td>\n",
       "      <td>2016</td>\n",
       "      <td>NaN</td>\n",
       "    </tr>\n",
       "    <tr>\n",
       "      <th>39</th>\n",
       "      <td>United States</td>\n",
       "      <td>2015</td>\n",
       "      <td>NaN</td>\n",
       "    </tr>\n",
       "    <tr>\n",
       "      <th>40</th>\n",
       "      <td>United States</td>\n",
       "      <td>2014</td>\n",
       "      <td>NaN</td>\n",
       "    </tr>\n",
       "    <tr>\n",
       "      <th>41</th>\n",
       "      <td>United States</td>\n",
       "      <td>2013</td>\n",
       "      <td>NaN</td>\n",
       "    </tr>\n",
       "    <tr>\n",
       "      <th>42</th>\n",
       "      <td>United States</td>\n",
       "      <td>2012</td>\n",
       "      <td>NaN</td>\n",
       "    </tr>\n",
       "    <tr>\n",
       "      <th>43</th>\n",
       "      <td>United States</td>\n",
       "      <td>2011</td>\n",
       "      <td>NaN</td>\n",
       "    </tr>\n",
       "    <tr>\n",
       "      <th>44</th>\n",
       "      <td>United States</td>\n",
       "      <td>2010</td>\n",
       "      <td>NaN</td>\n",
       "    </tr>\n",
       "  </tbody>\n",
       "</table>\n",
       "</div>"
      ],
      "text/plain": [
       "              pais   ano  taxa_alfabet\n",
       "0           Brazil  2018      93.22750\n",
       "1           Brazil  2017      93.07582\n",
       "2           Brazil  2016      92.80844\n",
       "3           Brazil  2015      92.04790\n",
       "4           Brazil  2014      91.72943\n",
       "5           Brazil  2013      91.48424\n",
       "6           Brazil  2012      91.33785\n",
       "7           Brazil  2011      91.41124\n",
       "8           Brazil  2010      90.37918\n",
       "9            China  2018      96.84089\n",
       "10           China  2017           NaN\n",
       "11           China  2016           NaN\n",
       "12           China  2015           NaN\n",
       "13           China  2014           NaN\n",
       "14           China  2013           NaN\n",
       "15           China  2012           NaN\n",
       "16           China  2011           NaN\n",
       "17           China  2010      95.12448\n",
       "18          France  2018           NaN\n",
       "19          France  2017           NaN\n",
       "20          France  2016           NaN\n",
       "21          France  2015           NaN\n",
       "22          France  2014           NaN\n",
       "23          France  2013           NaN\n",
       "24          France  2012           NaN\n",
       "25          France  2011           NaN\n",
       "26          France  2010           NaN\n",
       "27  United Kingdom  2018           NaN\n",
       "28  United Kingdom  2017           NaN\n",
       "29  United Kingdom  2016           NaN\n",
       "30  United Kingdom  2015           NaN\n",
       "31  United Kingdom  2014           NaN\n",
       "32  United Kingdom  2013           NaN\n",
       "33  United Kingdom  2012           NaN\n",
       "34  United Kingdom  2011           NaN\n",
       "35  United Kingdom  2010           NaN\n",
       "36   United States  2018           NaN\n",
       "37   United States  2017           NaN\n",
       "38   United States  2016           NaN\n",
       "39   United States  2015           NaN\n",
       "40   United States  2014           NaN\n",
       "41   United States  2013           NaN\n",
       "42   United States  2012           NaN\n",
       "43   United States  2011           NaN\n",
       "44   United States  2010           NaN"
      ]
     },
     "execution_count": 39,
     "metadata": {},
     "output_type": "execute_result"
    }
   ],
   "source": [
    "dat_ed"
   ]
  },
  {
   "cell_type": "code",
   "execution_count": 40,
   "metadata": {},
   "outputs": [
    {
     "data": {
      "text/html": [
       "<div>\n",
       "<style scoped>\n",
       "    .dataframe tbody tr th:only-of-type {\n",
       "        vertical-align: middle;\n",
       "    }\n",
       "\n",
       "    .dataframe tbody tr th {\n",
       "        vertical-align: top;\n",
       "    }\n",
       "\n",
       "    .dataframe thead th {\n",
       "        text-align: right;\n",
       "    }\n",
       "</style>\n",
       "<table border=\"1\" class=\"dataframe\">\n",
       "  <thead>\n",
       "    <tr style=\"text-align: right;\">\n",
       "      <th></th>\n",
       "      <th>taxa_alfabet</th>\n",
       "    </tr>\n",
       "  </thead>\n",
       "  <tbody>\n",
       "    <tr>\n",
       "      <th>count</th>\n",
       "      <td>11.000000</td>\n",
       "    </tr>\n",
       "    <tr>\n",
       "      <th>mean</th>\n",
       "      <td>92.678815</td>\n",
       "    </tr>\n",
       "    <tr>\n",
       "      <th>std</th>\n",
       "      <td>1.876147</td>\n",
       "    </tr>\n",
       "    <tr>\n",
       "      <th>min</th>\n",
       "      <td>90.379180</td>\n",
       "    </tr>\n",
       "    <tr>\n",
       "      <th>25%</th>\n",
       "      <td>91.447740</td>\n",
       "    </tr>\n",
       "    <tr>\n",
       "      <th>50%</th>\n",
       "      <td>92.047900</td>\n",
       "    </tr>\n",
       "    <tr>\n",
       "      <th>75%</th>\n",
       "      <td>93.151660</td>\n",
       "    </tr>\n",
       "    <tr>\n",
       "      <th>max</th>\n",
       "      <td>96.840890</td>\n",
       "    </tr>\n",
       "  </tbody>\n",
       "</table>\n",
       "</div>"
      ],
      "text/plain": [
       "       taxa_alfabet\n",
       "count     11.000000\n",
       "mean      92.678815\n",
       "std        1.876147\n",
       "min       90.379180\n",
       "25%       91.447740\n",
       "50%       92.047900\n",
       "75%       93.151660\n",
       "max       96.840890"
      ]
     },
     "execution_count": 40,
     "metadata": {},
     "output_type": "execute_result"
    }
   ],
   "source": [
    "dat_ed.describe()"
   ]
  },
  {
   "cell_type": "code",
   "execution_count": 41,
   "metadata": {
    "scrolled": true
   },
   "outputs": [
    {
     "data": {
      "text/plain": [
       "<matplotlib.axes._subplots.AxesSubplot at 0x2dac1027288>"
      ]
     },
     "execution_count": 41,
     "metadata": {},
     "output_type": "execute_result"
    },
    {
     "data": {
      "image/png": "[encoded data removed]",
      "text/plain": [
       "<Figure size 432x288 with 1 Axes>"
      ]
     },
     "metadata": {
      "needs_background": "light"
     },
     "output_type": "display_data"
    }
   ],
   "source": [
    "# Anos = 2010:2018\n",
    "sns.barplot(data = dat_ed, y = 'taxa_alfabet', x = 'pais', hue = 'pais', palette = \"Set3\")"
   ]
  },
  {
   "cell_type": "code",
   "execution_count": 42,
   "metadata": {
    "scrolled": true
   },
   "outputs": [
    {
     "data": {
      "text/plain": [
       "<matplotlib.axes._subplots.AxesSubplot at 0x2dac0eb5088>"
      ]
     },
     "execution_count": 42,
     "metadata": {},
     "output_type": "execute_result"
    },
    {
     "data": {
      "image/png": "[encoded data removed]",
      "text/plain": [
       "<Figure size 432x288 with 1 Axes>"
      ]
     },
     "metadata": {
      "needs_background": "light"
     },
     "output_type": "display_data"
    }
   ],
   "source": [
    "sns.distplot(dat_ed['taxa_alfabet'], hist=True, kde=False, bins=int(20),color = 'blue')"
   ]
  },
  {
   "cell_type": "markdown",
   "metadata": {},
   "source": [
    "### GDP and Rural %"
   ]
  },
  {
   "cell_type": "code",
   "execution_count": 5,
   "metadata": {},
   "outputs": [],
   "source": [
    "# GDP growth (annual %)\n",
    "## NY.GDP.MKTP.KD.ZG\n",
    "\n",
    "# pop growth (%)\n",
    "## SP.POP.GROW\n",
    "\n",
    "# pop female:\n",
    "##SP.POP.TOTL.FE.IN\n",
    "\n",
    "# pop female %:\n",
    "## SP.POP.TOTL.FE.ZS\n",
    "\n",
    "# pop male:\n",
    "## SP.POP.TOTL.MA.IN\n",
    "\n",
    "# pop male%:\n",
    "## SP.POP.TOTL.MA.ZS\n",
    "dat = wb.download(indicator=['SP.POP.TOTL','SP.POP.GROW','SP.POP.TOTL.FE.IN','SP.POP.TOTL.FE.ZS','SP.POP.TOTL.MA.IN','SP.POP.TOTL.MA.ZS'], country=['USA', 'BRA', 'GBR', 'FRA', 'CHN'], start=2010, end=2018)"
   ]
  }
 ],
 "metadata": {
  "hide_input": false,
  "kernelspec": {
   "display_name": "Python 3",
   "language": "python",
   "name": "python3"
  },
  "language_info": {
   "codemirror_mode": {
    "name": "ipython",
    "version": 3
   },
   "file_extension": ".py",
   "mimetype": "text/x-python",
   "name": "python",
   "nbconvert_exporter": "python",
   "pygments_lexer": "ipython3",
   "version": "3.7.6"
  }
 },
 "nbformat": 4,
 "nbformat_minor": 2
}
