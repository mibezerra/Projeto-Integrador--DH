{
 "cells": [
  {
   "cell_type": "code",
   "execution_count": 2,
   "metadata": {},
   "outputs": [],
   "source": [
    "from rake_nltk import Rake\n",
    "import nltk\n",
    "import pandas as pd\n",
    "import numpy as np\n",
    "from sklearn.metrics.pairwise import cosine_similarity\n",
    "from sklearn.feature_extraction.text import CountVectorizer\n",
    "import warnings\n",
    "import string\n",
    "warnings.filterwarnings(\"ignore\")"
   ]
  },
  {
   "cell_type": "code",
   "execution_count": 3,
   "metadata": {
    "scrolled": true
   },
   "outputs": [],
   "source": [
    "df_csv = pd.read_csv('C:/Users/camil/Desktop/Projeto Integrador/dados/final.csv')"
   ]
  },
  {
   "cell_type": "code",
   "execution_count": 5,
   "metadata": {},
   "outputs": [
    {
     "data": {
      "text/html": [
       "<div>\n",
       "<style scoped>\n",
       "    .dataframe tbody tr th:only-of-type {\n",
       "        vertical-align: middle;\n",
       "    }\n",
       "\n",
       "    .dataframe tbody tr th {\n",
       "        vertical-align: top;\n",
       "    }\n",
       "\n",
       "    .dataframe thead th {\n",
       "        text-align: right;\n",
       "    }\n",
       "</style>\n",
       "<table border=\"1\" class=\"dataframe\">\n",
       "  <thead>\n",
       "    <tr style=\"text-align: right;\">\n",
       "      <th></th>\n",
       "      <th>Unnamed: 0</th>\n",
       "      <th>tconst</th>\n",
       "      <th>primaryTitle</th>\n",
       "      <th>startYear</th>\n",
       "      <th>runtimeMinutes</th>\n",
       "      <th>genre_1</th>\n",
       "      <th>genre_2</th>\n",
       "      <th>genre_3</th>\n",
       "      <th>Item</th>\n",
       "      <th>Mês</th>\n",
       "      <th>...</th>\n",
       "      <th>directors_2_films</th>\n",
       "      <th>directors_1_ratingAverage</th>\n",
       "      <th>directors_2_ratingAverage</th>\n",
       "      <th>writer_1_films</th>\n",
       "      <th>writer_2_films</th>\n",
       "      <th>writer_1_ratingAverage</th>\n",
       "      <th>writer_2_ratingAverage</th>\n",
       "      <th>AvgRating</th>\n",
       "      <th>numFilmes</th>\n",
       "      <th>num_crew</th>\n",
       "    </tr>\n",
       "  </thead>\n",
       "  <tbody>\n",
       "    <tr>\n",
       "      <th>0</th>\n",
       "      <td>66398</td>\n",
       "      <td>tt0118589</td>\n",
       "      <td>Glitter</td>\n",
       "      <td>2001</td>\n",
       "      <td>104</td>\n",
       "      <td>Drama</td>\n",
       "      <td>Music</td>\n",
       "      <td>Romance</td>\n",
       "      <td>3947</td>\n",
       "      <td>Setembro</td>\n",
       "      <td>...</td>\n",
       "      <td>0</td>\n",
       "      <td>6.90</td>\n",
       "      <td>NaN</td>\n",
       "      <td>0</td>\n",
       "      <td>1</td>\n",
       "      <td>NaN</td>\n",
       "      <td>6.900000</td>\n",
       "      <td>5.800000</td>\n",
       "      <td>0.25</td>\n",
       "      <td>10</td>\n",
       "    </tr>\n",
       "    <tr>\n",
       "      <th>1</th>\n",
       "      <td>67605</td>\n",
       "      <td>tt0120681</td>\n",
       "      <td>From Hell</td>\n",
       "      <td>2001</td>\n",
       "      <td>122</td>\n",
       "      <td>Horror</td>\n",
       "      <td>Mystery</td>\n",
       "      <td>Thriller</td>\n",
       "      <td>1732</td>\n",
       "      <td>Outubro</td>\n",
       "      <td>...</td>\n",
       "      <td>3</td>\n",
       "      <td>7.31</td>\n",
       "      <td>7.31</td>\n",
       "      <td>0</td>\n",
       "      <td>0</td>\n",
       "      <td>NaN</td>\n",
       "      <td>NaN</td>\n",
       "      <td>6.258212</td>\n",
       "      <td>1.00</td>\n",
       "      <td>10</td>\n",
       "    </tr>\n",
       "    <tr>\n",
       "      <th>2</th>\n",
       "      <td>67642</td>\n",
       "      <td>tt0120737</td>\n",
       "      <td>The Lord of the Rings: The Fellowship of the Ring</td>\n",
       "      <td>2001</td>\n",
       "      <td>178</td>\n",
       "      <td>Action</td>\n",
       "      <td>Adventure</td>\n",
       "      <td>Drama</td>\n",
       "      <td>356</td>\n",
       "      <td>Dezembro</td>\n",
       "      <td>...</td>\n",
       "      <td>0</td>\n",
       "      <td>7.16</td>\n",
       "      <td>NaN</td>\n",
       "      <td>0</td>\n",
       "      <td>4</td>\n",
       "      <td>NaN</td>\n",
       "      <td>7.262979</td>\n",
       "      <td>6.533333</td>\n",
       "      <td>0.75</td>\n",
       "      <td>10</td>\n",
       "    </tr>\n",
       "    <tr>\n",
       "      <th>3</th>\n",
       "      <td>67655</td>\n",
       "      <td>tt0120755</td>\n",
       "      <td>Mission: Impossible II</td>\n",
       "      <td>2000</td>\n",
       "      <td>123</td>\n",
       "      <td>Action</td>\n",
       "      <td>Adventure</td>\n",
       "      <td>Thriller</td>\n",
       "      <td>297</td>\n",
       "      <td>Maio</td>\n",
       "      <td>...</td>\n",
       "      <td>0</td>\n",
       "      <td>7.11</td>\n",
       "      <td>NaN</td>\n",
       "      <td>3</td>\n",
       "      <td>0</td>\n",
       "      <td>7.099574</td>\n",
       "      <td>NaN</td>\n",
       "      <td>NaN</td>\n",
       "      <td>0.00</td>\n",
       "      <td>10</td>\n",
       "    </tr>\n",
       "    <tr>\n",
       "      <th>4</th>\n",
       "      <td>68298</td>\n",
       "      <td>tt0122459</td>\n",
       "      <td>Return to Me</td>\n",
       "      <td>2000</td>\n",
       "      <td>115</td>\n",
       "      <td>Comedy</td>\n",
       "      <td>Drama</td>\n",
       "      <td>Romance</td>\n",
       "      <td>2404</td>\n",
       "      <td>Abril</td>\n",
       "      <td>...</td>\n",
       "      <td>0</td>\n",
       "      <td>NaN</td>\n",
       "      <td>NaN</td>\n",
       "      <td>0</td>\n",
       "      <td>0</td>\n",
       "      <td>NaN</td>\n",
       "      <td>NaN</td>\n",
       "      <td>NaN</td>\n",
       "      <td>0.00</td>\n",
       "      <td>10</td>\n",
       "    </tr>\n",
       "  </tbody>\n",
       "</table>\n",
       "<p>5 rows × 67 columns</p>\n",
       "</div>"
      ],
      "text/plain": [
       "   Unnamed: 0     tconst                                       primaryTitle  \\\n",
       "0       66398  tt0118589                                            Glitter   \n",
       "1       67605  tt0120681                                          From Hell   \n",
       "2       67642  tt0120737  The Lord of the Rings: The Fellowship of the Ring   \n",
       "3       67655  tt0120755                             Mission: Impossible II   \n",
       "4       68298  tt0122459                                       Return to Me   \n",
       "\n",
       "   startYear  runtimeMinutes genre_1    genre_2   genre_3  Item       Mês  \\\n",
       "0       2001             104   Drama      Music   Romance  3947  Setembro   \n",
       "1       2001             122  Horror    Mystery  Thriller  1732   Outubro   \n",
       "2       2001             178  Action  Adventure     Drama   356  Dezembro   \n",
       "3       2000             123  Action  Adventure  Thriller   297      Maio   \n",
       "4       2000             115  Comedy      Drama   Romance  2404     Abril   \n",
       "\n",
       "   ...  directors_2_films  directors_1_ratingAverage  \\\n",
       "0  ...                  0                       6.90   \n",
       "1  ...                  3                       7.31   \n",
       "2  ...                  0                       7.16   \n",
       "3  ...                  0                       7.11   \n",
       "4  ...                  0                        NaN   \n",
       "\n",
       "   directors_2_ratingAverage writer_1_films  writer_2_films  \\\n",
       "0                        NaN              0               1   \n",
       "1                       7.31              0               0   \n",
       "2                        NaN              0               4   \n",
       "3                        NaN              3               0   \n",
       "4                        NaN              0               0   \n",
       "\n",
       "   writer_1_ratingAverage  writer_2_ratingAverage  AvgRating  numFilmes  \\\n",
       "0                     NaN                6.900000   5.800000       0.25   \n",
       "1                     NaN                     NaN   6.258212       1.00   \n",
       "2                     NaN                7.262979   6.533333       0.75   \n",
       "3                7.099574                     NaN        NaN       0.00   \n",
       "4                     NaN                     NaN        NaN       0.00   \n",
       "\n",
       "  num_crew  \n",
       "0       10  \n",
       "1       10  \n",
       "2       10  \n",
       "3       10  \n",
       "4       10  \n",
       "\n",
       "[5 rows x 67 columns]"
      ]
     },
     "execution_count": 5,
     "metadata": {},
     "output_type": "execute_result"
    }
   ],
   "source": [
    "df_csv.head()"
   ]
  },
  {
   "cell_type": "code",
   "execution_count": 4,
   "metadata": {
    "scrolled": true
   },
   "outputs": [
    {
     "name": "stdout",
     "output_type": "stream",
     "text": [
      "<class 'pandas.core.frame.DataFrame'>\n",
      "RangeIndex: 1490 entries, 0 to 1489\n",
      "Data columns (total 67 columns):\n",
      " #   Column                                Non-Null Count  Dtype  \n",
      "---  ------                                --------------  -----  \n",
      " 0   Unnamed: 0                            1490 non-null   int64  \n",
      " 1   tconst                                1490 non-null   object \n",
      " 2   primaryTitle                          1490 non-null   object \n",
      " 3   startYear                             1490 non-null   int64  \n",
      " 4   runtimeMinutes                        1490 non-null   int64  \n",
      " 5   genre_1                               1490 non-null   object \n",
      " 6   genre_2                               1373 non-null   object \n",
      " 7   genre_3                               997 non-null    object \n",
      " 8   Item                                  1490 non-null   int64  \n",
      " 9   Mês                                   1490 non-null   object \n",
      " 10  month                                 1490 non-null   float64\n",
      " 11  day                                   1490 non-null   float64\n",
      " 12  year                                  1490 non-null   int64  \n",
      " 13  Data Portugues                        1490 non-null   object \n",
      " 14  FW                                    1490 non-null   int64  \n",
      " 15  Worldwide_Gross                       1490 non-null   float64\n",
      " 16  Production_Budget                     1490 non-null   float64\n",
      " 17  rentability                           1490 non-null   float64\n",
      " 18  log_rentability                       1490 non-null   float64\n",
      " 19  rating                                1490 non-null   object \n",
      " 20  movie_info                            1490 non-null   object \n",
      " 21  on_streaming_date                     1482 non-null   object \n",
      " 22  studio_name                           1485 non-null   object \n",
      " 23  tomatometer_status                    1490 non-null   object \n",
      " 24  tomatometer_rating                    1490 non-null   float64\n",
      " 25  tomatometer_count                     1490 non-null   int64  \n",
      " 26  audience_status                       1490 non-null   object \n",
      " 27  audience_want_to_see_count            1490 non-null   int64  \n",
      " 28  audience_rating                       1490 non-null   float64\n",
      " 29  audience_count                        1490 non-null   float64\n",
      " 30  audience_top_critics_count            1490 non-null   int64  \n",
      " 31  audience_fresh_critics_count          1490 non-null   int64  \n",
      " 32  audience_rotten_critics_count         1490 non-null   int64  \n",
      " 33  audience_fresh_top_critics_count      1490 non-null   int64  \n",
      " 34  audience_rotten_rotten_critics_count  1490 non-null   int64  \n",
      " 35  tomatometer_avg_rating                1490 non-null   float64\n",
      " 36  audience_top_critics_avg_rating       1490 non-null   float64\n",
      " 37  score_sentiment                       1490 non-null   object \n",
      " 38  audience_avg_rating                   1490 non-null   float64\n",
      " 39  Negative                              1490 non-null   int64  \n",
      " 40  Positive                              1490 non-null   int64  \n",
      " 41  All                                   1490 non-null   int64  \n",
      " 42  negative_perc                         1490 non-null   float64\n",
      " 43  positive_perc                         1490 non-null   float64\n",
      " 44  NPremium_Indicado                     1490 non-null   int64  \n",
      " 45  NPremium_Win                          1490 non-null   int64  \n",
      " 46  Premium_Indicado                      1490 non-null   int64  \n",
      " 47  Premium_Win                           1490 non-null   int64  \n",
      " 48  movieyear                             1490 non-null   object \n",
      " 49  averageRating                         1490 non-null   float64\n",
      " 50  numVotes                              1490 non-null   int64  \n",
      " 51  directors_1                           1490 non-null   object \n",
      " 52  directors_2                           128 non-null    object \n",
      " 53  writers_1                             1490 non-null   object \n",
      " 54  writers_2                             1074 non-null   object \n",
      " 55  rating_num                            1490 non-null   float64\n",
      " 56  directors_1_films                     1490 non-null   int64  \n",
      " 57  directors_2_films                     1490 non-null   int64  \n",
      " 58  directors_1_ratingAverage             1234 non-null   float64\n",
      " 59  directors_2_ratingAverage             78 non-null     float64\n",
      " 60  writer_1_films                        1490 non-null   int64  \n",
      " 61  writer_2_films                        1490 non-null   int64  \n",
      " 62  writer_1_ratingAverage                1024 non-null   float64\n",
      " 63  writer_2_ratingAverage                660 non-null    float64\n",
      " 64  AvgRating                             1362 non-null   float64\n",
      " 65  numFilmes                             1490 non-null   float64\n",
      " 66  num_crew                              1490 non-null   int64  \n",
      "dtypes: float64(22), int64(26), object(19)\n",
      "memory usage: 780.0+ KB\n"
     ]
    }
   ],
   "source": [
    "df_csv.info()"
   ]
  },
  {
   "cell_type": "code",
   "execution_count": 8,
   "metadata": {},
   "outputs": [
    {
     "data": {
      "text/plain": [
       "Index(['Unnamed: 0', 'tconst', 'primaryTitle', 'startYear', 'runtimeMinutes',\n",
       "       'genre_1', 'genre_2', 'genre_3', 'Item', 'Mês', 'month', 'day', 'year',\n",
       "       'Data Portugues', 'FW', 'Worldwide_Gross', 'Production_Budget',\n",
       "       'rentability', 'log_rentability', 'rating', 'movie_info',\n",
       "       'on_streaming_date', 'studio_name', 'tomatometer_status',\n",
       "       'tomatometer_rating', 'tomatometer_count', 'audience_status',\n",
       "       'audience_want_to_see_count', 'audience_rating', 'audience_count',\n",
       "       'audience_top_critics_count', 'audience_fresh_critics_count',\n",
       "       'audience_rotten_critics_count', 'audience_fresh_top_critics_count',\n",
       "       'audience_rotten_rotten_critics_count', 'tomatometer_avg_rating',\n",
       "       'audience_top_critics_avg_rating', 'score_sentiment',\n",
       "       'audience_avg_rating', 'Negative', 'Positive', 'All', 'negative_perc',\n",
       "       'positive_perc', 'NPremium_Indicado', 'NPremium_Win',\n",
       "       'Premium_Indicado', 'Premium_Win', 'movieyear', 'averageRating',\n",
       "       'numVotes', 'directors_1', 'directors_2', 'writers_1', 'writers_2',\n",
       "       'rating_num', 'directors_1_films', 'directors_2_films',\n",
       "       'directors_1_ratingAverage', 'directors_2_ratingAverage',\n",
       "       'writer_1_films', 'writer_2_films', 'writer_1_ratingAverage',\n",
       "       'writer_2_ratingAverage', 'AvgRating', 'numFilmes', 'num_crew'],\n",
       "      dtype='object')"
      ]
     },
     "execution_count": 8,
     "metadata": {},
     "output_type": "execute_result"
    }
   ],
   "source": [
    "df_csv.columns"
   ]
  },
  {
   "cell_type": "code",
   "execution_count": 9,
   "metadata": {},
   "outputs": [],
   "source": [
    "# criar copias dos dois datasets para manipular os dados\n",
    "df = df_csv.copy()\n",
    "#df2 = dfx.copy()\n",
    "\n",
    "# excluir linhas repetidas\n",
    "df.drop_duplicates(subset = 'movie_info', inplace = True)\n",
    "\n",
    "# selecionar colunas de interesse dos dois datasets\n",
    "df = df[['primaryTitle', 'movie_info']]\n",
    "#df2 = df_eda[['primaryTitle','movie_name_imdb']]\n",
    "\n",
    "# excluir missing values\n",
    "df.dropna(inplace=True)\n",
    "\n",
    "# juntar os dois datasets\n",
    "#df.append(df2, ignore_index=True)"
   ]
  },
  {
   "cell_type": "code",
   "execution_count": 10,
   "metadata": {},
   "outputs": [],
   "source": [
    "# remoção da pontuação de 'Plot'\n",
    "df['movie_info'] = df['movie_info'].str.replace('[{}]'.format(string.punctuation), '')"
   ]
  },
  {
   "cell_type": "code",
   "execution_count": 5,
   "metadata": {
    "scrolled": true
   },
   "outputs": [],
   "source": [
    " # inicialização das lista que será a nova coluna\n",
    "df['Key_words'] = ''  \n",
    "\n",
    "# instanciação do objeto do Rake para descartar as 'stop words' (baseado naquilo que está no NLTK)\n",
    "r = Rake()\n",
    "\n",
    "for index, row in df.iterrows():\n",
    "    # extração das key words - que já remove as 'stop words' do texto\n",
    "    r.extract_keywords_from_text(row['movie_info'])   \n",
    "    # dicionário com as key words e scores\n",
    "    key_words_dict_scores = r.get_word_degrees()    \n",
    "    # nova coluna que será inserida\n",
    "    row['Key_words'] = list(key_words_dict_scores.keys())   "
   ]
  },
  {
   "cell_type": "code",
   "execution_count": 6,
   "metadata": {
    "scrolled": true
   },
   "outputs": [],
   "source": [
    "'''# to extract all genre into a list, only the first three actors into a list, and all directors into a list\n",
    "df['genres'] = df['genres'].map(lambda x: x.split(','))\n",
    "df['directors'] = df['directors'].map(lambda x: x.split(','))\n",
    "df['casts'] = df['casts'].map(lambda x: x.split(',')[:3])'''"
   ]
  },
  {
   "cell_type": "code",
   "execution_count": 7,
   "metadata": {
    "scrolled": true
   },
   "outputs": [],
   "source": [
    "'''# Retirada dos espaços dos campos e conversão para minúsculas\n",
    "for index, row in df.iterrows():\n",
    "    row['genres'] = [x.lower().replace(' ','') for x in row['genres']] \n",
    "    row['casts'] = [x.lower().replace(' ','') for x in row['casts']]\n",
    "    row['directors'] = [x.lower().replace(' ','') for x in row['directors']]'''"
   ]
  },
  {
   "cell_type": "code",
   "execution_count": 8,
   "metadata": {},
   "outputs": [],
   "source": [
    "# inicialização da lista\n",
    "df['Bag_of_words'] = ''\n",
    "# colunas que farão parte da Bag of Words\n",
    "#columns = ['genres', 'directors', 'casts', 'Key_words']\n",
    "columns = [ 'Key_words']\n",
    "# percorre cada coluna e adiciona cada palavra individualmente\n",
    "for index, row in df.iterrows():\n",
    "    words = ''\n",
    "    for col in columns:\n",
    "        words += ' '.join(row[col]) + ' '\n",
    "    row['Bag_of_words'] = words"
   ]
  },
  {
   "cell_type": "code",
   "execution_count": 9,
   "metadata": {
    "scrolled": true
   },
   "outputs": [],
   "source": [
    "# remoção dos \"espaços\" de todas as palavras na BoW\n",
    "df['Bag_of_words'] = df['Bag_of_words'].str.strip().str.replace('   ', ' ').str.replace('  ', ' ')"
   ]
  },
  {
   "cell_type": "code",
   "execution_count": 36,
   "metadata": {},
   "outputs": [
    {
     "data": {
      "text/plain": [
       "1263"
      ]
     },
     "execution_count": 36,
     "metadata": {},
     "output_type": "execute_result"
    }
   ],
   "source": [
    "len(df)"
   ]
  },
  {
   "cell_type": "code",
   "execution_count": 37,
   "metadata": {},
   "outputs": [
    {
     "data": {
      "text/plain": [
       "1263"
      ]
     },
     "execution_count": 37,
     "metadata": {},
     "output_type": "execute_result"
    }
   ],
   "source": [
    "len(df_bag)"
   ]
  },
  {
   "cell_type": "code",
   "execution_count": 11,
   "metadata": {},
   "outputs": [],
   "source": [
    "df_bag = df[['movie_name_imdb','Bag_of_words']]"
   ]
  },
  {
   "cell_type": "code",
   "execution_count": 12,
   "metadata": {},
   "outputs": [],
   "source": [
    "# Geração da Matriz com a frequência de cada palavra com filme 250 x quantidade total de palavras únicas\n",
    "count = CountVectorizer()\n",
    "count_matrix = count.fit_transform(df_bag['Bag_of_words'])"
   ]
  },
  {
   "cell_type": "code",
   "execution_count": 13,
   "metadata": {},
   "outputs": [],
   "source": [
    "cosine_sim = cosine_similarity(count_matrix, count_matrix)"
   ]
  },
  {
   "cell_type": "code",
   "execution_count": 41,
   "metadata": {},
   "outputs": [],
   "source": [
    "df_bag.reset_index(inplace = True)"
   ]
  },
  {
   "cell_type": "code",
   "execution_count": 42,
   "metadata": {},
   "outputs": [],
   "source": [
    "# to create a Series for movie titles which can be used as indices (each index is mapped to a movie title)\n",
    "indices = pd.Series(df_bag['movie_name_imdb'])"
   ]
  },
  {
   "cell_type": "code",
   "execution_count": 39,
   "metadata": {},
   "outputs": [],
   "source": [
    "idx = indices[indices == 'Liz and the Blue Bird'].index[0] "
   ]
  },
  {
   "cell_type": "code",
   "execution_count": 43,
   "metadata": {},
   "outputs": [],
   "source": [
    "def recommend(title, cosine_sim = cosine_sim):\n",
    "    # inicialização da lista\n",
    "    recommended_movies = []\n",
    "    # captura o índice que corresponde ao título\n",
    "    idx = indices[indices == title].index[0]   \n",
    "    # scores de similaridade em ordem descendente\n",
    "    score_series = pd.Series(cosine_sim[idx]).sort_values(ascending = False)   \n",
    "    # captura os 10 filmes com o maior índice de similaridade\n",
    "    top_10_indices = list(score_series.iloc[1:11].index)   \n",
    "    # [1:11] para excluir o primeiro (0) que é o próprio filme selecionado\n",
    "    \n",
    "    # monta uma lista com os filmes retornados\n",
    "    for i in top_10_indices:   \n",
    "        recommended_movies.append(list(df_bag['movie_name_imdb'])[i])\n",
    "        \n",
    "    return recommended_movies"
   ]
  },
  {
   "cell_type": "code",
   "execution_count": 44,
   "metadata": {},
   "outputs": [
    {
     "data": {
      "text/plain": [
       "array(['The Notebook', 'Miracle', 'Elf', ..., 'Bullitt County',\n",
       "       'Liz and the Blue Bird', 'Eve'], dtype=object)"
      ]
     },
     "execution_count": 44,
     "metadata": {},
     "output_type": "execute_result"
    }
   ],
   "source": [
    "df_bag.movie_name_imdb.unique()"
   ]
  },
  {
   "cell_type": "code",
   "execution_count": 45,
   "metadata": {},
   "outputs": [],
   "source": [
    "filme = recommend(\"Liz and the Blue Bird\")\n",
    "\n",
    "# recomendacao para o filme que sera produzido\n",
    "#filme = recommend(df2.movie_name)"
   ]
  },
  {
   "cell_type": "code",
   "execution_count": 56,
   "metadata": {
    "scrolled": true
   },
   "outputs": [
    {
     "data": {
      "text/plain": [
       "['The Miracle Season',\n",
       " 'Tape',\n",
       " 'Peter and Vandy',\n",
       " 'Forever My Girl',\n",
       " 'The English Teacher',\n",
       " 'Miss You Already',\n",
       " 'Annapolis',\n",
       " 'Lost and Delirious',\n",
       " 'Dumb and Dumberer: When Harry Met Lloyd',\n",
       " 'Cloaca']"
      ]
     },
     "execution_count": 56,
     "metadata": {},
     "output_type": "execute_result"
    }
   ],
   "source": [
    "filme"
   ]
  },
  {
   "cell_type": "code",
   "execution_count": null,
   "metadata": {},
   "outputs": [],
   "source": [
    "#imdb\n",
    "#analise de sentimento\n",
    "# negative_perc\n",
    "# positive_perc\n",
    "#nota total e n de votos\n",
    "#numvotos\n",
    "#AvgRating"
   ]
  },
  {
   "cell_type": "code",
   "execution_count": 57,
   "metadata": {},
   "outputs": [],
   "source": [
    "df_rec = df_csv[df_csv.movie_name_imdb.isin(filme)]"
   ]
  },
  {
   "cell_type": "code",
   "execution_count": 18,
   "metadata": {},
   "outputs": [
    {
     "name": "stdout",
     "output_type": "stream",
     "text": [
      "5.373870967741938\n",
      "0.0\n",
      "6.64\n"
     ]
    }
   ],
   "source": [
    "print(float(df_csv.tomatometer_avg_rating[df_csv.movie_name_imdb.isin(filme)].mean()))\n",
    "print(float(df_csv.tomatometer_avg_rating[df_csv.movie_name_imdb.isin(filme)].min()))\n",
    "print(float(df_csv.tomatometer_avg_rating[df_csv.movie_name_imdb.isin(filme)].max()))\n",
    "\n",
    "# pegar a rating_avg desse filme mais proximo e salvar como uma nova coluna para o filme a ser feito\n",
    "#df_x['rating_avg'] = float(df_csv.tomatometer_avg_rating[df_csv.movie_name_imdb.isin(filme)].mean())\n",
    "#df_x['rating_min'] = float(df_csv.tomatometer_avg_rating[df_csv.movie_name_imdb.isin(filme)].min())\n",
    "#df_x['rating_max'] = float(df_csv.tomatometer_avg_rating[df_csv.movie_name_imdb.isin(filme)].max())"
   ]
  }
 ],
 "metadata": {
  "hide_input": false,
  "kernelspec": {
   "display_name": "Python 3",
   "language": "python",
   "name": "python3"
  },
  "language_info": {
   "codemirror_mode": {
    "name": "ipython",
    "version": 3
   },
   "file_extension": ".py",
   "mimetype": "text/x-python",
   "name": "python",
   "nbconvert_exporter": "python",
   "pygments_lexer": "ipython3",
   "version": "3.7.6"
  },
  "toc": {
   "base_numbering": 1,
   "nav_menu": {},
   "number_sections": true,
   "sideBar": true,
   "skip_h1_title": false,
   "title_cell": "Table of Contents",
   "title_sidebar": "Contents",
   "toc_cell": false,
   "toc_position": {
    "height": "calc(100% - 180px)",
    "left": "10px",
    "top": "150px",
    "width": "165px"
   },
   "toc_section_display": true,
   "toc_window_display": true
  }
 },
 "nbformat": 4,
 "nbformat_minor": 2
}
