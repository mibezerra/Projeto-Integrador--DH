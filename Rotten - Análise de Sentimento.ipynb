{
 "cells": [
  {
   "cell_type": "markdown",
   "metadata": {},
   "source": [
    "## Rotten Tomatoes\n",
    "\n",
    "### Rotten Review"
   ]
  },
  {
   "cell_type": "code",
   "execution_count": 2,
   "metadata": {},
   "outputs": [],
   "source": [
    "# importar bibliotecas\n",
    "import pandas as pd\n",
    "import seaborn as sns\n",
    "import matplotlib.pyplot as plt\n",
    "%matplotlib inline\n",
    "import numpy as np\n",
    "import statsmodels.formula.api as smf"
   ]
  },
  {
   "cell_type": "code",
   "execution_count": 3,
   "metadata": {},
   "outputs": [],
   "source": [
    "# abrir df\n",
    "df_rotten = pd.read_csv('C:/Users/camil/Desktop/Projeto Integrador/dados/rt_movie_info.csv', encoding = 'latin1', engine = 'python', delimiter = ',')"
   ]
  },
  {
   "cell_type": "code",
   "execution_count": 4,
   "metadata": {},
   "outputs": [],
   "source": [
    "# remover linhas duplicadas\n",
    "df_rotten.drop_duplicates(subset =\"movie_name\", \n",
    "                     keep = False, inplace = True)"
   ]
  },
  {
   "cell_type": "code",
   "execution_count": 8,
   "metadata": {
    "scrolled": false
   },
   "outputs": [
    {
     "name": "stdout",
     "output_type": "stream",
     "text": [
      "Agora o dataset tem: 11313 filmes\n"
     ]
    }
   ],
   "source": [
    "print(\"Agora o dataset tem:\", df_rotten.shape[0], \"filmes\")"
   ]
  },
  {
   "cell_type": "code",
   "execution_count": 10,
   "metadata": {},
   "outputs": [],
   "source": [
    "df_rotten.rename(columns = {'movie_link': 'movie_id'}, inplace = True)"
   ]
  },
  {
   "cell_type": "markdown",
   "metadata": {},
   "source": [
    "### Rotten Review"
   ]
  },
  {
   "cell_type": "code",
   "execution_count": 9,
   "metadata": {},
   "outputs": [],
   "source": [
    "review_rt = pd.read_csv('C:/Users/camil/Desktop/Projeto Integrador/dados/rt_movie_review.csv')"
   ]
  },
  {
   "cell_type": "markdown",
   "metadata": {},
   "source": [
    "## Análise de Sentimento\n",
    "\n",
    "https://hub.packtpub.com/how-to-perform-sentiment-analysis-using-python-tutorial/"
   ]
  },
  {
   "cell_type": "code",
   "execution_count": 14,
   "metadata": {},
   "outputs": [],
   "source": [
    "import nltk.classify.util\n",
    "from nltk.classify import NaiveBayesClassifier\n",
    "from nltk.corpus import movie_reviews"
   ]
  },
  {
   "cell_type": "code",
   "execution_count": 15,
   "metadata": {},
   "outputs": [],
   "source": [
    "def extract_features(word_list):\n",
    "    return dict([(word, True) for word in word_list])"
   ]
  },
  {
   "cell_type": "code",
   "execution_count": 16,
   "metadata": {},
   "outputs": [],
   "source": [
    "if __name__=='__main__':\n",
    "   # Load positive and negative reviews  \n",
    "   positive_fileids = movie_reviews.fileids('pos')\n",
    "   negative_fileids = movie_reviews.fileids('neg')"
   ]
  },
  {
   "cell_type": "code",
   "execution_count": 17,
   "metadata": {},
   "outputs": [],
   "source": [
    "features_positive = [(extract_features(movie_reviews.words(fileids=[f])), 'Positive') \n",
    "                     for f in positive_fileids]\n",
    "features_negative = [(extract_features(movie_reviews.words(fileids=[f])), 'Negative') \n",
    "                     for f in negative_fileids]"
   ]
  },
  {
   "cell_type": "code",
   "execution_count": 18,
   "metadata": {},
   "outputs": [],
   "source": [
    "# Split the data into train and test (80/20)\n",
    "threshold_factor = 0.8\n",
    "threshold_positive = int(threshold_factor * len(features_positive))\n",
    "threshold_negative = int(threshold_factor * len(features_negative))"
   ]
  },
  {
   "cell_type": "code",
   "execution_count": 19,
   "metadata": {
    "scrolled": true
   },
   "outputs": [],
   "source": [
    "features_train = features_positive[:threshold_positive] + features_negative[:threshold_negative]\n",
    "#features_test = features_positive[threshold_positive:] + features_negative[threshold_negative:]   "
   ]
  },
  {
   "cell_type": "code",
   "execution_count": 20,
   "metadata": {},
   "outputs": [],
   "source": [
    "features_test = features_positive[threshold_positive:] + features_negative[threshold_negative:]"
   ]
  },
  {
   "cell_type": "code",
   "execution_count": 21,
   "metadata": {
    "scrolled": true
   },
   "outputs": [
    {
     "data": {
      "text/plain": [
       "0.735"
      ]
     },
     "execution_count": 21,
     "metadata": {},
     "output_type": "execute_result"
    }
   ],
   "source": [
    "# Train a Naive Bayes classifier\n",
    "classifier = NaiveBayesClassifier.train(features_train)\n",
    "nltk.classify.util.accuracy(classifier, features_test)"
   ]
  },
  {
   "cell_type": "code",
   "execution_count": 23,
   "metadata": {},
   "outputs": [],
   "source": [
    "df_review = review_rt.dropna(subset = ['review_content'])\n",
    "input_reviews = review_rt.review_content"
   ]
  },
  {
   "cell_type": "code",
   "execution_count": 24,
   "metadata": {},
   "outputs": [
    {
     "data": {
      "text/plain": [
       "(431962, 8)"
      ]
     },
     "execution_count": 24,
     "metadata": {},
     "output_type": "execute_result"
    }
   ],
   "source": [
    "df_review.shape"
   ]
  },
  {
   "cell_type": "code",
   "execution_count": 25,
   "metadata": {
    "scrolled": true
   },
   "outputs": [
    {
     "name": "stdout",
     "output_type": "stream",
     "text": [
      "\n",
      "Predictions:\n",
      "\n",
      "Review: Has more belly laughs than 10 studio-produced, star-vehicle comedies.\n",
      "Predicted sentiment: Negative\n",
      "Probability: 0.73\n",
      "\n",
      "Review: Calling this story about a quirky high-school student from a dysfunctional family who lives in a goofy small town a one-joke movie is exaggerating by a factor of 10.\n",
      "Predicted sentiment: Positive\n",
      "Probability: 0.94\n",
      "\n",
      "Review: There are lots of laughs for those who enjoy the sight of bottom dwellers doing stupid things that make them look even more idiotic.\n",
      "Predicted sentiment: Negative\n",
      "Probability: 0.71\n",
      "\n",
      "Review: For those who think there'e nothing funnier than yokels acting like idiots for 90 minutes straight.\n",
      "Predicted sentiment: Negative\n",
      "Probability: 0.98\n",
      "\n",
      "Review: We laugh at all the nerdy behavior in the movie, and there's a reason that's OK: Because, deep down, we know we are all nerds.\n",
      "Predicted sentiment: Negative\n",
      "Probability: 0.75\n",
      "\n",
      "Review: He makes Geekus Hollywoodium -- always played by someone such as Ben Stiller, whom we know to be fundamentally cool beneath his nerdy veneer -- look like the fraudulent genus we know it to be.\n",
      "Predicted sentiment: Negative\n",
      "Probability: 0.71\n",
      "\n",
      "Review: An independent take on a Hollywood tradition, undermined by its cliches but saved by its performances.\n",
      "Predicted sentiment: Negative\n",
      "Probability: 0.7\n",
      "\n",
      "Review: May be the most condescending comedy ever to imagine itself being too cool for the room.\n",
      "Predicted sentiment: Positive\n",
      "Probability: 0.67\n",
      "\n",
      "Review: This is basically a collection of hit-and-miss skits that are stumbling around in search of a story line.\n",
      "Predicted sentiment: Positive\n",
      "Probability: 0.75\n",
      "\n",
      "Review: Hess and Heder allow Napoleon to remain his geeky self from beginning to end, a guy who -- like his movie -- dares to be different and succeeds.\n",
      "Predicted sentiment: Positive\n",
      "Probability: 0.59\n",
      "\n",
      "Review: A giant inside joke for those who know the peculiarities of rural Idaho.\n",
      "Predicted sentiment: Positive\n",
      "Probability: 0.93\n",
      "\n",
      "Review: Imagine an out-there cartoon and watching it spring to live-action on the big screen.\n",
      "Predicted sentiment: Negative\n",
      "Probability: 0.6\n",
      "\n",
      "Review: The film runs the risk of devolving into a live-action cartoon. That it never does is a credit to the Hess' strong screenplay and to the actors.\n",
      "Predicted sentiment: Positive\n",
      "Probability: 0.9\n",
      "\n",
      "Review: Each actor perfectly compliments the Hess's original brand of humor that keep steady giggles bubbling from the audience, inspiring frequent bursts of uproarious laughter.\n",
      "Predicted sentiment: Positive\n",
      "Probability: 0.99\n",
      "\n",
      "Review: A gloriously quirky, hysterically funny ode to rural dullness that is probably the fairest, most accurate film representation that Preston, Idaho, will ever get.\n",
      "Predicted sentiment: Positive\n",
      "Probability: 1.0\n",
      "\n",
      "Review: The joke is always the same, and even the most easily amused may grow weary of that sameness.\n",
      "Predicted sentiment: Positive\n",
      "Probability: 0.91\n",
      "\n",
      "Review: You'll laugh till it hurts.\n",
      "Predicted sentiment: Negative\n",
      "Probability: 0.53\n",
      "\n",
      "Review: The most fascinating outcast since Harold and Maude. Trouble is, Harold and Maude were going someplace; their story had a direction.\n",
      "Predicted sentiment: Positive\n",
      "Probability: 0.83\n",
      "\n",
      "Review: Funny enough that I'll refrain from describing the gags that made me laugh, lest I spoil them for you.\n",
      "Predicted sentiment: Negative\n",
      "Probability: 0.83\n",
      "\n",
      "Review: nan\n"
     ]
    },
    {
     "ename": "AttributeError",
     "evalue": "'float' object has no attribute 'split'",
     "output_type": "error",
     "traceback": [
      "\u001b[1;31m---------------------------------------------------------------------------\u001b[0m",
      "\u001b[1;31mAttributeError\u001b[0m                            Traceback (most recent call last)",
      "\u001b[1;32m<ipython-input-25-35aa3041ad64>\u001b[0m in \u001b[0;36m<module>\u001b[1;34m\u001b[0m\n\u001b[0;32m      2\u001b[0m \u001b[1;32mfor\u001b[0m \u001b[0mreview\u001b[0m \u001b[1;32min\u001b[0m \u001b[0minput_reviews\u001b[0m\u001b[1;33m:\u001b[0m\u001b[1;33m\u001b[0m\u001b[1;33m\u001b[0m\u001b[0m\n\u001b[0;32m      3\u001b[0m         \u001b[0mprint\u001b[0m\u001b[1;33m(\u001b[0m\u001b[1;34m\"\\nReview:\"\u001b[0m\u001b[1;33m,\u001b[0m \u001b[0mreview\u001b[0m\u001b[1;33m)\u001b[0m\u001b[1;33m\u001b[0m\u001b[1;33m\u001b[0m\u001b[0m\n\u001b[1;32m----> 4\u001b[1;33m         \u001b[0mprobdist\u001b[0m \u001b[1;33m=\u001b[0m \u001b[0mclassifier\u001b[0m\u001b[1;33m.\u001b[0m\u001b[0mprob_classify\u001b[0m\u001b[1;33m(\u001b[0m\u001b[0mextract_features\u001b[0m\u001b[1;33m(\u001b[0m\u001b[0mreview\u001b[0m\u001b[1;33m.\u001b[0m\u001b[0msplit\u001b[0m\u001b[1;33m(\u001b[0m\u001b[1;33m)\u001b[0m\u001b[1;33m)\u001b[0m\u001b[1;33m)\u001b[0m\u001b[1;33m\u001b[0m\u001b[1;33m\u001b[0m\u001b[0m\n\u001b[0m\u001b[0;32m      5\u001b[0m         \u001b[0mpred_sentiment\u001b[0m \u001b[1;33m=\u001b[0m \u001b[0mprobdist\u001b[0m\u001b[1;33m.\u001b[0m\u001b[0mmax\u001b[0m\u001b[1;33m(\u001b[0m\u001b[1;33m)\u001b[0m\u001b[1;33m\u001b[0m\u001b[1;33m\u001b[0m\u001b[0m\n\u001b[0;32m      6\u001b[0m         \u001b[0mprint\u001b[0m\u001b[1;33m(\u001b[0m\u001b[1;34m\"Predicted sentiment:\"\u001b[0m\u001b[1;33m,\u001b[0m \u001b[0mpred_sentiment\u001b[0m\u001b[1;33m)\u001b[0m\u001b[1;33m\u001b[0m\u001b[1;33m\u001b[0m\u001b[0m\n",
      "\u001b[1;31mAttributeError\u001b[0m: 'float' object has no attribute 'split'"
     ]
    }
   ],
   "source": [
    "print(\"\\nPredictions:\")\n",
    "for review in input_reviews:\n",
    "        print(\"\\nReview:\", review)\n",
    "        probdist = classifier.prob_classify(extract_features(review.split()))\n",
    "        pred_sentiment = probdist.max()\n",
    "        print(\"Predicted sentiment:\", pred_sentiment)\n",
    "        print(\"Probability:\", round(probdist.prob(pred_sentiment), 2))"
   ]
  },
  {
   "cell_type": "code",
   "execution_count": 26,
   "metadata": {
    "scrolled": true
   },
   "outputs": [
    {
     "name": "stdout",
     "output_type": "stream",
     "text": [
      "Predicted sentiment:\n",
      "Probability:\n"
     ]
    },
    {
     "data": {
      "text/plain": [
       "(None, 0.83)"
      ]
     },
     "execution_count": 26,
     "metadata": {},
     "output_type": "execute_result"
    }
   ],
   "source": [
    "print(\"Predicted sentiment:\"), pred_sentiment \n",
    "print(\"Probability:\"), round(probdist.prob(pred_sentiment), 2)"
   ]
  },
  {
   "cell_type": "code",
   "execution_count": 27,
   "metadata": {},
   "outputs": [
    {
     "name": "stderr",
     "output_type": "stream",
     "text": [
      "C:\\Users\\camil\\anaconda3\\lib\\site-packages\\ipykernel_launcher.py:7: SettingWithCopyWarning: \n",
      "A value is trying to be set on a copy of a slice from a DataFrame.\n",
      "Try using .loc[row_indexer,col_indexer] = value instead\n",
      "\n",
      "See the caveats in the documentation: https://pandas.pydata.org/pandas-docs/stable/user_guide/indexing.html#returning-a-view-versus-a-copy\n",
      "  import sys\n"
     ]
    }
   ],
   "source": [
    "pred_sentiment = [] \n",
    "\n",
    "for review in df_review.review_content:\n",
    "        probdist = classifier.prob_classify(extract_features(review.split()))\n",
    "        pred_sentiment.append(probdist.max())\n",
    "       \n",
    "df_review['pred_sentiment'] = pred_sentiment  "
   ]
  },
  {
   "cell_type": "code",
   "execution_count": 28,
   "metadata": {
    "scrolled": true
   },
   "outputs": [
    {
     "data": {
      "text/plain": [
       "Positive    311304\n",
       "Negative    120658\n",
       "Name: pred_sentiment, dtype: int64"
      ]
     },
     "execution_count": 28,
     "metadata": {},
     "output_type": "execute_result"
    }
   ],
   "source": [
    "df_review.pred_sentiment.value_counts()"
   ]
  },
  {
   "cell_type": "code",
   "execution_count": 29,
   "metadata": {
    "scrolled": false
   },
   "outputs": [
    {
     "data": {
      "text/html": [
       "<div>\n",
       "<style scoped>\n",
       "    .dataframe tbody tr th:only-of-type {\n",
       "        vertical-align: middle;\n",
       "    }\n",
       "\n",
       "    .dataframe tbody tr th {\n",
       "        vertical-align: top;\n",
       "    }\n",
       "\n",
       "    .dataframe thead th {\n",
       "        text-align: right;\n",
       "    }\n",
       "</style>\n",
       "<table border=\"1\" class=\"dataframe\">\n",
       "  <thead>\n",
       "    <tr style=\"text-align: right;\">\n",
       "      <th></th>\n",
       "      <th>movie_link</th>\n",
       "      <th>movie_id</th>\n",
       "      <th>review_date</th>\n",
       "      <th>critic_publication</th>\n",
       "      <th>critic_icon</th>\n",
       "      <th>critic_top</th>\n",
       "      <th>critic_score</th>\n",
       "      <th>review_content</th>\n",
       "      <th>pred_sentiment</th>\n",
       "    </tr>\n",
       "  </thead>\n",
       "  <tbody>\n",
       "    <tr>\n",
       "      <th>0</th>\n",
       "      <td>https://www.rottentomatoes.com/m/napoleon_dyna...</td>\n",
       "      <td>/m/10007</td>\n",
       "      <td>01/07/2004</td>\n",
       "      <td>Arizona Republic</td>\n",
       "      <td>fresh</td>\n",
       "      <td>Top Critic</td>\n",
       "      <td>4/5</td>\n",
       "      <td>Has more belly laughs than 10 studio-produced,...</td>\n",
       "      <td>Negative</td>\n",
       "    </tr>\n",
       "    <tr>\n",
       "      <th>1</th>\n",
       "      <td>https://www.rottentomatoes.com/m/napoleon_dyna...</td>\n",
       "      <td>/m/10007</td>\n",
       "      <td>01/07/2004</td>\n",
       "      <td>Minneapolis Star Tribune</td>\n",
       "      <td>rotten</td>\n",
       "      <td>Top Critic</td>\n",
       "      <td>0.5/4</td>\n",
       "      <td>Calling this story about a quirky high-school ...</td>\n",
       "      <td>Positive</td>\n",
       "    </tr>\n",
       "    <tr>\n",
       "      <th>2</th>\n",
       "      <td>https://www.rottentomatoes.com/m/napoleon_dyna...</td>\n",
       "      <td>/m/10007</td>\n",
       "      <td>02/06/2004</td>\n",
       "      <td>Variety</td>\n",
       "      <td>rotten</td>\n",
       "      <td>Top Critic</td>\n",
       "      <td>NaN</td>\n",
       "      <td>There are lots of laughs for those who enjoy t...</td>\n",
       "      <td>Negative</td>\n",
       "    </tr>\n",
       "    <tr>\n",
       "      <th>3</th>\n",
       "      <td>https://www.rottentomatoes.com/m/napoleon_dyna...</td>\n",
       "      <td>/m/10007</td>\n",
       "      <td>02/06/2004</td>\n",
       "      <td>Slant Magazine</td>\n",
       "      <td>rotten</td>\n",
       "      <td>NaN</td>\n",
       "      <td>.5/4</td>\n",
       "      <td>For those who think there'e nothing funnier th...</td>\n",
       "      <td>Negative</td>\n",
       "    </tr>\n",
       "    <tr>\n",
       "      <th>4</th>\n",
       "      <td>https://www.rottentomatoes.com/m/napoleon_dyna...</td>\n",
       "      <td>/m/10007</td>\n",
       "      <td>02/07/2004</td>\n",
       "      <td>St. Paul Pioneer Press</td>\n",
       "      <td>fresh</td>\n",
       "      <td>NaN</td>\n",
       "      <td>3.5/4</td>\n",
       "      <td>We laugh at all the nerdy behavior in the movi...</td>\n",
       "      <td>Negative</td>\n",
       "    </tr>\n",
       "  </tbody>\n",
       "</table>\n",
       "</div>"
      ],
      "text/plain": [
       "                                          movie_link  movie_id review_date  \\\n",
       "0  https://www.rottentomatoes.com/m/napoleon_dyna...  /m/10007  01/07/2004   \n",
       "1  https://www.rottentomatoes.com/m/napoleon_dyna...  /m/10007  01/07/2004   \n",
       "2  https://www.rottentomatoes.com/m/napoleon_dyna...  /m/10007  02/06/2004   \n",
       "3  https://www.rottentomatoes.com/m/napoleon_dyna...  /m/10007  02/06/2004   \n",
       "4  https://www.rottentomatoes.com/m/napoleon_dyna...  /m/10007  02/07/2004   \n",
       "\n",
       "         critic_publication critic_icon  critic_top critic_score  \\\n",
       "0          Arizona Republic       fresh  Top Critic          4/5   \n",
       "1  Minneapolis Star Tribune      rotten  Top Critic        0.5/4   \n",
       "2                   Variety      rotten  Top Critic          NaN   \n",
       "3            Slant Magazine      rotten         NaN         .5/4   \n",
       "4    St. Paul Pioneer Press       fresh         NaN        3.5/4   \n",
       "\n",
       "                                      review_content pred_sentiment  \n",
       "0  Has more belly laughs than 10 studio-produced,...       Negative  \n",
       "1  Calling this story about a quirky high-school ...       Positive  \n",
       "2  There are lots of laughs for those who enjoy t...       Negative  \n",
       "3  For those who think there'e nothing funnier th...       Negative  \n",
       "4  We laugh at all the nerdy behavior in the movi...       Negative  "
      ]
     },
     "execution_count": 29,
     "metadata": {},
     "output_type": "execute_result"
    }
   ],
   "source": [
    "df_review.head()"
   ]
  },
  {
   "cell_type": "code",
   "execution_count": 30,
   "metadata": {},
   "outputs": [],
   "source": [
    "df_group = pd.pivot_table(df_review, \n",
    "                      values='movie_link', \n",
    "                      index='movie_id', \n",
    "                      columns='pred_sentiment',\n",
    "                      aggfunc='count',\n",
    "                      margins = 'True',\n",
    "                      fill_value = 0)"
   ]
  },
  {
   "cell_type": "code",
   "execution_count": 31,
   "metadata": {
    "scrolled": true
   },
   "outputs": [
    {
     "data": {
      "text/html": [
       "<div>\n",
       "<style scoped>\n",
       "    .dataframe tbody tr th:only-of-type {\n",
       "        vertical-align: middle;\n",
       "    }\n",
       "\n",
       "    .dataframe tbody tr th {\n",
       "        vertical-align: top;\n",
       "    }\n",
       "\n",
       "    .dataframe thead th {\n",
       "        text-align: right;\n",
       "    }\n",
       "</style>\n",
       "<table border=\"1\" class=\"dataframe\">\n",
       "  <thead>\n",
       "    <tr style=\"text-align: right;\">\n",
       "      <th>pred_sentiment</th>\n",
       "      <th>Negative</th>\n",
       "      <th>Positive</th>\n",
       "      <th>All</th>\n",
       "    </tr>\n",
       "    <tr>\n",
       "      <th>movie_id</th>\n",
       "      <th></th>\n",
       "      <th></th>\n",
       "      <th></th>\n",
       "    </tr>\n",
       "  </thead>\n",
       "  <tbody>\n",
       "    <tr>\n",
       "      <th>/m/10007</th>\n",
       "      <td>55</td>\n",
       "      <td>115</td>\n",
       "      <td>170</td>\n",
       "    </tr>\n",
       "    <tr>\n",
       "      <th>/m/10010</th>\n",
       "      <td>17</td>\n",
       "      <td>24</td>\n",
       "      <td>41</td>\n",
       "    </tr>\n",
       "    <tr>\n",
       "      <th>/m/10014</th>\n",
       "      <td>49</td>\n",
       "      <td>207</td>\n",
       "      <td>256</td>\n",
       "    </tr>\n",
       "    <tr>\n",
       "      <th>/m/10015</th>\n",
       "      <td>56</td>\n",
       "      <td>120</td>\n",
       "      <td>176</td>\n",
       "    </tr>\n",
       "    <tr>\n",
       "      <th>/m/10016</th>\n",
       "      <td>74</td>\n",
       "      <td>98</td>\n",
       "      <td>172</td>\n",
       "    </tr>\n",
       "  </tbody>\n",
       "</table>\n",
       "</div>"
      ],
      "text/plain": [
       "pred_sentiment  Negative  Positive  All\n",
       "movie_id                               \n",
       "/m/10007              55       115  170\n",
       "/m/10010              17        24   41\n",
       "/m/10014              49       207  256\n",
       "/m/10015              56       120  176\n",
       "/m/10016              74        98  172"
      ]
     },
     "execution_count": 31,
     "metadata": {},
     "output_type": "execute_result"
    }
   ],
   "source": [
    "df_group.head()"
   ]
  },
  {
   "cell_type": "code",
   "execution_count": 32,
   "metadata": {},
   "outputs": [],
   "source": [
    "#calcular sentimento %\n",
    "df_group['negative_perc'] = df_group['Negative'] / df_group['All'] * 100\n",
    "df_group['positive_perc'] = df_group['Positive'] / df_group['All'] * 100"
   ]
  },
  {
   "cell_type": "code",
   "execution_count": 33,
   "metadata": {
    "scrolled": true
   },
   "outputs": [
    {
     "data": {
      "text/html": [
       "<div>\n",
       "<style scoped>\n",
       "    .dataframe tbody tr th:only-of-type {\n",
       "        vertical-align: middle;\n",
       "    }\n",
       "\n",
       "    .dataframe tbody tr th {\n",
       "        vertical-align: top;\n",
       "    }\n",
       "\n",
       "    .dataframe thead th {\n",
       "        text-align: right;\n",
       "    }\n",
       "</style>\n",
       "<table border=\"1\" class=\"dataframe\">\n",
       "  <thead>\n",
       "    <tr style=\"text-align: right;\">\n",
       "      <th>pred_sentiment</th>\n",
       "      <th>Negative</th>\n",
       "      <th>Positive</th>\n",
       "      <th>All</th>\n",
       "      <th>negative_perc</th>\n",
       "      <th>positive_perc</th>\n",
       "    </tr>\n",
       "    <tr>\n",
       "      <th>movie_id</th>\n",
       "      <th></th>\n",
       "      <th></th>\n",
       "      <th></th>\n",
       "      <th></th>\n",
       "      <th></th>\n",
       "    </tr>\n",
       "  </thead>\n",
       "  <tbody>\n",
       "    <tr>\n",
       "      <th>/m/10007</th>\n",
       "      <td>55</td>\n",
       "      <td>115</td>\n",
       "      <td>170</td>\n",
       "      <td>32.352941</td>\n",
       "      <td>67.647059</td>\n",
       "    </tr>\n",
       "    <tr>\n",
       "      <th>/m/10010</th>\n",
       "      <td>17</td>\n",
       "      <td>24</td>\n",
       "      <td>41</td>\n",
       "      <td>41.463415</td>\n",
       "      <td>58.536585</td>\n",
       "    </tr>\n",
       "    <tr>\n",
       "      <th>/m/10014</th>\n",
       "      <td>49</td>\n",
       "      <td>207</td>\n",
       "      <td>256</td>\n",
       "      <td>19.140625</td>\n",
       "      <td>80.859375</td>\n",
       "    </tr>\n",
       "    <tr>\n",
       "      <th>/m/10015</th>\n",
       "      <td>56</td>\n",
       "      <td>120</td>\n",
       "      <td>176</td>\n",
       "      <td>31.818182</td>\n",
       "      <td>68.181818</td>\n",
       "    </tr>\n",
       "    <tr>\n",
       "      <th>/m/10016</th>\n",
       "      <td>74</td>\n",
       "      <td>98</td>\n",
       "      <td>172</td>\n",
       "      <td>43.023256</td>\n",
       "      <td>56.976744</td>\n",
       "    </tr>\n",
       "  </tbody>\n",
       "</table>\n",
       "</div>"
      ],
      "text/plain": [
       "pred_sentiment  Negative  Positive  All  negative_perc  positive_perc\n",
       "movie_id                                                             \n",
       "/m/10007              55       115  170      32.352941      67.647059\n",
       "/m/10010              17        24   41      41.463415      58.536585\n",
       "/m/10014              49       207  256      19.140625      80.859375\n",
       "/m/10015              56       120  176      31.818182      68.181818\n",
       "/m/10016              74        98  172      43.023256      56.976744"
      ]
     },
     "execution_count": 33,
     "metadata": {},
     "output_type": "execute_result"
    }
   ],
   "source": [
    "df_group.head()"
   ]
  },
  {
   "cell_type": "code",
   "execution_count": 39,
   "metadata": {},
   "outputs": [],
   "source": [
    "## right join os dois datasets do rotten tomatoes\n",
    "rotten_df = df_group.merge(df_rotten, on = 'movie_id', how = 'right')"
   ]
  },
  {
   "cell_type": "code",
   "execution_count": 40,
   "metadata": {},
   "outputs": [
    {
     "data": {
      "text/plain": [
       "(11313, 36)"
      ]
     },
     "execution_count": 40,
     "metadata": {},
     "output_type": "execute_result"
    }
   ],
   "source": [
    "rotten_df.shape"
   ]
  },
  {
   "cell_type": "code",
   "execution_count": 41,
   "metadata": {},
   "outputs": [],
   "source": [
    "rotten_df.to_csv('rotten.csv',index=False)"
   ]
  },
  {
   "cell_type": "code",
   "execution_count": 42,
   "metadata": {},
   "outputs": [],
   "source": [
    "df_group.to_csv('critica.csv', index = False)"
   ]
  }
 ],
 "metadata": {
  "hide_input": false,
  "kernelspec": {
   "display_name": "Python 3",
   "language": "python",
   "name": "python3"
  },
  "language_info": {
   "codemirror_mode": {
    "name": "ipython",
    "version": 3
   },
   "file_extension": ".py",
   "mimetype": "text/x-python",
   "name": "python",
   "nbconvert_exporter": "python",
   "pygments_lexer": "ipython3",
   "version": "3.7.6"
  },
  "toc": {
   "base_numbering": 1,
   "nav_menu": {},
   "number_sections": true,
   "sideBar": true,
   "skip_h1_title": false,
   "title_cell": "Table of Contents",
   "title_sidebar": "Contents",
   "toc_cell": false,
   "toc_position": {
    "height": "calc(100% - 180px)",
    "left": "10px",
    "top": "150px",
    "width": "165px"
   },
   "toc_section_display": true,
   "toc_window_display": true
  }
 },
 "nbformat": 4,
 "nbformat_minor": 4
}
