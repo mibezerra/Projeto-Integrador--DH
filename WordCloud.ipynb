{
 "cells": [
  {
   "cell_type": "markdown",
   "metadata": {},
   "source": [
    "## Plot WordCloud\n"
   ]
  },
  {
   "cell_type": "code",
   "execution_count": 1,
   "metadata": {},
   "outputs": [],
   "source": [
    "#open libraries\n",
    "import pandas as pd\n",
    "import seaborn as sns\n",
    "import matplotlib.pyplot as plt\n",
    "%matplotlib inline\n",
    "import numpy as np"
   ]
  },
  {
   "cell_type": "code",
   "execution_count": null,
   "metadata": {},
   "outputs": [],
   "source": [
    "https://towardsdatascience.com/can-we-predict-rotten-tomatoes-ratings-8b5f5b7d7eff"
   ]
  },
  {
   "cell_type": "code",
   "execution_count": 119,
   "metadata": {},
   "outputs": [],
   "source": [
    "movies =  pd.read_csv('https://raw.githubusercontent.com/idc9/stor390/master/data/movies.csv')"
   ]
  },
  {
   "cell_type": "code",
   "execution_count": 123,
   "metadata": {},
   "outputs": [
    {
     "data": {
      "text/plain": [
       "count     651.000000\n",
       "mean     1997.941628\n",
       "std        10.974501\n",
       "min      1970.000000\n",
       "25%      1990.000000\n",
       "50%      2000.000000\n",
       "75%      2007.000000\n",
       "max      2014.000000\n",
       "Name: thtr_rel_year, dtype: float64"
      ]
     },
     "execution_count": 123,
     "metadata": {},
     "output_type": "execute_result"
    }
   ],
   "source": [
    "movies.thtr_rel_year.describe()"
   ]
  },
  {
   "cell_type": "code",
   "execution_count": 120,
   "metadata": {
    "scrolled": true
   },
   "outputs": [
    {
     "data": {
      "text/html": [
       "<div>\n",
       "<style scoped>\n",
       "    .dataframe tbody tr th:only-of-type {\n",
       "        vertical-align: middle;\n",
       "    }\n",
       "\n",
       "    .dataframe tbody tr th {\n",
       "        vertical-align: top;\n",
       "    }\n",
       "\n",
       "    .dataframe thead th {\n",
       "        text-align: right;\n",
       "    }\n",
       "</style>\n",
       "<table border=\"1\" class=\"dataframe\">\n",
       "  <thead>\n",
       "    <tr style=\"text-align: right;\">\n",
       "      <th></th>\n",
       "      <th>title</th>\n",
       "      <th>title_type</th>\n",
       "      <th>genre</th>\n",
       "      <th>runtime</th>\n",
       "      <th>mpaa_rating</th>\n",
       "      <th>studio</th>\n",
       "      <th>thtr_rel_year</th>\n",
       "      <th>thtr_rel_month</th>\n",
       "      <th>thtr_rel_day</th>\n",
       "      <th>dvd_rel_year</th>\n",
       "      <th>...</th>\n",
       "      <th>best_dir_win</th>\n",
       "      <th>top200_box</th>\n",
       "      <th>director</th>\n",
       "      <th>actor1</th>\n",
       "      <th>actor2</th>\n",
       "      <th>actor3</th>\n",
       "      <th>actor4</th>\n",
       "      <th>actor5</th>\n",
       "      <th>imdb_url</th>\n",
       "      <th>rt_url</th>\n",
       "    </tr>\n",
       "  </thead>\n",
       "  <tbody>\n",
       "    <tr>\n",
       "      <th>0</th>\n",
       "      <td>Filly Brown</td>\n",
       "      <td>Feature Film</td>\n",
       "      <td>Drama</td>\n",
       "      <td>80.0</td>\n",
       "      <td>R</td>\n",
       "      <td>Indomina Media Inc.</td>\n",
       "      <td>2013.0</td>\n",
       "      <td>4.0</td>\n",
       "      <td>19.0</td>\n",
       "      <td>2013.0</td>\n",
       "      <td>...</td>\n",
       "      <td>no</td>\n",
       "      <td>no</td>\n",
       "      <td>Michael D. Olmos</td>\n",
       "      <td>Gina Rodriguez</td>\n",
       "      <td>Jenni Rivera</td>\n",
       "      <td>Lou Diamond Phillips</td>\n",
       "      <td>Emilio Rivera</td>\n",
       "      <td>Joseph Julian Soria</td>\n",
       "      <td>http://www.imdb.com/title/tt1869425/</td>\n",
       "      <td>//www.rottentomatoes.com/m/filly_brown_2012/</td>\n",
       "    </tr>\n",
       "    <tr>\n",
       "      <th>1</th>\n",
       "      <td>The Dish</td>\n",
       "      <td>Feature Film</td>\n",
       "      <td>Drama</td>\n",
       "      <td>101.0</td>\n",
       "      <td>PG-13</td>\n",
       "      <td>Warner Bros. Pictures</td>\n",
       "      <td>2001.0</td>\n",
       "      <td>3.0</td>\n",
       "      <td>14.0</td>\n",
       "      <td>2001.0</td>\n",
       "      <td>...</td>\n",
       "      <td>no</td>\n",
       "      <td>no</td>\n",
       "      <td>Rob Sitch</td>\n",
       "      <td>Sam Neill</td>\n",
       "      <td>Kevin Harrington</td>\n",
       "      <td>Patrick Warburton</td>\n",
       "      <td>Tom Long</td>\n",
       "      <td>Genevieve Mooy</td>\n",
       "      <td>http://www.imdb.com/title/tt0205873/</td>\n",
       "      <td>//www.rottentomatoes.com/m/dish/</td>\n",
       "    </tr>\n",
       "    <tr>\n",
       "      <th>2</th>\n",
       "      <td>Waiting for Guffman</td>\n",
       "      <td>Feature Film</td>\n",
       "      <td>Comedy</td>\n",
       "      <td>84.0</td>\n",
       "      <td>R</td>\n",
       "      <td>Sony Pictures Classics</td>\n",
       "      <td>1996.0</td>\n",
       "      <td>8.0</td>\n",
       "      <td>21.0</td>\n",
       "      <td>2001.0</td>\n",
       "      <td>...</td>\n",
       "      <td>no</td>\n",
       "      <td>no</td>\n",
       "      <td>Christopher Guest</td>\n",
       "      <td>Christopher Guest</td>\n",
       "      <td>Catherine O'Hara</td>\n",
       "      <td>Parker Posey</td>\n",
       "      <td>Eugene Levy</td>\n",
       "      <td>Bob Balaban</td>\n",
       "      <td>http://www.imdb.com/title/tt0118111/</td>\n",
       "      <td>//www.rottentomatoes.com/m/waiting_for_guffman/</td>\n",
       "    </tr>\n",
       "    <tr>\n",
       "      <th>3</th>\n",
       "      <td>The Age of Innocence</td>\n",
       "      <td>Feature Film</td>\n",
       "      <td>Drama</td>\n",
       "      <td>139.0</td>\n",
       "      <td>PG</td>\n",
       "      <td>Columbia Pictures</td>\n",
       "      <td>1993.0</td>\n",
       "      <td>10.0</td>\n",
       "      <td>1.0</td>\n",
       "      <td>2001.0</td>\n",
       "      <td>...</td>\n",
       "      <td>yes</td>\n",
       "      <td>no</td>\n",
       "      <td>Martin Scorsese</td>\n",
       "      <td>Daniel Day-Lewis</td>\n",
       "      <td>Michelle Pfeiffer</td>\n",
       "      <td>Winona Ryder</td>\n",
       "      <td>Richard E. Grant</td>\n",
       "      <td>Alec McCowen</td>\n",
       "      <td>http://www.imdb.com/title/tt0106226/</td>\n",
       "      <td>//www.rottentomatoes.com/m/age_of_innocence/</td>\n",
       "    </tr>\n",
       "    <tr>\n",
       "      <th>4</th>\n",
       "      <td>Malevolence</td>\n",
       "      <td>Feature Film</td>\n",
       "      <td>Horror</td>\n",
       "      <td>90.0</td>\n",
       "      <td>R</td>\n",
       "      <td>Anchor Bay Entertainment</td>\n",
       "      <td>2004.0</td>\n",
       "      <td>9.0</td>\n",
       "      <td>10.0</td>\n",
       "      <td>2005.0</td>\n",
       "      <td>...</td>\n",
       "      <td>no</td>\n",
       "      <td>no</td>\n",
       "      <td>Stevan Mena</td>\n",
       "      <td>Samantha Dark</td>\n",
       "      <td>R. Brandon Johnson</td>\n",
       "      <td>Brandon Johnson</td>\n",
       "      <td>Heather Magee</td>\n",
       "      <td>Richard Glover</td>\n",
       "      <td>http://www.imdb.com/title/tt0388230/</td>\n",
       "      <td>//www.rottentomatoes.com/m/10004684-malevolence/</td>\n",
       "    </tr>\n",
       "  </tbody>\n",
       "</table>\n",
       "<p>5 rows × 32 columns</p>\n",
       "</div>"
      ],
      "text/plain": [
       "                  title    title_type   genre  runtime mpaa_rating  \\\n",
       "0           Filly Brown  Feature Film   Drama     80.0           R   \n",
       "1              The Dish  Feature Film   Drama    101.0       PG-13   \n",
       "2   Waiting for Guffman  Feature Film  Comedy     84.0           R   \n",
       "3  The Age of Innocence  Feature Film   Drama    139.0          PG   \n",
       "4           Malevolence  Feature Film  Horror     90.0           R   \n",
       "\n",
       "                     studio  thtr_rel_year  thtr_rel_month  thtr_rel_day  \\\n",
       "0       Indomina Media Inc.         2013.0             4.0          19.0   \n",
       "1     Warner Bros. Pictures         2001.0             3.0          14.0   \n",
       "2    Sony Pictures Classics         1996.0             8.0          21.0   \n",
       "3         Columbia Pictures         1993.0            10.0           1.0   \n",
       "4  Anchor Bay Entertainment         2004.0             9.0          10.0   \n",
       "\n",
       "   dvd_rel_year  ...  best_dir_win  top200_box           director  \\\n",
       "0        2013.0  ...            no          no   Michael D. Olmos   \n",
       "1        2001.0  ...            no          no          Rob Sitch   \n",
       "2        2001.0  ...            no          no  Christopher Guest   \n",
       "3        2001.0  ...           yes          no    Martin Scorsese   \n",
       "4        2005.0  ...            no          no        Stevan Mena   \n",
       "\n",
       "              actor1              actor2                actor3  \\\n",
       "0     Gina Rodriguez        Jenni Rivera  Lou Diamond Phillips   \n",
       "1          Sam Neill    Kevin Harrington     Patrick Warburton   \n",
       "2  Christopher Guest    Catherine O'Hara          Parker Posey   \n",
       "3   Daniel Day-Lewis   Michelle Pfeiffer          Winona Ryder   \n",
       "4      Samantha Dark  R. Brandon Johnson       Brandon Johnson   \n",
       "\n",
       "             actor4               actor5  \\\n",
       "0     Emilio Rivera  Joseph Julian Soria   \n",
       "1          Tom Long       Genevieve Mooy   \n",
       "2       Eugene Levy          Bob Balaban   \n",
       "3  Richard E. Grant         Alec McCowen   \n",
       "4     Heather Magee       Richard Glover   \n",
       "\n",
       "                               imdb_url  \\\n",
       "0  http://www.imdb.com/title/tt1869425/   \n",
       "1  http://www.imdb.com/title/tt0205873/   \n",
       "2  http://www.imdb.com/title/tt0118111/   \n",
       "3  http://www.imdb.com/title/tt0106226/   \n",
       "4  http://www.imdb.com/title/tt0388230/   \n",
       "\n",
       "                                             rt_url  \n",
       "0      //www.rottentomatoes.com/m/filly_brown_2012/  \n",
       "1                  //www.rottentomatoes.com/m/dish/  \n",
       "2   //www.rottentomatoes.com/m/waiting_for_guffman/  \n",
       "3      //www.rottentomatoes.com/m/age_of_innocence/  \n",
       "4  //www.rottentomatoes.com/m/10004684-malevolence/  \n",
       "\n",
       "[5 rows x 32 columns]"
      ]
     },
     "execution_count": 120,
     "metadata": {},
     "output_type": "execute_result"
    }
   ],
   "source": [
    "movies.head()"
   ]
  },
  {
   "cell_type": "code",
   "execution_count": 121,
   "metadata": {},
   "outputs": [
    {
     "name": "stdout",
     "output_type": "stream",
     "text": [
      "<class 'pandas.core.frame.DataFrame'>\n",
      "RangeIndex: 651 entries, 0 to 650\n",
      "Data columns (total 32 columns):\n",
      " #   Column            Non-Null Count  Dtype  \n",
      "---  ------            --------------  -----  \n",
      " 0   title             651 non-null    object \n",
      " 1   title_type        651 non-null    object \n",
      " 2   genre             651 non-null    object \n",
      " 3   runtime           650 non-null    float64\n",
      " 4   mpaa_rating       651 non-null    object \n",
      " 5   studio            643 non-null    object \n",
      " 6   thtr_rel_year     651 non-null    float64\n",
      " 7   thtr_rel_month    651 non-null    float64\n",
      " 8   thtr_rel_day      651 non-null    float64\n",
      " 9   dvd_rel_year      643 non-null    float64\n",
      " 10  dvd_rel_month     643 non-null    float64\n",
      " 11  dvd_rel_day       643 non-null    float64\n",
      " 12  imdb_rating       651 non-null    float64\n",
      " 13  imdb_num_votes    651 non-null    int64  \n",
      " 14  critics_rating    651 non-null    object \n",
      " 15  critics_score     651 non-null    float64\n",
      " 16  audience_rating   651 non-null    object \n",
      " 17  audience_score    651 non-null    float64\n",
      " 18  best_pic_nom      651 non-null    object \n",
      " 19  best_pic_win      651 non-null    object \n",
      " 20  best_actor_win    651 non-null    object \n",
      " 21  best_actress_win  651 non-null    object \n",
      " 22  best_dir_win      651 non-null    object \n",
      " 23  top200_box        651 non-null    object \n",
      " 24  director          649 non-null    object \n",
      " 25  actor1            649 non-null    object \n",
      " 26  actor2            644 non-null    object \n",
      " 27  actor3            642 non-null    object \n",
      " 28  actor4            638 non-null    object \n",
      " 29  actor5            636 non-null    object \n",
      " 30  imdb_url          651 non-null    object \n",
      " 31  rt_url            651 non-null    object \n",
      "dtypes: float64(10), int64(1), object(21)\n",
      "memory usage: 162.9+ KB\n"
     ]
    }
   ],
   "source": [
    "movies.info()"
   ]
  },
  {
   "cell_type": "code",
   "execution_count": 17,
   "metadata": {},
   "outputs": [],
   "source": [
    "# open df\n",
    "df_rt = pd.read_csv('C:/Users/camil/Desktop/Projeto Integrador/rt_movie_info.csv', encoding = 'latin1', engine = 'python', delimiter = ',')"
   ]
  },
  {
   "cell_type": "code",
   "execution_count": 18,
   "metadata": {
    "scrolled": true
   },
   "outputs": [
    {
     "data": {
      "text/html": [
       "<div>\n",
       "<style scoped>\n",
       "    .dataframe tbody tr th:only-of-type {\n",
       "        vertical-align: middle;\n",
       "    }\n",
       "\n",
       "    .dataframe tbody tr th {\n",
       "        vertical-align: top;\n",
       "    }\n",
       "\n",
       "    .dataframe thead th {\n",
       "        text-align: right;\n",
       "    }\n",
       "</style>\n",
       "<table border=\"1\" class=\"dataframe\">\n",
       "  <thead>\n",
       "    <tr style=\"text-align: right;\">\n",
       "      <th></th>\n",
       "      <th>movie_link</th>\n",
       "      <th>movie_name</th>\n",
       "      <th>rating</th>\n",
       "      <th>genre</th>\n",
       "      <th>directors</th>\n",
       "      <th>writers</th>\n",
       "      <th>movie_info</th>\n",
       "      <th>poster_image</th>\n",
       "      <th>casts</th>\n",
       "      <th>in_theaters_date</th>\n",
       "      <th>...</th>\n",
       "      <th>audience_count</th>\n",
       "      <th>audience_top_critics_count</th>\n",
       "      <th>audience_fresh_critics_count</th>\n",
       "      <th>audience_rotten_critics_count</th>\n",
       "      <th>audience_fresh_top_critics_count</th>\n",
       "      <th>audience_rotten_rotten_critics_count</th>\n",
       "      <th>tomatometer_avg_rating</th>\n",
       "      <th>audience_top_critics_avg_rating</th>\n",
       "      <th>score_sentiment</th>\n",
       "      <th>audience_avg_rating</th>\n",
       "    </tr>\n",
       "  </thead>\n",
       "  <tbody>\n",
       "    <tr>\n",
       "      <th>0</th>\n",
       "      <td>/m/312291718</td>\n",
       "      <td>Tillie's Punctured Romance</td>\n",
       "      <td>NR</td>\n",
       "      <td>Classics,Comedy</td>\n",
       "      <td>Charles Bennett,Mack Sennett</td>\n",
       "      <td>Hampton Del Ruth</td>\n",
       "      <td>This Keystone comedy, Charlie Chaplin's 33rd, ...</td>\n",
       "      <td>https://resizing.flixster.com/2cfo_iZmt1DetxOR...</td>\n",
       "      <td>Charles Chaplin,Marie Dressler,Mabel Normand,C...</td>\n",
       "      <td>Jan 1, 1914</td>\n",
       "      <td>...</td>\n",
       "      <td>972.0</td>\n",
       "      <td>1</td>\n",
       "      <td>5</td>\n",
       "      <td>1</td>\n",
       "      <td>1</td>\n",
       "      <td>0</td>\n",
       "      <td>6.38</td>\n",
       "      <td>0.0</td>\n",
       "      <td>NEGATIVE</td>\n",
       "      <td>3.21</td>\n",
       "    </tr>\n",
       "    <tr>\n",
       "      <th>1</th>\n",
       "      <td>/m/770681144</td>\n",
       "      <td>Tango Tangles</td>\n",
       "      <td>NR</td>\n",
       "      <td>Comedy</td>\n",
       "      <td>Mack Sennett</td>\n",
       "      <td>Mack Sennett</td>\n",
       "      <td>Tango Tangles is an impromptu Keystone comedy ...</td>\n",
       "      <td>https://resizing.flixster.com/AJKmCcDUQqEOdT3n...</td>\n",
       "      <td>Glen Cavender,Charles Chaplin,Edgar Kennedy,Fr...</td>\n",
       "      <td>Mar 9, 1914</td>\n",
       "      <td>...</td>\n",
       "      <td>183.0</td>\n",
       "      <td>0</td>\n",
       "      <td>0</td>\n",
       "      <td>0</td>\n",
       "      <td>0</td>\n",
       "      <td>0</td>\n",
       "      <td>0.00</td>\n",
       "      <td>0.0</td>\n",
       "      <td>NEGATIVE</td>\n",
       "      <td>2.65</td>\n",
       "    </tr>\n",
       "    <tr>\n",
       "      <th>2</th>\n",
       "      <td>/m/20297</td>\n",
       "      <td>Cabiria</td>\n",
       "      <td>NR</td>\n",
       "      <td>Art House &amp; International,Classics,Drama</td>\n",
       "      <td>Giovanni Pastrone</td>\n",
       "      <td>Gabriele D'Annunzio</td>\n",
       "      <td>The ancient conflict between Rome and Carthage...</td>\n",
       "      <td>https://resizing.flixster.com/NA4TdKSRbmLNhJKw...</td>\n",
       "      <td>Alex Bernard,Italia Almirante-Manzini,Lidia Qu...</td>\n",
       "      <td>Jun 1, 1914</td>\n",
       "      <td>...</td>\n",
       "      <td>1153.0</td>\n",
       "      <td>4</td>\n",
       "      <td>8</td>\n",
       "      <td>1</td>\n",
       "      <td>4</td>\n",
       "      <td>0</td>\n",
       "      <td>7.75</td>\n",
       "      <td>10.0</td>\n",
       "      <td>POSITIVE</td>\n",
       "      <td>3.70</td>\n",
       "    </tr>\n",
       "    <tr>\n",
       "      <th>3</th>\n",
       "      <td>/m/770680394</td>\n",
       "      <td>The Magic Cloak of Oz</td>\n",
       "      <td>NR</td>\n",
       "      <td>Action &amp; Adventure,Drama,Kids &amp; Family,Science...</td>\n",
       "      <td>J. Farrell MacDonald</td>\n",
       "      <td>L. Frank Baum</td>\n",
       "      <td>Author L. Frank Baum adapts his own original s...</td>\n",
       "      <td>https://resizing.flixster.com/qgZlce0CF5nUrmUX...</td>\n",
       "      <td>Violet MacMillan,Vivian Reed,Mildred Harris,Fr...</td>\n",
       "      <td>Sep 28, 1914</td>\n",
       "      <td>...</td>\n",
       "      <td>NaN</td>\n",
       "      <td>0</td>\n",
       "      <td>0</td>\n",
       "      <td>0</td>\n",
       "      <td>0</td>\n",
       "      <td>0</td>\n",
       "      <td>0.00</td>\n",
       "      <td>0.0</td>\n",
       "      <td>NaN</td>\n",
       "      <td>NaN</td>\n",
       "    </tr>\n",
       "    <tr>\n",
       "      <th>4</th>\n",
       "      <td>/m/21368</td>\n",
       "      <td>Regeneration</td>\n",
       "      <td>NR</td>\n",
       "      <td>Classics,Drama</td>\n",
       "      <td>Raoul Walsh</td>\n",
       "      <td>Raoul Walsh,Carl Harbaugh</td>\n",
       "      <td>Noteworthy as the first ever feature-length cr...</td>\n",
       "      <td>https://resizing.flixster.com/1aKm46hSGRdsc_Fs...</td>\n",
       "      <td>Rockliffe Fellowes,Anna Q. Nilsson,William She...</td>\n",
       "      <td>Sep 13, 1915</td>\n",
       "      <td>...</td>\n",
       "      <td>401.0</td>\n",
       "      <td>2</td>\n",
       "      <td>5</td>\n",
       "      <td>0</td>\n",
       "      <td>2</td>\n",
       "      <td>0</td>\n",
       "      <td>9.17</td>\n",
       "      <td>0.0</td>\n",
       "      <td>POSITIVE</td>\n",
       "      <td>3.50</td>\n",
       "    </tr>\n",
       "  </tbody>\n",
       "</table>\n",
       "<p>5 rows × 31 columns</p>\n",
       "</div>"
      ],
      "text/plain": [
       "     movie_link                  movie_name rating  \\\n",
       "0  /m/312291718  Tillie's Punctured Romance     NR   \n",
       "1  /m/770681144               Tango Tangles     NR   \n",
       "2      /m/20297                     Cabiria     NR   \n",
       "3  /m/770680394       The Magic Cloak of Oz     NR   \n",
       "4      /m/21368                Regeneration     NR   \n",
       "\n",
       "                                               genre  \\\n",
       "0                                    Classics,Comedy   \n",
       "1                                             Comedy   \n",
       "2           Art House & International,Classics,Drama   \n",
       "3  Action & Adventure,Drama,Kids & Family,Science...   \n",
       "4                                     Classics,Drama   \n",
       "\n",
       "                      directors                    writers  \\\n",
       "0  Charles Bennett,Mack Sennett           Hampton Del Ruth   \n",
       "1                  Mack Sennett               Mack Sennett   \n",
       "2             Giovanni Pastrone        Gabriele D'Annunzio   \n",
       "3          J. Farrell MacDonald              L. Frank Baum   \n",
       "4                   Raoul Walsh  Raoul Walsh,Carl Harbaugh   \n",
       "\n",
       "                                          movie_info  \\\n",
       "0  This Keystone comedy, Charlie Chaplin's 33rd, ...   \n",
       "1  Tango Tangles is an impromptu Keystone comedy ...   \n",
       "2  The ancient conflict between Rome and Carthage...   \n",
       "3  Author L. Frank Baum adapts his own original s...   \n",
       "4  Noteworthy as the first ever feature-length cr...   \n",
       "\n",
       "                                        poster_image  \\\n",
       "0  https://resizing.flixster.com/2cfo_iZmt1DetxOR...   \n",
       "1  https://resizing.flixster.com/AJKmCcDUQqEOdT3n...   \n",
       "2  https://resizing.flixster.com/NA4TdKSRbmLNhJKw...   \n",
       "3  https://resizing.flixster.com/qgZlce0CF5nUrmUX...   \n",
       "4  https://resizing.flixster.com/1aKm46hSGRdsc_Fs...   \n",
       "\n",
       "                                               casts in_theaters_date  ...  \\\n",
       "0  Charles Chaplin,Marie Dressler,Mabel Normand,C...      Jan 1, 1914  ...   \n",
       "1  Glen Cavender,Charles Chaplin,Edgar Kennedy,Fr...      Mar 9, 1914  ...   \n",
       "2  Alex Bernard,Italia Almirante-Manzini,Lidia Qu...      Jun 1, 1914  ...   \n",
       "3  Violet MacMillan,Vivian Reed,Mildred Harris,Fr...     Sep 28, 1914  ...   \n",
       "4  Rockliffe Fellowes,Anna Q. Nilsson,William She...     Sep 13, 1915  ...   \n",
       "\n",
       "  audience_count  audience_top_critics_count audience_fresh_critics_count  \\\n",
       "0          972.0                           1                            5   \n",
       "1          183.0                           0                            0   \n",
       "2         1153.0                           4                            8   \n",
       "3            NaN                           0                            0   \n",
       "4          401.0                           2                            5   \n",
       "\n",
       "  audience_rotten_critics_count audience_fresh_top_critics_count  \\\n",
       "0                             1                                1   \n",
       "1                             0                                0   \n",
       "2                             1                                4   \n",
       "3                             0                                0   \n",
       "4                             0                                2   \n",
       "\n",
       "  audience_rotten_rotten_critics_count  tomatometer_avg_rating  \\\n",
       "0                                    0                    6.38   \n",
       "1                                    0                    0.00   \n",
       "2                                    0                    7.75   \n",
       "3                                    0                    0.00   \n",
       "4                                    0                    9.17   \n",
       "\n",
       "   audience_top_critics_avg_rating score_sentiment  audience_avg_rating  \n",
       "0                              0.0        NEGATIVE                 3.21  \n",
       "1                              0.0        NEGATIVE                 2.65  \n",
       "2                             10.0        POSITIVE                 3.70  \n",
       "3                              0.0             NaN                  NaN  \n",
       "4                              0.0        POSITIVE                 3.50  \n",
       "\n",
       "[5 rows x 31 columns]"
      ]
     },
     "execution_count": 18,
     "metadata": {},
     "output_type": "execute_result"
    }
   ],
   "source": [
    "# print 4 first rows \n",
    "df_rt.head()"
   ]
  },
  {
   "cell_type": "code",
   "execution_count": 4,
   "metadata": {
    "scrolled": false
   },
   "outputs": [
    {
     "name": "stdout",
     "output_type": "stream",
     "text": [
      "<class 'pandas.core.frame.DataFrame'>\n",
      "RangeIndex: 13001 entries, 0 to 13000\n",
      "Data columns (total 31 columns):\n",
      " #   Column                                Non-Null Count  Dtype  \n",
      "---  ------                                --------------  -----  \n",
      " 0   movie_link                            13001 non-null  object \n",
      " 1   movie_name                            13001 non-null  object \n",
      " 2   rating                                13001 non-null  object \n",
      " 3   genre                                 12965 non-null  object \n",
      " 4   directors                             12679 non-null  object \n",
      " 5   writers                               11184 non-null  object \n",
      " 6   movie_info                            12507 non-null  object \n",
      " 7   poster_image                          13001 non-null  object \n",
      " 8   casts                                 12694 non-null  object \n",
      " 9   in_theaters_date                      11165 non-null  object \n",
      " 10  on_streaming_date                     10646 non-null  object \n",
      " 11  runtime_in_minutes                    12781 non-null  float64\n",
      " 12  studio_name                           11265 non-null  object \n",
      " 13  box_office                            2425 non-null   object \n",
      " 14  critics_consensus                     5077 non-null   object \n",
      " 15  tomatometer_status                    8527 non-null   object \n",
      " 16  tomatometer_rating                    11447 non-null  float64\n",
      " 17  tomatometer_count                     13001 non-null  int64  \n",
      " 18  audience_status                       11471 non-null  object \n",
      " 19  audience_want_to_see_count            13001 non-null  int64  \n",
      " 20  audience_rating                       11293 non-null  float64\n",
      " 21  audience_count                        11293 non-null  float64\n",
      " 22  audience_top_critics_count            13001 non-null  int64  \n",
      " 23  audience_fresh_critics_count          13001 non-null  int64  \n",
      " 24  audience_rotten_critics_count         13001 non-null  int64  \n",
      " 25  audience_fresh_top_critics_count      13001 non-null  int64  \n",
      " 26  audience_rotten_rotten_critics_count  13001 non-null  int64  \n",
      " 27  tomatometer_avg_rating                13001 non-null  float64\n",
      " 28  audience_top_critics_avg_rating       13001 non-null  float64\n",
      " 29  score_sentiment                       11293 non-null  object \n",
      " 30  audience_avg_rating                   11293 non-null  float64\n",
      "dtypes: float64(7), int64(7), object(17)\n",
      "memory usage: 3.1+ MB\n"
     ]
    }
   ],
   "source": [
    "# print info about \n",
    "df_rt.info()"
   ]
  },
  {
   "cell_type": "markdown",
   "metadata": {},
   "source": [
    "#### in_theaters_date"
   ]
  },
  {
   "cell_type": "code",
   "execution_count": 25,
   "metadata": {},
   "outputs": [],
   "source": [
    "# convert to date format\n",
    "\n",
    "## convert to date\n",
    "df_rt['in_theaters_date'] = df_rt.in_theaters_date.astype('datetime64')\n",
    "\n",
    "## get only the year\n",
    "df_rt['date_year'] = df_rt.in_theaters_date.dt.year\n",
    "\n",
    "## get only the month\n",
    "df_rt['date_month'] = df_rt.in_theaters_date.dt.month\n",
    "\n",
    "#filter date_year >= 2010\n",
    "df_rt2 = df_rt[df_rt.date_year > 2010]"
   ]
  },
  {
   "cell_type": "code",
   "execution_count": 29,
   "metadata": {
    "scrolled": false
   },
   "outputs": [
    {
     "ename": "SyntaxError",
     "evalue": "invalid syntax (<ipython-input-29-ed3ae0dd526c>, line 1)",
     "output_type": "error",
     "traceback": [
      "\u001b[1;36m  File \u001b[1;32m\"<ipython-input-29-ed3ae0dd526c>\"\u001b[1;36m, line \u001b[1;32m1\u001b[0m\n\u001b[1;33m    print(\"Now the dataset has:\" df_rt2.shape[0])\u001b[0m\n\u001b[1;37m                                      ^\u001b[0m\n\u001b[1;31mSyntaxError\u001b[0m\u001b[1;31m:\u001b[0m invalid syntax\n"
     ]
    }
   ],
   "source": [
    "print(\"Now the dataset has:\" df_rt2.shape[0] \"movies\")"
   ]
  },
  {
   "cell_type": "code",
   "execution_count": 115,
   "metadata": {},
   "outputs": [
    {
     "data": {
      "image/png": "[encoded data removed]",
      "text/plain": [
       "<Figure size 432x288 with 1 Axes>"
      ]
     },
     "metadata": {
      "needs_background": "light"
     },
     "output_type": "display_data"
    },
    {
     "data": {
      "text/plain": [
       "<wordcloud.wordcloud.WordCloud at 0x1f2e81c5888>"
      ]
     },
     "execution_count": 115,
     "metadata": {},
     "output_type": "execute_result"
    }
   ],
   "source": [
    "# plot the most frequent words in the movies\n",
    "from wordcloud import WordCloud, STOPWORDS, ImageColorGenerator\n",
    "\n",
    "# combine multiple rows into one object\n",
    "text = df_rt['movie_info'].str.cat(sep='/ ')\n",
    "\n",
    "# Create stopword list:\n",
    "stopwords = set(STOPWORDS)\n",
    "stopwords.update([\"one\", \"two\", \"tree\", \"four\", \"five\", \"six\", \"seven\", \"eight\", \"nine\"])\n",
    "\n",
    "\n",
    "# Create and generate a word cloud image:\n",
    "wc= WordCloud(stopwords = stopwords, background_color=\"white\").generate(text)\n",
    "\n",
    "# Display the generated image:\n",
    "plt.imshow(wc, interpolation='bilinear')\n",
    "plt.axis(\"off\")\n",
    "plt.show()\n",
    "\n",
    "wc.to_file(\"rotten.png\")\n",
    "#adapted code from: https://www.datacamp.com/community/tutorials/wordcloud-python"
   ]
  },
  {
   "cell_type": "code",
   "execution_count": 39,
   "metadata": {
    "scrolled": true
   },
   "outputs": [
    {
     "name": "stderr",
     "output_type": "stream",
     "text": [
      "C:\\Users\\camil\\anaconda3\\lib\\site-packages\\IPython\\core\\interactiveshell.py:3063: DtypeWarning: Columns (7) have mixed types.Specify dtype option on import or set low_memory=False.\n",
      "  interactivity=interactivity, compiler=compiler, result=result)\n"
     ]
    }
   ],
   "source": [
    "df_akas = pd.read_csv('title.akas.tsv.gz', compression='gzip', header=0 , quotechar='\"', error_bad_lines=False, sep = '\\t')"
   ]
  },
  {
   "cell_type": "code",
   "execution_count": 40,
   "metadata": {
    "scrolled": true
   },
   "outputs": [
    {
     "data": {
      "text/html": [
       "<div>\n",
       "<style scoped>\n",
       "    .dataframe tbody tr th:only-of-type {\n",
       "        vertical-align: middle;\n",
       "    }\n",
       "\n",
       "    .dataframe tbody tr th {\n",
       "        vertical-align: top;\n",
       "    }\n",
       "\n",
       "    .dataframe thead th {\n",
       "        text-align: right;\n",
       "    }\n",
       "</style>\n",
       "<table border=\"1\" class=\"dataframe\">\n",
       "  <thead>\n",
       "    <tr style=\"text-align: right;\">\n",
       "      <th></th>\n",
       "      <th>titleId</th>\n",
       "      <th>ordering</th>\n",
       "      <th>title</th>\n",
       "      <th>region</th>\n",
       "      <th>language</th>\n",
       "      <th>types</th>\n",
       "      <th>attributes</th>\n",
       "      <th>isOriginalTitle</th>\n",
       "    </tr>\n",
       "  </thead>\n",
       "  <tbody>\n",
       "    <tr>\n",
       "      <th>0</th>\n",
       "      <td>tt0000001</td>\n",
       "      <td>1</td>\n",
       "      <td>Карменсіта</td>\n",
       "      <td>UA</td>\n",
       "      <td>\\N</td>\n",
       "      <td>imdbDisplay</td>\n",
       "      <td>\\N</td>\n",
       "      <td>0</td>\n",
       "    </tr>\n",
       "    <tr>\n",
       "      <th>1</th>\n",
       "      <td>tt0000001</td>\n",
       "      <td>2</td>\n",
       "      <td>Carmencita</td>\n",
       "      <td>DE</td>\n",
       "      <td>\\N</td>\n",
       "      <td>\\N</td>\n",
       "      <td>literal title</td>\n",
       "      <td>0</td>\n",
       "    </tr>\n",
       "    <tr>\n",
       "      <th>2</th>\n",
       "      <td>tt0000001</td>\n",
       "      <td>3</td>\n",
       "      <td>Carmencita - spanyol tánc</td>\n",
       "      <td>HU</td>\n",
       "      <td>\\N</td>\n",
       "      <td>imdbDisplay</td>\n",
       "      <td>\\N</td>\n",
       "      <td>0</td>\n",
       "    </tr>\n",
       "    <tr>\n",
       "      <th>3</th>\n",
       "      <td>tt0000001</td>\n",
       "      <td>4</td>\n",
       "      <td>Καρμενσίτα</td>\n",
       "      <td>GR</td>\n",
       "      <td>\\N</td>\n",
       "      <td>imdbDisplay</td>\n",
       "      <td>\\N</td>\n",
       "      <td>0</td>\n",
       "    </tr>\n",
       "    <tr>\n",
       "      <th>4</th>\n",
       "      <td>tt0000001</td>\n",
       "      <td>5</td>\n",
       "      <td>Карменсита</td>\n",
       "      <td>RU</td>\n",
       "      <td>\\N</td>\n",
       "      <td>imdbDisplay</td>\n",
       "      <td>\\N</td>\n",
       "      <td>0</td>\n",
       "    </tr>\n",
       "  </tbody>\n",
       "</table>\n",
       "</div>"
      ],
      "text/plain": [
       "     titleId  ordering                      title region language  \\\n",
       "0  tt0000001         1                 Карменсіта     UA       \\N   \n",
       "1  tt0000001         2                 Carmencita     DE       \\N   \n",
       "2  tt0000001         3  Carmencita - spanyol tánc     HU       \\N   \n",
       "3  tt0000001         4                 Καρμενσίτα     GR       \\N   \n",
       "4  tt0000001         5                 Карменсита     RU       \\N   \n",
       "\n",
       "         types     attributes isOriginalTitle  \n",
       "0  imdbDisplay             \\N               0  \n",
       "1           \\N  literal title               0  \n",
       "2  imdbDisplay             \\N               0  \n",
       "3  imdbDisplay             \\N               0  \n",
       "4  imdbDisplay             \\N               0  "
      ]
     },
     "execution_count": 40,
     "metadata": {},
     "output_type": "execute_result"
    }
   ],
   "source": [
    "df_akas.head()"
   ]
  },
  {
   "cell_type": "code",
   "execution_count": 34,
   "metadata": {},
   "outputs": [],
   "source": [
    "df = pd.read_csv('title.principals.tsv.gz', compression='gzip', header=0 , quotechar='\"', error_bad_lines=False, sep = '\\t')"
   ]
  },
  {
   "cell_type": "code",
   "execution_count": 36,
   "metadata": {
    "scrolled": true
   },
   "outputs": [
    {
     "data": {
      "text/html": [
       "<div>\n",
       "<style scoped>\n",
       "    .dataframe tbody tr th:only-of-type {\n",
       "        vertical-align: middle;\n",
       "    }\n",
       "\n",
       "    .dataframe tbody tr th {\n",
       "        vertical-align: top;\n",
       "    }\n",
       "\n",
       "    .dataframe thead th {\n",
       "        text-align: right;\n",
       "    }\n",
       "</style>\n",
       "<table border=\"1\" class=\"dataframe\">\n",
       "  <thead>\n",
       "    <tr style=\"text-align: right;\">\n",
       "      <th></th>\n",
       "      <th>tconst</th>\n",
       "      <th>ordering</th>\n",
       "      <th>nconst</th>\n",
       "      <th>category</th>\n",
       "      <th>job</th>\n",
       "      <th>characters</th>\n",
       "    </tr>\n",
       "  </thead>\n",
       "  <tbody>\n",
       "    <tr>\n",
       "      <th>0</th>\n",
       "      <td>tt0000001</td>\n",
       "      <td>1</td>\n",
       "      <td>nm1588970</td>\n",
       "      <td>self</td>\n",
       "      <td>\\N</td>\n",
       "      <td>[\"Self\"]</td>\n",
       "    </tr>\n",
       "    <tr>\n",
       "      <th>1</th>\n",
       "      <td>tt0000001</td>\n",
       "      <td>2</td>\n",
       "      <td>nm0005690</td>\n",
       "      <td>director</td>\n",
       "      <td>\\N</td>\n",
       "      <td>\\N</td>\n",
       "    </tr>\n",
       "    <tr>\n",
       "      <th>2</th>\n",
       "      <td>tt0000001</td>\n",
       "      <td>3</td>\n",
       "      <td>nm0374658</td>\n",
       "      <td>cinematographer</td>\n",
       "      <td>director of photography</td>\n",
       "      <td>\\N</td>\n",
       "    </tr>\n",
       "    <tr>\n",
       "      <th>3</th>\n",
       "      <td>tt0000002</td>\n",
       "      <td>1</td>\n",
       "      <td>nm0721526</td>\n",
       "      <td>director</td>\n",
       "      <td>\\N</td>\n",
       "      <td>\\N</td>\n",
       "    </tr>\n",
       "    <tr>\n",
       "      <th>4</th>\n",
       "      <td>tt0000002</td>\n",
       "      <td>2</td>\n",
       "      <td>nm1335271</td>\n",
       "      <td>composer</td>\n",
       "      <td>\\N</td>\n",
       "      <td>\\N</td>\n",
       "    </tr>\n",
       "  </tbody>\n",
       "</table>\n",
       "</div>"
      ],
      "text/plain": [
       "      tconst  ordering     nconst         category                      job  \\\n",
       "0  tt0000001         1  nm1588970             self                       \\N   \n",
       "1  tt0000001         2  nm0005690         director                       \\N   \n",
       "2  tt0000001         3  nm0374658  cinematographer  director of photography   \n",
       "3  tt0000002         1  nm0721526         director                       \\N   \n",
       "4  tt0000002         2  nm1335271         composer                       \\N   \n",
       "\n",
       "  characters  \n",
       "0   [\"Self\"]  \n",
       "1         \\N  \n",
       "2         \\N  \n",
       "3         \\N  \n",
       "4         \\N  "
      ]
     },
     "execution_count": 36,
     "metadata": {},
     "output_type": "execute_result"
    }
   ],
   "source": [
    "df.head()"
   ]
  },
  {
   "cell_type": "code",
   "execution_count": 57,
   "metadata": {
    "scrolled": false
   },
   "outputs": [
    {
     "name": "stderr",
     "output_type": "stream",
     "text": [
      "C:\\Users\\camil\\anaconda3\\lib\\site-packages\\IPython\\core\\interactiveshell.py:3063: DtypeWarning: Columns (5) have mixed types.Specify dtype option on import or set low_memory=False.\n",
      "  interactivity=interactivity, compiler=compiler, result=result)\n"
     ]
    }
   ],
   "source": [
    "df_basics = pd.read_csv('title.basics.tsv.gz', compression='gzip', header=0 , quotechar='\"', error_bad_lines=False, sep = '\\t', na_values = 'nan')"
   ]
  },
  {
   "cell_type": "code",
   "execution_count": 116,
   "metadata": {},
   "outputs": [],
   "source": [
    "df_ratings = pd.read_csv('title.ratings.tsv.gz', compression='gzip', header=0 , quotechar='\"', error_bad_lines=False, sep = '\\t', na_values = 'nan')"
   ]
  },
  {
   "cell_type": "code",
   "execution_count": 117,
   "metadata": {
    "scrolled": false
   },
   "outputs": [
    {
     "data": {
      "text/html": [
       "<div>\n",
       "<style scoped>\n",
       "    .dataframe tbody tr th:only-of-type {\n",
       "        vertical-align: middle;\n",
       "    }\n",
       "\n",
       "    .dataframe tbody tr th {\n",
       "        vertical-align: top;\n",
       "    }\n",
       "\n",
       "    .dataframe thead th {\n",
       "        text-align: right;\n",
       "    }\n",
       "</style>\n",
       "<table border=\"1\" class=\"dataframe\">\n",
       "  <thead>\n",
       "    <tr style=\"text-align: right;\">\n",
       "      <th></th>\n",
       "      <th>tconst</th>\n",
       "      <th>averageRating</th>\n",
       "      <th>numVotes</th>\n",
       "    </tr>\n",
       "  </thead>\n",
       "  <tbody>\n",
       "    <tr>\n",
       "      <th>0</th>\n",
       "      <td>tt0000001</td>\n",
       "      <td>5.6</td>\n",
       "      <td>1616</td>\n",
       "    </tr>\n",
       "    <tr>\n",
       "      <th>1</th>\n",
       "      <td>tt0000002</td>\n",
       "      <td>6.0</td>\n",
       "      <td>197</td>\n",
       "    </tr>\n",
       "    <tr>\n",
       "      <th>2</th>\n",
       "      <td>tt0000003</td>\n",
       "      <td>6.5</td>\n",
       "      <td>1297</td>\n",
       "    </tr>\n",
       "    <tr>\n",
       "      <th>3</th>\n",
       "      <td>tt0000004</td>\n",
       "      <td>6.1</td>\n",
       "      <td>121</td>\n",
       "    </tr>\n",
       "    <tr>\n",
       "      <th>4</th>\n",
       "      <td>tt0000005</td>\n",
       "      <td>6.1</td>\n",
       "      <td>2075</td>\n",
       "    </tr>\n",
       "  </tbody>\n",
       "</table>\n",
       "</div>"
      ],
      "text/plain": [
       "      tconst  averageRating  numVotes\n",
       "0  tt0000001            5.6      1616\n",
       "1  tt0000002            6.0       197\n",
       "2  tt0000003            6.5      1297\n",
       "3  tt0000004            6.1       121\n",
       "4  tt0000005            6.1      2075"
      ]
     },
     "execution_count": 117,
     "metadata": {},
     "output_type": "execute_result"
    }
   ],
   "source": [
    "df_ratings.head()"
   ]
  },
  {
   "cell_type": "code",
   "execution_count": 59,
   "metadata": {
    "scrolled": false
   },
   "outputs": [
    {
     "name": "stdout",
     "output_type": "stream",
     "text": [
      "<class 'pandas.core.frame.DataFrame'>\n",
      "RangeIndex: 6834111 entries, 0 to 6834110\n",
      "Data columns (total 9 columns):\n",
      " #   Column          Dtype \n",
      "---  ------          ----- \n",
      " 0   tconst          object\n",
      " 1   titleType       object\n",
      " 2   primaryTitle    object\n",
      " 3   originalTitle   object\n",
      " 4   isAdult         int64 \n",
      " 5   startYear       object\n",
      " 6   endYear         object\n",
      " 7   runtimeMinutes  object\n",
      " 8   genres          object\n",
      "dtypes: int64(1), object(8)\n",
      "memory usage: 469.3+ MB\n"
     ]
    }
   ],
   "source": [
    "df_basics.info()"
   ]
  },
  {
   "cell_type": "code",
   "execution_count": 70,
   "metadata": {
    "scrolled": true
   },
   "outputs": [
    {
     "data": {
      "text/plain": [
       "\\N      515481\n",
       "2017    364283\n",
       "2018    359042\n",
       "2016    349903\n",
       "2015    334330\n",
       "         ...  \n",
       "1988         1\n",
       "1987         1\n",
       "1985         1\n",
       "1980         1\n",
       "1878         1\n",
       "Name: startYear, Length: 252, dtype: int64"
      ]
     },
     "execution_count": 70,
     "metadata": {},
     "output_type": "execute_result"
    }
   ],
   "source": [
    "df_basics.startYear.value_counts()"
   ]
  },
  {
   "cell_type": "code",
   "execution_count": 69,
   "metadata": {
    "scrolled": false
   },
   "outputs": [
    {
     "ename": "SyntaxError",
     "evalue": "unexpected character after line continuation character (<ipython-input-69-f3f288b253e0>, line 2)",
     "output_type": "error",
     "traceback": [
      "\u001b[1;36m  File \u001b[1;32m\"<ipython-input-69-f3f288b253e0>\"\u001b[1;36m, line \u001b[1;32m2\u001b[0m\n\u001b[1;33m    df_basics.startYear = df_basics.startYear.replace(\\N,nan)\u001b[0m\n\u001b[1;37m                                                             ^\u001b[0m\n\u001b[1;31mSyntaxError\u001b[0m\u001b[1;31m:\u001b[0m unexpected character after line continuation character\n"
     ]
    }
   ],
   "source": [
    "# filter starYear >= 2010\n",
    "df_basics.startYear = df_basics.startYear.replace(\\N,nan)\n",
    "df_basics.startYear = df_basics['startYear'].astype(np.float)\n",
    "df_ba = df_basics[df_basics.startYear >= 2010]"
   ]
  },
  {
   "cell_type": "code",
   "execution_count": 78,
   "metadata": {},
   "outputs": [
    {
     "name": "stdout",
     "output_type": "stream",
     "text": [
      "<class 'pandas.core.frame.DataFrame'>\n",
      "RangeIndex: 6834111 entries, 0 to 6834110\n",
      "Data columns (total 9 columns):\n",
      " #   Column          Dtype \n",
      "---  ------          ----- \n",
      " 0   tconst          object\n",
      " 1   titleType       object\n",
      " 2   primaryTitle    object\n",
      " 3   movie_name      object\n",
      " 4   isAdult         int64 \n",
      " 5   startYear       object\n",
      " 6   endYear         object\n",
      " 7   runtimeMinutes  object\n",
      " 8   genres          object\n",
      "dtypes: int64(1), object(8)\n",
      "memory usage: 469.3+ MB\n"
     ]
    }
   ],
   "source": [
    "df_basics.info()"
   ]
  },
  {
   "cell_type": "code",
   "execution_count": 74,
   "metadata": {
    "scrolled": true
   },
   "outputs": [],
   "source": [
    "df_basics.columns = ['tconst', 'titleType', 'primaryTitle', 'movie_name', 'isAdult',\n",
    "       'startYear', 'endYear', 'runtimeMinutes', 'genres']"
   ]
  },
  {
   "cell_type": "code",
   "execution_count": 106,
   "metadata": {},
   "outputs": [],
   "source": [
    "df2 = df_rt2.merge(df_basics, on = 'movie_name', how = 'left')"
   ]
  },
  {
   "cell_type": "code",
   "execution_count": 93,
   "metadata": {
    "scrolled": false
   },
   "outputs": [
    {
     "data": {
      "text/plain": [
       "(1540, 33)"
      ]
     },
     "execution_count": 93,
     "metadata": {},
     "output_type": "execute_result"
    }
   ],
   "source": [
    "df_rt2.shape"
   ]
  },
  {
   "cell_type": "code",
   "execution_count": 94,
   "metadata": {},
   "outputs": [
    {
     "data": {
      "text/plain": [
       "(6834111, 9)"
      ]
     },
     "execution_count": 94,
     "metadata": {},
     "output_type": "execute_result"
    }
   ],
   "source": [
    "df_basics.shape"
   ]
  },
  {
   "cell_type": "code",
   "execution_count": 95,
   "metadata": {
    "scrolled": true
   },
   "outputs": [
    {
     "data": {
      "text/plain": [
       "(12260, 41)"
      ]
     },
     "execution_count": 95,
     "metadata": {},
     "output_type": "execute_result"
    }
   ],
   "source": [
    "df2.shape"
   ]
  },
  {
   "cell_type": "code",
   "execution_count": 96,
   "metadata": {
    "scrolled": true
   },
   "outputs": [
    {
     "name": "stdout",
     "output_type": "stream",
     "text": [
      "<class 'pandas.core.frame.DataFrame'>\n",
      "Int64Index: 12260 entries, 0 to 12259\n",
      "Data columns (total 41 columns):\n",
      " #   Column                                Non-Null Count  Dtype         \n",
      "---  ------                                --------------  -----         \n",
      " 0   movie_link                            12260 non-null  object        \n",
      " 1   movie_name                            12260 non-null  object        \n",
      " 2   rating                                12260 non-null  object        \n",
      " 3   genre                                 12260 non-null  object        \n",
      " 4   directors                             12183 non-null  object        \n",
      " 5   writers                               11617 non-null  object        \n",
      " 6   movie_info                            12222 non-null  object        \n",
      " 7   poster_image                          12260 non-null  object        \n",
      " 8   casts                                 12105 non-null  object        \n",
      " 9   in_theaters_date                      12260 non-null  datetime64[ns]\n",
      " 10  on_streaming_date                     10489 non-null  object        \n",
      " 11  runtime_in_minutes                    11811 non-null  float64       \n",
      " 12  studio_name                           12088 non-null  object        \n",
      " 13  box_office                            6737 non-null   object        \n",
      " 14  critics_consensus                     9095 non-null   object        \n",
      " 15  tomatometer_status                    10872 non-null  object        \n",
      " 16  tomatometer_rating                    11736 non-null  float64       \n",
      " 17  tomatometer_count                     12260 non-null  int64         \n",
      " 18  audience_status                       11683 non-null  object        \n",
      " 19  audience_want_to_see_count            12260 non-null  int64         \n",
      " 20  audience_rating                       11699 non-null  float64       \n",
      " 21  audience_count                        11699 non-null  float64       \n",
      " 22  audience_top_critics_count            12260 non-null  int64         \n",
      " 23  audience_fresh_critics_count          12260 non-null  int64         \n",
      " 24  audience_rotten_critics_count         12260 non-null  int64         \n",
      " 25  audience_fresh_top_critics_count      12260 non-null  int64         \n",
      " 26  audience_rotten_rotten_critics_count  12260 non-null  int64         \n",
      " 27  tomatometer_avg_rating                12260 non-null  float64       \n",
      " 28  audience_top_critics_avg_rating       12260 non-null  float64       \n",
      " 29  score_sentiment                       11699 non-null  object        \n",
      " 30  audience_avg_rating                   11699 non-null  float64       \n",
      " 31  date_year                             12260 non-null  float64       \n",
      " 32  date_month                            12260 non-null  float64       \n",
      " 33  tconst                                12043 non-null  object        \n",
      " 34  titleType                             12043 non-null  object        \n",
      " 35  primaryTitle                          12043 non-null  object        \n",
      " 36  isAdult                               12043 non-null  float64       \n",
      " 37  startYear                             12043 non-null  object        \n",
      " 38  endYear                               12043 non-null  object        \n",
      " 39  runtimeMinutes                        12043 non-null  object        \n",
      " 40  genres                                12043 non-null  object        \n",
      "dtypes: datetime64[ns](1), float64(10), int64(7), object(23)\n",
      "memory usage: 3.9+ MB\n"
     ]
    }
   ],
   "source": [
    "df2.info()"
   ]
  },
  {
   "cell_type": "code",
   "execution_count": 97,
   "metadata": {
    "scrolled": true
   },
   "outputs": [
    {
     "data": {
      "text/plain": [
       "tt1576055     6\n",
       "tt6605000     6\n",
       "tt0762649     6\n",
       "tt10908184    6\n",
       "tt1588193     6\n",
       "             ..\n",
       "tt1605772     1\n",
       "tt4094456     1\n",
       "tt2419072     1\n",
       "tt8638348     1\n",
       "tt2899232     1\n",
       "Name: tconst, Length: 11002, dtype: int64"
      ]
     },
     "execution_count": 97,
     "metadata": {},
     "output_type": "execute_result"
    }
   ],
   "source": [
    "df2.tconst.value_counts()"
   ]
  },
  {
   "cell_type": "code",
   "execution_count": 124,
   "metadata": {},
   "outputs": [],
   "source": [
    "df2 = df2.drop_duplicates(subset ='tconst', keep = 'first') \n",
    "df2 = df2.drop_duplicates(subset ='movie_info', keep = 'first') "
   ]
  },
  {
   "cell_type": "code",
   "execution_count": 125,
   "metadata": {},
   "outputs": [
    {
     "data": {
      "text/plain": [
       "(1275, 41)"
      ]
     },
     "execution_count": 125,
     "metadata": {},
     "output_type": "execute_result"
    }
   ],
   "source": [
    "df2.shape"
   ]
  },
  {
   "cell_type": "markdown",
   "metadata": {},
   "source": [
    "#### movie_info"
   ]
  },
  {
   "cell_type": "code",
   "execution_count": 126,
   "metadata": {
    "scrolled": true
   },
   "outputs": [
    {
     "data": {
      "text/plain": [
       "0        Silviu has only two weeks left before his rele...\n",
       "2        Soon after a rising young singer-songwriter (H...\n",
       "4        Based on Mordecai Richler's award winning nove...\n",
       "6        Vince Vaughn and Kevin James headline an all-s...\n",
       "26       Mysterious events surround two travelers, pres...\n",
       "                               ...                        \n",
       "11976    THE GENTLEMEN follows American expat Mickey Pe...\n",
       "11986    Eve follows two actresses fighting for the cov...\n",
       "12060    In \"Onward,\" teenage elf brothers Ian and Barl...\n",
       "12075    Tokyo Godfathers, the acclaimed holiday classi...\n",
       "12078    They say you can never escape a mother's love....\n",
       "Name: movie_info, Length: 1275, dtype: object"
      ]
     },
     "execution_count": 126,
     "metadata": {},
     "output_type": "execute_result"
    }
   ],
   "source": [
    "df2.movie_info"
   ]
  },
  {
   "cell_type": "code",
   "execution_count": 127,
   "metadata": {},
   "outputs": [
    {
     "data": {
      "image/png": "[encoded data removed]",
      "text/plain": [
       "<Figure size 432x288 with 1 Axes>"
      ]
     },
     "metadata": {
      "needs_background": "light"
     },
     "output_type": "display_data"
    },
    {
     "data": {
      "text/plain": [
       "<wordcloud.wordcloud.WordCloud at 0x1f3fc62d608>"
      ]
     },
     "execution_count": 127,
     "metadata": {},
     "output_type": "execute_result"
    }
   ],
   "source": [
    "# plot the most frequent words in the movies\n",
    "from wordcloud import WordCloud, STOPWORDS, ImageColorGenerator\n",
    "\n",
    "# combine multiple rows into one object\n",
    "text = df2['movie_info'].str.cat(sep='/ ')\n",
    "\n",
    "# Create stopword list:\n",
    "stopwords = set(STOPWORDS)\n",
    "stopwords.update([\"one\", \"two\", \"tree\", \"four\", \"five\", \"six\", \"seven\", \"eight\", \"nine\"])\n",
    "\n",
    "\n",
    "# Create and generate a word cloud image:\n",
    "wc= WordCloud(stopwords = stopwords, background_color=\"white\").generate(text)\n",
    "\n",
    "# Display the generated image:\n",
    "plt.imshow(wc, interpolation='bilinear')\n",
    "plt.axis(\"off\")\n",
    "plt.show()\n",
    "\n",
    "wc.to_file(\"rotten2.png\")\n",
    "#adapted code from: https://www.datacamp.com/community/tutorials/wordcloud-python"
   ]
  }
 ],
 "metadata": {
  "hide_input": false,
  "kernelspec": {
   "display_name": "Python 3",
   "language": "python",
   "name": "python3"
  },
  "language_info": {
   "codemirror_mode": {
    "name": "ipython",
    "version": 3
   },
   "file_extension": ".py",
   "mimetype": "text/x-python",
   "name": "python",
   "nbconvert_exporter": "python",
   "pygments_lexer": "ipython3",
   "version": "3.7.6"
  },
  "toc": {
   "base_numbering": 1,
   "nav_menu": {},
   "number_sections": true,
   "sideBar": true,
   "skip_h1_title": false,
   "title_cell": "Table of Contents",
   "title_sidebar": "Contents",
   "toc_cell": false,
   "toc_position": {
    "height": "calc(100% - 180px)",
    "left": "10px",
    "top": "150px",
    "width": "165px"
   },
   "toc_section_display": true,
   "toc_window_display": true
  }
 },
 "nbformat": 4,
 "nbformat_minor": 4
}
