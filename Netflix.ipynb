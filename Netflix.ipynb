{
 "cells": [
  {
   "cell_type": "markdown",
   "metadata": {},
   "source": [
    "## Netflix Movies and TV Shows - EDA\n",
    "\n",
    "* Source: https://www.kaggle.com/shivamb/netflix-shows\n",
    "\n",
    "All TV Shows and Movies meta data on Netflix. Updated every month."
   ]
  },
  {
   "cell_type": "markdown",
   "metadata": {},
   "source": [
    "## Questions\n",
    "\n",
    "How many tv shows are there in the dataset?\n",
    "\n",
    "[Show_id](#show_id)\n",
    "\n",
    "What are the types?\n",
    "\n",
    "[Type](#type)\n",
    "\n",
    "I will only analyze the data about movies.\n",
    "\n",
    "Are there movies with the same name?\n",
    "\n",
    "[Title](#title)\n",
    "\n",
    "What are the directors with most movies produced?\n",
    "\n",
    "[Director](#director)\n",
    "\n",
    "What are the actors/cast who has done more movies?\n",
    "\n",
    "[Cast](#cast)\n",
    "\n",
    "What are the months in which more movies are added?\n",
    "\n",
    "[Date Added](#date_added)\n",
    "\n",
    "When the movies were released?\n",
    "\n",
    "[Release Year](#release_year)\n",
    "\n",
    "\n",
    "What is the movies' duration?\n",
    "\n",
    "[Duration](#duration)\n",
    "\n",
    "\n",
    "What are the main genres?\n",
    "\n",
    "[Genre](#listed_in)\n",
    "\n",
    "What are the movies about?\n",
    "\n",
    "[Description](#description)"
   ]
  },
  {
   "cell_type": "code",
   "execution_count": 1,
   "metadata": {},
   "outputs": [],
   "source": [
    "# open libraries\n",
    "import pandas as pd\n",
    "import seaborn as sns\n",
    "import statsmodels.formula.api as smf\n",
    "import matplotlib.pyplot as plt\n",
    "%matplotlib inline\n",
    "import numpy as np\n",
    "import wordcloud\n",
    "from wordcloud import WordCloud, STOPWORDS, ImageColorGenerator"
   ]
  },
  {
   "cell_type": "code",
   "execution_count": 2,
   "metadata": {},
   "outputs": [],
   "source": [
    "# open df\n",
    "df = pd.read_csv('C:/Users/camil/Desktop/dados/netflix.csv', encoding = 'latin1', engine = 'python', delimiter = ',')"
   ]
  },
  {
   "cell_type": "code",
   "execution_count": 3,
   "metadata": {
    "scrolled": true
   },
   "outputs": [
    {
     "data": {
      "text/html": [
       "<div>\n",
       "<style scoped>\n",
       "    .dataframe tbody tr th:only-of-type {\n",
       "        vertical-align: middle;\n",
       "    }\n",
       "\n",
       "    .dataframe tbody tr th {\n",
       "        vertical-align: top;\n",
       "    }\n",
       "\n",
       "    .dataframe thead th {\n",
       "        text-align: right;\n",
       "    }\n",
       "</style>\n",
       "<table border=\"1\" class=\"dataframe\">\n",
       "  <thead>\n",
       "    <tr style=\"text-align: right;\">\n",
       "      <th></th>\n",
       "      <th>show_id</th>\n",
       "      <th>type</th>\n",
       "      <th>title</th>\n",
       "      <th>director</th>\n",
       "      <th>cast</th>\n",
       "      <th>country</th>\n",
       "      <th>date_added</th>\n",
       "      <th>release_year</th>\n",
       "      <th>rating</th>\n",
       "      <th>duration</th>\n",
       "      <th>listed_in</th>\n",
       "      <th>description</th>\n",
       "    </tr>\n",
       "  </thead>\n",
       "  <tbody>\n",
       "    <tr>\n",
       "      <th>0</th>\n",
       "      <td>81145628</td>\n",
       "      <td>Movie</td>\n",
       "      <td>Norm of the North: King Sized Adventure</td>\n",
       "      <td>Richard Finn, Tim Maltby</td>\n",
       "      <td>Alan Marriott, Andrew Toth, Brian Dobson, Cole...</td>\n",
       "      <td>United States, India, South Korea, China</td>\n",
       "      <td>September 9, 2019</td>\n",
       "      <td>2019</td>\n",
       "      <td>TV-PG</td>\n",
       "      <td>90 min</td>\n",
       "      <td>Children &amp; Family Movies, Comedies</td>\n",
       "      <td>Before planning an awesome wedding for his gra...</td>\n",
       "    </tr>\n",
       "    <tr>\n",
       "      <th>1</th>\n",
       "      <td>80117401</td>\n",
       "      <td>Movie</td>\n",
       "      <td>Jandino: Whatever it Takes</td>\n",
       "      <td>NaN</td>\n",
       "      <td>Jandino Asporaat</td>\n",
       "      <td>United Kingdom</td>\n",
       "      <td>September 9, 2016</td>\n",
       "      <td>2016</td>\n",
       "      <td>TV-MA</td>\n",
       "      <td>94 min</td>\n",
       "      <td>Stand-Up Comedy</td>\n",
       "      <td>Jandino Asporaat riffs on the challenges of ra...</td>\n",
       "    </tr>\n",
       "    <tr>\n",
       "      <th>2</th>\n",
       "      <td>70234439</td>\n",
       "      <td>TV Show</td>\n",
       "      <td>Transformers Prime</td>\n",
       "      <td>NaN</td>\n",
       "      <td>Peter Cullen, Sumalee Montano, Frank Welker, J...</td>\n",
       "      <td>United States</td>\n",
       "      <td>September 8, 2018</td>\n",
       "      <td>2013</td>\n",
       "      <td>TV-Y7-FV</td>\n",
       "      <td>1 Season</td>\n",
       "      <td>Kids' TV</td>\n",
       "      <td>With the help of three human allies, the Autob...</td>\n",
       "    </tr>\n",
       "    <tr>\n",
       "      <th>3</th>\n",
       "      <td>80058654</td>\n",
       "      <td>TV Show</td>\n",
       "      <td>Transformers: Robots in Disguise</td>\n",
       "      <td>NaN</td>\n",
       "      <td>Will Friedle, Darren Criss, Constance Zimmer, ...</td>\n",
       "      <td>United States</td>\n",
       "      <td>September 8, 2018</td>\n",
       "      <td>2016</td>\n",
       "      <td>TV-Y7</td>\n",
       "      <td>1 Season</td>\n",
       "      <td>Kids' TV</td>\n",
       "      <td>When a prison ship crash unleashes hundreds of...</td>\n",
       "    </tr>\n",
       "    <tr>\n",
       "      <th>4</th>\n",
       "      <td>80125979</td>\n",
       "      <td>Movie</td>\n",
       "      <td>#realityhigh</td>\n",
       "      <td>Fernando Lebrija</td>\n",
       "      <td>Nesta Cooper, Kate Walsh, John Michael Higgins...</td>\n",
       "      <td>United States</td>\n",
       "      <td>September 8, 2017</td>\n",
       "      <td>2017</td>\n",
       "      <td>TV-14</td>\n",
       "      <td>99 min</td>\n",
       "      <td>Comedies</td>\n",
       "      <td>When nerdy high schooler Dani finally attracts...</td>\n",
       "    </tr>\n",
       "  </tbody>\n",
       "</table>\n",
       "</div>"
      ],
      "text/plain": [
       "    show_id     type                                    title  \\\n",
       "0  81145628    Movie  Norm of the North: King Sized Adventure   \n",
       "1  80117401    Movie               Jandino: Whatever it Takes   \n",
       "2  70234439  TV Show                       Transformers Prime   \n",
       "3  80058654  TV Show         Transformers: Robots in Disguise   \n",
       "4  80125979    Movie                             #realityhigh   \n",
       "\n",
       "                   director  \\\n",
       "0  Richard Finn, Tim Maltby   \n",
       "1                       NaN   \n",
       "2                       NaN   \n",
       "3                       NaN   \n",
       "4          Fernando Lebrija   \n",
       "\n",
       "                                                cast  \\\n",
       "0  Alan Marriott, Andrew Toth, Brian Dobson, Cole...   \n",
       "1                                   Jandino Asporaat   \n",
       "2  Peter Cullen, Sumalee Montano, Frank Welker, J...   \n",
       "3  Will Friedle, Darren Criss, Constance Zimmer, ...   \n",
       "4  Nesta Cooper, Kate Walsh, John Michael Higgins...   \n",
       "\n",
       "                                    country         date_added  release_year  \\\n",
       "0  United States, India, South Korea, China  September 9, 2019          2019   \n",
       "1                            United Kingdom  September 9, 2016          2016   \n",
       "2                             United States  September 8, 2018          2013   \n",
       "3                             United States  September 8, 2018          2016   \n",
       "4                             United States  September 8, 2017          2017   \n",
       "\n",
       "     rating  duration                           listed_in  \\\n",
       "0     TV-PG    90 min  Children & Family Movies, Comedies   \n",
       "1     TV-MA    94 min                     Stand-Up Comedy   \n",
       "2  TV-Y7-FV  1 Season                            Kids' TV   \n",
       "3     TV-Y7  1 Season                            Kids' TV   \n",
       "4     TV-14    99 min                            Comedies   \n",
       "\n",
       "                                         description  \n",
       "0  Before planning an awesome wedding for his gra...  \n",
       "1  Jandino Asporaat riffs on the challenges of ra...  \n",
       "2  With the help of three human allies, the Autob...  \n",
       "3  When a prison ship crash unleashes hundreds of...  \n",
       "4  When nerdy high schooler Dani finally attracts...  "
      ]
     },
     "execution_count": 3,
     "metadata": {},
     "output_type": "execute_result"
    }
   ],
   "source": [
    "# print 4 first rows \n",
    "df.head()"
   ]
  },
  {
   "cell_type": "code",
   "execution_count": 4,
   "metadata": {
    "scrolled": false
   },
   "outputs": [
    {
     "name": "stdout",
     "output_type": "stream",
     "text": [
      "<class 'pandas.core.frame.DataFrame'>\n",
      "RangeIndex: 6234 entries, 0 to 6233\n",
      "Data columns (total 12 columns):\n",
      " #   Column        Non-Null Count  Dtype \n",
      "---  ------        --------------  ----- \n",
      " 0   show_id       6234 non-null   int64 \n",
      " 1   type          6234 non-null   object\n",
      " 2   title         6234 non-null   object\n",
      " 3   director      4265 non-null   object\n",
      " 4   cast          5664 non-null   object\n",
      " 5   country       5758 non-null   object\n",
      " 6   date_added    6223 non-null   object\n",
      " 7   release_year  6234 non-null   int64 \n",
      " 8   rating        6224 non-null   object\n",
      " 9   duration      6234 non-null   object\n",
      " 10  listed_in     6234 non-null   object\n",
      " 11  description   6234 non-null   object\n",
      "dtypes: int64(2), object(10)\n",
      "memory usage: 584.6+ KB\n"
     ]
    }
   ],
   "source": [
    "# print info about \n",
    "df.info()"
   ]
  },
  {
   "cell_type": "markdown",
   "metadata": {},
   "source": [
    "#### show_id      \n",
    "\n",
    "Unique ID for every Movie / Tv Show\n",
    "\n",
    "6234 non-null\n",
    "\n",
    "**There are 6234 tv shows in the dataset.**"
   ]
  },
  {
   "cell_type": "code",
   "execution_count": 5,
   "metadata": {
    "scrolled": true
   },
   "outputs": [
    {
     "data": {
      "text/plain": [
       "80218111    1\n",
       "81010662    1\n",
       "80188051    1\n",
       "70077076    1\n",
       "80192149    1\n",
       "           ..\n",
       "80993613    1\n",
       "80176929    1\n",
       "81001809    1\n",
       "80162131    1\n",
       "80992499    1\n",
       "Name: show_id, Length: 6234, dtype: int64"
      ]
     },
     "execution_count": 5,
     "metadata": {},
     "output_type": "execute_result"
    }
   ],
   "source": [
    "# check if there's repetead values\n",
    "## as expected, there aren't repetead values.\n",
    "\n",
    "df.show_id.value_counts()"
   ]
  },
  {
   "cell_type": "markdown",
   "metadata": {},
   "source": [
    "#### type     \n",
    "\n",
    "Identifier - A Movie or TV Show\n",
    "\n",
    "6234 non-null   object"
   ]
  },
  {
   "cell_type": "code",
   "execution_count": 6,
   "metadata": {
    "scrolled": false
   },
   "outputs": [
    {
     "data": {
      "text/plain": [
       "Movie      68.415143\n",
       "TV Show    31.584857\n",
       "Name: type, dtype: float64"
      ]
     },
     "execution_count": 6,
     "metadata": {},
     "output_type": "execute_result"
    }
   ],
   "source": [
    "df.type.value_counts()/len(df)*100"
   ]
  },
  {
   "cell_type": "code",
   "execution_count": 7,
   "metadata": {},
   "outputs": [],
   "source": [
    "## a new dataset with only movies.\n",
    "df_netflix = df[(df.type == 'Movie')]"
   ]
  },
  {
   "cell_type": "markdown",
   "metadata": {},
   "source": [
    "#### title        \n",
    "\n",
    "Title of the Movie / Tv Show\n",
    "\n",
    "4265 non-null   object"
   ]
  },
  {
   "cell_type": "code",
   "execution_count": 8,
   "metadata": {},
   "outputs": [
    {
     "data": {
      "text/plain": [
       "count            4265\n",
       "unique           4241\n",
       "top       The Silence\n",
       "freq                3\n",
       "Name: title, dtype: object"
      ]
     },
     "execution_count": 8,
     "metadata": {},
     "output_type": "execute_result"
    }
   ],
   "source": [
    "df_netflix.title.describe()"
   ]
  },
  {
   "cell_type": "code",
   "execution_count": 9,
   "metadata": {},
   "outputs": [
    {
     "data": {
      "text/html": [
       "<div>\n",
       "<style scoped>\n",
       "    .dataframe tbody tr th:only-of-type {\n",
       "        vertical-align: middle;\n",
       "    }\n",
       "\n",
       "    .dataframe tbody tr th {\n",
       "        vertical-align: top;\n",
       "    }\n",
       "\n",
       "    .dataframe thead th {\n",
       "        text-align: right;\n",
       "    }\n",
       "</style>\n",
       "<table border=\"1\" class=\"dataframe\">\n",
       "  <thead>\n",
       "    <tr style=\"text-align: right;\">\n",
       "      <th></th>\n",
       "      <th>show_id</th>\n",
       "      <th>type</th>\n",
       "      <th>title</th>\n",
       "      <th>director</th>\n",
       "      <th>cast</th>\n",
       "      <th>country</th>\n",
       "      <th>date_added</th>\n",
       "      <th>release_year</th>\n",
       "      <th>rating</th>\n",
       "      <th>duration</th>\n",
       "      <th>listed_in</th>\n",
       "      <th>description</th>\n",
       "    </tr>\n",
       "  </thead>\n",
       "  <tbody>\n",
       "    <tr>\n",
       "      <th>2387</th>\n",
       "      <td>80244078</td>\n",
       "      <td>Movie</td>\n",
       "      <td>The Silence</td>\n",
       "      <td>Gajendra Ahire</td>\n",
       "      <td>Raghuvir Yadav, Nagraj Manjule, Anjali Patil, ...</td>\n",
       "      <td>India</td>\n",
       "      <td>March 1, 2018</td>\n",
       "      <td>2017</td>\n",
       "      <td>TV-MA</td>\n",
       "      <td>90 min</td>\n",
       "      <td>Dramas, International Movies</td>\n",
       "      <td>On a train in Mumbai, 20-something Chini witne...</td>\n",
       "    </tr>\n",
       "    <tr>\n",
       "      <th>2388</th>\n",
       "      <td>80238292</td>\n",
       "      <td>Movie</td>\n",
       "      <td>The Silence</td>\n",
       "      <td>Gajendra Ahire</td>\n",
       "      <td>Raghuvir Yadav, Nagraj Manjule, Anjali Patil, ...</td>\n",
       "      <td>India</td>\n",
       "      <td>March 1, 2018</td>\n",
       "      <td>2015</td>\n",
       "      <td>TV-MA</td>\n",
       "      <td>91 min</td>\n",
       "      <td>Dramas, International Movies</td>\n",
       "      <td>After encountering a scene of sexual violence,...</td>\n",
       "    </tr>\n",
       "    <tr>\n",
       "      <th>5464</th>\n",
       "      <td>81021447</td>\n",
       "      <td>Movie</td>\n",
       "      <td>The Silence</td>\n",
       "      <td>John R. Leonetti</td>\n",
       "      <td>Stanley Tucci, Kiernan Shipka, Miranda Otto, K...</td>\n",
       "      <td>Germany</td>\n",
       "      <td>April 10, 2019</td>\n",
       "      <td>2019</td>\n",
       "      <td>TV-14</td>\n",
       "      <td>91 min</td>\n",
       "      <td>Horror Movies, Thrillers</td>\n",
       "      <td>With the world under attack by deadly creature...</td>\n",
       "    </tr>\n",
       "  </tbody>\n",
       "</table>\n",
       "</div>"
      ],
      "text/plain": [
       "       show_id   type        title          director  \\\n",
       "2387  80244078  Movie  The Silence    Gajendra Ahire   \n",
       "2388  80238292  Movie  The Silence    Gajendra Ahire   \n",
       "5464  81021447  Movie  The Silence  John R. Leonetti   \n",
       "\n",
       "                                                   cast  country  \\\n",
       "2387  Raghuvir Yadav, Nagraj Manjule, Anjali Patil, ...    India   \n",
       "2388  Raghuvir Yadav, Nagraj Manjule, Anjali Patil, ...    India   \n",
       "5464  Stanley Tucci, Kiernan Shipka, Miranda Otto, K...  Germany   \n",
       "\n",
       "          date_added  release_year rating duration  \\\n",
       "2387   March 1, 2018          2017  TV-MA   90 min   \n",
       "2388   March 1, 2018          2015  TV-MA   91 min   \n",
       "5464  April 10, 2019          2019  TV-14   91 min   \n",
       "\n",
       "                         listed_in  \\\n",
       "2387  Dramas, International Movies   \n",
       "2388  Dramas, International Movies   \n",
       "5464      Horror Movies, Thrillers   \n",
       "\n",
       "                                            description  \n",
       "2387  On a train in Mumbai, 20-something Chini witne...  \n",
       "2388  After encountering a scene of sexual violence,...  \n",
       "5464  With the world under attack by deadly creature...  "
      ]
     },
     "execution_count": 9,
     "metadata": {},
     "output_type": "execute_result"
    }
   ],
   "source": [
    "df_netflix[(df_netflix.title == \"The Silence\")]\n",
    "#there's one movie repetead, thus I'll drop one row."
   ]
  },
  {
   "cell_type": "code",
   "execution_count": 10,
   "metadata": {
    "scrolled": true
   },
   "outputs": [
    {
     "name": "stderr",
     "output_type": "stream",
     "text": [
      "C:\\Users\\camil\\anaconda3\\lib\\site-packages\\pandas\\core\\ops\\array_ops.py:253: FutureWarning: elementwise comparison failed; returning scalar instead, but in the future will perform elementwise comparison\n",
      "  res_values = method(rvalues)\n"
     ]
    }
   ],
   "source": [
    "df_netflix = df_netflix[(df_netflix.show_id != '80238292')]"
   ]
  },
  {
   "cell_type": "markdown",
   "metadata": {},
   "source": [
    "#### director   \n",
    "\n",
    "Director of the Movie\n",
    "\n",
    "4137 non-null object"
   ]
  },
  {
   "cell_type": "code",
   "execution_count": 11,
   "metadata": {
    "scrolled": false
   },
   "outputs": [
    {
     "data": {
      "text/plain": [
       "count                        4137\n",
       "unique                       3198\n",
       "top       RaÃºl Campos, Jan Suter\n",
       "freq                           18\n",
       "Name: director, dtype: object"
      ]
     },
     "execution_count": 11,
     "metadata": {},
     "output_type": "execute_result"
    }
   ],
   "source": [
    "df_netflix.director.describe()"
   ]
  },
  {
   "cell_type": "code",
   "execution_count": 12,
   "metadata": {
    "scrolled": true
   },
   "outputs": [
    {
     "data": {
      "text/html": [
       "<div>\n",
       "<style scoped>\n",
       "    .dataframe tbody tr th:only-of-type {\n",
       "        vertical-align: middle;\n",
       "    }\n",
       "\n",
       "    .dataframe tbody tr th {\n",
       "        vertical-align: top;\n",
       "    }\n",
       "\n",
       "    .dataframe thead th {\n",
       "        text-align: right;\n",
       "    }\n",
       "</style>\n",
       "<table border=\"1\" class=\"dataframe\">\n",
       "  <thead>\n",
       "    <tr style=\"text-align: right;\">\n",
       "      <th></th>\n",
       "      <th>show_id</th>\n",
       "      <th>type</th>\n",
       "      <th>title</th>\n",
       "      <th>director</th>\n",
       "      <th>cast</th>\n",
       "      <th>country</th>\n",
       "      <th>date_added</th>\n",
       "      <th>release_year</th>\n",
       "      <th>rating</th>\n",
       "      <th>duration</th>\n",
       "      <th>listed_in</th>\n",
       "      <th>description</th>\n",
       "    </tr>\n",
       "  </thead>\n",
       "  <tbody>\n",
       "    <tr>\n",
       "      <th>1337</th>\n",
       "      <td>80183088</td>\n",
       "      <td>Movie</td>\n",
       "      <td>Mea Culpa</td>\n",
       "      <td>RaÃºl Campos, Jan Suter</td>\n",
       "      <td>Alexis de Anda</td>\n",
       "      <td>Mexico</td>\n",
       "      <td>November 10, 2017</td>\n",
       "      <td>2017</td>\n",
       "      <td>TV-MA</td>\n",
       "      <td>54 min</td>\n",
       "      <td>Stand-Up Comedy</td>\n",
       "      <td>Raw and outspoken, comedian Alexis de Anda bar...</td>\n",
       "    </tr>\n",
       "    <tr>\n",
       "      <th>1655</th>\n",
       "      <td>80192137</td>\n",
       "      <td>Movie</td>\n",
       "      <td>Fernando Sanjiao: Hombre</td>\n",
       "      <td>RaÃºl Campos, Jan Suter</td>\n",
       "      <td>Fernando Sanjiao</td>\n",
       "      <td>Argentina</td>\n",
       "      <td>May 25, 2018</td>\n",
       "      <td>2018</td>\n",
       "      <td>TV-MA</td>\n",
       "      <td>63 min</td>\n",
       "      <td>Stand-Up Comedy</td>\n",
       "      <td>Argentine actor and comedian Fernando Sanjiao ...</td>\n",
       "    </tr>\n",
       "    <tr>\n",
       "      <th>1794</th>\n",
       "      <td>80192065</td>\n",
       "      <td>Movie</td>\n",
       "      <td>Carlos Ballarta: Furia Ãera</td>\n",
       "      <td>RaÃºl Campos, Jan Suter</td>\n",
       "      <td>Carlos Ballarta</td>\n",
       "      <td>Mexico</td>\n",
       "      <td>May 11, 2018</td>\n",
       "      <td>2018</td>\n",
       "      <td>TV-MA</td>\n",
       "      <td>63 min</td>\n",
       "      <td>Stand-Up Comedy</td>\n",
       "      <td>Mexican comic Carlos Ballarta mocks himself an...</td>\n",
       "    </tr>\n",
       "    <tr>\n",
       "      <th>2035</th>\n",
       "      <td>80183197</td>\n",
       "      <td>Movie</td>\n",
       "      <td>SofÃ­a NiÃ±o de Rivera: SelecciÃ³n Natural</td>\n",
       "      <td>RaÃºl Campos, Jan Suter</td>\n",
       "      <td>SofÃ­a NiÃ±o de Rivera</td>\n",
       "      <td>Mexico</td>\n",
       "      <td>March 30, 2018</td>\n",
       "      <td>2018</td>\n",
       "      <td>TV-MA</td>\n",
       "      <td>62 min</td>\n",
       "      <td>Stand-Up Comedy</td>\n",
       "      <td>Mexico's SofÃ­a NiÃ±o de Rivera brings her dar...</td>\n",
       "    </tr>\n",
       "    <tr>\n",
       "      <th>2133</th>\n",
       "      <td>80192139</td>\n",
       "      <td>Movie</td>\n",
       "      <td>Malena Pichot: Estupidez compleja</td>\n",
       "      <td>RaÃºl Campos, Jan Suter</td>\n",
       "      <td>Malena Pichot</td>\n",
       "      <td>Argentina</td>\n",
       "      <td>March 2, 2018</td>\n",
       "      <td>2018</td>\n",
       "      <td>TV-MA</td>\n",
       "      <td>51 min</td>\n",
       "      <td>Stand-Up Comedy</td>\n",
       "      <td>An Argentine comedian espouses the values of f...</td>\n",
       "    </tr>\n",
       "    <tr>\n",
       "      <th>2134</th>\n",
       "      <td>80192063</td>\n",
       "      <td>Movie</td>\n",
       "      <td>Natalia Valdebenito: El especial</td>\n",
       "      <td>RaÃºl Campos, Jan Suter</td>\n",
       "      <td>Natalia Valdebenito</td>\n",
       "      <td>Chile</td>\n",
       "      <td>March 2, 2018</td>\n",
       "      <td>2018</td>\n",
       "      <td>TV-MA</td>\n",
       "      <td>69 min</td>\n",
       "      <td>Stand-Up Comedy</td>\n",
       "      <td>A Chilean comedian fuses activism with irrever...</td>\n",
       "    </tr>\n",
       "    <tr>\n",
       "      <th>2504</th>\n",
       "      <td>80191989</td>\n",
       "      <td>Movie</td>\n",
       "      <td>Jani DueÃ±as: Grandes fracasos de ayer y hoy</td>\n",
       "      <td>RaÃºl Campos, Jan Suter</td>\n",
       "      <td>Jani DueÃ±as</td>\n",
       "      <td>Chile</td>\n",
       "      <td>June 29, 2018</td>\n",
       "      <td>2018</td>\n",
       "      <td>TV-MA</td>\n",
       "      <td>77 min</td>\n",
       "      <td>Stand-Up Comedy</td>\n",
       "      <td>Chilean comedian and personality Jani DueÃ±as ...</td>\n",
       "    </tr>\n",
       "    <tr>\n",
       "      <th>2550</th>\n",
       "      <td>80097641</td>\n",
       "      <td>Movie</td>\n",
       "      <td>SofÃ­a NiÃ±o de Rivera: Exposed</td>\n",
       "      <td>RaÃºl Campos, Jan Suter</td>\n",
       "      <td>SofÃ­a NiÃ±o de Rivera</td>\n",
       "      <td>Mexico</td>\n",
       "      <td>June 24, 2016</td>\n",
       "      <td>2016</td>\n",
       "      <td>TV-MA</td>\n",
       "      <td>80 min</td>\n",
       "      <td>Stand-Up Comedy</td>\n",
       "      <td>Self-deprecating comic SofÃ­a NiÃ±o de Rivera ...</td>\n",
       "    </tr>\n",
       "    <tr>\n",
       "      <th>2783</th>\n",
       "      <td>80192064</td>\n",
       "      <td>Movie</td>\n",
       "      <td>Luciano Mellera: Infantiloide</td>\n",
       "      <td>RaÃºl Campos, Jan Suter</td>\n",
       "      <td>Luciano Mellera</td>\n",
       "      <td>Argentina</td>\n",
       "      <td>July 6, 2018</td>\n",
       "      <td>2018</td>\n",
       "      <td>TV-14</td>\n",
       "      <td>66 min</td>\n",
       "      <td>Stand-Up Comedy</td>\n",
       "      <td>Argentina's Luciano Mellera emphasizes the hum...</td>\n",
       "    </tr>\n",
       "    <tr>\n",
       "      <th>2834</th>\n",
       "      <td>80192135</td>\n",
       "      <td>Movie</td>\n",
       "      <td>Coco y Raulito: Carrusel de ternura</td>\n",
       "      <td>RaÃºl Campos, Jan Suter</td>\n",
       "      <td>Coco Celis, RaÃºl Meneses</td>\n",
       "      <td>Mexico</td>\n",
       "      <td>July 27, 2018</td>\n",
       "      <td>2018</td>\n",
       "      <td>TV-MA</td>\n",
       "      <td>57 min</td>\n",
       "      <td>Stand-Up Comedy</td>\n",
       "      <td>A study in contrasts, comedy partners and good...</td>\n",
       "    </tr>\n",
       "    <tr>\n",
       "      <th>3287</th>\n",
       "      <td>80192138</td>\n",
       "      <td>Movie</td>\n",
       "      <td>SebastiÃ¡n Marcelo Wainraich</td>\n",
       "      <td>RaÃºl Campos, Jan Suter</td>\n",
       "      <td>SebastiÃ¡n Marcelo Wainraich</td>\n",
       "      <td>Argentina</td>\n",
       "      <td>January 26, 2018</td>\n",
       "      <td>2018</td>\n",
       "      <td>TV-MA</td>\n",
       "      <td>49 min</td>\n",
       "      <td>Stand-Up Comedy</td>\n",
       "      <td>Argentine comedian SebastiÃ¡n Wainraich highli...</td>\n",
       "    </tr>\n",
       "    <tr>\n",
       "      <th>3303</th>\n",
       "      <td>80192062</td>\n",
       "      <td>Movie</td>\n",
       "      <td>Ricardo Quevedo: Hay gente asÃ­</td>\n",
       "      <td>RaÃºl Campos, Jan Suter</td>\n",
       "      <td>Ricardo Quevedo</td>\n",
       "      <td>Colombia</td>\n",
       "      <td>January 24, 2018</td>\n",
       "      <td>2018</td>\n",
       "      <td>TV-MA</td>\n",
       "      <td>59 min</td>\n",
       "      <td>Stand-Up Comedy</td>\n",
       "      <td>Droll comic Ricardo Quevedo hits BogotÃ¡ with ...</td>\n",
       "    </tr>\n",
       "    <tr>\n",
       "      <th>3318</th>\n",
       "      <td>80079427</td>\n",
       "      <td>Movie</td>\n",
       "      <td>Ricardo O'Farrill Abrazo Genial</td>\n",
       "      <td>RaÃºl Campos, Jan Suter</td>\n",
       "      <td>Ricardo O'Farrill</td>\n",
       "      <td>Mexico</td>\n",
       "      <td>January 22, 2016</td>\n",
       "      <td>2016</td>\n",
       "      <td>TV-MA</td>\n",
       "      <td>92 min</td>\n",
       "      <td>Stand-Up Comedy</td>\n",
       "      <td>Ricardo O'Farrill brings his sharp, observatio...</td>\n",
       "    </tr>\n",
       "    <tr>\n",
       "      <th>3355</th>\n",
       "      <td>80191988</td>\n",
       "      <td>Movie</td>\n",
       "      <td>Arango y Sanint: RÃ­ase el show</td>\n",
       "      <td>RaÃºl Campos, Jan Suter</td>\n",
       "      <td>JuliÃ¡n Arango, Antonio Sanint</td>\n",
       "      <td>Colombia</td>\n",
       "      <td>January 17, 2018</td>\n",
       "      <td>2018</td>\n",
       "      <td>TV-MA</td>\n",
       "      <td>62 min</td>\n",
       "      <td>Stand-Up Comedy</td>\n",
       "      <td>Colombian stand-up comedians Antonio Sanint an...</td>\n",
       "    </tr>\n",
       "    <tr>\n",
       "      <th>3792</th>\n",
       "      <td>80124726</td>\n",
       "      <td>Movie</td>\n",
       "      <td>Daniel Sosa: Sosafado</td>\n",
       "      <td>RaÃºl Campos, Jan Suter</td>\n",
       "      <td>Daniel Sosa</td>\n",
       "      <td>Mexico</td>\n",
       "      <td>February 3, 2017</td>\n",
       "      <td>2017</td>\n",
       "      <td>TV-MA</td>\n",
       "      <td>78 min</td>\n",
       "      <td>Stand-Up Comedy</td>\n",
       "      <td>Comedian Daniel Sosa inhabits various characte...</td>\n",
       "    </tr>\n",
       "    <tr>\n",
       "      <th>4596</th>\n",
       "      <td>80124728</td>\n",
       "      <td>Movie</td>\n",
       "      <td>Ricardo O'Farrill: Abrazo navideÃ±o</td>\n",
       "      <td>RaÃºl Campos, Jan Suter</td>\n",
       "      <td>Ricardo O'Farrill, Carlos Ballarta, SofÃ­a NiÃ...</td>\n",
       "      <td>Mexico</td>\n",
       "      <td>December 12, 2016</td>\n",
       "      <td>2016</td>\n",
       "      <td>TV-MA</td>\n",
       "      <td>31 min</td>\n",
       "      <td>Stand-Up Comedy</td>\n",
       "      <td>The expressive Ricardo O'Farrill uses his astu...</td>\n",
       "    </tr>\n",
       "    <tr>\n",
       "      <th>4785</th>\n",
       "      <td>80124724</td>\n",
       "      <td>Movie</td>\n",
       "      <td>Alan SaldaÃ±a: Mi vida de pobre</td>\n",
       "      <td>RaÃºl Campos, Jan Suter</td>\n",
       "      <td>Alan SaldaÃ±a</td>\n",
       "      <td>Mexico</td>\n",
       "      <td>August 4, 2017</td>\n",
       "      <td>2017</td>\n",
       "      <td>TV-MA</td>\n",
       "      <td>54 min</td>\n",
       "      <td>Stand-Up Comedy</td>\n",
       "      <td>Mexican comic Alan SaldaÃ±a has fun with every...</td>\n",
       "    </tr>\n",
       "    <tr>\n",
       "      <th>5204</th>\n",
       "      <td>80191990</td>\n",
       "      <td>Movie</td>\n",
       "      <td>Todo lo que serÃ­a Lucas Lauriente</td>\n",
       "      <td>RaÃºl Campos, Jan Suter</td>\n",
       "      <td>Lucas Lauriente</td>\n",
       "      <td>Argentina</td>\n",
       "      <td>April 6, 2018</td>\n",
       "      <td>2018</td>\n",
       "      <td>TV-MA</td>\n",
       "      <td>78 min</td>\n",
       "      <td>Stand-Up Comedy</td>\n",
       "      <td>In his stand-up set, Argentine comic Lucas Lau...</td>\n",
       "    </tr>\n",
       "  </tbody>\n",
       "</table>\n",
       "</div>"
      ],
      "text/plain": [
       "       show_id   type                                         title  \\\n",
       "1337  80183088  Movie                                     Mea Culpa   \n",
       "1655  80192137  Movie                      Fernando Sanjiao: Hombre   \n",
       "1794  80192065  Movie                  Carlos Ballarta: Furia Ãera   \n",
       "2035  80183197  Movie    SofÃ­a NiÃ±o de Rivera: SelecciÃ³n Natural   \n",
       "2133  80192139  Movie             Malena Pichot: Estupidez compleja   \n",
       "2134  80192063  Movie              Natalia Valdebenito: El especial   \n",
       "2504  80191989  Movie  Jani DueÃ±as: Grandes fracasos de ayer y hoy   \n",
       "2550  80097641  Movie               SofÃ­a NiÃ±o de Rivera: Exposed   \n",
       "2783  80192064  Movie                 Luciano Mellera: Infantiloide   \n",
       "2834  80192135  Movie           Coco y Raulito: Carrusel de ternura   \n",
       "3287  80192138  Movie                  SebastiÃ¡n Marcelo Wainraich   \n",
       "3303  80192062  Movie               Ricardo Quevedo: Hay gente asÃ­   \n",
       "3318  80079427  Movie               Ricardo O'Farrill Abrazo Genial   \n",
       "3355  80191988  Movie               Arango y Sanint: RÃ­ase el show   \n",
       "3792  80124726  Movie                         Daniel Sosa: Sosafado   \n",
       "4596  80124728  Movie           Ricardo O'Farrill: Abrazo navideÃ±o   \n",
       "4785  80124724  Movie               Alan SaldaÃ±a: Mi vida de pobre   \n",
       "5204  80191990  Movie            Todo lo que serÃ­a Lucas Lauriente   \n",
       "\n",
       "                     director  \\\n",
       "1337  RaÃºl Campos, Jan Suter   \n",
       "1655  RaÃºl Campos, Jan Suter   \n",
       "1794  RaÃºl Campos, Jan Suter   \n",
       "2035  RaÃºl Campos, Jan Suter   \n",
       "2133  RaÃºl Campos, Jan Suter   \n",
       "2134  RaÃºl Campos, Jan Suter   \n",
       "2504  RaÃºl Campos, Jan Suter   \n",
       "2550  RaÃºl Campos, Jan Suter   \n",
       "2783  RaÃºl Campos, Jan Suter   \n",
       "2834  RaÃºl Campos, Jan Suter   \n",
       "3287  RaÃºl Campos, Jan Suter   \n",
       "3303  RaÃºl Campos, Jan Suter   \n",
       "3318  RaÃºl Campos, Jan Suter   \n",
       "3355  RaÃºl Campos, Jan Suter   \n",
       "3792  RaÃºl Campos, Jan Suter   \n",
       "4596  RaÃºl Campos, Jan Suter   \n",
       "4785  RaÃºl Campos, Jan Suter   \n",
       "5204  RaÃºl Campos, Jan Suter   \n",
       "\n",
       "                                                   cast    country  \\\n",
       "1337                                     Alexis de Anda     Mexico   \n",
       "1655                                   Fernando Sanjiao  Argentina   \n",
       "1794                                    Carlos Ballarta     Mexico   \n",
       "2035                             SofÃ­a NiÃ±o de Rivera     Mexico   \n",
       "2133                                      Malena Pichot  Argentina   \n",
       "2134                                Natalia Valdebenito      Chile   \n",
       "2504                                       Jani DueÃ±as      Chile   \n",
       "2550                             SofÃ­a NiÃ±o de Rivera     Mexico   \n",
       "2783                                    Luciano Mellera  Argentina   \n",
       "2834                          Coco Celis, RaÃºl Meneses     Mexico   \n",
       "3287                       SebastiÃ¡n Marcelo Wainraich  Argentina   \n",
       "3303                                    Ricardo Quevedo   Colombia   \n",
       "3318                                  Ricardo O'Farrill     Mexico   \n",
       "3355                     JuliÃ¡n Arango, Antonio Sanint   Colombia   \n",
       "3792                                        Daniel Sosa     Mexico   \n",
       "4596  Ricardo O'Farrill, Carlos Ballarta, SofÃ­a NiÃ...     Mexico   \n",
       "4785                                      Alan SaldaÃ±a     Mexico   \n",
       "5204                                    Lucas Lauriente  Argentina   \n",
       "\n",
       "             date_added  release_year rating duration        listed_in  \\\n",
       "1337  November 10, 2017          2017  TV-MA   54 min  Stand-Up Comedy   \n",
       "1655       May 25, 2018          2018  TV-MA   63 min  Stand-Up Comedy   \n",
       "1794       May 11, 2018          2018  TV-MA   63 min  Stand-Up Comedy   \n",
       "2035     March 30, 2018          2018  TV-MA   62 min  Stand-Up Comedy   \n",
       "2133      March 2, 2018          2018  TV-MA   51 min  Stand-Up Comedy   \n",
       "2134      March 2, 2018          2018  TV-MA   69 min  Stand-Up Comedy   \n",
       "2504      June 29, 2018          2018  TV-MA   77 min  Stand-Up Comedy   \n",
       "2550      June 24, 2016          2016  TV-MA   80 min  Stand-Up Comedy   \n",
       "2783       July 6, 2018          2018  TV-14   66 min  Stand-Up Comedy   \n",
       "2834      July 27, 2018          2018  TV-MA   57 min  Stand-Up Comedy   \n",
       "3287   January 26, 2018          2018  TV-MA   49 min  Stand-Up Comedy   \n",
       "3303   January 24, 2018          2018  TV-MA   59 min  Stand-Up Comedy   \n",
       "3318   January 22, 2016          2016  TV-MA   92 min  Stand-Up Comedy   \n",
       "3355   January 17, 2018          2018  TV-MA   62 min  Stand-Up Comedy   \n",
       "3792   February 3, 2017          2017  TV-MA   78 min  Stand-Up Comedy   \n",
       "4596  December 12, 2016          2016  TV-MA   31 min  Stand-Up Comedy   \n",
       "4785     August 4, 2017          2017  TV-MA   54 min  Stand-Up Comedy   \n",
       "5204      April 6, 2018          2018  TV-MA   78 min  Stand-Up Comedy   \n",
       "\n",
       "                                            description  \n",
       "1337  Raw and outspoken, comedian Alexis de Anda bar...  \n",
       "1655  Argentine actor and comedian Fernando Sanjiao ...  \n",
       "1794  Mexican comic Carlos Ballarta mocks himself an...  \n",
       "2035  Mexico's SofÃ­a NiÃ±o de Rivera brings her dar...  \n",
       "2133  An Argentine comedian espouses the values of f...  \n",
       "2134  A Chilean comedian fuses activism with irrever...  \n",
       "2504  Chilean comedian and personality Jani DueÃ±as ...  \n",
       "2550  Self-deprecating comic SofÃ­a NiÃ±o de Rivera ...  \n",
       "2783  Argentina's Luciano Mellera emphasizes the hum...  \n",
       "2834  A study in contrasts, comedy partners and good...  \n",
       "3287  Argentine comedian SebastiÃ¡n Wainraich highli...  \n",
       "3303  Droll comic Ricardo Quevedo hits BogotÃ¡ with ...  \n",
       "3318  Ricardo O'Farrill brings his sharp, observatio...  \n",
       "3355  Colombian stand-up comedians Antonio Sanint an...  \n",
       "3792  Comedian Daniel Sosa inhabits various characte...  \n",
       "4596  The expressive Ricardo O'Farrill uses his astu...  \n",
       "4785  Mexican comic Alan SaldaÃ±a has fun with every...  \n",
       "5204  In his stand-up set, Argentine comic Lucas Lau...  "
      ]
     },
     "execution_count": 12,
     "metadata": {},
     "output_type": "execute_result"
    }
   ],
   "source": [
    "#print the movies directed by RaÃºl Campos and Jan Suter together.\n",
    "df_netflix[(df_netflix.director == \"RaÃºl Campos, Jan Suter\")]"
   ]
  },
  {
   "cell_type": "code",
   "execution_count": 13,
   "metadata": {},
   "outputs": [],
   "source": [
    "#create a df that split the director column\n",
    "df_director = df_netflix.assign(var1 = df_netflix.director.str.split(',')).explode('var1').reset_index(drop = True)\n",
    "\n",
    "#To remove white space at the beginning of string:\n",
    "df_director['var1'] = df_director.var1.str.lstrip()"
   ]
  },
  {
   "cell_type": "code",
   "execution_count": 14,
   "metadata": {},
   "outputs": [
    {
     "data": {
      "text/plain": [
       "Text(0, 0.5, '')"
      ]
     },
     "execution_count": 14,
     "metadata": {},
     "output_type": "execute_result"
    },
    {
     "name": "stderr",
     "output_type": "stream",
     "text": [
      "C:\\Users\\camil\\anaconda3\\lib\\site-packages\\matplotlib\\backends\\backend_agg.py:211: RuntimeWarning: Glyph 159 missing from current font.\n",
      "  font.set_text(s, 0.0, flags=flags)\n",
      "C:\\Users\\camil\\anaconda3\\lib\\site-packages\\matplotlib\\backends\\backend_agg.py:180: RuntimeWarning: Glyph 159 missing from current font.\n",
      "  font.set_text(s, 0, flags=flags)\n"
     ]
    },
    {
     "data": {
      "image/png": "[encoded data removed]",
      "text/plain": [
       "<Figure size 432x288 with 1 Axes>"
      ]
     },
     "metadata": {
      "needs_background": "light"
     },
     "output_type": "display_data"
    }
   ],
   "source": [
    "sns.countplot(y = df_director.var1, order=df_director.var1.value_counts().iloc[:15].index, palette = 'colorblind')\n",
    "plt.title('Top 15 Directors')\n",
    "plt.xlabel('')\n",
    "plt.ylabel('')"
   ]
  },
  {
   "cell_type": "markdown",
   "metadata": {},
   "source": [
    "#### cast          \n",
    "\n",
    "Actors involved in the movie / show\n",
    "\n",
    "3905 non-null object"
   ]
  },
  {
   "cell_type": "code",
   "execution_count": 15,
   "metadata": {
    "scrolled": true
   },
   "outputs": [
    {
     "data": {
      "text/plain": [
       "count            3905\n",
       "unique           3763\n",
       "top       Samuel West\n",
       "freq               10\n",
       "Name: cast, dtype: object"
      ]
     },
     "execution_count": 15,
     "metadata": {},
     "output_type": "execute_result"
    }
   ],
   "source": [
    "df_netflix.cast.describe()"
   ]
  },
  {
   "cell_type": "code",
   "execution_count": 16,
   "metadata": {},
   "outputs": [],
   "source": [
    "#create a df that split the cast column\n",
    "df_cast = df_netflix.assign(var1=df_netflix.cast.str.split(',')).explode('var1').reset_index(drop=True)\n",
    "\n",
    "#To remove white space at the beginning of string:\n",
    "df_cast['var1'] = df_cast.var1.str.lstrip()"
   ]
  },
  {
   "cell_type": "code",
   "execution_count": 17,
   "metadata": {
    "scrolled": true
   },
   "outputs": [
    {
     "data": {
      "text/plain": [
       "Text(0.5, 1.0, 'Top 15 Actors')"
      ]
     },
     "execution_count": 17,
     "metadata": {},
     "output_type": "execute_result"
    },
    {
     "data": {
      "image/png": "[encoded data removed]",
      "text/plain": [
       "<Figure size 432x288 with 1 Axes>"
      ]
     },
     "metadata": {
      "needs_background": "light"
     },
     "output_type": "display_data"
    }
   ],
   "source": [
    "#plot the top 15 actors with the most movies.\n",
    "sns.countplot(y = df_cast.var1, order=df_cast.var1.value_counts().iloc[:15].index, palette = 'colorblind')\n",
    "plt.xlabel('Number of Movies')\n",
    "plt.ylabel('Actor')\n",
    "plt.title('Top 15 Actors')"
   ]
  },
  {
   "cell_type": "markdown",
   "metadata": {},
   "source": [
    "In the plot above, we've plotted the number of movies that each actor worked. Most of them have Indian names."
   ]
  },
  {
   "cell_type": "markdown",
   "metadata": {},
   "source": [
    "####  country     \n",
    "\n",
    "Country where the movie / show was produced\n",
    "\n",
    "4070 non-null object"
   ]
  },
  {
   "cell_type": "code",
   "execution_count": 18,
   "metadata": {},
   "outputs": [
    {
     "data": {
      "text/plain": [
       "count              4070\n",
       "unique              482\n",
       "top       United States\n",
       "freq               1482\n",
       "Name: country, dtype: object"
      ]
     },
     "execution_count": 18,
     "metadata": {},
     "output_type": "execute_result"
    }
   ],
   "source": [
    "df_netflix.country.describe()"
   ]
  },
  {
   "cell_type": "code",
   "execution_count": 19,
   "metadata": {},
   "outputs": [],
   "source": [
    "#create a df that split the country column\n",
    "df_country = df_netflix.assign(var1=df_netflix.country.str.split(',')).explode('var1').reset_index(drop=True)\n",
    "\n",
    "#To remove white space at the beginning of string:\n",
    "df_country['var1'] = df_country.var1.str.lstrip()"
   ]
  },
  {
   "cell_type": "code",
   "execution_count": 20,
   "metadata": {},
   "outputs": [
    {
     "data": {
      "text/plain": [
       "United States     35.544061\n",
       "India             14.465176\n",
       "United Kingdom     7.001663\n",
       "Canada             3.898023\n",
       "France             3.713283\n",
       "                    ...    \n",
       "Armenia            0.018474\n",
       "Samoa              0.018474\n",
       "Somalia            0.018474\n",
       "Malawi             0.018474\n",
       "Albania            0.018474\n",
       "Name: var1, Length: 105, dtype: float64"
      ]
     },
     "execution_count": 20,
     "metadata": {},
     "output_type": "execute_result"
    }
   ],
   "source": [
    "df_country.var1.value_counts()/len(df_country)*100"
   ]
  },
  {
   "cell_type": "code",
   "execution_count": 21,
   "metadata": {
    "scrolled": true
   },
   "outputs": [
    {
     "data": {
      "text/plain": [
       "Text(0.5, 1.0, 'Top 15 Countries')"
      ]
     },
     "execution_count": 21,
     "metadata": {},
     "output_type": "execute_result"
    },
    {
     "data": {
      "image/png": "[encoded data removed]",
      "text/plain": [
       "<Figure size 432x288 with 1 Axes>"
      ]
     },
     "metadata": {
      "needs_background": "light"
     },
     "output_type": "display_data"
    }
   ],
   "source": [
    "#plot the top 15 countries with the most movies produced.\n",
    "sns.countplot(y = df_country.var1, order=df_country.var1.value_counts().iloc[:15].index, palette = 'colorblind')\n",
    "plt.xlabel('Number of Movies')\n",
    "plt.ylabel('Country')\n",
    "plt.title('Top 15 Countries')"
   ]
  },
  {
   "cell_type": "markdown",
   "metadata": {},
   "source": [
    "The United States is the country with the most number of movies, followed by India and the United Kingdom."
   ]
  },
  {
   "cell_type": "markdown",
   "metadata": {},
   "source": [
    "#### date_added    \n",
    "\n",
    "Date it was added on Netflix\n",
    "\n",
    "4264 non-null datetime64"
   ]
  },
  {
   "cell_type": "code",
   "execution_count": 22,
   "metadata": {
    "scrolled": false
   },
   "outputs": [],
   "source": [
    "## convert to date\n",
    "df_netflix['date_added']= df_netflix.date_added.astype('datetime64') \n",
    "\n",
    "## get only the year\n",
    "df_netflix['date_added_year'] = df_netflix.date_added.dt.year\n",
    "\n",
    "## get only the month\n",
    "df_netflix['date_added_month'] = df_netflix.date_added.dt.month"
   ]
  },
  {
   "cell_type": "code",
   "execution_count": 23,
   "metadata": {},
   "outputs": [
    {
     "data": {
      "text/plain": [
       "Text(0.5, 0, 'Year')"
      ]
     },
     "execution_count": 23,
     "metadata": {},
     "output_type": "execute_result"
    },
    {
     "data": {
      "image/png": "[encoded data removed]",
      "text/plain": [
       "<Figure size 432x288 with 1 Axes>"
      ]
     },
     "metadata": {
      "needs_background": "light"
     },
     "output_type": "display_data"
    }
   ],
   "source": [
    "## plot a density plot\n",
    "sns.distplot(df_netflix.date_added_year)\n",
    "plt.title('Added Year')\n",
    "plt.xlabel(\"Year\")"
   ]
  },
  {
   "cell_type": "markdown",
   "metadata": {},
   "source": [
    "Netflix has addded movies since 2008, from 2016 there's an expressive growth trend."
   ]
  },
  {
   "cell_type": "code",
   "execution_count": 24,
   "metadata": {
    "scrolled": true
   },
   "outputs": [
    {
     "data": {
      "text/plain": [
       "Text(0.5, 0, 'Month')"
      ]
     },
     "execution_count": 24,
     "metadata": {},
     "output_type": "execute_result"
    },
    {
     "data": {
      "image/png": "[encoded data removed]",
      "text/plain": [
       "<Figure size 432x288 with 1 Axes>"
      ]
     },
     "metadata": {
      "needs_background": "light"
     },
     "output_type": "display_data"
    }
   ],
   "source": [
    "## plot a density plot\n",
    "sns.distplot(df_netflix.date_added_month)\n",
    "plt.title('Added Month')\n",
    "plt.xlabel(\"Month\")"
   ]
  },
  {
   "cell_type": "code",
   "execution_count": 25,
   "metadata": {},
   "outputs": [
    {
     "data": {
      "text/plain": [
       "<matplotlib.axes._subplots.AxesSubplot at 0x27594974888>"
      ]
     },
     "execution_count": 25,
     "metadata": {},
     "output_type": "execute_result"
    },
    {
     "data": {
      "image/png": "[encoded data removed]",
      "text/plain": [
       "<Figure size 432x288 with 1 Axes>"
      ]
     },
     "metadata": {
      "needs_background": "light"
     },
     "output_type": "display_data"
    }
   ],
   "source": [
    "# plot the number of movies added grouped by month \n",
    "#set order by the number of movies descending\n",
    "sns.countplot(y=df_netflix.date_added_month, palette = 'colorblind', order = df_netflix.date_added_month.value_counts().index)"
   ]
  },
  {
   "cell_type": "markdown",
   "metadata": {},
   "source": [
    "Netflix adds more movies in December, January, October and November. Thus, in the end of the year."
   ]
  },
  {
   "cell_type": "markdown",
   "metadata": {},
   "source": [
    "### release_year\n",
    "\n",
    "Actual Release year of the move / show\n",
    "\n",
    "4265 non-null"
   ]
  },
  {
   "cell_type": "code",
   "execution_count": 26,
   "metadata": {
    "scrolled": true
   },
   "outputs": [
    {
     "data": {
      "text/plain": [
       "Text(0.5, 0, 'Year')"
      ]
     },
     "execution_count": 26,
     "metadata": {},
     "output_type": "execute_result"
    },
    {
     "data": {
      "image/png": "[encoded data removed]",
      "text/plain": [
       "<Figure size 432x288 with 1 Axes>"
      ]
     },
     "metadata": {
      "needs_background": "light"
     },
     "output_type": "display_data"
    }
   ],
   "source": [
    "sns.distplot(df_netflix.release_year)\n",
    "plt.title('Release Year')\n",
    "plt.xlabel('Year')"
   ]
  },
  {
   "cell_type": "markdown",
   "metadata": {},
   "source": [
    "Most of the movies were released from 2017."
   ]
  },
  {
   "cell_type": "markdown",
   "metadata": {},
   "source": [
    "#### rating        \n",
    "\n",
    "TV Rating of the movie / show\n",
    "\n",
    "4257 non-null"
   ]
  },
  {
   "cell_type": "code",
   "execution_count": 27,
   "metadata": {},
   "outputs": [
    {
     "data": {
      "text/plain": [
       "array(['TV-PG', 'TV-MA', 'TV-14', 'R', 'TV-Y7', 'TV-Y', 'NR', 'PG-13',\n",
       "       'TV-G', 'PG', 'G', nan, 'UR', 'TV-Y7-FV', 'NC-17'], dtype=object)"
      ]
     },
     "execution_count": 27,
     "metadata": {},
     "output_type": "execute_result"
    }
   ],
   "source": [
    "df_netflix.rating.unique()"
   ]
  },
  {
   "cell_type": "code",
   "execution_count": 28,
   "metadata": {
    "scrolled": true
   },
   "outputs": [
    {
     "data": {
      "text/plain": [
       "Text(0, 0.5, '')"
      ]
     },
     "execution_count": 28,
     "metadata": {},
     "output_type": "execute_result"
    },
    {
     "data": {
      "image/png": "[encoded data removed]",
      "text/plain": [
       "<Figure size 432x288 with 1 Axes>"
      ]
     },
     "metadata": {
      "needs_background": "light"
     },
     "output_type": "display_data"
    }
   ],
   "source": [
    "sns.countplot(y = df_netflix.rating, palette = 'colorblind', order = df_netflix.rating.value_counts().index)\n",
    "plt.title('Rating')\n",
    "plt.xlabel('')\n",
    "plt.ylabel('')"
   ]
  },
  {
   "cell_type": "markdown",
   "metadata": {},
   "source": [
    "#### duration\n",
    "\n",
    "Total Duration - in minutes or number of seasons"
   ]
  },
  {
   "cell_type": "code",
   "execution_count": 29,
   "metadata": {
    "scrolled": true
   },
   "outputs": [],
   "source": [
    "df_netflix['duration'] = df_netflix.duration.str.rstrip('min').astype(float)\n",
    "\n",
    "#df_disney.runtime.str.rstrip('min')"
   ]
  },
  {
   "cell_type": "code",
   "execution_count": 30,
   "metadata": {
    "scrolled": true
   },
   "outputs": [
    {
     "data": {
      "text/plain": [
       "Text(0.5, 0, 'Duration')"
      ]
     },
     "execution_count": 30,
     "metadata": {},
     "output_type": "execute_result"
    },
    {
     "data": {
      "image/png": "[encoded data removed]",
      "text/plain": [
       "<Figure size 432x288 with 1 Axes>"
      ]
     },
     "metadata": {
      "needs_background": "light"
     },
     "output_type": "display_data"
    }
   ],
   "source": [
    "# duration density plot\n",
    "sns.distplot(df_netflix.duration)\n",
    "plt.title('Duration Density Plot')\n",
    "plt.xlabel('Duration')"
   ]
  },
  {
   "cell_type": "markdown",
   "metadata": {},
   "source": [
    "#### listed_in         \n",
    "\n",
    "Genres\n",
    "\n",
    "4265 non-null   object   "
   ]
  },
  {
   "cell_type": "code",
   "execution_count": 31,
   "metadata": {},
   "outputs": [
    {
     "data": {
      "text/plain": [
       "count              4265\n",
       "unique              249\n",
       "top       Documentaries\n",
       "freq                299\n",
       "Name: listed_in, dtype: object"
      ]
     },
     "execution_count": 31,
     "metadata": {},
     "output_type": "execute_result"
    }
   ],
   "source": [
    "df_netflix.listed_in.describe()"
   ]
  },
  {
   "cell_type": "code",
   "execution_count": 32,
   "metadata": {},
   "outputs": [],
   "source": [
    "#create a df that split the listed column\n",
    "df_list = df_netflix.assign(var1 = df_netflix.listed_in.str.split(',')).explode('var1').reset_index(drop = True)\n",
    "\n",
    "#To remove white space at the beginning of string:\n",
    "df_list['var1'] = df_list.var1.str.lstrip()"
   ]
  },
  {
   "cell_type": "code",
   "execution_count": 33,
   "metadata": {
    "scrolled": true
   },
   "outputs": [
    {
     "data": {
      "text/plain": [
       "International Movies        21.154902\n",
       "Dramas                      17.817543\n",
       "Comedies                    12.218685\n",
       "Documentaries                7.333407\n",
       "Action & Adventure           6.553958\n",
       "Independent Movies           6.059941\n",
       "Thrillers                    4.303436\n",
       "Children & Family Movies     4.149742\n",
       "Romantic Movies              4.127786\n",
       "Stand-Up Comedy              3.084861\n",
       "Horror Movies                2.876276\n",
       "Music & Musicals             2.667691\n",
       "Sci-Fi & Fantasy             2.118784\n",
       "Sports Movies                1.723570\n",
       "Classic Movies               0.922165\n",
       "LGBTQ Movies                 0.658689\n",
       "Movies                       0.614777\n",
       "Cult Movies                  0.603798\n",
       "Faith & Spirituality         0.515973\n",
       "Anime Features               0.494017\n",
       "Name: var1, dtype: float64"
      ]
     },
     "execution_count": 33,
     "metadata": {},
     "output_type": "execute_result"
    }
   ],
   "source": [
    "df_list.var1.value_counts()/len(df_list)*100"
   ]
  },
  {
   "cell_type": "markdown",
   "metadata": {},
   "source": [
    "21.16% of the movies are International Movies, 17.82% are Dramas and 12.22% are Comedies."
   ]
  },
  {
   "cell_type": "code",
   "execution_count": 34,
   "metadata": {
    "scrolled": true
   },
   "outputs": [
    {
     "data": {
      "text/plain": [
       "Text(0, 0.5, '')"
      ]
     },
     "execution_count": 34,
     "metadata": {},
     "output_type": "execute_result"
    },
    {
     "data": {
      "image/png": "[encoded data removed]",
      "text/plain": [
       "<Figure size 432x288 with 1 Axes>"
      ]
     },
     "metadata": {
      "needs_background": "light"
     },
     "output_type": "display_data"
    }
   ],
   "source": [
    "sns.countplot(y = df_list.var1, palette = 'colorblind', order = df_list.var1.value_counts().index)\n",
    "plt.title('Movies Genres')\n",
    "plt.ylabel('')"
   ]
  },
  {
   "cell_type": "markdown",
   "metadata": {},
   "source": [
    "#### description       \n",
    " \n",
    " The summary description\n",
    " \n",
    " 4265 non-null   object      "
   ]
  },
  {
   "cell_type": "code",
   "execution_count": 35,
   "metadata": {},
   "outputs": [
    {
     "data": {
      "image/png": "[encoded data removed]",
      "text/plain": [
       "<Figure size 432x288 with 1 Axes>"
      ]
     },
     "metadata": {
      "needs_background": "light"
     },
     "output_type": "display_data"
    },
    {
     "data": {
      "text/plain": [
       "<wordcloud.wordcloud.WordCloud at 0x27596e87688>"
      ]
     },
     "execution_count": 35,
     "metadata": {},
     "output_type": "execute_result"
    }
   ],
   "source": [
    "# plot the most frequent words in the movies\n",
    "\n",
    "# combine multiple rows into one object\n",
    "text = df_netflix['description'].str.cat(sep='/ ')\n",
    "\n",
    "# Create stopword list:\n",
    "stopwords = set(STOPWORDS)\n",
    "stopwords.update([\"one\", \"two\", \"three\", \"four\", \"five\"])\n",
    "\n",
    "# Create and generate a word cloud image:\n",
    "wc= WordCloud(stopwords = stopwords, background_color=\"white\").generate(text)\n",
    "\n",
    "# Display the generated image:\n",
    "plt.imshow(wc, interpolation='bilinear')\n",
    "plt.axis(\"off\")\n",
    "plt.show()\n",
    "\n",
    "wc.to_file(\"netflix.png\")\n",
    "#adapted code from: https://www.datacamp.com/community/tutorials/wordcloud-python"
   ]
  }
 ],
 "metadata": {
  "hide_input": false,
  "kernelspec": {
   "display_name": "Python 3",
   "language": "python",
   "name": "python3"
  },
  "language_info": {
   "codemirror_mode": {
    "name": "ipython",
    "version": 3
   },
   "file_extension": ".py",
   "mimetype": "text/x-python",
   "name": "python",
   "nbconvert_exporter": "python",
   "pygments_lexer": "ipython3",
   "version": "3.7.6"
  },
  "toc": {
   "base_numbering": 1,
   "nav_menu": {},
   "number_sections": true,
   "sideBar": true,
   "skip_h1_title": false,
   "title_cell": "Table of Contents",
   "title_sidebar": "Contents",
   "toc_cell": false,
   "toc_position": {},
   "toc_section_display": true,
   "toc_window_display": true
  }
 },
 "nbformat": 4,
 "nbformat_minor": 4
}
