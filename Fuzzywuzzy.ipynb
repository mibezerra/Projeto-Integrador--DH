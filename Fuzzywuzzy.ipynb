{
 "cells": [
  {
   "cell_type": "code",
   "execution_count": 2,
   "metadata": {},
   "outputs": [],
   "source": [
    "from fuzzywuzzy import fuzz \n",
    "from fuzzywuzzy import process "
   ]
  },
  {
   "cell_type": "markdown",
   "metadata": {},
   "source": [
    " WRatio, sometimes its better to use WRatio instead of simple ratio as WRatio handles lower and upper cases and some other parameters too."
   ]
  },
  {
   "cell_type": "code",
   "execution_count": 8,
   "metadata": {
    "scrolled": false
   },
   "outputs": [
    {
     "name": "stdout",
     "output_type": "stream",
     "text": [
      "[('g. for geeks', 95), ('Geek for geek', 93), ('Geek geek', 86)]\n"
     ]
    },
    {
     "data": {
      "text/plain": [
       "('g. for geeks', 95)"
      ]
     },
     "execution_count": 8,
     "metadata": {},
     "output_type": "execute_result"
    }
   ],
   "source": [
    "query = 'geeks for geeks'\n",
    "choices = ['Geek for geek', 'Geek geek', 'g. for geeks']  \n",
    "   \n",
    "# Get a list of matches ordered by score, default limit to 5 \n",
    "print(process.extract(query, choices)) \n",
    "   \n",
    "# If we want only the top one \n",
    "process.extractOne(query, choices, score_cutoff = 60) "
   ]
  },
  {
   "cell_type": "markdown",
   "metadata": {},
   "source": [
    "# Tratamento das variáveis categóricas\n",
    "\n",
    "* colocar nomes dos diretores, roteiristas e elenco em minúsculo."
   ]
  },
  {
   "cell_type": "markdown",
   "metadata": {},
   "source": [
    "# Diretor"
   ]
  },
  {
   "cell_type": "code",
   "execution_count": null,
   "metadata": {},
   "outputs": [],
   "source": [
    "# pegar nome do diretor através do streamlit\n",
    "\n",
    "# salvar o nome em objeto\n",
    "diretor = ''\n",
    "\n",
    "# extrair da nossa base de dados o nome do diretor\n",
    "process.extractOne(diretor, df.diretor, score_cutoff = 60) "
   ]
  },
  {
   "cell_type": "markdown",
   "metadata": {},
   "source": [
    "# Roteirista"
   ]
  },
  {
   "cell_type": "markdown",
   "metadata": {},
   "source": [
    "# Elenco"
   ]
  }
 ],
 "metadata": {
  "hide_input": false,
  "kernelspec": {
   "display_name": "Python 3",
   "language": "python",
   "name": "python3"
  },
  "language_info": {
   "codemirror_mode": {
    "name": "ipython",
    "version": 3
   },
   "file_extension": ".py",
   "mimetype": "text/x-python",
   "name": "python",
   "nbconvert_exporter": "python",
   "pygments_lexer": "ipython3",
   "version": "3.7.6"
  },
  "toc": {
   "base_numbering": 1,
   "nav_menu": {},
   "number_sections": true,
   "sideBar": true,
   "skip_h1_title": false,
   "title_cell": "Table of Contents",
   "title_sidebar": "Contents",
   "toc_cell": false,
   "toc_position": {},
   "toc_section_display": true,
   "toc_window_display": true
  }
 },
 "nbformat": 4,
 "nbformat_minor": 4
}
