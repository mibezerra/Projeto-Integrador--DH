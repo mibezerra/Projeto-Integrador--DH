{
 "cells": [
  {
   "cell_type": "code",
   "execution_count": 1,
   "metadata": {},
   "outputs": [],
   "source": [
    "from rake_nltk import Rake\n",
    "import nltk\n",
    "import pandas as pd\n",
    "import numpy as np\n",
    "from sklearn.metrics.pairwise import cosine_similarity\n",
    "from sklearn.feature_extraction.text import CountVectorizer\n",
    "import warnings\n",
    "import string\n",
    "warnings.filterwarnings(\"ignore\")"
   ]
  },
  {
   "cell_type": "code",
   "execution_count": 2,
   "metadata": {
    "scrolled": true
   },
   "outputs": [],
   "source": [
    "df_csv = pd.read_csv('C:/Users/camil/Desktop/Projeto Integrador/dados/final.csv')"
   ]
  },
  {
   "cell_type": "code",
   "execution_count": 3,
   "metadata": {},
   "outputs": [
    {
     "data": {
      "text/html": [
       "<div>\n",
       "<style scoped>\n",
       "    .dataframe tbody tr th:only-of-type {\n",
       "        vertical-align: middle;\n",
       "    }\n",
       "\n",
       "    .dataframe tbody tr th {\n",
       "        vertical-align: top;\n",
       "    }\n",
       "\n",
       "    .dataframe thead th {\n",
       "        text-align: right;\n",
       "    }\n",
       "</style>\n",
       "<table border=\"1\" class=\"dataframe\">\n",
       "  <thead>\n",
       "    <tr style=\"text-align: right;\">\n",
       "      <th></th>\n",
       "      <th>Unnamed: 0</th>\n",
       "      <th>tconst</th>\n",
       "      <th>primaryTitle</th>\n",
       "      <th>startYear</th>\n",
       "      <th>runtimeMinutes</th>\n",
       "      <th>genre_1</th>\n",
       "      <th>genre_2</th>\n",
       "      <th>genre_3</th>\n",
       "      <th>Item</th>\n",
       "      <th>Mês</th>\n",
       "      <th>...</th>\n",
       "      <th>directors_2_films</th>\n",
       "      <th>directors_1_ratingAverage</th>\n",
       "      <th>directors_2_ratingAverage</th>\n",
       "      <th>writer_1_films</th>\n",
       "      <th>writer_2_films</th>\n",
       "      <th>writer_1_ratingAverage</th>\n",
       "      <th>writer_2_ratingAverage</th>\n",
       "      <th>AvgRating</th>\n",
       "      <th>numFilmes</th>\n",
       "      <th>num_crew</th>\n",
       "    </tr>\n",
       "  </thead>\n",
       "  <tbody>\n",
       "    <tr>\n",
       "      <th>0</th>\n",
       "      <td>66398</td>\n",
       "      <td>tt0118589</td>\n",
       "      <td>Glitter</td>\n",
       "      <td>2001</td>\n",
       "      <td>104</td>\n",
       "      <td>Drama</td>\n",
       "      <td>Music</td>\n",
       "      <td>Romance</td>\n",
       "      <td>3947</td>\n",
       "      <td>Setembro</td>\n",
       "      <td>...</td>\n",
       "      <td>0</td>\n",
       "      <td>6.90</td>\n",
       "      <td>NaN</td>\n",
       "      <td>0</td>\n",
       "      <td>1</td>\n",
       "      <td>NaN</td>\n",
       "      <td>6.900000</td>\n",
       "      <td>5.800000</td>\n",
       "      <td>0.25</td>\n",
       "      <td>10</td>\n",
       "    </tr>\n",
       "    <tr>\n",
       "      <th>1</th>\n",
       "      <td>67605</td>\n",
       "      <td>tt0120681</td>\n",
       "      <td>From Hell</td>\n",
       "      <td>2001</td>\n",
       "      <td>122</td>\n",
       "      <td>Horror</td>\n",
       "      <td>Mystery</td>\n",
       "      <td>Thriller</td>\n",
       "      <td>1732</td>\n",
       "      <td>Outubro</td>\n",
       "      <td>...</td>\n",
       "      <td>3</td>\n",
       "      <td>7.31</td>\n",
       "      <td>7.31</td>\n",
       "      <td>0</td>\n",
       "      <td>0</td>\n",
       "      <td>NaN</td>\n",
       "      <td>NaN</td>\n",
       "      <td>6.258212</td>\n",
       "      <td>1.00</td>\n",
       "      <td>10</td>\n",
       "    </tr>\n",
       "    <tr>\n",
       "      <th>2</th>\n",
       "      <td>67642</td>\n",
       "      <td>tt0120737</td>\n",
       "      <td>The Lord of the Rings: The Fellowship of the Ring</td>\n",
       "      <td>2001</td>\n",
       "      <td>178</td>\n",
       "      <td>Action</td>\n",
       "      <td>Adventure</td>\n",
       "      <td>Drama</td>\n",
       "      <td>356</td>\n",
       "      <td>Dezembro</td>\n",
       "      <td>...</td>\n",
       "      <td>0</td>\n",
       "      <td>7.16</td>\n",
       "      <td>NaN</td>\n",
       "      <td>0</td>\n",
       "      <td>4</td>\n",
       "      <td>NaN</td>\n",
       "      <td>7.262979</td>\n",
       "      <td>6.533333</td>\n",
       "      <td>0.75</td>\n",
       "      <td>10</td>\n",
       "    </tr>\n",
       "    <tr>\n",
       "      <th>3</th>\n",
       "      <td>67655</td>\n",
       "      <td>tt0120755</td>\n",
       "      <td>Mission: Impossible II</td>\n",
       "      <td>2000</td>\n",
       "      <td>123</td>\n",
       "      <td>Action</td>\n",
       "      <td>Adventure</td>\n",
       "      <td>Thriller</td>\n",
       "      <td>297</td>\n",
       "      <td>Maio</td>\n",
       "      <td>...</td>\n",
       "      <td>0</td>\n",
       "      <td>7.11</td>\n",
       "      <td>NaN</td>\n",
       "      <td>3</td>\n",
       "      <td>0</td>\n",
       "      <td>7.099574</td>\n",
       "      <td>NaN</td>\n",
       "      <td>NaN</td>\n",
       "      <td>0.00</td>\n",
       "      <td>10</td>\n",
       "    </tr>\n",
       "    <tr>\n",
       "      <th>4</th>\n",
       "      <td>68298</td>\n",
       "      <td>tt0122459</td>\n",
       "      <td>Return to Me</td>\n",
       "      <td>2000</td>\n",
       "      <td>115</td>\n",
       "      <td>Comedy</td>\n",
       "      <td>Drama</td>\n",
       "      <td>Romance</td>\n",
       "      <td>2404</td>\n",
       "      <td>Abril</td>\n",
       "      <td>...</td>\n",
       "      <td>0</td>\n",
       "      <td>NaN</td>\n",
       "      <td>NaN</td>\n",
       "      <td>0</td>\n",
       "      <td>0</td>\n",
       "      <td>NaN</td>\n",
       "      <td>NaN</td>\n",
       "      <td>NaN</td>\n",
       "      <td>0.00</td>\n",
       "      <td>10</td>\n",
       "    </tr>\n",
       "  </tbody>\n",
       "</table>\n",
       "<p>5 rows × 67 columns</p>\n",
       "</div>"
      ],
      "text/plain": [
       "   Unnamed: 0     tconst                                       primaryTitle  \\\n",
       "0       66398  tt0118589                                            Glitter   \n",
       "1       67605  tt0120681                                          From Hell   \n",
       "2       67642  tt0120737  The Lord of the Rings: The Fellowship of the Ring   \n",
       "3       67655  tt0120755                             Mission: Impossible II   \n",
       "4       68298  tt0122459                                       Return to Me   \n",
       "\n",
       "   startYear  runtimeMinutes genre_1    genre_2   genre_3  Item       Mês  \\\n",
       "0       2001             104   Drama      Music   Romance  3947  Setembro   \n",
       "1       2001             122  Horror    Mystery  Thriller  1732   Outubro   \n",
       "2       2001             178  Action  Adventure     Drama   356  Dezembro   \n",
       "3       2000             123  Action  Adventure  Thriller   297      Maio   \n",
       "4       2000             115  Comedy      Drama   Romance  2404     Abril   \n",
       "\n",
       "   ...  directors_2_films  directors_1_ratingAverage  \\\n",
       "0  ...                  0                       6.90   \n",
       "1  ...                  3                       7.31   \n",
       "2  ...                  0                       7.16   \n",
       "3  ...                  0                       7.11   \n",
       "4  ...                  0                        NaN   \n",
       "\n",
       "   directors_2_ratingAverage writer_1_films  writer_2_films  \\\n",
       "0                        NaN              0               1   \n",
       "1                       7.31              0               0   \n",
       "2                        NaN              0               4   \n",
       "3                        NaN              3               0   \n",
       "4                        NaN              0               0   \n",
       "\n",
       "   writer_1_ratingAverage  writer_2_ratingAverage  AvgRating  numFilmes  \\\n",
       "0                     NaN                6.900000   5.800000       0.25   \n",
       "1                     NaN                     NaN   6.258212       1.00   \n",
       "2                     NaN                7.262979   6.533333       0.75   \n",
       "3                7.099574                     NaN        NaN       0.00   \n",
       "4                     NaN                     NaN        NaN       0.00   \n",
       "\n",
       "  num_crew  \n",
       "0       10  \n",
       "1       10  \n",
       "2       10  \n",
       "3       10  \n",
       "4       10  \n",
       "\n",
       "[5 rows x 67 columns]"
      ]
     },
     "execution_count": 3,
     "metadata": {},
     "output_type": "execute_result"
    }
   ],
   "source": [
    "df_csv.head()"
   ]
  },
  {
   "cell_type": "code",
   "execution_count": 4,
   "metadata": {
    "scrolled": true
   },
   "outputs": [
    {
     "name": "stdout",
     "output_type": "stream",
     "text": [
      "<class 'pandas.core.frame.DataFrame'>\n",
      "RangeIndex: 1490 entries, 0 to 1489\n",
      "Data columns (total 67 columns):\n",
      " #   Column                                Non-Null Count  Dtype  \n",
      "---  ------                                --------------  -----  \n",
      " 0   Unnamed: 0                            1490 non-null   int64  \n",
      " 1   tconst                                1490 non-null   object \n",
      " 2   primaryTitle                          1490 non-null   object \n",
      " 3   startYear                             1490 non-null   int64  \n",
      " 4   runtimeMinutes                        1490 non-null   int64  \n",
      " 5   genre_1                               1490 non-null   object \n",
      " 6   genre_2                               1373 non-null   object \n",
      " 7   genre_3                               997 non-null    object \n",
      " 8   Item                                  1490 non-null   int64  \n",
      " 9   Mês                                   1490 non-null   object \n",
      " 10  month                                 1490 non-null   float64\n",
      " 11  day                                   1490 non-null   float64\n",
      " 12  year                                  1490 non-null   int64  \n",
      " 13  Data Portugues                        1490 non-null   object \n",
      " 14  FW                                    1490 non-null   int64  \n",
      " 15  Worldwide_Gross                       1490 non-null   float64\n",
      " 16  Production_Budget                     1490 non-null   float64\n",
      " 17  rentability                           1490 non-null   float64\n",
      " 18  log_rentability                       1490 non-null   float64\n",
      " 19  rating                                1490 non-null   object \n",
      " 20  movie_info                            1490 non-null   object \n",
      " 21  on_streaming_date                     1482 non-null   object \n",
      " 22  studio_name                           1485 non-null   object \n",
      " 23  tomatometer_status                    1490 non-null   object \n",
      " 24  tomatometer_rating                    1490 non-null   float64\n",
      " 25  tomatometer_count                     1490 non-null   int64  \n",
      " 26  audience_status                       1490 non-null   object \n",
      " 27  audience_want_to_see_count            1490 non-null   int64  \n",
      " 28  audience_rating                       1490 non-null   float64\n",
      " 29  audience_count                        1490 non-null   float64\n",
      " 30  audience_top_critics_count            1490 non-null   int64  \n",
      " 31  audience_fresh_critics_count          1490 non-null   int64  \n",
      " 32  audience_rotten_critics_count         1490 non-null   int64  \n",
      " 33  audience_fresh_top_critics_count      1490 non-null   int64  \n",
      " 34  audience_rotten_rotten_critics_count  1490 non-null   int64  \n",
      " 35  tomatometer_avg_rating                1490 non-null   float64\n",
      " 36  audience_top_critics_avg_rating       1490 non-null   float64\n",
      " 37  score_sentiment                       1490 non-null   object \n",
      " 38  audience_avg_rating                   1490 non-null   float64\n",
      " 39  Negative                              1490 non-null   int64  \n",
      " 40  Positive                              1490 non-null   int64  \n",
      " 41  All                                   1490 non-null   int64  \n",
      " 42  negative_perc                         1490 non-null   float64\n",
      " 43  positive_perc                         1490 non-null   float64\n",
      " 44  NPremium_Indicado                     1490 non-null   int64  \n",
      " 45  NPremium_Win                          1490 non-null   int64  \n",
      " 46  Premium_Indicado                      1490 non-null   int64  \n",
      " 47  Premium_Win                           1490 non-null   int64  \n",
      " 48  movieyear                             1490 non-null   object \n",
      " 49  averageRating                         1490 non-null   float64\n",
      " 50  numVotes                              1490 non-null   int64  \n",
      " 51  directors_1                           1490 non-null   object \n",
      " 52  directors_2                           128 non-null    object \n",
      " 53  writers_1                             1490 non-null   object \n",
      " 54  writers_2                             1074 non-null   object \n",
      " 55  rating_num                            1490 non-null   float64\n",
      " 56  directors_1_films                     1490 non-null   int64  \n",
      " 57  directors_2_films                     1490 non-null   int64  \n",
      " 58  directors_1_ratingAverage             1234 non-null   float64\n",
      " 59  directors_2_ratingAverage             78 non-null     float64\n",
      " 60  writer_1_films                        1490 non-null   int64  \n",
      " 61  writer_2_films                        1490 non-null   int64  \n",
      " 62  writer_1_ratingAverage                1024 non-null   float64\n",
      " 63  writer_2_ratingAverage                660 non-null    float64\n",
      " 64  AvgRating                             1362 non-null   float64\n",
      " 65  numFilmes                             1490 non-null   float64\n",
      " 66  num_crew                              1490 non-null   int64  \n",
      "dtypes: float64(22), int64(26), object(19)\n",
      "memory usage: 780.0+ KB\n"
     ]
    }
   ],
   "source": [
    "df_csv.info()"
   ]
  },
  {
   "cell_type": "code",
   "execution_count": 5,
   "metadata": {},
   "outputs": [],
   "source": [
    "# salvar o nome do filme e o roteiro num plot\n",
    "data = {'primaryTitle':['Matrix 4'], 'movie_info':['The Matrix 4 is an upcoming American science fiction action film and the fourth installment in The Matrix franchise. The film is co-written and directed by Lana Wachowski, one of the two Wachowski sisters who directed the previous three films. Keanu Reeves, Carrie-Anne Moss, Jada Pinkett Smith, and Lambert Wilson reprise their roles from previous films in the series. The film will be a joint production by Warner Bros. Pictures and Village Roadshow Pictures and is scheduled to be released on April 1, 2022.']} \n",
    "  \n",
    "# Create DataFrame \n",
    "dfx = pd.DataFrame(data) "
   ]
  },
  {
   "cell_type": "code",
   "execution_count": 6,
   "metadata": {},
   "outputs": [
    {
     "data": {
      "text/html": [
       "<div>\n",
       "<style scoped>\n",
       "    .dataframe tbody tr th:only-of-type {\n",
       "        vertical-align: middle;\n",
       "    }\n",
       "\n",
       "    .dataframe tbody tr th {\n",
       "        vertical-align: top;\n",
       "    }\n",
       "\n",
       "    .dataframe thead th {\n",
       "        text-align: right;\n",
       "    }\n",
       "</style>\n",
       "<table border=\"1\" class=\"dataframe\">\n",
       "  <thead>\n",
       "    <tr style=\"text-align: right;\">\n",
       "      <th></th>\n",
       "      <th>primaryTitle</th>\n",
       "      <th>movie_info</th>\n",
       "    </tr>\n",
       "  </thead>\n",
       "  <tbody>\n",
       "    <tr>\n",
       "      <th>0</th>\n",
       "      <td>Matrix 4</td>\n",
       "      <td>The Matrix 4 is an upcoming American science f...</td>\n",
       "    </tr>\n",
       "  </tbody>\n",
       "</table>\n",
       "</div>"
      ],
      "text/plain": [
       "  primaryTitle                                         movie_info\n",
       "0     Matrix 4  The Matrix 4 is an upcoming American science f..."
      ]
     },
     "execution_count": 6,
     "metadata": {},
     "output_type": "execute_result"
    }
   ],
   "source": [
    "dfx"
   ]
  },
  {
   "cell_type": "code",
   "execution_count": 7,
   "metadata": {},
   "outputs": [],
   "source": [
    "# criar copias dos dois datasets para manipular os dados\n",
    "df_copy = df_csv.copy()\n",
    "df2 = dfx.copy()\n",
    "\n",
    "# excluir linhas repetidas\n",
    "df_copy.drop_duplicates(subset = 'movie_info', inplace = True)\n",
    "\n",
    "# selecionar colunas de interesse dos dois datasets\n",
    "df_copy = df_copy[['primaryTitle', 'movie_info']]\n",
    "\n",
    "\n",
    "# excluir missing values\n",
    "df_copy.dropna(inplace=True)\n",
    "\n",
    "# juntar os dois datasets\n",
    "df = df_copy.append(df2, ignore_index=True)"
   ]
  },
  {
   "cell_type": "code",
   "execution_count": 8,
   "metadata": {},
   "outputs": [
    {
     "data": {
      "text/html": [
       "<div>\n",
       "<style scoped>\n",
       "    .dataframe tbody tr th:only-of-type {\n",
       "        vertical-align: middle;\n",
       "    }\n",
       "\n",
       "    .dataframe tbody tr th {\n",
       "        vertical-align: top;\n",
       "    }\n",
       "\n",
       "    .dataframe thead th {\n",
       "        text-align: right;\n",
       "    }\n",
       "</style>\n",
       "<table border=\"1\" class=\"dataframe\">\n",
       "  <thead>\n",
       "    <tr style=\"text-align: right;\">\n",
       "      <th></th>\n",
       "      <th>primaryTitle</th>\n",
       "      <th>movie_info</th>\n",
       "    </tr>\n",
       "  </thead>\n",
       "  <tbody>\n",
       "    <tr>\n",
       "      <th>1480</th>\n",
       "      <td>Matrix 4</td>\n",
       "      <td>The Matrix 4 is an upcoming American science f...</td>\n",
       "    </tr>\n",
       "  </tbody>\n",
       "</table>\n",
       "</div>"
      ],
      "text/plain": [
       "     primaryTitle                                         movie_info\n",
       "1480     Matrix 4  The Matrix 4 is an upcoming American science f..."
      ]
     },
     "execution_count": 8,
     "metadata": {},
     "output_type": "execute_result"
    }
   ],
   "source": [
    "df[df.primaryTitle == 'Matrix 4']"
   ]
  },
  {
   "cell_type": "code",
   "execution_count": 9,
   "metadata": {},
   "outputs": [],
   "source": [
    "# remoção da pontuação de 'Plot'\n",
    "df['movie_info'] = df['movie_info'].str.replace('[{}]'.format(string.punctuation), '')"
   ]
  },
  {
   "cell_type": "code",
   "execution_count": 10,
   "metadata": {
    "scrolled": true
   },
   "outputs": [],
   "source": [
    " # inicialização das lista que será a nova coluna\n",
    "df['Key_words'] = ''  \n",
    "\n",
    "# instanciação do objeto do Rake para descartar as 'stop words' (baseado naquilo que está no NLTK)\n",
    "r = Rake()\n",
    "\n",
    "for index, row in df.iterrows():\n",
    "    # extração das key words - que já remove as 'stop words' do texto\n",
    "    r.extract_keywords_from_text(row['movie_info'])   \n",
    "    # dicionário com as key words e scores\n",
    "    key_words_dict_scores = r.get_word_degrees()    \n",
    "    # nova coluna que será inserida\n",
    "    row['Key_words'] = list(key_words_dict_scores.keys())   "
   ]
  },
  {
   "cell_type": "code",
   "execution_count": 11,
   "metadata": {
    "scrolled": true
   },
   "outputs": [
    {
     "data": {
      "text/plain": [
       "\"# to extract all genre into a list, only the first three actors into a list, and all directors into a list\\ndf['genre_1'] = df['genre_1'].map(lambda x: x.split(','))\\ndf['directors_1'] = df['directors_1'].map(lambda x: x.split(','))\\n#df['casts'] = df['casts'].map(lambda x: x.split(',')[:3])\""
      ]
     },
     "execution_count": 11,
     "metadata": {},
     "output_type": "execute_result"
    }
   ],
   "source": [
    "'''# to extract all genre into a list, only the first three actors into a list, and all directors into a list\n",
    "df['genre_1'] = df['genre_1'].map(lambda x: x.split(','))\n",
    "df['directors_1'] = df['directors_1'].map(lambda x: x.split(','))\n",
    "#df['casts'] = df['casts'].map(lambda x: x.split(',')[:3])'''"
   ]
  },
  {
   "cell_type": "code",
   "execution_count": 12,
   "metadata": {
    "scrolled": true
   },
   "outputs": [
    {
     "data": {
      "text/plain": [
       "\"# Retirada dos espaços dos campos e conversão para minúsculas\\nfor index, row in df.iterrows():\\n    row['genre_1'] = [x.lower().replace(' ','') for x in row['genre_1']] \\n    row['directors_1'] = [x.lower().replace(' ','') for x in row['directors_1']]\\n    #row['directors'] = [x.lower().replace(' ','') for x in row['directors']]\""
      ]
     },
     "execution_count": 12,
     "metadata": {},
     "output_type": "execute_result"
    }
   ],
   "source": [
    "'''# Retirada dos espaços dos campos e conversão para minúsculas\n",
    "for index, row in df.iterrows():\n",
    "    row['genre_1'] = [x.lower().replace(' ','') for x in row['genre_1']] \n",
    "    row['directors_1'] = [x.lower().replace(' ','') for x in row['directors_1']]\n",
    "    #row['directors'] = [x.lower().replace(' ','') for x in row['directors']]'''"
   ]
  },
  {
   "cell_type": "code",
   "execution_count": 13,
   "metadata": {},
   "outputs": [],
   "source": [
    "# inicialização da lista\n",
    "df['Bag_of_words'] = ''\n",
    "# colunas que farão parte da Bag of Words\n",
    "#columns = ['genres', 'directors', 'casts', 'Key_words']\n",
    "columns = [ 'Key_words']\n",
    "# percorre cada coluna e adiciona cada palavra individualmente\n",
    "for index, row in df.iterrows():\n",
    "    words = ''\n",
    "    for col in columns:\n",
    "        words += ' '.join(row[col]) + ' '\n",
    "    row['Bag_of_words'] = words"
   ]
  },
  {
   "cell_type": "code",
   "execution_count": 14,
   "metadata": {
    "scrolled": true
   },
   "outputs": [],
   "source": [
    "# remoção dos \"espaços\" de todas as palavras na BoW\n",
    "df['Bag_of_words'] = df['Bag_of_words'].str.strip().str.replace('   ', ' ').str.replace('  ', ' ')"
   ]
  },
  {
   "cell_type": "code",
   "execution_count": 15,
   "metadata": {},
   "outputs": [],
   "source": [
    "df_bag = df[['primaryTitle','Bag_of_words']]"
   ]
  },
  {
   "cell_type": "code",
   "execution_count": 16,
   "metadata": {},
   "outputs": [],
   "source": [
    "# Geração da Matriz com a frequência de cada palavra com filme 250 x quantidade total de palavras únicas\n",
    "count = CountVectorizer()\n",
    "count_matrix = count.fit_transform(df_bag['Bag_of_words'])"
   ]
  },
  {
   "cell_type": "code",
   "execution_count": 17,
   "metadata": {},
   "outputs": [],
   "source": [
    "cosine_sim = cosine_similarity(count_matrix, count_matrix)"
   ]
  },
  {
   "cell_type": "code",
   "execution_count": 18,
   "metadata": {},
   "outputs": [],
   "source": [
    "df_bag.reset_index(inplace = True)"
   ]
  },
  {
   "cell_type": "code",
   "execution_count": 19,
   "metadata": {},
   "outputs": [],
   "source": [
    "# to create a Series for movie titles which can be used as indices (each index is mapped to a movie title)\n",
    "indices = pd.Series(df_bag['primaryTitle'])"
   ]
  },
  {
   "cell_type": "code",
   "execution_count": 20,
   "metadata": {},
   "outputs": [],
   "source": [
    "def recommend(title, cosine_sim = cosine_sim):\n",
    "    # inicialização da lista\n",
    "    recommended_movies = []\n",
    "    # captura o índice que corresponde ao título\n",
    "    idx = indices[indices == title].index[0]   \n",
    "    # scores de similaridade em ordem descendente\n",
    "    score_series = pd.Series(cosine_sim[idx]).sort_values(ascending = False)   \n",
    "    # captura os 10 filmes com o maior índice de similaridade\n",
    "    top_10_indices = list(score_series.iloc[1:11].index)   \n",
    "    # [1:11] para excluir o primeiro (0) que é o próprio filme selecionado\n",
    "    \n",
    "    # monta uma lista com os filmes retornados\n",
    "    for i in top_10_indices:   \n",
    "        recommended_movies.append(list(df_bag['primaryTitle'])[i])\n",
    "        \n",
    "    return recommended_movies"
   ]
  },
  {
   "cell_type": "code",
   "execution_count": 48,
   "metadata": {},
   "outputs": [],
   "source": [
    "#filme_simple = recommend(\"The Lord of the Rings: The Fellowship of the Ring\")\n",
    "filme = recommend(\"Matrix 4\")\n",
    "# recomendacao para o filme que sera produzido\n",
    "#filme = recommend(df2.movie_name)"
   ]
  },
  {
   "cell_type": "code",
   "execution_count": 32,
   "metadata": {
    "scrolled": true
   },
   "outputs": [
    {
     "data": {
      "text/plain": [
       "['Paranormal Activity 4',\n",
       " 'The Matrix Revolutions',\n",
       " 'Highlander: Endgame',\n",
       " 'Annabelle',\n",
       " 'The Final Destination',\n",
       " \"Bridget Jones's Baby\",\n",
       " 'Dead Man Down',\n",
       " 'The Conjuring 2',\n",
       " 'Horrible Bosses 2',\n",
       " 'Hall Pass']"
      ]
     },
     "execution_count": 32,
     "metadata": {},
     "output_type": "execute_result"
    }
   ],
   "source": [
    "filme"
   ]
  },
  {
   "cell_type": "code",
   "execution_count": 24,
   "metadata": {},
   "outputs": [],
   "source": [
    "df_rec = df_csv[df_csv.primaryTitle.isin(filme)]"
   ]
  },
  {
   "cell_type": "code",
   "execution_count": 25,
   "metadata": {
    "scrolled": true
   },
   "outputs": [
    {
     "data": {
      "text/html": [
       "<div>\n",
       "<style scoped>\n",
       "    .dataframe tbody tr th:only-of-type {\n",
       "        vertical-align: middle;\n",
       "    }\n",
       "\n",
       "    .dataframe tbody tr th {\n",
       "        vertical-align: top;\n",
       "    }\n",
       "\n",
       "    .dataframe thead th {\n",
       "        text-align: right;\n",
       "    }\n",
       "</style>\n",
       "<table border=\"1\" class=\"dataframe\">\n",
       "  <thead>\n",
       "    <tr style=\"text-align: right;\">\n",
       "      <th></th>\n",
       "      <th>Unnamed: 0</th>\n",
       "      <th>tconst</th>\n",
       "      <th>primaryTitle</th>\n",
       "      <th>startYear</th>\n",
       "      <th>runtimeMinutes</th>\n",
       "      <th>genre_1</th>\n",
       "      <th>genre_2</th>\n",
       "      <th>genre_3</th>\n",
       "      <th>Item</th>\n",
       "      <th>Mês</th>\n",
       "      <th>...</th>\n",
       "      <th>directors_2_films</th>\n",
       "      <th>directors_1_ratingAverage</th>\n",
       "      <th>directors_2_ratingAverage</th>\n",
       "      <th>writer_1_films</th>\n",
       "      <th>writer_2_films</th>\n",
       "      <th>writer_1_ratingAverage</th>\n",
       "      <th>writer_2_ratingAverage</th>\n",
       "      <th>AvgRating</th>\n",
       "      <th>numFilmes</th>\n",
       "      <th>num_crew</th>\n",
       "    </tr>\n",
       "  </thead>\n",
       "  <tbody>\n",
       "    <tr>\n",
       "      <th>12</th>\n",
       "      <td>74357</td>\n",
       "      <td>tt0144964</td>\n",
       "      <td>Highlander: Endgame</td>\n",
       "      <td>2000</td>\n",
       "      <td>87</td>\n",
       "      <td>Action</td>\n",
       "      <td>Adventure</td>\n",
       "      <td>Fantasy</td>\n",
       "      <td>3168</td>\n",
       "      <td>Setembro</td>\n",
       "      <td>...</td>\n",
       "      <td>0</td>\n",
       "      <td>NaN</td>\n",
       "      <td>NaN</td>\n",
       "      <td>5</td>\n",
       "      <td>2</td>\n",
       "      <td>6.327132</td>\n",
       "      <td>5.764414</td>\n",
       "      <td>NaN</td>\n",
       "      <td>0.00</td>\n",
       "      <td>10</td>\n",
       "    </tr>\n",
       "    <tr>\n",
       "      <th>139</th>\n",
       "      <td>96723</td>\n",
       "      <td>tt0242653</td>\n",
       "      <td>The Matrix Revolutions</td>\n",
       "      <td>2003</td>\n",
       "      <td>129</td>\n",
       "      <td>Action</td>\n",
       "      <td>Sci-Fi</td>\n",
       "      <td>NaN</td>\n",
       "      <td>188</td>\n",
       "      <td>Novembro</td>\n",
       "      <td>...</td>\n",
       "      <td>2</td>\n",
       "      <td>8.66</td>\n",
       "      <td>8.66</td>\n",
       "      <td>3</td>\n",
       "      <td>3</td>\n",
       "      <td>8.555799</td>\n",
       "      <td>8.555799</td>\n",
       "      <td>6.775322</td>\n",
       "      <td>3.25</td>\n",
       "      <td>10</td>\n",
       "    </tr>\n",
       "    <tr>\n",
       "      <th>621</th>\n",
       "      <td>136040</td>\n",
       "      <td>tt0480687</td>\n",
       "      <td>Hall Pass</td>\n",
       "      <td>2011</td>\n",
       "      <td>105</td>\n",
       "      <td>Comedy</td>\n",
       "      <td>Romance</td>\n",
       "      <td>NaN</td>\n",
       "      <td>780</td>\n",
       "      <td>Fevereiro</td>\n",
       "      <td>...</td>\n",
       "      <td>9</td>\n",
       "      <td>6.74</td>\n",
       "      <td>6.74</td>\n",
       "      <td>2</td>\n",
       "      <td>5</td>\n",
       "      <td>6.478528</td>\n",
       "      <td>6.648043</td>\n",
       "      <td>6.537045</td>\n",
       "      <td>8.25</td>\n",
       "      <td>10</td>\n",
       "    </tr>\n",
       "    <tr>\n",
       "      <th>829</th>\n",
       "      <td>160074</td>\n",
       "      <td>tt1144884</td>\n",
       "      <td>The Final Destination</td>\n",
       "      <td>2009</td>\n",
       "      <td>82</td>\n",
       "      <td>Horror</td>\n",
       "      <td>Thriller</td>\n",
       "      <td>NaN</td>\n",
       "      <td>1456</td>\n",
       "      <td>Agosto</td>\n",
       "      <td>...</td>\n",
       "      <td>0</td>\n",
       "      <td>5.97</td>\n",
       "      <td>NaN</td>\n",
       "      <td>3</td>\n",
       "      <td>1</td>\n",
       "      <td>7.248064</td>\n",
       "      <td>5.100000</td>\n",
       "      <td>6.150624</td>\n",
       "      <td>1.25</td>\n",
       "      <td>10</td>\n",
       "    </tr>\n",
       "    <tr>\n",
       "      <th>979</th>\n",
       "      <td>177935</td>\n",
       "      <td>tt1473832</td>\n",
       "      <td>Bridget Jones's Baby</td>\n",
       "      <td>2016</td>\n",
       "      <td>123</td>\n",
       "      <td>Comedy</td>\n",
       "      <td>Drama</td>\n",
       "      <td>Romance</td>\n",
       "      <td>1747</td>\n",
       "      <td>Setembro</td>\n",
       "      <td>...</td>\n",
       "      <td>0</td>\n",
       "      <td>6.67</td>\n",
       "      <td>NaN</td>\n",
       "      <td>2</td>\n",
       "      <td>2</td>\n",
       "      <td>6.476391</td>\n",
       "      <td>6.050723</td>\n",
       "      <td>5.945229</td>\n",
       "      <td>11.50</td>\n",
       "      <td>10</td>\n",
       "    </tr>\n",
       "  </tbody>\n",
       "</table>\n",
       "<p>5 rows × 67 columns</p>\n",
       "</div>"
      ],
      "text/plain": [
       "     Unnamed: 0     tconst            primaryTitle  startYear  runtimeMinutes  \\\n",
       "12        74357  tt0144964     Highlander: Endgame       2000              87   \n",
       "139       96723  tt0242653  The Matrix Revolutions       2003             129   \n",
       "621      136040  tt0480687               Hall Pass       2011             105   \n",
       "829      160074  tt1144884   The Final Destination       2009              82   \n",
       "979      177935  tt1473832    Bridget Jones's Baby       2016             123   \n",
       "\n",
       "    genre_1    genre_2  genre_3  Item        Mês  ...  directors_2_films  \\\n",
       "12   Action  Adventure  Fantasy  3168   Setembro  ...                  0   \n",
       "139  Action     Sci-Fi      NaN   188   Novembro  ...                  2   \n",
       "621  Comedy    Romance      NaN   780  Fevereiro  ...                  9   \n",
       "829  Horror   Thriller      NaN  1456     Agosto  ...                  0   \n",
       "979  Comedy      Drama  Romance  1747   Setembro  ...                  0   \n",
       "\n",
       "     directors_1_ratingAverage  directors_2_ratingAverage writer_1_films  \\\n",
       "12                         NaN                        NaN              5   \n",
       "139                       8.66                       8.66              3   \n",
       "621                       6.74                       6.74              2   \n",
       "829                       5.97                        NaN              3   \n",
       "979                       6.67                        NaN              2   \n",
       "\n",
       "     writer_2_films  writer_1_ratingAverage  writer_2_ratingAverage  \\\n",
       "12                2                6.327132                5.764414   \n",
       "139               3                8.555799                8.555799   \n",
       "621               5                6.478528                6.648043   \n",
       "829               1                7.248064                5.100000   \n",
       "979               2                6.476391                6.050723   \n",
       "\n",
       "     AvgRating  numFilmes num_crew  \n",
       "12         NaN       0.00       10  \n",
       "139   6.775322       3.25       10  \n",
       "621   6.537045       8.25       10  \n",
       "829   6.150624       1.25       10  \n",
       "979   5.945229      11.50       10  \n",
       "\n",
       "[5 rows x 67 columns]"
      ]
     },
     "execution_count": 25,
     "metadata": {},
     "output_type": "execute_result"
    }
   ],
   "source": [
    "df_rec.head()"
   ]
  },
  {
   "cell_type": "markdown",
   "metadata": {},
   "source": [
    "### Análise de sentimento"
   ]
  },
  {
   "cell_type": "code",
   "execution_count": 28,
   "metadata": {},
   "outputs": [
    {
     "name": "stdout",
     "output_type": "stream",
     "text": [
      "42.964482834735385\n",
      "23.07692307692308\n",
      "59.18367346938776\n"
     ]
    }
   ],
   "source": [
    "print(float(df_csv.negative_perc[df_csv.primaryTitle.isin(filme)].mean()))\n",
    "print(float(df_csv.negative_perc[df_csv.primaryTitle.isin(filme)].min()))\n",
    "print(float(df_csv.negative_perc[df_csv.primaryTitle.isin(filme)].max()))"
   ]
  },
  {
   "cell_type": "code",
   "execution_count": 39,
   "metadata": {},
   "outputs": [],
   "source": [
    "# salvar essas informacoes como novas colunas do dataset \n",
    "dfx['negative_perc_avg'] = float(df_csv.negative_perc[df_csv.primaryTitle.isin(filme)].mean())\n",
    "dfx['negative_perc_min'] = float(df_csv.negative_perc[df_csv.primaryTitle.isin(filme)].min())\n",
    "dfx['negative_perc_max'] = float(df_csv.negative_perc[df_csv.primaryTitle.isin(filme)].max())"
   ]
  },
  {
   "cell_type": "code",
   "execution_count": 40,
   "metadata": {
    "scrolled": true
   },
   "outputs": [
    {
     "name": "stdout",
     "output_type": "stream",
     "text": [
      "57.035517165264615\n",
      "40.81632653061224\n",
      "76.92307692307693\n"
     ]
    }
   ],
   "source": [
    "print(float(df_csv.positive_perc[df_csv.primaryTitle.isin(filme)].mean()))\n",
    "print(float(df_csv.positive_perc[df_csv.primaryTitle.isin(filme)].min()))\n",
    "print(float(df_csv.positive_perc[df_csv.primaryTitle.isin(filme)].max()))"
   ]
  },
  {
   "cell_type": "code",
   "execution_count": 41,
   "metadata": {},
   "outputs": [],
   "source": [
    "# salvar essas informacoes como novas colunas do dataset \n",
    "dfx['positive_perc_avg'] = float(df_csv.negative_perc[df_csv.primaryTitle.isin(filme)].mean())\n",
    "dfx['positive_perc_min'] = float(df_csv.negative_perc[df_csv.primaryTitle.isin(filme)].min())\n",
    "dfx['positive_perc_max'] = float(df_csv.negative_perc[df_csv.primaryTitle.isin(filme)].max())"
   ]
  },
  {
   "cell_type": "markdown",
   "metadata": {},
   "source": [
    "### Número de votos"
   ]
  },
  {
   "cell_type": "code",
   "execution_count": 30,
   "metadata": {},
   "outputs": [
    {
     "name": "stdout",
     "output_type": "stream",
     "text": [
      "135550.5\n",
      "18990.0\n",
      "434707.0\n"
     ]
    }
   ],
   "source": [
    "print(float(df_csv.numVotes[df_csv.primaryTitle.isin(filme)].mean()))\n",
    "print(float(df_csv.numVotes[df_csv.primaryTitle.isin(filme)].min()))\n",
    "print(float(df_csv.numVotes[df_csv.primaryTitle.isin(filme)].max()))"
   ]
  },
  {
   "cell_type": "code",
   "execution_count": 42,
   "metadata": {},
   "outputs": [],
   "source": [
    "# salvar essas informacoes como novas colunas do dataset \n",
    "dfx['numVotes_avg'] = float(df_csv.numVotes[df_csv.primaryTitle.isin(filme)].mean())\n",
    "dfx['numVotes_min'] = float(df_csv.numVotes[df_csv.primaryTitle.isin(filme)].min())\n",
    "dfx['numVotes_max'] = float(df_csv.numVotes[df_csv.primaryTitle.isin(filme)].max())"
   ]
  },
  {
   "cell_type": "markdown",
   "metadata": {},
   "source": [
    "### Média das Ratings"
   ]
  },
  {
   "cell_type": "code",
   "execution_count": 31,
   "metadata": {
    "scrolled": false
   },
   "outputs": [
    {
     "name": "stdout",
     "output_type": "stream",
     "text": [
      "6.311817222476072\n",
      "5.219213301277744\n",
      "6.978405117734216\n"
     ]
    }
   ],
   "source": [
    "print(float(df_csv.AvgRating[df_csv.primaryTitle.isin(filme)].mean()))\n",
    "print(float(df_csv.AvgRating[df_csv.primaryTitle.isin(filme)].min()))\n",
    "print(float(df_csv.AvgRating[df_csv.primaryTitle.isin(filme)].max()))"
   ]
  },
  {
   "cell_type": "code",
   "execution_count": 43,
   "metadata": {},
   "outputs": [],
   "source": [
    "# salvar essas informacoes como novas colunas do dataset \n",
    "dfx['AvgRating_avg'] = float(df_csv.AvgRating[df_csv.primaryTitle.isin(filme)].mean())\n",
    "dfx['AvgRating_min'] = float(df_csv.AvgRating[df_csv.primaryTitle.isin(filme)].min())\n",
    "dfx['AvgRating_max'] = float(df_csv.AvgRating[df_csv.primaryTitle.isin(filme)].max())"
   ]
  },
  {
   "cell_type": "code",
   "execution_count": 44,
   "metadata": {},
   "outputs": [
    {
     "data": {
      "text/html": [
       "<div>\n",
       "<style scoped>\n",
       "    .dataframe tbody tr th:only-of-type {\n",
       "        vertical-align: middle;\n",
       "    }\n",
       "\n",
       "    .dataframe tbody tr th {\n",
       "        vertical-align: top;\n",
       "    }\n",
       "\n",
       "    .dataframe thead th {\n",
       "        text-align: right;\n",
       "    }\n",
       "</style>\n",
       "<table border=\"1\" class=\"dataframe\">\n",
       "  <thead>\n",
       "    <tr style=\"text-align: right;\">\n",
       "      <th></th>\n",
       "      <th>primaryTitle</th>\n",
       "      <th>movie_info</th>\n",
       "      <th>negative_perc</th>\n",
       "      <th>positive_perc</th>\n",
       "      <th>negative_perc_avg</th>\n",
       "      <th>negative_perc_min</th>\n",
       "      <th>negative_perc_max</th>\n",
       "      <th>positive_perc_avg</th>\n",
       "      <th>positive_perc_min</th>\n",
       "      <th>positive_perc_max</th>\n",
       "      <th>numVotes_avg</th>\n",
       "      <th>numVotes_min</th>\n",
       "      <th>numVotes_max</th>\n",
       "      <th>AvgRating_avg</th>\n",
       "      <th>AvgRating_min</th>\n",
       "      <th>AvgRating_max</th>\n",
       "    </tr>\n",
       "  </thead>\n",
       "  <tbody>\n",
       "    <tr>\n",
       "      <th>0</th>\n",
       "      <td>Matrix 4</td>\n",
       "      <td>The Matrix 4 is an upcoming American science f...</td>\n",
       "      <td>59.183673</td>\n",
       "      <td>59.183673</td>\n",
       "      <td>42.964483</td>\n",
       "      <td>23.076923</td>\n",
       "      <td>59.183673</td>\n",
       "      <td>42.964483</td>\n",
       "      <td>23.076923</td>\n",
       "      <td>59.183673</td>\n",
       "      <td>135550.5</td>\n",
       "      <td>18990.0</td>\n",
       "      <td>434707.0</td>\n",
       "      <td>6.311817</td>\n",
       "      <td>5.219213</td>\n",
       "      <td>6.978405</td>\n",
       "    </tr>\n",
       "  </tbody>\n",
       "</table>\n",
       "</div>"
      ],
      "text/plain": [
       "  primaryTitle                                         movie_info  \\\n",
       "0     Matrix 4  The Matrix 4 is an upcoming American science f...   \n",
       "\n",
       "   negative_perc  positive_perc  negative_perc_avg  negative_perc_min  \\\n",
       "0      59.183673      59.183673          42.964483          23.076923   \n",
       "\n",
       "   negative_perc_max  positive_perc_avg  positive_perc_min  positive_perc_max  \\\n",
       "0          59.183673          42.964483          23.076923          59.183673   \n",
       "\n",
       "   numVotes_avg  numVotes_min  numVotes_max  AvgRating_avg  AvgRating_min  \\\n",
       "0      135550.5       18990.0      434707.0       6.311817       5.219213   \n",
       "\n",
       "   AvgRating_max  \n",
       "0       6.978405  "
      ]
     },
     "execution_count": 44,
     "metadata": {},
     "output_type": "execute_result"
    }
   ],
   "source": [
    "dfx"
   ]
  }
 ],
 "metadata": {
  "hide_input": false,
  "kernelspec": {
   "display_name": "Python 3",
   "language": "python",
   "name": "python3"
  },
  "language_info": {
   "codemirror_mode": {
    "name": "ipython",
    "version": 3
   },
   "file_extension": ".py",
   "mimetype": "text/x-python",
   "name": "python",
   "nbconvert_exporter": "python",
   "pygments_lexer": "ipython3",
   "version": "3.7.6"
  },
  "toc": {
   "base_numbering": 1,
   "nav_menu": {},
   "number_sections": true,
   "sideBar": true,
   "skip_h1_title": false,
   "title_cell": "Table of Contents",
   "title_sidebar": "Contents",
   "toc_cell": false,
   "toc_position": {
    "height": "calc(100% - 180px)",
    "left": "10px",
    "top": "150px",
    "width": "165px"
   },
   "toc_section_display": true,
   "toc_window_display": false
  }
 },
 "nbformat": 4,
 "nbformat_minor": 2
}
