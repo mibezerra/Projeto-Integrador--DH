{
 "cells": [
  {
   "cell_type": "markdown",
   "metadata": {},
   "source": [
    "## Movie streaming datasets iflix\n",
    "\n",
    "Segmenting audience in the new environment of video on demand entertainment\n",
    "\n",
    "* [Kaggle](https://www.kaggle.com/aungpyaeap/movie-streaming-datasets-iflix?select=psychographics.csv)\n",
    "\n",
    "Datasets:\n",
    "\n",
    "* [Assets](#Assets.csv)\n",
    "* [Demographics](#Demographics.csv)\n",
    "* [Plays](#Plays.csv)\n",
    "* [Psychographics](#Psychographics.csv)\n",
    "* [Users](#Users.csv)"
   ]
  },
  {
   "cell_type": "markdown",
   "metadata": {},
   "source": [
    "**\"Iflix is a free and subscription video on demand service focused on emerging markets. Its global headquarters are in Kuala Lumpur, Malaysia.\"*\n",
    "\n",
    "[Wikipedia](https://en.wikipedia.org/wiki/Iflix)"
   ]
  },
  {
   "cell_type": "markdown",
   "metadata": {},
   "source": [
    "## Assets.csv"
   ]
  },
  {
   "cell_type": "markdown",
   "metadata": {},
   "source": [
    "## Questions \n",
    "\n",
    "Do people watch more movies or series?\n",
    "\n",
    "* [Show Type](#Show_Type)\n",
    "\n",
    "What are the main genres?\n",
    "\n",
    "* [Genre](#Genre)\n",
    "\n",
    "Quanto tempo as pessoas passam assitindo?\n",
    "\n",
    "* [Running Minutes](#Running_Minutes)\n",
    "\n",
    "In what language people watch?\n",
    "\n",
    "* [Language](#Source_Language)\n",
    "\n",
    "How many different studios are there in the dataset?\n",
    "\n",
    "* [Studios](#Studio_id)"
   ]
  },
  {
   "cell_type": "code",
   "execution_count": 1,
   "metadata": {},
   "outputs": [],
   "source": [
    "# open libraries\n",
    "import pandas as pd\n",
    "import seaborn as sns\n",
    "import statsmodels.formula.api as smf\n",
    "import matplotlib.pyplot as plt\n",
    "%matplotlib inline\n",
    "import numpy as np\n",
    "import wordcloud\n",
    "from wordcloud import WordCloud, STOPWORDS, ImageColorGenerator"
   ]
  },
  {
   "cell_type": "code",
   "execution_count": 2,
   "metadata": {},
   "outputs": [],
   "source": [
    "# open df\n",
    "df_assets = pd.read_csv('C:/Users/camil/Desktop/dados/PI/assets.csv', encoding = 'latin1', engine = 'python', delimiter = ',')"
   ]
  },
  {
   "cell_type": "code",
   "execution_count": 3,
   "metadata": {
    "scrolled": true
   },
   "outputs": [
    {
     "data": {
      "text/html": [
       "<div>\n",
       "<style scoped>\n",
       "    .dataframe tbody tr th:only-of-type {\n",
       "        vertical-align: middle;\n",
       "    }\n",
       "\n",
       "    .dataframe tbody tr th {\n",
       "        vertical-align: top;\n",
       "    }\n",
       "\n",
       "    .dataframe thead th {\n",
       "        text-align: right;\n",
       "    }\n",
       "</style>\n",
       "<table border=\"1\" class=\"dataframe\">\n",
       "  <thead>\n",
       "    <tr style=\"text-align: right;\">\n",
       "      <th></th>\n",
       "      <th>show_type</th>\n",
       "      <th>genre</th>\n",
       "      <th>running_minutes</th>\n",
       "      <th>source_language</th>\n",
       "      <th>asset_id</th>\n",
       "      <th>season_id</th>\n",
       "      <th>series_id</th>\n",
       "      <th>studio_id</th>\n",
       "    </tr>\n",
       "  </thead>\n",
       "  <tbody>\n",
       "    <tr>\n",
       "      <th>0</th>\n",
       "      <td>Movies</td>\n",
       "      <td>Sci-Fi</td>\n",
       "      <td>146</td>\n",
       "      <td>English</td>\n",
       "      <td>1</td>\n",
       "      <td>NaN</td>\n",
       "      <td>NaN</td>\n",
       "      <td>325.0</td>\n",
       "    </tr>\n",
       "    <tr>\n",
       "      <th>1</th>\n",
       "      <td>TV</td>\n",
       "      <td>Documentary and Biography</td>\n",
       "      <td>43</td>\n",
       "      <td>English</td>\n",
       "      <td>2</td>\n",
       "      <td>4.0</td>\n",
       "      <td>5.0</td>\n",
       "      <td>7.0</td>\n",
       "    </tr>\n",
       "    <tr>\n",
       "      <th>2</th>\n",
       "      <td>TV</td>\n",
       "      <td>Reality</td>\n",
       "      <td>22</td>\n",
       "      <td>English</td>\n",
       "      <td>3</td>\n",
       "      <td>15.0</td>\n",
       "      <td>22.0</td>\n",
       "      <td>442.0</td>\n",
       "    </tr>\n",
       "    <tr>\n",
       "      <th>3</th>\n",
       "      <td>TV</td>\n",
       "      <td>Reality</td>\n",
       "      <td>22</td>\n",
       "      <td>English</td>\n",
       "      <td>4</td>\n",
       "      <td>15.0</td>\n",
       "      <td>22.0</td>\n",
       "      <td>442.0</td>\n",
       "    </tr>\n",
       "    <tr>\n",
       "      <th>4</th>\n",
       "      <td>TV</td>\n",
       "      <td>Reality</td>\n",
       "      <td>22</td>\n",
       "      <td>English</td>\n",
       "      <td>5</td>\n",
       "      <td>15.0</td>\n",
       "      <td>22.0</td>\n",
       "      <td>442.0</td>\n",
       "    </tr>\n",
       "  </tbody>\n",
       "</table>\n",
       "</div>"
      ],
      "text/plain": [
       "  show_type                      genre  running_minutes source_language  \\\n",
       "0    Movies                     Sci-Fi              146         English   \n",
       "1        TV  Documentary and Biography               43         English   \n",
       "2        TV                    Reality               22         English   \n",
       "3        TV                    Reality               22         English   \n",
       "4        TV                    Reality               22         English   \n",
       "\n",
       "   asset_id  season_id  series_id  studio_id  \n",
       "0         1        NaN        NaN      325.0  \n",
       "1         2        4.0        5.0        7.0  \n",
       "2         3       15.0       22.0      442.0  \n",
       "3         4       15.0       22.0      442.0  \n",
       "4         5       15.0       22.0      442.0  "
      ]
     },
     "execution_count": 3,
     "metadata": {},
     "output_type": "execute_result"
    }
   ],
   "source": [
    "# print 4 first rows \n",
    "df_assets.head()"
   ]
  },
  {
   "cell_type": "code",
   "execution_count": 4,
   "metadata": {
    "scrolled": false
   },
   "outputs": [
    {
     "name": "stdout",
     "output_type": "stream",
     "text": [
      "<class 'pandas.core.frame.DataFrame'>\n",
      "RangeIndex: 17271 entries, 0 to 17270\n",
      "Data columns (total 8 columns):\n",
      " #   Column           Non-Null Count  Dtype  \n",
      "---  ------           --------------  -----  \n",
      " 0   show_type        17271 non-null  object \n",
      " 1   genre            17270 non-null  object \n",
      " 2   running_minutes  17271 non-null  int64  \n",
      " 3   source_language  17079 non-null  object \n",
      " 4   asset_id         17271 non-null  int64  \n",
      " 5   season_id        13978 non-null  float64\n",
      " 6   series_id        13978 non-null  float64\n",
      " 7   studio_id        17269 non-null  float64\n",
      "dtypes: float64(3), int64(2), object(3)\n",
      "memory usage: 1.1+ MB\n"
     ]
    }
   ],
   "source": [
    "# print info about the dataset\n",
    "df_assets.info()"
   ]
  },
  {
   "cell_type": "markdown",
   "metadata": {},
   "source": [
    "#### Show_Type"
   ]
  },
  {
   "cell_type": "markdown",
   "metadata": {},
   "source": [
    "Type of content, whether the asset is a movie or an episode of a TV series\n",
    "\n",
    "17271 non-null"
   ]
  },
  {
   "cell_type": "code",
   "execution_count": 5,
   "metadata": {
    "scrolled": true
   },
   "outputs": [
    {
     "data": {
      "text/plain": [
       "TV        80.933356\n",
       "Movies    19.066644\n",
       "Name: show_type, dtype: float64"
      ]
     },
     "execution_count": 5,
     "metadata": {},
     "output_type": "execute_result"
    }
   ],
   "source": [
    "df_assets.show_type.value_counts()/len(df_assets)*100"
   ]
  },
  {
   "cell_type": "code",
   "execution_count": 6,
   "metadata": {},
   "outputs": [
    {
     "data": {
      "text/plain": [
       "Text(0, 0.5, 'Type')"
      ]
     },
     "execution_count": 6,
     "metadata": {},
     "output_type": "execute_result"
    },
    {
     "data": {
      "image/png": "[encoded data removed]",
      "text/plain": [
       "<Figure size 432x288 with 1 Axes>"
      ]
     },
     "metadata": {
      "needs_background": "light"
     },
     "output_type": "display_data"
    }
   ],
   "source": [
    "sns.countplot(y =df_assets.show_type, palette = 'colorblind')\n",
    "plt.title('Show type')\n",
    "plt.ylabel('Type')"
   ]
  },
  {
   "cell_type": "markdown",
   "metadata": {},
   "source": [
    "Tv series are the most of the dataset, 80.94%. Movies are 19.07% of the dataset."
   ]
  },
  {
   "cell_type": "markdown",
   "metadata": {},
   "source": [
    "#### Genre"
   ]
  },
  {
   "cell_type": "markdown",
   "metadata": {},
   "source": [
    "Genre of content\n",
    "\n",
    "17270 non-null object"
   ]
  },
  {
   "cell_type": "code",
   "execution_count": 13,
   "metadata": {
    "scrolled": false
   },
   "outputs": [
    {
     "data": {
      "text/plain": [
       "Drama                        43.541196\n",
       "Kids                         13.265011\n",
       "Comedy                        9.877830\n",
       "Romance                       6.693301\n",
       "Fantasy                       5.077876\n",
       "Action and Adventure          4.377280\n",
       "Anime                         2.466562\n",
       "Reality                       2.333391\n",
       "Documentary and Biography     2.107579\n",
       "Horror                        1.887557\n",
       "Sports                        1.366452\n",
       "Lifestyle and Fashion         1.331712\n",
       "Crime and Mystery             1.210121\n",
       "Thriller                      1.053790\n",
       "Music                         0.972729\n",
       "Others                        0.509525\n",
       "eSports                       0.399514\n",
       "Sci-Fi                        0.347403\n",
       "Family                        0.237392\n",
       "Animation                     0.196862\n",
       "News                          0.185282\n",
       "Best of Web or Viral          0.127381\n",
       "Education                     0.121591\n",
       "Religion and Faith            0.098431\n",
       "Game Show                     0.069481\n",
       "Live Events and Specials      0.052110\n",
       "Health and Fitness            0.040530\n",
       "Extreme Sports                0.023160\n",
       "Adult Romance                 0.023160\n",
       "Name: genre, dtype: float64"
      ]
     },
     "execution_count": 13,
     "metadata": {},
     "output_type": "execute_result"
    }
   ],
   "source": [
    "df_assets.genre.value_counts()/len(df_assets)*100"
   ]
  },
  {
   "cell_type": "code",
   "execution_count": 16,
   "metadata": {},
   "outputs": [
    {
     "data": {
      "text/plain": [
       "Text(0, 0.5, '')"
      ]
     },
     "execution_count": 16,
     "metadata": {},
     "output_type": "execute_result"
    },
    {
     "data": {
      "image/png": "[encoded data removed]",
      "text/plain": [
       "<Figure size 432x288 with 1 Axes>"
      ]
     },
     "metadata": {
      "needs_background": "light"
     },
     "output_type": "display_data"
    }
   ],
   "source": [
    "sns.countplot(y = df_assets.genre, order = df_assets.genre.value_counts().iloc[:15].index, palette = 'colorblind')\n",
    "plt.title('Genre')\n",
    "plt.ylabel('')"
   ]
  },
  {
   "cell_type": "markdown",
   "metadata": {},
   "source": [
    "#### Running_Minutes"
   ]
  },
  {
   "cell_type": "markdown",
   "metadata": {},
   "source": [
    "Runtime of content, (Playable number of minutes)\n",
    "\n",
    "17271 non-null  int64"
   ]
  },
  {
   "cell_type": "code",
   "execution_count": 18,
   "metadata": {
    "scrolled": true
   },
   "outputs": [
    {
     "data": {
      "text/plain": [
       "count    17271.000000\n",
       "mean        48.926177\n",
       "std         30.719699\n",
       "min          6.000000\n",
       "25%         25.000000\n",
       "50%         44.000000\n",
       "75%         61.000000\n",
       "max        249.000000\n",
       "Name: running_minutes, dtype: float64"
      ]
     },
     "execution_count": 18,
     "metadata": {},
     "output_type": "execute_result"
    }
   ],
   "source": [
    "df_assets.running_minutes.describe()"
   ]
  },
  {
   "cell_type": "code",
   "execution_count": 32,
   "metadata": {
    "scrolled": true
   },
   "outputs": [
    {
     "data": {
      "text/plain": [
       "Text(0.5, 1.0, 'Running Time')"
      ]
     },
     "execution_count": 32,
     "metadata": {},
     "output_type": "execute_result"
    },
    {
     "data": {
      "image/png": "[encoded data removed]",
      "text/plain": [
       "<Figure size 432x288 with 1 Axes>"
      ]
     },
     "metadata": {
      "needs_background": "light"
     },
     "output_type": "display_data"
    }
   ],
   "source": [
    "sns.distplot(df_assets.running_minutes, bins = 50)\n",
    "plt.title('Running Time')"
   ]
  },
  {
   "cell_type": "markdown",
   "metadata": {},
   "source": [
    "People watch 48.93 minutes on average. The maximum time is of 249 minutes.\n",
    "In the graph above there're 3 peaks. 25 minutes, 50 minutes and 100 minutes."
   ]
  },
  {
   "cell_type": "markdown",
   "metadata": {},
   "source": [
    "#### Source_Language"
   ]
  },
  {
   "cell_type": "markdown",
   "metadata": {},
   "source": [
    "Production language of content\n",
    "\n",
    "17079 non-null object"
   ]
  },
  {
   "cell_type": "code",
   "execution_count": 37,
   "metadata": {
    "scrolled": true
   },
   "outputs": [
    {
     "data": {
      "text/plain": [
       "English               29.506109\n",
       "Tagalog               16.652192\n",
       "Indonesian            15.772104\n",
       "Korean                11.690116\n",
       "Chinese                5.929014\n",
       "Malay                  5.338429\n",
       "Japanese               2.593944\n",
       "Thai                   2.431822\n",
       "Arabic                 1.737016\n",
       "Urdu                   1.563314\n",
       "Burmese                1.094320\n",
       "Bengali                0.602165\n",
       "Hindi                  0.590585\n",
       "Nepali                 0.561635\n",
       "Spanish; Castilian     0.509525\n",
       "Tamil                  0.416884\n",
       "Central Khmer          0.266342\n",
       "Vietnamese             0.266342\n",
       "Sinhala; Sinhalese     0.214232\n",
       "French                 0.208442\n",
       "Turkish                0.156331\n",
       "Swahili                0.138961\n",
       "Avaric                 0.133171\n",
       "Italian                0.110011\n",
       "Afrikaans              0.092641\n",
       "Kanuri                 0.092641\n",
       "Dutch; Flemish         0.052110\n",
       "Portuguese             0.028950\n",
       "Swedish                0.017370\n",
       "Hungarian              0.017370\n",
       "Norwegian              0.017370\n",
       "Danish                 0.017370\n",
       "German                 0.017370\n",
       "Catalan; Valencian     0.017370\n",
       "Esperanto              0.005790\n",
       "Tajik                  0.005790\n",
       "Russian                0.005790\n",
       "Macedonian             0.005790\n",
       "Akan                   0.005790\n",
       "Kazakh                 0.005790\n",
       "Name: source_language, dtype: float64"
      ]
     },
     "execution_count": 37,
     "metadata": {},
     "output_type": "execute_result"
    }
   ],
   "source": [
    "df_assets.source_language.value_counts()/len(df_assets)*100"
   ]
  },
  {
   "cell_type": "code",
   "execution_count": 38,
   "metadata": {},
   "outputs": [
    {
     "data": {
      "text/plain": [
       "<matplotlib.axes._subplots.AxesSubplot at 0x277669c3c48>"
      ]
     },
     "execution_count": 38,
     "metadata": {},
     "output_type": "execute_result"
    },
    {
     "data": {
      "image/png": "[encoded data removed]",
      "text/plain": [
       "<Figure size 432x288 with 1 Axes>"
      ]
     },
     "metadata": {
      "needs_background": "light"
     },
     "output_type": "display_data"
    }
   ],
   "source": [
    "sns.countplot(y = df_assets.source_language, palette = 'colorblind', order = df_assets.source_language.value_counts().iloc[:15].index)"
   ]
  },
  {
   "cell_type": "markdown",
   "metadata": {},
   "source": [
    "#### Asset_id"
   ]
  },
  {
   "cell_type": "markdown",
   "metadata": {},
   "source": [
    "17271 non-null int64\n",
    " \n",
    " Unique identifier of video content, at the most granular level (a movie or an episode of a TV \n",
    " \n",
    " There is no repeated video content."
   ]
  },
  {
   "cell_type": "code",
   "execution_count": 40,
   "metadata": {
    "scrolled": true
   },
   "outputs": [
    {
     "data": {
      "text/plain": [
       "2047     1\n",
       "629      1\n",
       "8849     1\n",
       "10896    1\n",
       "17037    1\n",
       "        ..\n",
       "15661    1\n",
       "13612    1\n",
       "3371     1\n",
       "1322     1\n",
       "2049     1\n",
       "Name: asset_id, Length: 17271, dtype: int64"
      ]
     },
     "execution_count": 40,
     "metadata": {},
     "output_type": "execute_result"
    }
   ],
   "source": [
    "df_assets.asset_id.value_counts()"
   ]
  },
  {
   "cell_type": "markdown",
   "metadata": {},
   "source": [
    "#### Season_id"
   ]
  },
  {
   "cell_type": "markdown",
   "metadata": {},
   "source": [
    "13978  non-null float64\n",
    "\n",
    "Unique identifier of content, at season level. Only applicable to TV series"
   ]
  },
  {
   "cell_type": "code",
   "execution_count": 44,
   "metadata": {
    "scrolled": true
   },
   "outputs": [
    {
     "data": {
      "text/plain": [
       "284.0     175\n",
       "741.0     139\n",
       "768.0     129\n",
       "1193.0    125\n",
       "339.0     118\n",
       "         ... \n",
       "81.0        1\n",
       "658.0       1\n",
       "982.0       1\n",
       "17.0        1\n",
       "4.0         1\n",
       "Name: season_id, Length: 1276, dtype: int64"
      ]
     },
     "execution_count": 44,
     "metadata": {},
     "output_type": "execute_result"
    }
   ],
   "source": [
    "df_assets.season_id.value_counts()"
   ]
  },
  {
   "cell_type": "markdown",
   "metadata": {},
   "source": [
    "#### Series_id "
   ]
  },
  {
   "cell_type": "markdown",
   "metadata": {},
   "source": [
    "13978 non-null  float64\n",
    "\n",
    "Unique identifier of content, at series level. Only applicable to TV series"
   ]
  },
  {
   "cell_type": "code",
   "execution_count": 45,
   "metadata": {},
   "outputs": [
    {
     "data": {
      "text/plain": [
       "804.0    189\n",
       "235.0    175\n",
       "620.0    166\n",
       "234.0    161\n",
       "896.0    160\n",
       "        ... \n",
       "15.0       1\n",
       "13.0       1\n",
       "7.0        1\n",
       "208.0      1\n",
       "661.0      1\n",
       "Name: series_id, Length: 1060, dtype: int64"
      ]
     },
     "execution_count": 45,
     "metadata": {},
     "output_type": "execute_result"
    }
   ],
   "source": [
    "df_assets.series_id.value_counts()"
   ]
  },
  {
   "cell_type": "markdown",
   "metadata": {},
   "source": [
    "#### Studio_id"
   ]
  },
  {
   "cell_type": "markdown",
   "metadata": {},
   "source": [
    "studio_id 17269 non-null float64\n",
    "\n",
    "There're 458 different studios in the dataset."
   ]
  },
  {
   "cell_type": "code",
   "execution_count": 46,
   "metadata": {
    "scrolled": true
   },
   "outputs": [
    {
     "data": {
      "text/plain": [
       "281.0    2355\n",
       "170.0    1349\n",
       "10.0     1330\n",
       "450.0     890\n",
       "271.0     448\n",
       "         ... \n",
       "329.0       1\n",
       "258.0       1\n",
       "399.0       1\n",
       "374.0       1\n",
       "150.0       1\n",
       "Name: studio_id, Length: 458, dtype: int64"
      ]
     },
     "execution_count": 46,
     "metadata": {},
     "output_type": "execute_result"
    }
   ],
   "source": [
    "df_assets.studio_id.value_counts()"
   ]
  },
  {
   "cell_type": "code",
   "execution_count": 53,
   "metadata": {},
   "outputs": [
    {
     "data": {
      "text/plain": [
       "458"
      ]
     },
     "execution_count": 53,
     "metadata": {},
     "output_type": "execute_result"
    }
   ],
   "source": [
    "# number of unique studios\n",
    "df_assets.studio_id.nunique()"
   ]
  },
  {
   "cell_type": "markdown",
   "metadata": {},
   "source": [
    "## Demographics.csv"
   ]
  },
  {
   "cell_type": "markdown",
   "metadata": {},
   "source": [
    "## Questions \n",
    "\n",
    "What are the Platforms of consumption?\n",
    "* [Platform](#Platform)"
   ]
  },
  {
   "cell_type": "code",
   "execution_count": 8,
   "metadata": {},
   "outputs": [],
   "source": [
    "# open df\n",
    "df_demographics = pd.read_csv('C:/Users/camil/Desktop/dados/PI/demographics.csv', encoding = 'latin1', engine = 'python', delimiter = ',')"
   ]
  },
  {
   "cell_type": "code",
   "execution_count": 56,
   "metadata": {
    "scrolled": false
   },
   "outputs": [
    {
     "data": {
      "text/html": [
       "<div>\n",
       "<style scoped>\n",
       "    .dataframe tbody tr th:only-of-type {\n",
       "        vertical-align: middle;\n",
       "    }\n",
       "\n",
       "    .dataframe tbody tr th {\n",
       "        vertical-align: top;\n",
       "    }\n",
       "\n",
       "    .dataframe thead th {\n",
       "        text-align: right;\n",
       "    }\n",
       "</style>\n",
       "<table border=\"1\" class=\"dataframe\">\n",
       "  <thead>\n",
       "    <tr style=\"text-align: right;\">\n",
       "      <th></th>\n",
       "      <th>user_id</th>\n",
       "      <th>platform</th>\n",
       "      <th>level_1</th>\n",
       "      <th>level_2</th>\n",
       "      <th>level_3</th>\n",
       "      <th>confidence_score</th>\n",
       "    </tr>\n",
       "  </thead>\n",
       "  <tbody>\n",
       "    <tr>\n",
       "      <th>0</th>\n",
       "      <td>171798691973</td>\n",
       "      <td>android</td>\n",
       "      <td>Demographics</td>\n",
       "      <td>Income</td>\n",
       "      <td>Medium</td>\n",
       "      <td>1.0</td>\n",
       "    </tr>\n",
       "    <tr>\n",
       "      <th>1</th>\n",
       "      <td>326417514592</td>\n",
       "      <td>android</td>\n",
       "      <td>Demographics</td>\n",
       "      <td>Income</td>\n",
       "      <td>Medium</td>\n",
       "      <td>1.0</td>\n",
       "    </tr>\n",
       "    <tr>\n",
       "      <th>2</th>\n",
       "      <td>17179869245</td>\n",
       "      <td>android</td>\n",
       "      <td>Demographics</td>\n",
       "      <td>Income</td>\n",
       "      <td>Medium</td>\n",
       "      <td>1.0</td>\n",
       "    </tr>\n",
       "    <tr>\n",
       "      <th>3</th>\n",
       "      <td>996432412842</td>\n",
       "      <td>android</td>\n",
       "      <td>Demographics</td>\n",
       "      <td>Income</td>\n",
       "      <td>Low</td>\n",
       "      <td>1.0</td>\n",
       "    </tr>\n",
       "    <tr>\n",
       "      <th>4</th>\n",
       "      <td>1606317768894</td>\n",
       "      <td>android</td>\n",
       "      <td>Demographics</td>\n",
       "      <td>Income</td>\n",
       "      <td>Low</td>\n",
       "      <td>1.0</td>\n",
       "    </tr>\n",
       "  </tbody>\n",
       "</table>\n",
       "</div>"
      ],
      "text/plain": [
       "         user_id platform       level_1 level_2 level_3  confidence_score\n",
       "0   171798691973  android  Demographics  Income  Medium               1.0\n",
       "1   326417514592  android  Demographics  Income  Medium               1.0\n",
       "2    17179869245  android  Demographics  Income  Medium               1.0\n",
       "3   996432412842  android  Demographics  Income     Low               1.0\n",
       "4  1606317768894  android  Demographics  Income     Low               1.0"
      ]
     },
     "execution_count": 56,
     "metadata": {},
     "output_type": "execute_result"
    }
   ],
   "source": [
    "# print the first 4 rows\n",
    "df_demographics.head()"
   ]
  },
  {
   "cell_type": "code",
   "execution_count": 58,
   "metadata": {
    "scrolled": true
   },
   "outputs": [
    {
     "name": "stdout",
     "output_type": "stream",
     "text": [
      "<class 'pandas.core.frame.DataFrame'>\n",
      "RangeIndex: 102745 entries, 0 to 102744\n",
      "Data columns (total 6 columns):\n",
      " #   Column            Non-Null Count   Dtype  \n",
      "---  ------            --------------   -----  \n",
      " 0   user_id           102745 non-null  int64  \n",
      " 1   platform          102745 non-null  object \n",
      " 2   level_1           102745 non-null  object \n",
      " 3   level_2           102745 non-null  object \n",
      " 4   level_3           102745 non-null  object \n",
      " 5   confidence_score  102745 non-null  float64\n",
      "dtypes: float64(1), int64(1), object(4)\n",
      "memory usage: 4.7+ MB\n"
     ]
    }
   ],
   "source": [
    "# print info about the dataset\n",
    "df_demographics.info()"
   ]
  },
  {
   "cell_type": "markdown",
   "metadata": {},
   "source": [
    "### User_id"
   ]
  },
  {
   "cell_type": "code",
   "execution_count": 63,
   "metadata": {
    "scrolled": true
   },
   "outputs": [
    {
     "data": {
      "text/plain": [
       "1391569403955     True\n",
       "901943132244      True\n",
       "1151051235460     True\n",
       "1288490188834     True\n",
       "1382979469426     True\n",
       "                 ...  \n",
       "1331439862128    False\n",
       "386547056966     False\n",
       "231928234319     False\n",
       "549755814188     False\n",
       "0                False\n",
       "Name: user_id, Length: 72043, dtype: bool"
      ]
     },
     "execution_count": 63,
     "metadata": {},
     "output_type": "execute_result"
    }
   ],
   "source": [
    "# check if there are repeated users\n",
    "df_demographics.user_id.value_counts() > 1"
   ]
  },
  {
   "cell_type": "code",
   "execution_count": 34,
   "metadata": {},
   "outputs": [],
   "source": [
    "df_filt = df_demographics[df_demographics.groupby('user_id')['user_id'].transform('size')>1]"
   ]
  },
  {
   "cell_type": "code",
   "execution_count": 106,
   "metadata": {},
   "outputs": [
    {
     "data": {
      "text/plain": [
       "(102745, 6)"
      ]
     },
     "execution_count": 106,
     "metadata": {},
     "output_type": "execute_result"
    }
   ],
   "source": [
    "df_demographics.shape"
   ]
  },
  {
   "cell_type": "code",
   "execution_count": 105,
   "metadata": {
    "scrolled": true
   },
   "outputs": [
    {
     "data": {
      "text/plain": [
       "(49194, 6)"
      ]
     },
     "execution_count": 105,
     "metadata": {},
     "output_type": "execute_result"
    }
   ],
   "source": [
    "df_filt.shape"
   ]
  },
  {
   "cell_type": "markdown",
   "metadata": {},
   "source": [
    "Investigar porque existem tantas linhas duplicadas.\n",
    "Essas linhas dupicadas não fazem muito sentido, porque para um mesmo user_id existem dois niveis de renda diferentes."
   ]
  },
  {
   "cell_type": "code",
   "execution_count": 36,
   "metadata": {},
   "outputs": [
    {
     "data": {
      "text/html": [
       "<div>\n",
       "<style scoped>\n",
       "    .dataframe tbody tr th:only-of-type {\n",
       "        vertical-align: middle;\n",
       "    }\n",
       "\n",
       "    .dataframe tbody tr th {\n",
       "        vertical-align: top;\n",
       "    }\n",
       "\n",
       "    .dataframe thead th {\n",
       "        text-align: right;\n",
       "    }\n",
       "</style>\n",
       "<table border=\"1\" class=\"dataframe\">\n",
       "  <thead>\n",
       "    <tr style=\"text-align: right;\">\n",
       "      <th></th>\n",
       "      <th>user_id</th>\n",
       "      <th>platform</th>\n",
       "      <th>level_1</th>\n",
       "      <th>level_2</th>\n",
       "      <th>level_3</th>\n",
       "      <th>confidence_score</th>\n",
       "    </tr>\n",
       "  </thead>\n",
       "  <tbody>\n",
       "    <tr>\n",
       "      <th>6437</th>\n",
       "      <td>2</td>\n",
       "      <td>android</td>\n",
       "      <td>Demographics</td>\n",
       "      <td>Income</td>\n",
       "      <td>Medium</td>\n",
       "      <td>1.000000</td>\n",
       "    </tr>\n",
       "    <tr>\n",
       "      <th>95214</th>\n",
       "      <td>2</td>\n",
       "      <td>android</td>\n",
       "      <td>Demographics</td>\n",
       "      <td>Income</td>\n",
       "      <td>Low</td>\n",
       "      <td>1.000000</td>\n",
       "    </tr>\n",
       "    <tr>\n",
       "      <th>2703</th>\n",
       "      <td>11</td>\n",
       "      <td>android</td>\n",
       "      <td>Demographics</td>\n",
       "      <td>Income</td>\n",
       "      <td>Low</td>\n",
       "      <td>1.000000</td>\n",
       "    </tr>\n",
       "    <tr>\n",
       "      <th>85243</th>\n",
       "      <td>11</td>\n",
       "      <td>android</td>\n",
       "      <td>Demographics</td>\n",
       "      <td>Income</td>\n",
       "      <td>Medium</td>\n",
       "      <td>1.000000</td>\n",
       "    </tr>\n",
       "    <tr>\n",
       "      <th>89653</th>\n",
       "      <td>27</td>\n",
       "      <td>web</td>\n",
       "      <td>Demographics</td>\n",
       "      <td>Income</td>\n",
       "      <td>Low</td>\n",
       "      <td>1.000000</td>\n",
       "    </tr>\n",
       "    <tr>\n",
       "      <th>...</th>\n",
       "      <td>...</td>\n",
       "      <td>...</td>\n",
       "      <td>...</td>\n",
       "      <td>...</td>\n",
       "      <td>...</td>\n",
       "      <td>...</td>\n",
       "    </tr>\n",
       "    <tr>\n",
       "      <th>90719</th>\n",
       "      <td>1709396984318</td>\n",
       "      <td>iOS</td>\n",
       "      <td>Demographics</td>\n",
       "      <td>Age</td>\n",
       "      <td>18 - 24</td>\n",
       "      <td>1.000000</td>\n",
       "    </tr>\n",
       "    <tr>\n",
       "      <th>55098</th>\n",
       "      <td>1709396984318</td>\n",
       "      <td>iOS</td>\n",
       "      <td>Demographics</td>\n",
       "      <td>Income</td>\n",
       "      <td>Medium</td>\n",
       "      <td>1.000000</td>\n",
       "    </tr>\n",
       "    <tr>\n",
       "      <th>83476</th>\n",
       "      <td>1709396984322</td>\n",
       "      <td>android</td>\n",
       "      <td>Demographics</td>\n",
       "      <td>Gender</td>\n",
       "      <td>Male</td>\n",
       "      <td>0.543187</td>\n",
       "    </tr>\n",
       "    <tr>\n",
       "      <th>44595</th>\n",
       "      <td>1709396984322</td>\n",
       "      <td>android</td>\n",
       "      <td>Demographics</td>\n",
       "      <td>Income</td>\n",
       "      <td>Low</td>\n",
       "      <td>1.000000</td>\n",
       "    </tr>\n",
       "    <tr>\n",
       "      <th>19756</th>\n",
       "      <td>1709396984322</td>\n",
       "      <td>android</td>\n",
       "      <td>Demographics</td>\n",
       "      <td>Age</td>\n",
       "      <td>35 - 44</td>\n",
       "      <td>0.999998</td>\n",
       "    </tr>\n",
       "  </tbody>\n",
       "</table>\n",
       "<p>49194 rows × 6 columns</p>\n",
       "</div>"
      ],
      "text/plain": [
       "             user_id platform       level_1 level_2  level_3  confidence_score\n",
       "6437               2  android  Demographics  Income   Medium          1.000000\n",
       "95214              2  android  Demographics  Income      Low          1.000000\n",
       "2703              11  android  Demographics  Income      Low          1.000000\n",
       "85243             11  android  Demographics  Income   Medium          1.000000\n",
       "89653             27      web  Demographics  Income      Low          1.000000\n",
       "...              ...      ...           ...     ...      ...               ...\n",
       "90719  1709396984318      iOS  Demographics     Age  18 - 24          1.000000\n",
       "55098  1709396984318      iOS  Demographics  Income   Medium          1.000000\n",
       "83476  1709396984322  android  Demographics  Gender     Male          0.543187\n",
       "44595  1709396984322  android  Demographics  Income      Low          1.000000\n",
       "19756  1709396984322  android  Demographics     Age  35 - 44          0.999998\n",
       "\n",
       "[49194 rows x 6 columns]"
      ]
     },
     "execution_count": 36,
     "metadata": {},
     "output_type": "execute_result"
    }
   ],
   "source": [
    "df_filt.sort_values('user_id')"
   ]
  },
  {
   "cell_type": "markdown",
   "metadata": {},
   "source": [
    "#### Platform"
   ]
  },
  {
   "cell_type": "markdown",
   "metadata": {},
   "source": [
    "Platform of consumption\n",
    "\n",
    "102745 non-null  object "
   ]
  },
  {
   "cell_type": "code",
   "execution_count": 114,
   "metadata": {},
   "outputs": [
    {
     "data": {
      "text/plain": [
       "android          86280\n",
       "iOS              10109\n",
       "web               4423\n",
       "android-tv        1194\n",
       "googlecast         358\n",
       "Samsung Tizen      171\n",
       "webOS               81\n",
       "web-pwa             56\n",
       "Roku                23\n",
       "Vewd                16\n",
       "Samsung Orsay       16\n",
       "Panasonic           13\n",
       "COTV                 5\n",
       "Name: platform, dtype: int64"
      ]
     },
     "execution_count": 114,
     "metadata": {},
     "output_type": "execute_result"
    }
   ],
   "source": [
    "df_demographics.platform.value_counts()"
   ]
  },
  {
   "cell_type": "markdown",
   "metadata": {},
   "source": [
    "#### Level_1"
   ]
  },
  {
   "cell_type": "markdown",
   "metadata": {},
   "source": [
    "Identifies the first level of the trait (psychologic or demographic)\n",
    "\n",
    "102745 non-null  object "
   ]
  },
  {
   "cell_type": "code",
   "execution_count": 119,
   "metadata": {},
   "outputs": [
    {
     "data": {
      "text/plain": [
       "Demographics    102745\n",
       "Name: level_1, dtype: int64"
      ]
     },
     "execution_count": 119,
     "metadata": {},
     "output_type": "execute_result"
    }
   ],
   "source": [
    "df_demographics.level_1.value_counts()"
   ]
  },
  {
   "cell_type": "markdown",
   "metadata": {},
   "source": [
    "All informations are demographics."
   ]
  },
  {
   "cell_type": "markdown",
   "metadata": {},
   "source": [
    "#### Level_2"
   ]
  },
  {
   "cell_type": "markdown",
   "metadata": {},
   "source": [
    "102745 non-null  object\n",
    "\n",
    "Identifies the second level of the trait"
   ]
  },
  {
   "cell_type": "code",
   "execution_count": 121,
   "metadata": {},
   "outputs": [
    {
     "data": {
      "text/plain": [
       "Income    70606\n",
       "Gender    18071\n",
       "Age       14068\n",
       "Name: level_2, dtype: int64"
      ]
     },
     "execution_count": 121,
     "metadata": {},
     "output_type": "execute_result"
    }
   ],
   "source": [
    "df_demographics.level_2.value_counts()"
   ]
  },
  {
   "cell_type": "markdown",
   "metadata": {},
   "source": [
    "There are three types of demographic traits."
   ]
  },
  {
   "cell_type": "markdown",
   "metadata": {},
   "source": [
    "#### Level_3"
   ]
  },
  {
   "cell_type": "markdown",
   "metadata": {},
   "source": [
    "102745 non-null  object \n",
    "\n",
    "Identifies the third level of the trait, if available/relevant"
   ]
  },
  {
   "cell_type": "code",
   "execution_count": 122,
   "metadata": {
    "scrolled": true
   },
   "outputs": [
    {
     "data": {
      "text/plain": [
       "Low        34180\n",
       "Medium     26901\n",
       "High        9525\n",
       "Female      9218\n",
       "Male        8853\n",
       "25 - 34     7036\n",
       "18 - 24     3676\n",
       "< 18        1683\n",
       "35 - 44     1335\n",
       "45 - 54      237\n",
       "55+          101\n",
       "Name: level_3, dtype: int64"
      ]
     },
     "execution_count": 122,
     "metadata": {},
     "output_type": "execute_result"
    }
   ],
   "source": [
    "df_demographics.level_3.value_counts()"
   ]
  },
  {
   "cell_type": "markdown",
   "metadata": {},
   "source": [
    "#### Confidence_score"
   ]
  },
  {
   "cell_type": "markdown",
   "metadata": {},
   "source": [
    "102745 non-null  float64\n",
    "\n",
    "Confidence in associating the said trait (level_1, level_2, level_3) with the user"
   ]
  },
  {
   "cell_type": "code",
   "execution_count": 125,
   "metadata": {},
   "outputs": [
    {
     "data": {
      "text/plain": [
       "count    102745.000000\n",
       "mean          0.980793\n",
       "std           0.078400\n",
       "min           0.500000\n",
       "25%           1.000000\n",
       "50%           1.000000\n",
       "75%           1.000000\n",
       "max           1.000000\n",
       "Name: confidence_score, dtype: float64"
      ]
     },
     "execution_count": 125,
     "metadata": {},
     "output_type": "execute_result"
    }
   ],
   "source": [
    "df_demographics.confidence_score.describe()"
   ]
  },
  {
   "cell_type": "code",
   "execution_count": 31,
   "metadata": {},
   "outputs": [
    {
     "data": {
      "text/html": [
       "<div>\n",
       "<style scoped>\n",
       "    .dataframe tbody tr th:only-of-type {\n",
       "        vertical-align: middle;\n",
       "    }\n",
       "\n",
       "    .dataframe tbody tr th {\n",
       "        vertical-align: top;\n",
       "    }\n",
       "\n",
       "    .dataframe thead th {\n",
       "        text-align: right;\n",
       "    }\n",
       "</style>\n",
       "<table border=\"1\" class=\"dataframe\">\n",
       "  <thead>\n",
       "    <tr style=\"text-align: right;\">\n",
       "      <th></th>\n",
       "      <th>user_id</th>\n",
       "      <th>platform</th>\n",
       "      <th>level_1</th>\n",
       "      <th>level_2</th>\n",
       "      <th>level_3</th>\n",
       "      <th>confidence_score</th>\n",
       "    </tr>\n",
       "  </thead>\n",
       "  <tbody>\n",
       "    <tr>\n",
       "      <th>2725</th>\n",
       "      <td>0</td>\n",
       "      <td>iOS</td>\n",
       "      <td>Demographics</td>\n",
       "      <td>Income</td>\n",
       "      <td>High</td>\n",
       "      <td>1.0</td>\n",
       "    </tr>\n",
       "    <tr>\n",
       "      <th>22810</th>\n",
       "      <td>1</td>\n",
       "      <td>android</td>\n",
       "      <td>Demographics</td>\n",
       "      <td>Income</td>\n",
       "      <td>Medium</td>\n",
       "      <td>1.0</td>\n",
       "    </tr>\n",
       "    <tr>\n",
       "      <th>95214</th>\n",
       "      <td>2</td>\n",
       "      <td>android</td>\n",
       "      <td>Demographics</td>\n",
       "      <td>Income</td>\n",
       "      <td>Low</td>\n",
       "      <td>1.0</td>\n",
       "    </tr>\n",
       "    <tr>\n",
       "      <th>6437</th>\n",
       "      <td>2</td>\n",
       "      <td>android</td>\n",
       "      <td>Demographics</td>\n",
       "      <td>Income</td>\n",
       "      <td>Medium</td>\n",
       "      <td>1.0</td>\n",
       "    </tr>\n",
       "    <tr>\n",
       "      <th>48246</th>\n",
       "      <td>3</td>\n",
       "      <td>android</td>\n",
       "      <td>Demographics</td>\n",
       "      <td>Income</td>\n",
       "      <td>Low</td>\n",
       "      <td>1.0</td>\n",
       "    </tr>\n",
       "    <tr>\n",
       "      <th>...</th>\n",
       "      <td>...</td>\n",
       "      <td>...</td>\n",
       "      <td>...</td>\n",
       "      <td>...</td>\n",
       "      <td>...</td>\n",
       "      <td>...</td>\n",
       "    </tr>\n",
       "    <tr>\n",
       "      <th>75990</th>\n",
       "      <td>1709396984327</td>\n",
       "      <td>android</td>\n",
       "      <td>Demographics</td>\n",
       "      <td>Income</td>\n",
       "      <td>Low</td>\n",
       "      <td>1.0</td>\n",
       "    </tr>\n",
       "    <tr>\n",
       "      <th>23051</th>\n",
       "      <td>1709396984328</td>\n",
       "      <td>android</td>\n",
       "      <td>Demographics</td>\n",
       "      <td>Income</td>\n",
       "      <td>Medium</td>\n",
       "      <td>1.0</td>\n",
       "    </tr>\n",
       "    <tr>\n",
       "      <th>36510</th>\n",
       "      <td>1709396984329</td>\n",
       "      <td>android</td>\n",
       "      <td>Demographics</td>\n",
       "      <td>Income</td>\n",
       "      <td>Medium</td>\n",
       "      <td>1.0</td>\n",
       "    </tr>\n",
       "    <tr>\n",
       "      <th>30516</th>\n",
       "      <td>1709396984331</td>\n",
       "      <td>android</td>\n",
       "      <td>Demographics</td>\n",
       "      <td>Income</td>\n",
       "      <td>Low</td>\n",
       "      <td>1.0</td>\n",
       "    </tr>\n",
       "    <tr>\n",
       "      <th>25566</th>\n",
       "      <td>1709396984332</td>\n",
       "      <td>android</td>\n",
       "      <td>Demographics</td>\n",
       "      <td>Income</td>\n",
       "      <td>Medium</td>\n",
       "      <td>1.0</td>\n",
       "    </tr>\n",
       "  </tbody>\n",
       "</table>\n",
       "<p>102745 rows × 6 columns</p>\n",
       "</div>"
      ],
      "text/plain": [
       "             user_id platform       level_1 level_2 level_3  confidence_score\n",
       "2725               0      iOS  Demographics  Income    High               1.0\n",
       "22810              1  android  Demographics  Income  Medium               1.0\n",
       "95214              2  android  Demographics  Income     Low               1.0\n",
       "6437               2  android  Demographics  Income  Medium               1.0\n",
       "48246              3  android  Demographics  Income     Low               1.0\n",
       "...              ...      ...           ...     ...     ...               ...\n",
       "75990  1709396984327  android  Demographics  Income     Low               1.0\n",
       "23051  1709396984328  android  Demographics  Income  Medium               1.0\n",
       "36510  1709396984329  android  Demographics  Income  Medium               1.0\n",
       "30516  1709396984331  android  Demographics  Income     Low               1.0\n",
       "25566  1709396984332  android  Demographics  Income  Medium               1.0\n",
       "\n",
       "[102745 rows x 6 columns]"
      ]
     },
     "execution_count": 31,
     "metadata": {},
     "output_type": "execute_result"
    }
   ],
   "source": [
    "df_demographics.sort_values('user_id')"
   ]
  },
  {
   "cell_type": "code",
   "execution_count": 63,
   "metadata": {},
   "outputs": [],
   "source": [
    "#df_demographics.reset_index().pivot(index = \"user_id\", columns = \"level_2\", values = \"level_3\")\n",
    "df_reshape =df_demographics.pivot_table(index='user_id', \n",
    "                        columns='level_2', \n",
    "                        values='level_3',\n",
    "                           aggfunc = 'first',\n",
    "                        observed = 'True')"
   ]
  },
  {
   "cell_type": "code",
   "execution_count": 64,
   "metadata": {},
   "outputs": [
    {
     "data": {
      "text/html": [
       "<div>\n",
       "<style scoped>\n",
       "    .dataframe tbody tr th:only-of-type {\n",
       "        vertical-align: middle;\n",
       "    }\n",
       "\n",
       "    .dataframe tbody tr th {\n",
       "        vertical-align: top;\n",
       "    }\n",
       "\n",
       "    .dataframe thead th {\n",
       "        text-align: right;\n",
       "    }\n",
       "</style>\n",
       "<table border=\"1\" class=\"dataframe\">\n",
       "  <thead>\n",
       "    <tr style=\"text-align: right;\">\n",
       "      <th>level_2</th>\n",
       "      <th>Age</th>\n",
       "      <th>Gender</th>\n",
       "      <th>Income</th>\n",
       "    </tr>\n",
       "    <tr>\n",
       "      <th>user_id</th>\n",
       "      <th></th>\n",
       "      <th></th>\n",
       "      <th></th>\n",
       "    </tr>\n",
       "  </thead>\n",
       "  <tbody>\n",
       "    <tr>\n",
       "      <th>0</th>\n",
       "      <td>NaN</td>\n",
       "      <td>NaN</td>\n",
       "      <td>High</td>\n",
       "    </tr>\n",
       "    <tr>\n",
       "      <th>1</th>\n",
       "      <td>NaN</td>\n",
       "      <td>NaN</td>\n",
       "      <td>Medium</td>\n",
       "    </tr>\n",
       "    <tr>\n",
       "      <th>2</th>\n",
       "      <td>NaN</td>\n",
       "      <td>NaN</td>\n",
       "      <td>Medium</td>\n",
       "    </tr>\n",
       "    <tr>\n",
       "      <th>3</th>\n",
       "      <td>NaN</td>\n",
       "      <td>NaN</td>\n",
       "      <td>Low</td>\n",
       "    </tr>\n",
       "    <tr>\n",
       "      <th>6</th>\n",
       "      <td>NaN</td>\n",
       "      <td>NaN</td>\n",
       "      <td>Medium</td>\n",
       "    </tr>\n",
       "    <tr>\n",
       "      <th>...</th>\n",
       "      <td>...</td>\n",
       "      <td>...</td>\n",
       "      <td>...</td>\n",
       "    </tr>\n",
       "    <tr>\n",
       "      <th>1709396984327</th>\n",
       "      <td>NaN</td>\n",
       "      <td>NaN</td>\n",
       "      <td>Low</td>\n",
       "    </tr>\n",
       "    <tr>\n",
       "      <th>1709396984328</th>\n",
       "      <td>NaN</td>\n",
       "      <td>NaN</td>\n",
       "      <td>Medium</td>\n",
       "    </tr>\n",
       "    <tr>\n",
       "      <th>1709396984329</th>\n",
       "      <td>NaN</td>\n",
       "      <td>NaN</td>\n",
       "      <td>Medium</td>\n",
       "    </tr>\n",
       "    <tr>\n",
       "      <th>1709396984331</th>\n",
       "      <td>NaN</td>\n",
       "      <td>NaN</td>\n",
       "      <td>Low</td>\n",
       "    </tr>\n",
       "    <tr>\n",
       "      <th>1709396984332</th>\n",
       "      <td>NaN</td>\n",
       "      <td>NaN</td>\n",
       "      <td>Medium</td>\n",
       "    </tr>\n",
       "  </tbody>\n",
       "</table>\n",
       "<p>72043 rows × 3 columns</p>\n",
       "</div>"
      ],
      "text/plain": [
       "level_2        Age Gender  Income\n",
       "user_id                          \n",
       "0              NaN    NaN    High\n",
       "1              NaN    NaN  Medium\n",
       "2              NaN    NaN  Medium\n",
       "3              NaN    NaN     Low\n",
       "6              NaN    NaN  Medium\n",
       "...            ...    ...     ...\n",
       "1709396984327  NaN    NaN     Low\n",
       "1709396984328  NaN    NaN  Medium\n",
       "1709396984329  NaN    NaN  Medium\n",
       "1709396984331  NaN    NaN     Low\n",
       "1709396984332  NaN    NaN  Medium\n",
       "\n",
       "[72043 rows x 3 columns]"
      ]
     },
     "execution_count": 64,
     "metadata": {},
     "output_type": "execute_result"
    }
   ],
   "source": [
    "df_reshape.sort_values('user_id')"
   ]
  },
  {
   "cell_type": "code",
   "execution_count": 9,
   "metadata": {
    "scrolled": false
   },
   "outputs": [
    {
     "data": {
      "text/html": [
       "<div>\n",
       "<style scoped>\n",
       "    .dataframe tbody tr th:only-of-type {\n",
       "        vertical-align: middle;\n",
       "    }\n",
       "\n",
       "    .dataframe tbody tr th {\n",
       "        vertical-align: top;\n",
       "    }\n",
       "\n",
       "    .dataframe thead th {\n",
       "        text-align: right;\n",
       "    }\n",
       "</style>\n",
       "<table border=\"1\" class=\"dataframe\">\n",
       "  <thead>\n",
       "    <tr style=\"text-align: right;\">\n",
       "      <th></th>\n",
       "      <th>user_id</th>\n",
       "      <th>level_2</th>\n",
       "      <th>variable</th>\n",
       "      <th>value</th>\n",
       "    </tr>\n",
       "  </thead>\n",
       "  <tbody>\n",
       "    <tr>\n",
       "      <th>0</th>\n",
       "      <td>171798691973</td>\n",
       "      <td>Income</td>\n",
       "      <td>level_3</td>\n",
       "      <td>Medium</td>\n",
       "    </tr>\n",
       "    <tr>\n",
       "      <th>1</th>\n",
       "      <td>326417514592</td>\n",
       "      <td>Income</td>\n",
       "      <td>level_3</td>\n",
       "      <td>Medium</td>\n",
       "    </tr>\n",
       "    <tr>\n",
       "      <th>2</th>\n",
       "      <td>17179869245</td>\n",
       "      <td>Income</td>\n",
       "      <td>level_3</td>\n",
       "      <td>Medium</td>\n",
       "    </tr>\n",
       "    <tr>\n",
       "      <th>3</th>\n",
       "      <td>996432412842</td>\n",
       "      <td>Income</td>\n",
       "      <td>level_3</td>\n",
       "      <td>Low</td>\n",
       "    </tr>\n",
       "    <tr>\n",
       "      <th>4</th>\n",
       "      <td>1606317768894</td>\n",
       "      <td>Income</td>\n",
       "      <td>level_3</td>\n",
       "      <td>Low</td>\n",
       "    </tr>\n",
       "    <tr>\n",
       "      <th>...</th>\n",
       "      <td>...</td>\n",
       "      <td>...</td>\n",
       "      <td>...</td>\n",
       "      <td>...</td>\n",
       "    </tr>\n",
       "    <tr>\n",
       "      <th>102740</th>\n",
       "      <td>34359738459</td>\n",
       "      <td>Age</td>\n",
       "      <td>level_3</td>\n",
       "      <td>25 - 34</td>\n",
       "    </tr>\n",
       "    <tr>\n",
       "      <th>102741</th>\n",
       "      <td>1520418423157</td>\n",
       "      <td>Age</td>\n",
       "      <td>level_3</td>\n",
       "      <td>18 - 24</td>\n",
       "    </tr>\n",
       "    <tr>\n",
       "      <th>102742</th>\n",
       "      <td>274877907051</td>\n",
       "      <td>Age</td>\n",
       "      <td>level_3</td>\n",
       "      <td>25 - 34</td>\n",
       "    </tr>\n",
       "    <tr>\n",
       "      <th>102743</th>\n",
       "      <td>1382979469397</td>\n",
       "      <td>Age</td>\n",
       "      <td>level_3</td>\n",
       "      <td>25 - 34</td>\n",
       "    </tr>\n",
       "    <tr>\n",
       "      <th>102744</th>\n",
       "      <td>240518168604</td>\n",
       "      <td>Age</td>\n",
       "      <td>level_3</td>\n",
       "      <td>25 - 34</td>\n",
       "    </tr>\n",
       "  </tbody>\n",
       "</table>\n",
       "<p>102745 rows × 4 columns</p>\n",
       "</div>"
      ],
      "text/plain": [
       "              user_id level_2 variable    value\n",
       "0        171798691973  Income  level_3   Medium\n",
       "1        326417514592  Income  level_3   Medium\n",
       "2         17179869245  Income  level_3   Medium\n",
       "3        996432412842  Income  level_3      Low\n",
       "4       1606317768894  Income  level_3      Low\n",
       "...               ...     ...      ...      ...\n",
       "102740    34359738459     Age  level_3  25 - 34\n",
       "102741  1520418423157     Age  level_3  18 - 24\n",
       "102742   274877907051     Age  level_3  25 - 34\n",
       "102743  1382979469397     Age  level_3  25 - 34\n",
       "102744   240518168604     Age  level_3  25 - 34\n",
       "\n",
       "[102745 rows x 4 columns]"
      ]
     },
     "execution_count": 9,
     "metadata": {},
     "output_type": "execute_result"
    }
   ],
   "source": [
    "df_demographics.melt(id_vars=['user_id', 'level_2'], value_vars=['level_3'])"
   ]
  },
  {
   "cell_type": "markdown",
   "metadata": {},
   "source": [
    "### Plays.csv"
   ]
  },
  {
   "cell_type": "code",
   "execution_count": 57,
   "metadata": {},
   "outputs": [],
   "source": [
    "# open df\n",
    "df_plays = pd.read_csv('C:/Users/camil/Desktop/dados/PI/plays.csv', engine = 'python', delimiter = ',')"
   ]
  },
  {
   "cell_type": "code",
   "execution_count": 40,
   "metadata": {
    "scrolled": true
   },
   "outputs": [
    {
     "data": {
      "text/html": [
       "<div>\n",
       "<style scoped>\n",
       "    .dataframe tbody tr th:only-of-type {\n",
       "        vertical-align: middle;\n",
       "    }\n",
       "\n",
       "    .dataframe tbody tr th {\n",
       "        vertical-align: top;\n",
       "    }\n",
       "\n",
       "    .dataframe thead th {\n",
       "        text-align: right;\n",
       "    }\n",
       "</style>\n",
       "<table border=\"1\" class=\"dataframe\">\n",
       "  <thead>\n",
       "    <tr style=\"text-align: right;\">\n",
       "      <th></th>\n",
       "      <th>user_id</th>\n",
       "      <th>platform</th>\n",
       "      <th>asset_id</th>\n",
       "      <th>minutes_viewed</th>\n",
       "    </tr>\n",
       "  </thead>\n",
       "  <tbody>\n",
       "    <tr>\n",
       "      <th>0</th>\n",
       "      <td>764504178919</td>\n",
       "      <td>android</td>\n",
       "      <td>13758</td>\n",
       "      <td>28</td>\n",
       "    </tr>\n",
       "    <tr>\n",
       "      <th>1</th>\n",
       "      <td>412316860611</td>\n",
       "      <td>android</td>\n",
       "      <td>13825</td>\n",
       "      <td>28</td>\n",
       "    </tr>\n",
       "    <tr>\n",
       "      <th>2</th>\n",
       "      <td>1503238553613</td>\n",
       "      <td>iOS</td>\n",
       "      <td>93</td>\n",
       "      <td>105</td>\n",
       "    </tr>\n",
       "    <tr>\n",
       "      <th>3</th>\n",
       "      <td>489626272003</td>\n",
       "      <td>android</td>\n",
       "      <td>6226</td>\n",
       "      <td>7</td>\n",
       "    </tr>\n",
       "    <tr>\n",
       "      <th>4</th>\n",
       "      <td>68719476744</td>\n",
       "      <td>android</td>\n",
       "      <td>3762</td>\n",
       "      <td>1</td>\n",
       "    </tr>\n",
       "  </tbody>\n",
       "</table>\n",
       "</div>"
      ],
      "text/plain": [
       "         user_id platform  asset_id  minutes_viewed\n",
       "0   764504178919  android     13758              28\n",
       "1   412316860611  android     13825              28\n",
       "2  1503238553613      iOS        93             105\n",
       "3   489626272003  android      6226               7\n",
       "4    68719476744  android      3762               1"
      ]
     },
     "execution_count": 40,
     "metadata": {},
     "output_type": "execute_result"
    }
   ],
   "source": [
    "# print the first 4 rows\n",
    "df_plays.head()"
   ]
  },
  {
   "cell_type": "code",
   "execution_count": 96,
   "metadata": {},
   "outputs": [
    {
     "data": {
      "text/html": [
       "<div>\n",
       "<style scoped>\n",
       "    .dataframe tbody tr th:only-of-type {\n",
       "        vertical-align: middle;\n",
       "    }\n",
       "\n",
       "    .dataframe tbody tr th {\n",
       "        vertical-align: top;\n",
       "    }\n",
       "\n",
       "    .dataframe thead th {\n",
       "        text-align: right;\n",
       "    }\n",
       "</style>\n",
       "<table border=\"1\" class=\"dataframe\">\n",
       "  <thead>\n",
       "    <tr style=\"text-align: right;\">\n",
       "      <th></th>\n",
       "      <th>user_id</th>\n",
       "      <th>platform</th>\n",
       "      <th>asset_id</th>\n",
       "      <th>minutes_viewed</th>\n",
       "      <th>views</th>\n",
       "      <th>user_views</th>\n",
       "    </tr>\n",
       "  </thead>\n",
       "  <tbody>\n",
       "    <tr>\n",
       "      <th>123656</th>\n",
       "      <td>1</td>\n",
       "      <td>android</td>\n",
       "      <td>5727</td>\n",
       "      <td>0</td>\n",
       "      <td>61</td>\n",
       "      <td>2</td>\n",
       "    </tr>\n",
       "    <tr>\n",
       "      <th>316045</th>\n",
       "      <td>1</td>\n",
       "      <td>android</td>\n",
       "      <td>12060</td>\n",
       "      <td>4</td>\n",
       "      <td>127</td>\n",
       "      <td>2</td>\n",
       "    </tr>\n",
       "    <tr>\n",
       "      <th>249083</th>\n",
       "      <td>2</td>\n",
       "      <td>android</td>\n",
       "      <td>9233</td>\n",
       "      <td>0</td>\n",
       "      <td>40</td>\n",
       "      <td>13</td>\n",
       "    </tr>\n",
       "    <tr>\n",
       "      <th>307298</th>\n",
       "      <td>2</td>\n",
       "      <td>android</td>\n",
       "      <td>6637</td>\n",
       "      <td>0</td>\n",
       "      <td>1361</td>\n",
       "      <td>13</td>\n",
       "    </tr>\n",
       "    <tr>\n",
       "      <th>101975</th>\n",
       "      <td>2</td>\n",
       "      <td>android</td>\n",
       "      <td>13778</td>\n",
       "      <td>53</td>\n",
       "      <td>159</td>\n",
       "      <td>13</td>\n",
       "    </tr>\n",
       "    <tr>\n",
       "      <th>...</th>\n",
       "      <td>...</td>\n",
       "      <td>...</td>\n",
       "      <td>...</td>\n",
       "      <td>...</td>\n",
       "      <td>...</td>\n",
       "      <td>...</td>\n",
       "    </tr>\n",
       "    <tr>\n",
       "      <th>194849</th>\n",
       "      <td>1709396984329</td>\n",
       "      <td>android</td>\n",
       "      <td>16915</td>\n",
       "      <td>21</td>\n",
       "      <td>2797</td>\n",
       "      <td>4</td>\n",
       "    </tr>\n",
       "    <tr>\n",
       "      <th>503988</th>\n",
       "      <td>1709396984330</td>\n",
       "      <td>android</td>\n",
       "      <td>15097</td>\n",
       "      <td>1</td>\n",
       "      <td>1090</td>\n",
       "      <td>1</td>\n",
       "    </tr>\n",
       "    <tr>\n",
       "      <th>269615</th>\n",
       "      <td>1709396984331</td>\n",
       "      <td>android</td>\n",
       "      <td>14936</td>\n",
       "      <td>108</td>\n",
       "      <td>7209</td>\n",
       "      <td>3</td>\n",
       "    </tr>\n",
       "    <tr>\n",
       "      <th>527580</th>\n",
       "      <td>1709396984331</td>\n",
       "      <td>android</td>\n",
       "      <td>17106</td>\n",
       "      <td>84</td>\n",
       "      <td>321</td>\n",
       "      <td>3</td>\n",
       "    </tr>\n",
       "    <tr>\n",
       "      <th>4832</th>\n",
       "      <td>1709396984331</td>\n",
       "      <td>android</td>\n",
       "      <td>17105</td>\n",
       "      <td>15</td>\n",
       "      <td>1175</td>\n",
       "      <td>3</td>\n",
       "    </tr>\n",
       "  </tbody>\n",
       "</table>\n",
       "<p>542157 rows × 6 columns</p>\n",
       "</div>"
      ],
      "text/plain": [
       "              user_id platform  asset_id  minutes_viewed  views  user_views\n",
       "123656              1  android      5727               0     61           2\n",
       "316045              1  android     12060               4    127           2\n",
       "249083              2  android      9233               0     40          13\n",
       "307298              2  android      6637               0   1361          13\n",
       "101975              2  android     13778              53    159          13\n",
       "...               ...      ...       ...             ...    ...         ...\n",
       "194849  1709396984329  android     16915              21   2797           4\n",
       "503988  1709396984330  android     15097               1   1090           1\n",
       "269615  1709396984331  android     14936             108   7209           3\n",
       "527580  1709396984331  android     17106              84    321           3\n",
       "4832    1709396984331  android     17105              15   1175           3\n",
       "\n",
       "[542157 rows x 6 columns]"
      ]
     },
     "execution_count": 96,
     "metadata": {},
     "output_type": "execute_result"
    }
   ],
   "source": [
    "df_plays.sort_values('user_id')"
   ]
  },
  {
   "cell_type": "code",
   "execution_count": 41,
   "metadata": {
    "scrolled": true
   },
   "outputs": [
    {
     "name": "stdout",
     "output_type": "stream",
     "text": [
      "<class 'pandas.core.frame.DataFrame'>\n",
      "RangeIndex: 542157 entries, 0 to 542156\n",
      "Data columns (total 4 columns):\n",
      " #   Column          Non-Null Count   Dtype \n",
      "---  ------          --------------   ----- \n",
      " 0   user_id         542157 non-null  int64 \n",
      " 1   platform        542157 non-null  object\n",
      " 2   asset_id        542157 non-null  int64 \n",
      " 3   minutes_viewed  542157 non-null  int64 \n",
      "dtypes: int64(3), object(1)\n",
      "memory usage: 16.5+ MB\n"
     ]
    }
   ],
   "source": [
    "df_plays.info()"
   ]
  },
  {
   "cell_type": "markdown",
   "metadata": {},
   "source": [
    "#### user_id         \n",
    "\n",
    "User ID\n",
    "\n",
    "542157 non-null  int64 "
   ]
  },
  {
   "cell_type": "code",
   "execution_count": 45,
   "metadata": {
    "scrolled": false
   },
   "outputs": [
    {
     "data": {
      "text/plain": [
       "1511828488204    454\n",
       "575525617696     425\n",
       "429496729956     344\n",
       "549755813946     339\n",
       "498216206551     332\n",
       "                ... \n",
       "1099511627907      1\n",
       "1108101562499      1\n",
       "850403524952       1\n",
       "858993459544       1\n",
       "511                1\n",
       "Name: user_id, Length: 89602, dtype: int64"
      ]
     },
     "execution_count": 45,
     "metadata": {},
     "output_type": "execute_result"
    }
   ],
   "source": [
    "# check if there's repeated rows\n",
    "df_plays.user_id.value_counts()"
   ]
  },
  {
   "cell_type": "markdown",
   "metadata": {},
   "source": [
    "There are many user ids repeated, maybe because people watch more than once. So, with this column value_counts we can create a new feature that shows how many times someone has watched."
   ]
  },
  {
   "cell_type": "code",
   "execution_count": 95,
   "metadata": {},
   "outputs": [],
   "source": [
    "df_plays['user_views'] = df_plays.groupby('user_id')['user_id'].transform('size')"
   ]
  },
  {
   "cell_type": "code",
   "execution_count": 73,
   "metadata": {},
   "outputs": [
    {
     "data": {
      "text/plain": [
       "count    542157.000000\n",
       "mean         28.521463\n",
       "std          40.005122\n",
       "min           1.000000\n",
       "25%           6.000000\n",
       "50%          16.000000\n",
       "75%          35.000000\n",
       "max         454.000000\n",
       "Name: views, dtype: float64"
      ]
     },
     "execution_count": 73,
     "metadata": {},
     "output_type": "execute_result"
    }
   ],
   "source": [
    "df_plays.user_views.describe()"
   ]
  },
  {
   "cell_type": "code",
   "execution_count": 74,
   "metadata": {
    "scrolled": true
   },
   "outputs": [
    {
     "data": {
      "text/plain": [
       "<matplotlib.axes._subplots.AxesSubplot at 0x162c1ef9f48>"
      ]
     },
     "execution_count": 74,
     "metadata": {},
     "output_type": "execute_result"
    },
    {
     "data": {
      "image/png": "[encoded data removed]",
      "text/plain": [
       "<Figure size 432x288 with 1 Axes>"
      ]
     },
     "metadata": {
      "needs_background": "light"
     },
     "output_type": "display_data"
    }
   ],
   "source": [
    "# plot an histogram\n",
    "sns.distplot(df_plays.user_views)"
   ]
  },
  {
   "cell_type": "code",
   "execution_count": 75,
   "metadata": {},
   "outputs": [
    {
     "data": {
      "text/plain": [
       "<matplotlib.axes._subplots.AxesSubplot at 0x162c136f208>"
      ]
     },
     "execution_count": 75,
     "metadata": {},
     "output_type": "execute_result"
    },
    {
     "data": {
      "image/png": "[encoded data removed]",
      "text/plain": [
       "<Figure size 432x288 with 1 Axes>"
      ]
     },
     "metadata": {
      "needs_background": "light"
     },
     "output_type": "display_data"
    }
   ],
   "source": [
    "sns.boxplot(df_plays.views)"
   ]
  },
  {
   "cell_type": "markdown",
   "metadata": {},
   "source": [
    "#### platform"
   ]
  },
  {
   "cell_type": "markdown",
   "metadata": {},
   "source": [
    "Platform of consumption\n",
    "\n",
    "542157 non-null  object"
   ]
  },
  {
   "cell_type": "code",
   "execution_count": 76,
   "metadata": {
    "scrolled": true
   },
   "outputs": [
    {
     "data": {
      "text/plain": [
       "android          400266\n",
       "android-tv        59678\n",
       "iOS               33071\n",
       "web               27591\n",
       "web-embed         10812\n",
       "Samsung Tizen      4029\n",
       "webOS              2849\n",
       "web-pwa             973\n",
       "Samsung Orsay       769\n",
       "Roku                744\n",
       "Vewd                734\n",
       "googlecast          409\n",
       "Panasonic           184\n",
       "Netrange             48\n",
       "Name: platform, dtype: int64"
      ]
     },
     "execution_count": 76,
     "metadata": {},
     "output_type": "execute_result"
    }
   ],
   "source": [
    "df_plays.platform.value_counts()"
   ]
  },
  {
   "cell_type": "code",
   "execution_count": 82,
   "metadata": {},
   "outputs": [
    {
     "data": {
      "text/plain": [
       "<matplotlib.axes._subplots.AxesSubplot at 0x162bf3ee388>"
      ]
     },
     "execution_count": 82,
     "metadata": {},
     "output_type": "execute_result"
    },
    {
     "data": {
      "image/png": "[encoded data removed]",
      "text/plain": [
       "<Figure size 432x288 with 1 Axes>"
      ]
     },
     "metadata": {
      "needs_background": "light"
     },
     "output_type": "display_data"
    }
   ],
   "source": [
    "sns.countplot(y = df_plays.platform, palette = 'colorblind', order = df_plays.platform.value_counts().index)"
   ]
  },
  {
   "cell_type": "markdown",
   "metadata": {},
   "source": [
    "#### asset_id"
   ]
  },
  {
   "cell_type": "markdown",
   "metadata": {},
   "source": [
    "Asset ID\n",
    "\n",
    "542157 non-null  int64"
   ]
  },
  {
   "cell_type": "code",
   "execution_count": 85,
   "metadata": {
    "scrolled": true
   },
   "outputs": [
    {
     "data": {
      "text/plain": [
       "14129    7660\n",
       "14936    7209\n",
       "13799    5101\n",
       "13672    4584\n",
       "16077    4379\n",
       "         ... \n",
       "105         1\n",
       "10528       1\n",
       "3877        1\n",
       "10348       1\n",
       "17242       1\n",
       "Name: asset_id, Length: 17271, dtype: int64"
      ]
     },
     "execution_count": 85,
     "metadata": {},
     "output_type": "execute_result"
    }
   ],
   "source": [
    "df_plays.asset_id.value_counts()"
   ]
  },
  {
   "cell_type": "code",
   "execution_count": 86,
   "metadata": {},
   "outputs": [],
   "source": [
    "df_plays['views'] = df_plays.groupby('asset_id')['asset_id'].transform('size')"
   ]
  },
  {
   "cell_type": "code",
   "execution_count": 89,
   "metadata": {},
   "outputs": [
    {
     "data": {
      "text/plain": [
       "count    542157.000000\n",
       "mean        822.687987\n",
       "std        1455.867696\n",
       "min           1.000000\n",
       "25%          66.000000\n",
       "50%         279.000000\n",
       "75%         859.000000\n",
       "max        7660.000000\n",
       "Name: views, dtype: float64"
      ]
     },
     "execution_count": 89,
     "metadata": {},
     "output_type": "execute_result"
    }
   ],
   "source": [
    "df_plays.views.describe()"
   ]
  },
  {
   "cell_type": "code",
   "execution_count": 87,
   "metadata": {},
   "outputs": [
    {
     "data": {
      "text/plain": [
       "<matplotlib.axes._subplots.AxesSubplot at 0x162c31775c8>"
      ]
     },
     "execution_count": 87,
     "metadata": {},
     "output_type": "execute_result"
    },
    {
     "data": {
      "image/png": "[encoded data removed]",
      "text/plain": [
       "<Figure size 432x288 with 1 Axes>"
      ]
     },
     "metadata": {
      "needs_background": "light"
     },
     "output_type": "display_data"
    }
   ],
   "source": [
    "sns.distplot(df_plays.views)"
   ]
  },
  {
   "cell_type": "markdown",
   "metadata": {},
   "source": [
    "#### minutes_viewed"
   ]
  },
  {
   "cell_type": "markdown",
   "metadata": {},
   "source": [
    "Total number of minutes viewed, rounded to the nearest integer (0 means less than 30 seconds)\n",
    "\n",
    "542157 non-null  int64 "
   ]
  },
  {
   "cell_type": "code",
   "execution_count": 91,
   "metadata": {},
   "outputs": [
    {
     "data": {
      "text/plain": [
       "count    542157.000000\n",
       "mean         34.057485\n",
       "std          51.666177\n",
       "min           0.000000\n",
       "25%           1.000000\n",
       "50%          16.000000\n",
       "75%          59.000000\n",
       "max       18078.000000\n",
       "Name: minutes_viewed, dtype: float64"
      ]
     },
     "execution_count": 91,
     "metadata": {},
     "output_type": "execute_result"
    }
   ],
   "source": [
    "df_plays.minutes_viewed.describe()"
   ]
  },
  {
   "cell_type": "markdown",
   "metadata": {},
   "source": [
    "### Psychographics.csv"
   ]
  },
  {
   "cell_type": "markdown",
   "metadata": {},
   "source": [
    "User psychographic and demographic tags analysis information."
   ]
  },
  {
   "cell_type": "code",
   "execution_count": 105,
   "metadata": {},
   "outputs": [],
   "source": [
    "df_psycho = pd.read_csv('C:/Users/camil/Desktop/dados/PI/psychographics.csv')"
   ]
  },
  {
   "cell_type": "code",
   "execution_count": 106,
   "metadata": {
    "scrolled": true
   },
   "outputs": [
    {
     "data": {
      "text/html": [
       "<div>\n",
       "<style scoped>\n",
       "    .dataframe tbody tr th:only-of-type {\n",
       "        vertical-align: middle;\n",
       "    }\n",
       "\n",
       "    .dataframe tbody tr th {\n",
       "        vertical-align: top;\n",
       "    }\n",
       "\n",
       "    .dataframe thead th {\n",
       "        text-align: right;\n",
       "    }\n",
       "</style>\n",
       "<table border=\"1\" class=\"dataframe\">\n",
       "  <thead>\n",
       "    <tr style=\"text-align: right;\">\n",
       "      <th></th>\n",
       "      <th>user_id</th>\n",
       "      <th>platform</th>\n",
       "      <th>level_1</th>\n",
       "      <th>level_2</th>\n",
       "      <th>level_3</th>\n",
       "      <th>confidence_score</th>\n",
       "    </tr>\n",
       "  </thead>\n",
       "  <tbody>\n",
       "    <tr>\n",
       "      <th>0</th>\n",
       "      <td>352187318551</td>\n",
       "      <td>android</td>\n",
       "      <td>Psychographics</td>\n",
       "      <td>Social Media Fans</td>\n",
       "      <td>\\\"\\\"</td>\n",
       "      <td>1.00</td>\n",
       "    </tr>\n",
       "    <tr>\n",
       "      <th>1</th>\n",
       "      <td>51539607784</td>\n",
       "      <td>android</td>\n",
       "      <td>Psychographics</td>\n",
       "      <td>Social Media Fans</td>\n",
       "      <td>\\\"\\\"</td>\n",
       "      <td>1.00</td>\n",
       "    </tr>\n",
       "    <tr>\n",
       "      <th>2</th>\n",
       "      <td>1322849927469</td>\n",
       "      <td>android</td>\n",
       "      <td>Psychographics</td>\n",
       "      <td>Social Media Fans</td>\n",
       "      <td>\\\"\\\"</td>\n",
       "      <td>1.00</td>\n",
       "    </tr>\n",
       "    <tr>\n",
       "      <th>3</th>\n",
       "      <td>137438953840</td>\n",
       "      <td>android</td>\n",
       "      <td>Psychographics</td>\n",
       "      <td>Movies Lovers</td>\n",
       "      <td>Romance Movies Fans</td>\n",
       "      <td>0.56</td>\n",
       "    </tr>\n",
       "    <tr>\n",
       "      <th>4</th>\n",
       "      <td>927712935974</td>\n",
       "      <td>android</td>\n",
       "      <td>Psychographics</td>\n",
       "      <td>Movies Lovers</td>\n",
       "      <td>Comedy Movies Fans</td>\n",
       "      <td>0.80</td>\n",
       "    </tr>\n",
       "  </tbody>\n",
       "</table>\n",
       "</div>"
      ],
      "text/plain": [
       "         user_id platform         level_1            level_2  \\\n",
       "0   352187318551  android  Psychographics  Social Media Fans   \n",
       "1    51539607784  android  Psychographics  Social Media Fans   \n",
       "2  1322849927469  android  Psychographics  Social Media Fans   \n",
       "3   137438953840  android  Psychographics      Movies Lovers   \n",
       "4   927712935974  android  Psychographics      Movies Lovers   \n",
       "\n",
       "               level_3  confidence_score  \n",
       "0                 \\\"\\\"              1.00  \n",
       "1                 \\\"\\\"              1.00  \n",
       "2                 \\\"\\\"              1.00  \n",
       "3  Romance Movies Fans              0.56  \n",
       "4   Comedy Movies Fans              0.80  "
      ]
     },
     "execution_count": 106,
     "metadata": {},
     "output_type": "execute_result"
    }
   ],
   "source": [
    "df_psycho.head()"
   ]
  },
  {
   "cell_type": "code",
   "execution_count": 107,
   "metadata": {
    "scrolled": true
   },
   "outputs": [
    {
     "data": {
      "text/html": [
       "<div>\n",
       "<style scoped>\n",
       "    .dataframe tbody tr th:only-of-type {\n",
       "        vertical-align: middle;\n",
       "    }\n",
       "\n",
       "    .dataframe tbody tr th {\n",
       "        vertical-align: top;\n",
       "    }\n",
       "\n",
       "    .dataframe thead th {\n",
       "        text-align: right;\n",
       "    }\n",
       "</style>\n",
       "<table border=\"1\" class=\"dataframe\">\n",
       "  <thead>\n",
       "    <tr style=\"text-align: right;\">\n",
       "      <th></th>\n",
       "      <th>user_id</th>\n",
       "      <th>platform</th>\n",
       "      <th>level_1</th>\n",
       "      <th>level_2</th>\n",
       "      <th>level_3</th>\n",
       "      <th>confidence_score</th>\n",
       "    </tr>\n",
       "  </thead>\n",
       "  <tbody>\n",
       "    <tr>\n",
       "      <th>232013</th>\n",
       "      <td>0</td>\n",
       "      <td>iOS</td>\n",
       "      <td>Psychographics</td>\n",
       "      <td>Travellers</td>\n",
       "      <td>Local Commuters</td>\n",
       "      <td>0.29</td>\n",
       "    </tr>\n",
       "    <tr>\n",
       "      <th>459980</th>\n",
       "      <td>0</td>\n",
       "      <td>iOS</td>\n",
       "      <td>Psychographics</td>\n",
       "      <td>iflix Viewing Behaviour</td>\n",
       "      <td>casual</td>\n",
       "      <td>1.00</td>\n",
       "    </tr>\n",
       "    <tr>\n",
       "      <th>455792</th>\n",
       "      <td>1</td>\n",
       "      <td>android</td>\n",
       "      <td>Psychographics</td>\n",
       "      <td>Movies Lovers</td>\n",
       "      <td>Documentary and Biography Movies Fans</td>\n",
       "      <td>0.61</td>\n",
       "    </tr>\n",
       "    <tr>\n",
       "      <th>370778</th>\n",
       "      <td>1</td>\n",
       "      <td>android</td>\n",
       "      <td>Psychographics</td>\n",
       "      <td>Movies Lovers</td>\n",
       "      <td>English Movies Fans</td>\n",
       "      <td>0.24</td>\n",
       "    </tr>\n",
       "    <tr>\n",
       "      <th>300772</th>\n",
       "      <td>1</td>\n",
       "      <td>android</td>\n",
       "      <td>Psychographics</td>\n",
       "      <td>iflix Viewing Behaviour</td>\n",
       "      <td>casual</td>\n",
       "      <td>1.00</td>\n",
       "    </tr>\n",
       "    <tr>\n",
       "      <th>...</th>\n",
       "      <td>...</td>\n",
       "      <td>...</td>\n",
       "      <td>...</td>\n",
       "      <td>...</td>\n",
       "      <td>...</td>\n",
       "      <td>...</td>\n",
       "    </tr>\n",
       "    <tr>\n",
       "      <th>340584</th>\n",
       "      <td>1709396984331</td>\n",
       "      <td>android</td>\n",
       "      <td>Psychographics</td>\n",
       "      <td>Mobile Enthusiasts</td>\n",
       "      <td>High Data Users</td>\n",
       "      <td>0.68</td>\n",
       "    </tr>\n",
       "    <tr>\n",
       "      <th>438133</th>\n",
       "      <td>1709396984331</td>\n",
       "      <td>android</td>\n",
       "      <td>Psychographics</td>\n",
       "      <td>Movies Lovers</td>\n",
       "      <td>Indonesian Movies Fans</td>\n",
       "      <td>0.58</td>\n",
       "    </tr>\n",
       "    <tr>\n",
       "      <th>145889</th>\n",
       "      <td>1709396984331</td>\n",
       "      <td>android</td>\n",
       "      <td>Psychographics</td>\n",
       "      <td>TV Lovers</td>\n",
       "      <td>Korean TV Fans</td>\n",
       "      <td>0.60</td>\n",
       "    </tr>\n",
       "    <tr>\n",
       "      <th>314367</th>\n",
       "      <td>1709396984332</td>\n",
       "      <td>android</td>\n",
       "      <td>Psychographics</td>\n",
       "      <td>Mobile Enthusiasts</td>\n",
       "      <td>High Data Users</td>\n",
       "      <td>0.03</td>\n",
       "    </tr>\n",
       "    <tr>\n",
       "      <th>333646</th>\n",
       "      <td>1709396984333</td>\n",
       "      <td>android</td>\n",
       "      <td>Psychographics</td>\n",
       "      <td>Mobile Enthusiasts</td>\n",
       "      <td>High Data Users</td>\n",
       "      <td>0.43</td>\n",
       "    </tr>\n",
       "  </tbody>\n",
       "</table>\n",
       "<p>475089 rows × 6 columns</p>\n",
       "</div>"
      ],
      "text/plain": [
       "              user_id platform         level_1                  level_2  \\\n",
       "232013              0      iOS  Psychographics               Travellers   \n",
       "459980              0      iOS  Psychographics  iflix Viewing Behaviour   \n",
       "455792              1  android  Psychographics            Movies Lovers   \n",
       "370778              1  android  Psychographics            Movies Lovers   \n",
       "300772              1  android  Psychographics  iflix Viewing Behaviour   \n",
       "...               ...      ...             ...                      ...   \n",
       "340584  1709396984331  android  Psychographics       Mobile Enthusiasts   \n",
       "438133  1709396984331  android  Psychographics            Movies Lovers   \n",
       "145889  1709396984331  android  Psychographics                TV Lovers   \n",
       "314367  1709396984332  android  Psychographics       Mobile Enthusiasts   \n",
       "333646  1709396984333  android  Psychographics       Mobile Enthusiasts   \n",
       "\n",
       "                                      level_3  confidence_score  \n",
       "232013                        Local Commuters              0.29  \n",
       "459980                                 casual              1.00  \n",
       "455792  Documentary and Biography Movies Fans              0.61  \n",
       "370778                    English Movies Fans              0.24  \n",
       "300772                                 casual              1.00  \n",
       "...                                       ...               ...  \n",
       "340584                        High Data Users              0.68  \n",
       "438133                 Indonesian Movies Fans              0.58  \n",
       "145889                         Korean TV Fans              0.60  \n",
       "314367                        High Data Users              0.03  \n",
       "333646                        High Data Users              0.43  \n",
       "\n",
       "[475089 rows x 6 columns]"
      ]
     },
     "execution_count": 107,
     "metadata": {},
     "output_type": "execute_result"
    }
   ],
   "source": [
    "df_psycho.sort_values('user_id')"
   ]
  },
  {
   "cell_type": "code",
   "execution_count": 108,
   "metadata": {
    "scrolled": true
   },
   "outputs": [
    {
     "name": "stdout",
     "output_type": "stream",
     "text": [
      "<class 'pandas.core.frame.DataFrame'>\n",
      "RangeIndex: 475089 entries, 0 to 475088\n",
      "Data columns (total 6 columns):\n",
      " #   Column            Non-Null Count   Dtype  \n",
      "---  ------            --------------   -----  \n",
      " 0   user_id           475089 non-null  int64  \n",
      " 1   platform          475089 non-null  object \n",
      " 2   level_1           475089 non-null  object \n",
      " 3   level_2           475089 non-null  object \n",
      " 4   level_3           467342 non-null  object \n",
      " 5   confidence_score  475089 non-null  float64\n",
      "dtypes: float64(1), int64(1), object(4)\n",
      "memory usage: 21.7+ MB\n"
     ]
    }
   ],
   "source": [
    "df_psycho.info()"
   ]
  },
  {
   "cell_type": "markdown",
   "metadata": {},
   "source": [
    "#### User_id\n",
    "\n",
    "475089 non-null  int64"
   ]
  },
  {
   "cell_type": "code",
   "execution_count": 116,
   "metadata": {},
   "outputs": [
    {
     "data": {
      "text/plain": [
       "1374389534872    41\n",
       "377957122486     37\n",
       "344              34\n",
       "1597727834671    32\n",
       "798863917287     31\n",
       "                 ..\n",
       "1408749273191     1\n",
       "1108101562789     1\n",
       "1589137899941     1\n",
       "137438954013      1\n",
       "283467841653      1\n",
       "Name: user_id, Length: 110639, dtype: int64"
      ]
     },
     "execution_count": 116,
     "metadata": {},
     "output_type": "execute_result"
    }
   ],
   "source": [
    "df_psycho.user_id.value_counts()"
   ]
  },
  {
   "cell_type": "code",
   "execution_count": 111,
   "metadata": {
    "scrolled": true
   },
   "outputs": [
    {
     "data": {
      "text/plain": [
       "android          354860\n",
       "web               30381\n",
       "android-tv        29242\n",
       "iOS               26607\n",
       "web-embed         25497\n",
       "Samsung Tizen      3328\n",
       "webOS              1877\n",
       "web-pwa             827\n",
       "googlecast          705\n",
       "Vewd                609\n",
       "Samsung Orsay       536\n",
       "Roku                427\n",
       "Panasonic           162\n",
       "Netrange             20\n",
       "COTV                 11\n",
       "Name: platform, dtype: int64"
      ]
     },
     "execution_count": 111,
     "metadata": {},
     "output_type": "execute_result"
    }
   ],
   "source": [
    "df_psycho.platform.value_counts()"
   ]
  },
  {
   "cell_type": "code",
   "execution_count": 115,
   "metadata": {},
   "outputs": [
    {
     "data": {
      "text/plain": [
       "<matplotlib.axes._subplots.AxesSubplot at 0x162dc0338c8>"
      ]
     },
     "execution_count": 115,
     "metadata": {},
     "output_type": "execute_result"
    },
    {
     "data": {
      "image/png": "[encoded data removed]",
      "text/plain": [
       "<Figure size 432x288 with 1 Axes>"
      ]
     },
     "metadata": {
      "needs_background": "light"
     },
     "output_type": "display_data"
    }
   ],
   "source": [
    "sns.countplot(y = df_psycho.platform, order = df_psycho.platform.value_counts().index, palette = 'colorblind')"
   ]
  },
  {
   "cell_type": "code",
   "execution_count": 118,
   "metadata": {},
   "outputs": [
    {
     "data": {
      "text/plain": [
       "Index(['user_id', 'platform', 'level_1', 'level_2', 'level_3',\n",
       "       'confidence_score'],\n",
       "      dtype='object')"
      ]
     },
     "execution_count": 118,
     "metadata": {},
     "output_type": "execute_result"
    }
   ],
   "source": [
    "df_psycho.columns"
   ]
  },
  {
   "cell_type": "code",
   "execution_count": 119,
   "metadata": {
    "scrolled": true
   },
   "outputs": [
    {
     "data": {
      "text/plain": [
       "Psychographics    475089\n",
       "Name: level_1, dtype: int64"
      ]
     },
     "execution_count": 119,
     "metadata": {},
     "output_type": "execute_result"
    }
   ],
   "source": [
    "df_psycho.level_1.value_counts()"
   ]
  },
  {
   "cell_type": "code",
   "execution_count": 121,
   "metadata": {
    "scrolled": true
   },
   "outputs": [
    {
     "data": {
      "text/plain": [
       "Movies Lovers                  206494\n",
       "TV Lovers                       90932\n",
       "Mobile Enthusiasts              62860\n",
       "Travellers                      55821\n",
       "iflix Viewing Behaviour         44988\n",
       "Social Media Fans                6247\n",
       "Sports Fans                      3972\n",
       "Music Lovers                     2159\n",
       "News Junkies & Avid Readers      1616\n",
       "Name: level_2, dtype: int64"
      ]
     },
     "execution_count": 121,
     "metadata": {},
     "output_type": "execute_result"
    }
   ],
   "source": [
    "df_psycho.level_2.value_counts()"
   ]
  },
  {
   "cell_type": "code",
   "execution_count": 122,
   "metadata": {},
   "outputs": [
    {
     "data": {
      "text/plain": [
       "High Data Users           56516\n",
       "Local Commuters           52254\n",
       "Indonesian Movies Fans    32507\n",
       "casual                    29555\n",
       "Comedy Movies Fans        26928\n",
       "                          ...  \n",
       "Dutch; Flemish TV Fans        2\n",
       "Russian Movies Fans           1\n",
       "Norwegian TV Fans             1\n",
       "Akan Movies Fans              1\n",
       "Kazakh Movies Fans            1\n",
       "Name: level_3, Length: 121, dtype: int64"
      ]
     },
     "execution_count": 122,
     "metadata": {},
     "output_type": "execute_result"
    }
   ],
   "source": [
    "df_psycho.level_3.value_counts()"
   ]
  },
  {
   "cell_type": "markdown",
   "metadata": {},
   "source": [
    "### Users.csv"
   ]
  },
  {
   "cell_type": "markdown",
   "metadata": {},
   "source": [
    "Users list."
   ]
  },
  {
   "cell_type": "code",
   "execution_count": 125,
   "metadata": {},
   "outputs": [],
   "source": [
    "df_users = pd.read_csv('C:/Users/camil/Desktop/dados/PI/users.csv')"
   ]
  },
  {
   "cell_type": "code",
   "execution_count": 126,
   "metadata": {},
   "outputs": [
    {
     "data": {
      "text/html": [
       "<div>\n",
       "<style scoped>\n",
       "    .dataframe tbody tr th:only-of-type {\n",
       "        vertical-align: middle;\n",
       "    }\n",
       "\n",
       "    .dataframe tbody tr th {\n",
       "        vertical-align: top;\n",
       "    }\n",
       "\n",
       "    .dataframe thead th {\n",
       "        text-align: right;\n",
       "    }\n",
       "</style>\n",
       "<table border=\"1\" class=\"dataframe\">\n",
       "  <thead>\n",
       "    <tr style=\"text-align: right;\">\n",
       "      <th></th>\n",
       "      <th>user_id</th>\n",
       "      <th>country_code</th>\n",
       "    </tr>\n",
       "  </thead>\n",
       "  <tbody>\n",
       "    <tr>\n",
       "      <th>0</th>\n",
       "      <td>781684047872</td>\n",
       "      <td>ID</td>\n",
       "    </tr>\n",
       "    <tr>\n",
       "      <th>1</th>\n",
       "      <td>781684047873</td>\n",
       "      <td>MY</td>\n",
       "    </tr>\n",
       "    <tr>\n",
       "      <th>2</th>\n",
       "      <td>781684047874</td>\n",
       "      <td>ID</td>\n",
       "    </tr>\n",
       "    <tr>\n",
       "      <th>3</th>\n",
       "      <td>781684047875</td>\n",
       "      <td>ID</td>\n",
       "    </tr>\n",
       "    <tr>\n",
       "      <th>4</th>\n",
       "      <td>781684047876</td>\n",
       "      <td>ID</td>\n",
       "    </tr>\n",
       "  </tbody>\n",
       "</table>\n",
       "</div>"
      ],
      "text/plain": [
       "        user_id country_code\n",
       "0  781684047872           ID\n",
       "1  781684047873           MY\n",
       "2  781684047874           ID\n",
       "3  781684047875           ID\n",
       "4  781684047876           ID"
      ]
     },
     "execution_count": 126,
     "metadata": {},
     "output_type": "execute_result"
    }
   ],
   "source": [
    "df_users.head()"
   ]
  },
  {
   "cell_type": "code",
   "execution_count": 127,
   "metadata": {
    "scrolled": true
   },
   "outputs": [
    {
     "data": {
      "text/plain": [
       "463856467982     1\n",
       "738734375081     1\n",
       "798863917225     1\n",
       "790273982633     1\n",
       "816043786409     1\n",
       "                ..\n",
       "1382979469451    1\n",
       "489626271983     1\n",
       "515396075866     1\n",
       "94489280949      1\n",
       "0                1\n",
       "Name: user_id, Length: 110639, dtype: int64"
      ]
     },
     "execution_count": 127,
     "metadata": {},
     "output_type": "execute_result"
    }
   ],
   "source": [
    "df_users.user_id.value_counts()"
   ]
  },
  {
   "cell_type": "code",
   "execution_count": 128,
   "metadata": {
    "scrolled": true
   },
   "outputs": [
    {
     "data": {
      "text/plain": [
       "ID    55240\n",
       "PH    19752\n",
       "MY    16798\n",
       "NP     8332\n",
       "BD     3117\n",
       "TH     2266\n",
       "PK     1438\n",
       "VN      942\n",
       "MM      581\n",
       "KH      535\n",
       "LK      306\n",
       "SA      208\n",
       "ZW      182\n",
       "MA      151\n",
       "KE      123\n",
       "EG      117\n",
       "IQ      111\n",
       "NG       90\n",
       "GH       78\n",
       "BN       47\n",
       "TZ       33\n",
       "SD       32\n",
       "JO       26\n",
       "UG       23\n",
       "KW       22\n",
       "LB       21\n",
       "ZM       14\n",
       "MU       13\n",
       "MV       12\n",
       "BH       10\n",
       "SG        5\n",
       "LA        3\n",
       "JP        2\n",
       "US        2\n",
       "IN        2\n",
       "KR        1\n",
       "ET        1\n",
       "TN        1\n",
       "GB        1\n",
       "QA        1\n",
       "Name: country_code, dtype: int64"
      ]
     },
     "execution_count": 128,
     "metadata": {},
     "output_type": "execute_result"
    }
   ],
   "source": [
    "df_users.country_code.value_counts()"
   ]
  },
  {
   "cell_type": "markdown",
   "metadata": {},
   "source": [
    "### Countries geo code\n",
    "\n",
    "[Google](https://developers.google.com/public-data/docs/canonical/countries_csv)"
   ]
  },
  {
   "cell_type": "code",
   "execution_count": 179,
   "metadata": {},
   "outputs": [],
   "source": [
    "df_geo = pd.read_csv('C:/Users/camil/Desktop/dados/PI/geo_code.csv',thousands='.')"
   ]
  },
  {
   "cell_type": "code",
   "execution_count": 180,
   "metadata": {
    "scrolled": false
   },
   "outputs": [
    {
     "data": {
      "text/html": [
       "<div>\n",
       "<style scoped>\n",
       "    .dataframe tbody tr th:only-of-type {\n",
       "        vertical-align: middle;\n",
       "    }\n",
       "\n",
       "    .dataframe tbody tr th {\n",
       "        vertical-align: top;\n",
       "    }\n",
       "\n",
       "    .dataframe thead th {\n",
       "        text-align: right;\n",
       "    }\n",
       "</style>\n",
       "<table border=\"1\" class=\"dataframe\">\n",
       "  <thead>\n",
       "    <tr style=\"text-align: right;\">\n",
       "      <th></th>\n",
       "      <th>country</th>\n",
       "      <th>latitude</th>\n",
       "      <th>longitude</th>\n",
       "      <th>name</th>\n",
       "    </tr>\n",
       "  </thead>\n",
       "  <tbody>\n",
       "    <tr>\n",
       "      <th>0</th>\n",
       "      <td>AD</td>\n",
       "      <td>42546245.0</td>\n",
       "      <td>1601554.0</td>\n",
       "      <td>Andorra</td>\n",
       "    </tr>\n",
       "    <tr>\n",
       "      <th>1</th>\n",
       "      <td>AE</td>\n",
       "      <td>23424076.0</td>\n",
       "      <td>53847818.0</td>\n",
       "      <td>United Arab Emirates</td>\n",
       "    </tr>\n",
       "    <tr>\n",
       "      <th>2</th>\n",
       "      <td>AF</td>\n",
       "      <td>3393911.0</td>\n",
       "      <td>67709953.0</td>\n",
       "      <td>Afghanistan</td>\n",
       "    </tr>\n",
       "    <tr>\n",
       "      <th>3</th>\n",
       "      <td>AG</td>\n",
       "      <td>17060816.0</td>\n",
       "      <td>-61796428.0</td>\n",
       "      <td>Antigua and Barbuda</td>\n",
       "    </tr>\n",
       "    <tr>\n",
       "      <th>4</th>\n",
       "      <td>AI</td>\n",
       "      <td>18220554.0</td>\n",
       "      <td>-63068615.0</td>\n",
       "      <td>Anguilla</td>\n",
       "    </tr>\n",
       "  </tbody>\n",
       "</table>\n",
       "</div>"
      ],
      "text/plain": [
       "  country    latitude   longitude                  name\n",
       "0      AD  42546245.0   1601554.0               Andorra\n",
       "1      AE  23424076.0  53847818.0  United Arab Emirates\n",
       "2      AF   3393911.0  67709953.0           Afghanistan\n",
       "3      AG  17060816.0 -61796428.0   Antigua and Barbuda\n",
       "4      AI  18220554.0 -63068615.0              Anguilla"
      ]
     },
     "execution_count": 180,
     "metadata": {},
     "output_type": "execute_result"
    }
   ],
   "source": [
    "df_geo.head()"
   ]
  },
  {
   "cell_type": "code",
   "execution_count": 181,
   "metadata": {},
   "outputs": [],
   "source": [
    "df_users.columns = ['user_id', 'country']"
   ]
  },
  {
   "cell_type": "code",
   "execution_count": 182,
   "metadata": {
    "scrolled": true
   },
   "outputs": [
    {
     "name": "stdout",
     "output_type": "stream",
     "text": [
      "<class 'pandas.core.frame.DataFrame'>\n",
      "RangeIndex: 110639 entries, 0 to 110638\n",
      "Data columns (total 2 columns):\n",
      " #   Column   Non-Null Count   Dtype \n",
      "---  ------   --------------   ----- \n",
      " 0   user_id  110639 non-null  int64 \n",
      " 1   country  110639 non-null  object\n",
      "dtypes: int64(1), object(1)\n",
      "memory usage: 1.7+ MB\n"
     ]
    }
   ],
   "source": [
    "df_users.info()"
   ]
  },
  {
   "cell_type": "code",
   "execution_count": 183,
   "metadata": {
    "scrolled": true
   },
   "outputs": [
    {
     "name": "stdout",
     "output_type": "stream",
     "text": [
      "<class 'pandas.core.frame.DataFrame'>\n",
      "RangeIndex: 245 entries, 0 to 244\n",
      "Data columns (total 4 columns):\n",
      " #   Column     Non-Null Count  Dtype  \n",
      "---  ------     --------------  -----  \n",
      " 0   country    244 non-null    object \n",
      " 1   latitude   244 non-null    float64\n",
      " 2   longitude  244 non-null    float64\n",
      " 3   name       245 non-null    object \n",
      "dtypes: float64(2), object(2)\n",
      "memory usage: 7.8+ KB\n"
     ]
    }
   ],
   "source": [
    "df_geo.info()"
   ]
  },
  {
   "cell_type": "code",
   "execution_count": 184,
   "metadata": {},
   "outputs": [],
   "source": [
    "#df_users.join(df_geo, on = 'country')\n",
    "df_countries = df_users.merge(df_geo, on='country', how='left')"
   ]
  },
  {
   "cell_type": "code",
   "execution_count": 178,
   "metadata": {},
   "outputs": [
    {
     "ename": "AttributeError",
     "evalue": "Can only use .str accessor with string values!",
     "output_type": "error",
     "traceback": [
      "\u001b[1;31m---------------------------------------------------------------------------\u001b[0m",
      "\u001b[1;31mAttributeError\u001b[0m                            Traceback (most recent call last)",
      "\u001b[1;32m<ipython-input-178-ade97dac97a0>\u001b[0m in \u001b[0;36m<module>\u001b[1;34m\u001b[0m\n\u001b[0;32m      1\u001b[0m \u001b[1;31m#df_netflix['duration'] = df_netflix.duration.str.rstrip('min').astype(float)\u001b[0m\u001b[1;33m\u001b[0m\u001b[1;33m\u001b[0m\u001b[1;33m\u001b[0m\u001b[0m\n\u001b[1;32m----> 2\u001b[1;33m \u001b[0mdf_countries\u001b[0m\u001b[1;33m.\u001b[0m\u001b[0mlatitude\u001b[0m \u001b[1;33m=\u001b[0m \u001b[0mdf_countries\u001b[0m\u001b[1;33m[\u001b[0m\u001b[1;34m'latitude'\u001b[0m\u001b[1;33m]\u001b[0m\u001b[1;33m.\u001b[0m\u001b[0mstr\u001b[0m\u001b[1;33m.\u001b[0m\u001b[0mreplace\u001b[0m\u001b[1;33m(\u001b[0m\u001b[1;34m'\\.'\u001b[0m\u001b[1;33m,\u001b[0m\u001b[1;34m''\u001b[0m\u001b[1;33m)\u001b[0m\u001b[1;33m.\u001b[0m\u001b[0mastype\u001b[0m\u001b[1;33m(\u001b[0m\u001b[0mfloat\u001b[0m\u001b[1;33m)\u001b[0m\u001b[1;33m\u001b[0m\u001b[1;33m\u001b[0m\u001b[0m\n\u001b[0m\u001b[0;32m      3\u001b[0m \u001b[1;31m#df_countries.latitude =pd.to_numeric(df_countries['latitude'])\u001b[0m\u001b[1;33m\u001b[0m\u001b[1;33m\u001b[0m\u001b[1;33m\u001b[0m\u001b[0m\n\u001b[0;32m      4\u001b[0m \u001b[1;31m#df_countries.longitude =pd.to_numeric(df_countries['longitude'])\u001b[0m\u001b[1;33m\u001b[0m\u001b[1;33m\u001b[0m\u001b[1;33m\u001b[0m\u001b[0m\n",
      "\u001b[1;32m~\\anaconda3\\lib\\site-packages\\pandas\\core\\generic.py\u001b[0m in \u001b[0;36m__getattr__\u001b[1;34m(self, name)\u001b[0m\n\u001b[0;32m   5268\u001b[0m             \u001b[1;32mor\u001b[0m \u001b[0mname\u001b[0m \u001b[1;32min\u001b[0m \u001b[0mself\u001b[0m\u001b[1;33m.\u001b[0m\u001b[0m_accessors\u001b[0m\u001b[1;33m\u001b[0m\u001b[1;33m\u001b[0m\u001b[0m\n\u001b[0;32m   5269\u001b[0m         ):\n\u001b[1;32m-> 5270\u001b[1;33m             \u001b[1;32mreturn\u001b[0m \u001b[0mobject\u001b[0m\u001b[1;33m.\u001b[0m\u001b[0m__getattribute__\u001b[0m\u001b[1;33m(\u001b[0m\u001b[0mself\u001b[0m\u001b[1;33m,\u001b[0m \u001b[0mname\u001b[0m\u001b[1;33m)\u001b[0m\u001b[1;33m\u001b[0m\u001b[1;33m\u001b[0m\u001b[0m\n\u001b[0m\u001b[0;32m   5271\u001b[0m         \u001b[1;32melse\u001b[0m\u001b[1;33m:\u001b[0m\u001b[1;33m\u001b[0m\u001b[1;33m\u001b[0m\u001b[0m\n\u001b[0;32m   5272\u001b[0m             \u001b[1;32mif\u001b[0m \u001b[0mself\u001b[0m\u001b[1;33m.\u001b[0m\u001b[0m_info_axis\u001b[0m\u001b[1;33m.\u001b[0m\u001b[0m_can_hold_identifiers_and_holds_name\u001b[0m\u001b[1;33m(\u001b[0m\u001b[0mname\u001b[0m\u001b[1;33m)\u001b[0m\u001b[1;33m:\u001b[0m\u001b[1;33m\u001b[0m\u001b[1;33m\u001b[0m\u001b[0m\n",
      "\u001b[1;32m~\\anaconda3\\lib\\site-packages\\pandas\\core\\accessor.py\u001b[0m in \u001b[0;36m__get__\u001b[1;34m(self, obj, cls)\u001b[0m\n\u001b[0;32m    185\u001b[0m             \u001b[1;31m# we're accessing the attribute of the class, i.e., Dataset.geo\u001b[0m\u001b[1;33m\u001b[0m\u001b[1;33m\u001b[0m\u001b[1;33m\u001b[0m\u001b[0m\n\u001b[0;32m    186\u001b[0m             \u001b[1;32mreturn\u001b[0m \u001b[0mself\u001b[0m\u001b[1;33m.\u001b[0m\u001b[0m_accessor\u001b[0m\u001b[1;33m\u001b[0m\u001b[1;33m\u001b[0m\u001b[0m\n\u001b[1;32m--> 187\u001b[1;33m         \u001b[0maccessor_obj\u001b[0m \u001b[1;33m=\u001b[0m \u001b[0mself\u001b[0m\u001b[1;33m.\u001b[0m\u001b[0m_accessor\u001b[0m\u001b[1;33m(\u001b[0m\u001b[0mobj\u001b[0m\u001b[1;33m)\u001b[0m\u001b[1;33m\u001b[0m\u001b[1;33m\u001b[0m\u001b[0m\n\u001b[0m\u001b[0;32m    188\u001b[0m         \u001b[1;31m# Replace the property with the accessor object. Inspired by:\u001b[0m\u001b[1;33m\u001b[0m\u001b[1;33m\u001b[0m\u001b[1;33m\u001b[0m\u001b[0m\n\u001b[0;32m    189\u001b[0m         \u001b[1;31m# http://www.pydanny.com/cached-property.html\u001b[0m\u001b[1;33m\u001b[0m\u001b[1;33m\u001b[0m\u001b[1;33m\u001b[0m\u001b[0m\n",
      "\u001b[1;32m~\\anaconda3\\lib\\site-packages\\pandas\\core\\strings.py\u001b[0m in \u001b[0;36m__init__\u001b[1;34m(self, data)\u001b[0m\n\u001b[0;32m   2037\u001b[0m \u001b[1;33m\u001b[0m\u001b[0m\n\u001b[0;32m   2038\u001b[0m     \u001b[1;32mdef\u001b[0m \u001b[0m__init__\u001b[0m\u001b[1;33m(\u001b[0m\u001b[0mself\u001b[0m\u001b[1;33m,\u001b[0m \u001b[0mdata\u001b[0m\u001b[1;33m)\u001b[0m\u001b[1;33m:\u001b[0m\u001b[1;33m\u001b[0m\u001b[1;33m\u001b[0m\u001b[0m\n\u001b[1;32m-> 2039\u001b[1;33m         \u001b[0mself\u001b[0m\u001b[1;33m.\u001b[0m\u001b[0m_inferred_dtype\u001b[0m \u001b[1;33m=\u001b[0m \u001b[0mself\u001b[0m\u001b[1;33m.\u001b[0m\u001b[0m_validate\u001b[0m\u001b[1;33m(\u001b[0m\u001b[0mdata\u001b[0m\u001b[1;33m)\u001b[0m\u001b[1;33m\u001b[0m\u001b[1;33m\u001b[0m\u001b[0m\n\u001b[0m\u001b[0;32m   2040\u001b[0m         \u001b[0mself\u001b[0m\u001b[1;33m.\u001b[0m\u001b[0m_is_categorical\u001b[0m \u001b[1;33m=\u001b[0m \u001b[0mis_categorical_dtype\u001b[0m\u001b[1;33m(\u001b[0m\u001b[0mdata\u001b[0m\u001b[1;33m)\u001b[0m\u001b[1;33m\u001b[0m\u001b[1;33m\u001b[0m\u001b[0m\n\u001b[0;32m   2041\u001b[0m         \u001b[0mself\u001b[0m\u001b[1;33m.\u001b[0m\u001b[0m_is_string\u001b[0m \u001b[1;33m=\u001b[0m \u001b[0mdata\u001b[0m\u001b[1;33m.\u001b[0m\u001b[0mdtype\u001b[0m\u001b[1;33m.\u001b[0m\u001b[0mname\u001b[0m \u001b[1;33m==\u001b[0m \u001b[1;34m\"string\"\u001b[0m\u001b[1;33m\u001b[0m\u001b[1;33m\u001b[0m\u001b[0m\n",
      "\u001b[1;32m~\\anaconda3\\lib\\site-packages\\pandas\\core\\strings.py\u001b[0m in \u001b[0;36m_validate\u001b[1;34m(data)\u001b[0m\n\u001b[0;32m   2094\u001b[0m \u001b[1;33m\u001b[0m\u001b[0m\n\u001b[0;32m   2095\u001b[0m         \u001b[1;32mif\u001b[0m \u001b[0minferred_dtype\u001b[0m \u001b[1;32mnot\u001b[0m \u001b[1;32min\u001b[0m \u001b[0mallowed_types\u001b[0m\u001b[1;33m:\u001b[0m\u001b[1;33m\u001b[0m\u001b[1;33m\u001b[0m\u001b[0m\n\u001b[1;32m-> 2096\u001b[1;33m             \u001b[1;32mraise\u001b[0m \u001b[0mAttributeError\u001b[0m\u001b[1;33m(\u001b[0m\u001b[1;34m\"Can only use .str accessor with string values!\"\u001b[0m\u001b[1;33m)\u001b[0m\u001b[1;33m\u001b[0m\u001b[1;33m\u001b[0m\u001b[0m\n\u001b[0m\u001b[0;32m   2097\u001b[0m         \u001b[1;32mreturn\u001b[0m \u001b[0minferred_dtype\u001b[0m\u001b[1;33m\u001b[0m\u001b[1;33m\u001b[0m\u001b[0m\n\u001b[0;32m   2098\u001b[0m \u001b[1;33m\u001b[0m\u001b[0m\n",
      "\u001b[1;31mAttributeError\u001b[0m: Can only use .str accessor with string values!"
     ]
    }
   ],
   "source": [
    "#df_netflix['duration'] = df_netflix.duration.str.rstrip('min').astype(float)\n",
    "df_countries.latitude = df_countries['latitude'].str.replace('\\.','').astype(float)\n",
    "#df_countries.latitude =pd.to_numeric(df_countries['latitude'])\n",
    "#df_countries.longitude =pd.to_numeric(df_countries['longitude'])"
   ]
  },
  {
   "cell_type": "code",
   "execution_count": 185,
   "metadata": {},
   "outputs": [
    {
     "data": {
      "text/html": [
       "<div>\n",
       "<style scoped>\n",
       "    .dataframe tbody tr th:only-of-type {\n",
       "        vertical-align: middle;\n",
       "    }\n",
       "\n",
       "    .dataframe tbody tr th {\n",
       "        vertical-align: top;\n",
       "    }\n",
       "\n",
       "    .dataframe thead th {\n",
       "        text-align: right;\n",
       "    }\n",
       "</style>\n",
       "<table border=\"1\" class=\"dataframe\">\n",
       "  <thead>\n",
       "    <tr style=\"text-align: right;\">\n",
       "      <th></th>\n",
       "      <th>user_id</th>\n",
       "      <th>country</th>\n",
       "      <th>latitude</th>\n",
       "      <th>longitude</th>\n",
       "      <th>name</th>\n",
       "    </tr>\n",
       "  </thead>\n",
       "  <tbody>\n",
       "    <tr>\n",
       "      <th>0</th>\n",
       "      <td>781684047872</td>\n",
       "      <td>ID</td>\n",
       "      <td>-789275.0</td>\n",
       "      <td>113921327.0</td>\n",
       "      <td>Indonesia</td>\n",
       "    </tr>\n",
       "    <tr>\n",
       "      <th>1</th>\n",
       "      <td>781684047873</td>\n",
       "      <td>MY</td>\n",
       "      <td>4210484.0</td>\n",
       "      <td>101975766.0</td>\n",
       "      <td>Malaysia</td>\n",
       "    </tr>\n",
       "    <tr>\n",
       "      <th>2</th>\n",
       "      <td>781684047874</td>\n",
       "      <td>ID</td>\n",
       "      <td>-789275.0</td>\n",
       "      <td>113921327.0</td>\n",
       "      <td>Indonesia</td>\n",
       "    </tr>\n",
       "    <tr>\n",
       "      <th>3</th>\n",
       "      <td>781684047875</td>\n",
       "      <td>ID</td>\n",
       "      <td>-789275.0</td>\n",
       "      <td>113921327.0</td>\n",
       "      <td>Indonesia</td>\n",
       "    </tr>\n",
       "    <tr>\n",
       "      <th>4</th>\n",
       "      <td>781684047876</td>\n",
       "      <td>ID</td>\n",
       "      <td>-789275.0</td>\n",
       "      <td>113921327.0</td>\n",
       "      <td>Indonesia</td>\n",
       "    </tr>\n",
       "  </tbody>\n",
       "</table>\n",
       "</div>"
      ],
      "text/plain": [
       "        user_id country   latitude    longitude       name\n",
       "0  781684047872      ID  -789275.0  113921327.0  Indonesia\n",
       "1  781684047873      MY  4210484.0  101975766.0   Malaysia\n",
       "2  781684047874      ID  -789275.0  113921327.0  Indonesia\n",
       "3  781684047875      ID  -789275.0  113921327.0  Indonesia\n",
       "4  781684047876      ID  -789275.0  113921327.0  Indonesia"
      ]
     },
     "execution_count": 185,
     "metadata": {},
     "output_type": "execute_result"
    }
   ],
   "source": [
    "df_countries.head()"
   ]
  },
  {
   "cell_type": "code",
   "execution_count": 187,
   "metadata": {},
   "outputs": [
    {
     "data": {
      "text/html": [
       "<div style=\"width:100%;\"><div style=\"position:relative;width:100%;height:0;padding-bottom:60%;\"><iframe src=\"about:blank\" style=\"position:absolute;width:100%;height:100%;left:0;top:0;border:none !important;\" data-html=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 onload=\"this.contentDocument.open();this.contentDocument.write(atob(this.getAttribute('data-html')));this.contentDocument.close();\" allowfullscreen webkitallowfullscreen mozallowfullscreen></iframe></div></div>"
      ],
      "text/plain": [
       "<folium.folium.Map at 0x162cd0241c8>"
      ]
     },
     "metadata": {},
     "output_type": "display_data"
    }
   ],
   "source": [
    "import folium.plugins as plugins\n",
    "from folium.plugins import HeatMap\n",
    "import webbrowser\n",
    "\n",
    "df_copy = df_countries.copy()\n",
    "df_copy['count'] = 1\n",
    "\n",
    "default_location=[-789275, 113921327]\n",
    "\n",
    "map = folium.Map(location=default_location, control_scale=True, zoom_start=12)\n",
    "\n",
    "map.add_child(plugins.HeatMap(data=df_copy[['latitude', 'longitude', 'count']].groupby(['latitude', 'longitude', 'count']).sum().reset_index().values.tolist(),\\\n",
    "        radius=8, max_zoom=13).add_to(map))\n",
    "\n",
    "#map.add_child(folium.ClickForMarker(popup='Potential Location'))\n",
    "\n",
    "map.save('map_webbrowser.html')\n",
    "webbrowser.open('map_webbrowser.html')\n",
    "display(map)"
   ]
  }
 ],
 "metadata": {
  "kernelspec": {
   "display_name": "Python 3",
   "language": "python",
   "name": "python3"
  },
  "language_info": {
   "codemirror_mode": {
    "name": "ipython",
    "version": 3
   },
   "file_extension": ".py",
   "mimetype": "text/x-python",
   "name": "python",
   "nbconvert_exporter": "python",
   "pygments_lexer": "ipython3",
   "version": "3.7.6"
  }
 },
 "nbformat": 4,
 "nbformat_minor": 4
}
