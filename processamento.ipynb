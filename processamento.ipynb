{
 "cells": [
  {
   "cell_type": "markdown",
   "metadata": {},
   "source": [
    "# Load Dataset"
   ]
  },
  {
   "cell_type": "code",
   "execution_count": 1,
   "metadata": {},
   "outputs": [],
   "source": [
    "#load libraries\n",
    "import pandas as pd\n",
    "import seaborn as sns\n",
    "import matplotlib.pyplot as plt\n",
    "%matplotlib inline\n",
    "import numpy as np\n",
    "from fuzzywuzzy import fuzz \n",
    "from fuzzywuzzy import process "
   ]
  },
  {
   "cell_type": "code",
   "execution_count": 2,
   "metadata": {},
   "outputs": [],
   "source": [
    "df= pd.read_csv('C:/Users/camil/Desktop/Projeto Integrador/df.csv')"
   ]
  },
  {
   "cell_type": "markdown",
   "metadata": {},
   "source": [
    "# Diretor"
   ]
  },
  {
   "cell_type": "code",
   "execution_count": 3,
   "metadata": {},
   "outputs": [],
   "source": [
    "# um novo dataset só com os diretores\n",
    "df_director = df[df.type == 'director']"
   ]
  },
  {
   "cell_type": "code",
   "execution_count": 21,
   "metadata": {},
   "outputs": [
    {
     "data": {
      "text/plain": [
       "0                    alan miller\n",
       "1            armin mueller-stahl\n",
       "2                   gérard pirès\n",
       "3                    woody allen\n",
       "4                    dan aykroyd\n",
       "                  ...           \n",
       "67054    aleksa stefan radunovic\n",
       "67055                ryan manley\n",
       "67056    jude okwudiafor johnson\n",
       "67057                brian corso\n",
       "67058                  hepi mita\n",
       "Name: name, Length: 67059, dtype: object"
      ]
     },
     "execution_count": 21,
     "metadata": {},
     "output_type": "execute_result"
    }
   ],
   "source": [
    "df_director.name"
   ]
  },
  {
   "cell_type": "code",
   "execution_count": 4,
   "metadata": {},
   "outputs": [],
   "source": [
    "# pegar nome do diretor através do streamlit\n",
    "\n",
    "# salvar o nome em um objeto\n",
    "diretor_entrada = 'Olivero'\n",
    "diretor_entrada = diretor_entrada.casefold()\n",
    "\n",
    "# extrair da nossa base de dados o nome do diretor\n",
    "director_match = process.extractOne(diretor_entrada, df_director.name, score_cutoff = 10)\n",
    "\n",
    "# salvar o nome extraido em um objeto\n",
    "diretor = director_match[0]"
   ]
  },
  {
   "cell_type": "code",
   "execution_count": 22,
   "metadata": {
    "scrolled": true
   },
   "outputs": [
    {
     "data": {
      "text/plain": [
       "('luis oliveros', 90, 15814)"
      ]
     },
     "execution_count": 22,
     "metadata": {},
     "output_type": "execute_result"
    }
   ],
   "source": [
    "director_match"
   ]
  },
  {
   "cell_type": "code",
   "execution_count": 23,
   "metadata": {},
   "outputs": [
    {
     "data": {
      "text/plain": [
       "'luis oliveros'"
      ]
     },
     "execution_count": 23,
     "metadata": {},
     "output_type": "execute_result"
    }
   ],
   "source": [
    "diretor"
   ]
  },
  {
   "cell_type": "code",
   "execution_count": 5,
   "metadata": {},
   "outputs": [],
   "source": [
    "def get_director(diretor):\n",
    "    df1 = df_director[df_director.name == diretor]\n",
    "    return (df1.n, df1.avg)"
   ]
  },
  {
   "cell_type": "code",
   "execution_count": 6,
   "metadata": {},
   "outputs": [],
   "source": [
    "director = get_director(diretor)"
   ]
  },
  {
   "cell_type": "code",
   "execution_count": 24,
   "metadata": {},
   "outputs": [
    {
     "data": {
      "text/plain": [
       "(15814    1\n",
       " Name: n, dtype: int64,\n",
       " 15814    6.3\n",
       " Name: avg, dtype: float64)"
      ]
     },
     "execution_count": 24,
     "metadata": {},
     "output_type": "execute_result"
    }
   ],
   "source": [
    "director"
   ]
  },
  {
   "cell_type": "markdown",
   "metadata": {},
   "source": [
    "# Cast"
   ]
  },
  {
   "cell_type": "code",
   "execution_count": 7,
   "metadata": {},
   "outputs": [],
   "source": [
    "df_cast = df[df.type == 'cast']"
   ]
  },
  {
   "cell_type": "code",
   "execution_count": 8,
   "metadata": {},
   "outputs": [
    {
     "data": {
      "text/plain": [
       "67059         brigitte bardot\n",
       "67060     olivia de havilland\n",
       "67061            sophia loren\n",
       "67062            raquel welch\n",
       "67063                 li gong\n",
       "                 ...         \n",
       "335884     gaia chon grimaldi\n",
       "335885        augusto cortesi\n",
       "335886        ryan mac lennan\n",
       "335887        marcin balcerak\n",
       "335888        anketa maharana\n",
       "Name: name, Length: 268830, dtype: object"
      ]
     },
     "execution_count": 8,
     "metadata": {},
     "output_type": "execute_result"
    }
   ],
   "source": [
    "df_cast.name"
   ]
  },
  {
   "cell_type": "code",
   "execution_count": 9,
   "metadata": {},
   "outputs": [],
   "source": [
    "# pegar nome do diretor através do streamlit\n",
    "\n",
    "# salvar o nome em um objeto\n",
    "cast_entrada = 'Ryan Ma Lenan'\n",
    "cast_entrada = cast_entrada.casefold()\n",
    "cast_entrada2 = 'Gaya Xon Grimaldy'\n",
    "cast_entrada2 = cast_entrada2.casefold()\n",
    "cast_entrada3 = 'Rachel Welch'\n",
    "cast_entrada3 = cast_entrada3.lower()\n",
    "\n",
    "# extrair da nossa base de dados o nome do diretor\n",
    "cast_match = process.extractOne(cast_entrada, df_cast.name, score_cutoff = 10)\n",
    "cast_match2 = process.extractOne(cast_entrada2, df_cast.name, score_cutoff =10)\n",
    "cast_match3 = process.extractOne(cast_entrada3, df_cast.name, score_cutoff=10)\n",
    "\n",
    "# salvar o nome extraido em um objeto\n",
    "cast1 = cast_match[0]\n",
    "cast2 = cast_match2[0]\n",
    "cast3 = cast_match3[0]"
   ]
  },
  {
   "cell_type": "code",
   "execution_count": 10,
   "metadata": {},
   "outputs": [],
   "source": [
    "cast = [cast1, cast2, cast3]"
   ]
  },
  {
   "cell_type": "code",
   "execution_count": 11,
   "metadata": {
    "scrolled": false
   },
   "outputs": [
    {
     "name": "stdout",
     "output_type": "stream",
     "text": [
      "ryan mac lennan\n",
      "mal\n",
      "chô\n",
      "['ryan mac lennan', 'mal', 'chô']\n"
     ]
    }
   ],
   "source": [
    "print(cast1)\n",
    "print(cast2)\n",
    "print(cast3)\n",
    "print(cast)"
   ]
  },
  {
   "cell_type": "code",
   "execution_count": 26,
   "metadata": {},
   "outputs": [
    {
     "data": {
      "text/html": [
       "<div>\n",
       "<style scoped>\n",
       "    .dataframe tbody tr th:only-of-type {\n",
       "        vertical-align: middle;\n",
       "    }\n",
       "\n",
       "    .dataframe tbody tr th {\n",
       "        vertical-align: top;\n",
       "    }\n",
       "\n",
       "    .dataframe thead th {\n",
       "        text-align: right;\n",
       "    }\n",
       "</style>\n",
       "<table border=\"1\" class=\"dataframe\">\n",
       "  <thead>\n",
       "    <tr style=\"text-align: right;\">\n",
       "      <th></th>\n",
       "      <th>name</th>\n",
       "      <th>avg</th>\n",
       "      <th>n</th>\n",
       "      <th>type</th>\n",
       "    </tr>\n",
       "  </thead>\n",
       "  <tbody>\n",
       "    <tr>\n",
       "      <th>117520</th>\n",
       "      <td>mal</td>\n",
       "      <td>4.733333</td>\n",
       "      <td>3</td>\n",
       "      <td>cast</td>\n",
       "    </tr>\n",
       "    <tr>\n",
       "      <th>123907</th>\n",
       "      <td>chô</td>\n",
       "      <td>7.200000</td>\n",
       "      <td>1</td>\n",
       "      <td>cast</td>\n",
       "    </tr>\n",
       "    <tr>\n",
       "      <th>335886</th>\n",
       "      <td>ryan mac lennan</td>\n",
       "      <td>6.500000</td>\n",
       "      <td>1</td>\n",
       "      <td>cast</td>\n",
       "    </tr>\n",
       "  </tbody>\n",
       "</table>\n",
       "</div>"
      ],
      "text/plain": [
       "                   name       avg  n  type\n",
       "117520              mal  4.733333  3  cast\n",
       "123907              chô  7.200000  1  cast\n",
       "335886  ryan mac lennan  6.500000  1  cast"
      ]
     },
     "execution_count": 26,
     "metadata": {},
     "output_type": "execute_result"
    }
   ],
   "source": [
    "df_cast[df_cast.name.isin(cast)]"
   ]
  },
  {
   "cell_type": "code",
   "execution_count": 12,
   "metadata": {},
   "outputs": [],
   "source": [
    "#funcao que retorna a media dos filmes e a media das medias dos filmes do elenco\n",
    "def get_actor(cast):\n",
    "    df1 = df_cast[df_cast.name.isin(cast)]\n",
    "    return df1.n.mean(), df1.avg.mean()"
   ]
  },
  {
   "cell_type": "code",
   "execution_count": 27,
   "metadata": {},
   "outputs": [],
   "source": [
    "actor = get_actor(cast)"
   ]
  },
  {
   "cell_type": "code",
   "execution_count": 28,
   "metadata": {},
   "outputs": [
    {
     "data": {
      "text/plain": [
       "(1.6666666666666667, 6.144444444444445)"
      ]
     },
     "execution_count": 28,
     "metadata": {},
     "output_type": "execute_result"
    }
   ],
   "source": [
    "actor"
   ]
  },
  {
   "cell_type": "markdown",
   "metadata": {},
   "source": [
    "# Roteirista"
   ]
  },
  {
   "cell_type": "code",
   "execution_count": 14,
   "metadata": {},
   "outputs": [],
   "source": [
    "df_writer = df[df.type == 'writer']"
   ]
  },
  {
   "cell_type": "code",
   "execution_count": 15,
   "metadata": {},
   "outputs": [],
   "source": [
    "# pegar nome do diretor através do streamlit\n",
    "\n",
    "# salvar o nome em um objeto\n",
    "writer_entrada = 'Woodi Alen'\n",
    "writer_entrada = writer_entrada.casefold()\n",
    "\n",
    "# extrair da nossa base de dados o nome do diretor\n",
    "writer_match = process.extractOne(writer_entrada, df_writer.name, score_cutoff = 10)\n",
    "\n",
    "# salvar o nome extraido em um objeto\n",
    "roteirista = writer_match[0]"
   ]
  },
  {
   "cell_type": "code",
   "execution_count": 29,
   "metadata": {},
   "outputs": [
    {
     "data": {
      "text/plain": [
       "('woody allen', 86, 335892)"
      ]
     },
     "execution_count": 29,
     "metadata": {},
     "output_type": "execute_result"
    }
   ],
   "source": [
    "writer_match"
   ]
  },
  {
   "cell_type": "code",
   "execution_count": 16,
   "metadata": {},
   "outputs": [],
   "source": [
    "def get_writer(roteirista):\n",
    "    df1 = df_writer[df_writer.name == roteirista]\n",
    "    return (df1.n, df1.avg)"
   ]
  },
  {
   "cell_type": "code",
   "execution_count": 17,
   "metadata": {},
   "outputs": [],
   "source": [
    "writer = get_writer(roteirista)"
   ]
  },
  {
   "cell_type": "code",
   "execution_count": 18,
   "metadata": {},
   "outputs": [],
   "source": [
    "df_eda = pd.DataFrame(np.array([[int(director[0]), float(director[1]),int(actor[0]), float(actor[1]), int(writer[0]), float(writer[1])]]),\n",
    "                   columns= ['director_n', 'director_avg','actor_n','actor_avg','writer_n','writer_avg'])"
   ]
  },
  {
   "cell_type": "code",
   "execution_count": 19,
   "metadata": {},
   "outputs": [],
   "source": [
    "df_eda['directors'] = diretor\n",
    "df_eda['casts'] = [cast]\n",
    "df_eda['writer'] = roteirista"
   ]
  },
  {
   "cell_type": "code",
   "execution_count": 20,
   "metadata": {
    "scrolled": false
   },
   "outputs": [
    {
     "data": {
      "text/html": [
       "<div>\n",
       "<style scoped>\n",
       "    .dataframe tbody tr th:only-of-type {\n",
       "        vertical-align: middle;\n",
       "    }\n",
       "\n",
       "    .dataframe tbody tr th {\n",
       "        vertical-align: top;\n",
       "    }\n",
       "\n",
       "    .dataframe thead th {\n",
       "        text-align: right;\n",
       "    }\n",
       "</style>\n",
       "<table border=\"1\" class=\"dataframe\">\n",
       "  <thead>\n",
       "    <tr style=\"text-align: right;\">\n",
       "      <th></th>\n",
       "      <th>director_n</th>\n",
       "      <th>director_avg</th>\n",
       "      <th>actor_n</th>\n",
       "      <th>actor_avg</th>\n",
       "      <th>writer_n</th>\n",
       "      <th>writer_avg</th>\n",
       "      <th>directors</th>\n",
       "      <th>casts</th>\n",
       "      <th>writer</th>\n",
       "    </tr>\n",
       "  </thead>\n",
       "  <tbody>\n",
       "    <tr>\n",
       "      <th>0</th>\n",
       "      <td>1.0</td>\n",
       "      <td>6.3</td>\n",
       "      <td>1.0</td>\n",
       "      <td>6.144444</td>\n",
       "      <td>3.0</td>\n",
       "      <td>5.6</td>\n",
       "      <td>luis oliveros</td>\n",
       "      <td>[ryan mac lennan, mal, chô]</td>\n",
       "      <td>woody allen</td>\n",
       "    </tr>\n",
       "  </tbody>\n",
       "</table>\n",
       "</div>"
      ],
      "text/plain": [
       "   director_n  director_avg  actor_n  actor_avg  writer_n  writer_avg  \\\n",
       "0         1.0           6.3      1.0   6.144444       3.0         5.6   \n",
       "\n",
       "       directors                        casts       writer  \n",
       "0  luis oliveros  [ryan mac lennan, mal, chô]  woody allen  "
      ]
     },
     "execution_count": 20,
     "metadata": {},
     "output_type": "execute_result"
    }
   ],
   "source": [
    "df_eda"
   ]
  }
 ],
 "metadata": {
  "hide_input": false,
  "kernelspec": {
   "display_name": "Python 3",
   "language": "python",
   "name": "python3"
  },
  "language_info": {
   "codemirror_mode": {
    "name": "ipython",
    "version": 3
   },
   "file_extension": ".py",
   "mimetype": "text/x-python",
   "name": "python",
   "nbconvert_exporter": "python",
   "pygments_lexer": "ipython3",
   "version": "3.7.6"
  },
  "toc": {
   "base_numbering": 1,
   "nav_menu": {},
   "number_sections": true,
   "sideBar": true,
   "skip_h1_title": false,
   "title_cell": "Table of Contents",
   "title_sidebar": "Contents",
   "toc_cell": false,
   "toc_position": {},
   "toc_section_display": true,
   "toc_window_display": true
  }
 },
 "nbformat": 4,
 "nbformat_minor": 4
}
